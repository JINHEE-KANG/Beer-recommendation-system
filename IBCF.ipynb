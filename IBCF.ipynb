{
 "cells": [
  {
   "cell_type": "markdown",
   "metadata": {},
   "source": [
    "# IBCF(Item Based Collaborative Filtering)"
   ]
  },
  {
   "cell_type": "markdown",
   "metadata": {},
   "source": [
    "### 데이터 준비하기"
   ]
  },
  {
   "cell_type": "code",
   "execution_count": 4,
   "metadata": {},
   "outputs": [],
   "source": [
    "import pandas as pd\n",
    "import numpy as np\n",
    "import seaborn as sns\n",
    "import matplotlib as mpl\n",
    "import matplotlib.pyplot as plt\n",
    "import matplotlib.pylab as plb\n",
    "%matplotlib inline"
   ]
  },
  {
   "cell_type": "code",
   "execution_count": 5,
   "metadata": {},
   "outputs": [
    {
     "data": {
      "text/html": [
       "<div>\n",
       "<style scoped>\n",
       "    .dataframe tbody tr th:only-of-type {\n",
       "        vertical-align: middle;\n",
       "    }\n",
       "\n",
       "    .dataframe tbody tr th {\n",
       "        vertical-align: top;\n",
       "    }\n",
       "\n",
       "    .dataframe thead th {\n",
       "        text-align: right;\n",
       "    }\n",
       "</style>\n",
       "<table border=\"1\" class=\"dataframe\">\n",
       "  <thead>\n",
       "    <tr style=\"text-align: right;\">\n",
       "      <th></th>\n",
       "      <th>beer</th>\n",
       "      <th>user</th>\n",
       "      <th>rating</th>\n",
       "    </tr>\n",
       "  </thead>\n",
       "  <tbody>\n",
       "    <tr>\n",
       "      <th>0</th>\n",
       "      <td>47658</td>\n",
       "      <td>bluejacket74</td>\n",
       "      <td>4.97</td>\n",
       "    </tr>\n",
       "    <tr>\n",
       "      <th>1</th>\n",
       "      <td>66674</td>\n",
       "      <td>bluejacket74</td>\n",
       "      <td>4.04</td>\n",
       "    </tr>\n",
       "    <tr>\n",
       "      <th>2</th>\n",
       "      <td>48824</td>\n",
       "      <td>bluejacket74</td>\n",
       "      <td>3.71</td>\n",
       "    </tr>\n",
       "    <tr>\n",
       "      <th>3</th>\n",
       "      <td>55939</td>\n",
       "      <td>bluejacket74</td>\n",
       "      <td>4.10</td>\n",
       "    </tr>\n",
       "    <tr>\n",
       "      <th>4</th>\n",
       "      <td>68916</td>\n",
       "      <td>bluejacket74</td>\n",
       "      <td>4.34</td>\n",
       "    </tr>\n",
       "  </tbody>\n",
       "</table>\n",
       "</div>"
      ],
      "text/plain": [
       "    beer          user  rating\n",
       "0  47658  bluejacket74    4.97\n",
       "1  66674  bluejacket74    4.04\n",
       "2  48824  bluejacket74    3.71\n",
       "3  55939  bluejacket74    4.10\n",
       "4  68916  bluejacket74    4.34"
      ]
     },
     "execution_count": 5,
     "metadata": {},
     "output_type": "execute_result"
    }
   ],
   "source": [
    "data = pd.read_csv('my_df.csv')\n",
    "data.head()"
   ]
  },
  {
   "cell_type": "code",
   "execution_count": 10,
   "metadata": {},
   "outputs": [
    {
     "data": {
      "text/plain": [
       "dtype('O')"
      ]
     },
     "execution_count": 10,
     "metadata": {},
     "output_type": "execute_result"
    }
   ],
   "source": [
    "data['user'].dtype"
   ]
  },
  {
   "cell_type": "code",
   "execution_count": 11,
   "metadata": {},
   "outputs": [
    {
     "data": {
      "text/html": [
       "<div>\n",
       "<style scoped>\n",
       "    .dataframe tbody tr th:only-of-type {\n",
       "        vertical-align: middle;\n",
       "    }\n",
       "\n",
       "    .dataframe tbody tr th {\n",
       "        vertical-align: top;\n",
       "    }\n",
       "\n",
       "    .dataframe thead th {\n",
       "        text-align: right;\n",
       "    }\n",
       "</style>\n",
       "<table border=\"1\" class=\"dataframe\">\n",
       "  <thead>\n",
       "    <tr style=\"text-align: right;\">\n",
       "      <th></th>\n",
       "      <th>beer</th>\n",
       "      <th>rating</th>\n",
       "    </tr>\n",
       "  </thead>\n",
       "  <tbody>\n",
       "    <tr>\n",
       "      <th>count</th>\n",
       "      <td>101889.000000</td>\n",
       "      <td>101889.000000</td>\n",
       "    </tr>\n",
       "    <tr>\n",
       "      <th>mean</th>\n",
       "      <td>27391.059388</td>\n",
       "      <td>4.019884</td>\n",
       "    </tr>\n",
       "    <tr>\n",
       "      <th>std</th>\n",
       "      <td>40792.295418</td>\n",
       "      <td>0.495818</td>\n",
       "    </tr>\n",
       "    <tr>\n",
       "      <th>min</th>\n",
       "      <td>6.000000</td>\n",
       "      <td>1.000000</td>\n",
       "    </tr>\n",
       "    <tr>\n",
       "      <th>25%</th>\n",
       "      <td>1005.000000</td>\n",
       "      <td>3.800000</td>\n",
       "    </tr>\n",
       "    <tr>\n",
       "      <th>50%</th>\n",
       "      <td>6301.000000</td>\n",
       "      <td>4.090000</td>\n",
       "    </tr>\n",
       "    <tr>\n",
       "      <th>75%</th>\n",
       "      <td>41626.000000</td>\n",
       "      <td>4.330000</td>\n",
       "    </tr>\n",
       "    <tr>\n",
       "      <th>max</th>\n",
       "      <td>221289.000000</td>\n",
       "      <td>5.000000</td>\n",
       "    </tr>\n",
       "  </tbody>\n",
       "</table>\n",
       "</div>"
      ],
      "text/plain": [
       "                beer         rating\n",
       "count  101889.000000  101889.000000\n",
       "mean    27391.059388       4.019884\n",
       "std     40792.295418       0.495818\n",
       "min         6.000000       1.000000\n",
       "25%      1005.000000       3.800000\n",
       "50%      6301.000000       4.090000\n",
       "75%     41626.000000       4.330000\n",
       "max    221289.000000       5.000000"
      ]
     },
     "execution_count": 11,
     "metadata": {},
     "output_type": "execute_result"
    }
   ],
   "source": [
    "data.describe()"
   ]
  },
  {
   "cell_type": "code",
   "execution_count": 12,
   "metadata": {},
   "outputs": [
    {
     "data": {
      "text/plain": [
       "beer      0\n",
       "user      0\n",
       "rating    0\n",
       "dtype: int64"
      ]
     },
     "execution_count": 12,
     "metadata": {},
     "output_type": "execute_result"
    }
   ],
   "source": [
    "data.isnull().sum()"
   ]
  },
  {
   "cell_type": "markdown",
   "metadata": {},
   "source": [
    "- shape (101889,3)\n",
    "- beer&rating: numeric\n",
    "- user: object\n",
    "- NaN: None"
   ]
  },
  {
   "cell_type": "markdown",
   "metadata": {},
   "source": [
    "## preprocessing"
   ]
  },
  {
   "cell_type": "code",
   "execution_count": 15,
   "metadata": {},
   "outputs": [
    {
     "data": {
      "text/plain": [
       "(333, 481)"
      ]
     },
     "execution_count": 15,
     "metadata": {},
     "output_type": "execute_result"
    }
   ],
   "source": [
    "ratings_matrix = data.pivot_table('rating', index='user', columns='beer') #ItemID를 기준으로 정렬\n",
    "ratings_matrix.shape"
   ]
  },
  {
   "cell_type": "code",
   "execution_count": 17,
   "metadata": {},
   "outputs": [
    {
     "data": {
      "text/html": [
       "<div>\n",
       "<style scoped>\n",
       "    .dataframe tbody tr th:only-of-type {\n",
       "        vertical-align: middle;\n",
       "    }\n",
       "\n",
       "    .dataframe tbody tr th {\n",
       "        vertical-align: top;\n",
       "    }\n",
       "\n",
       "    .dataframe thead th {\n",
       "        text-align: right;\n",
       "    }\n",
       "</style>\n",
       "<table border=\"1\" class=\"dataframe\">\n",
       "  <thead>\n",
       "    <tr style=\"text-align: right;\">\n",
       "      <th>beer</th>\n",
       "      <th>6</th>\n",
       "      <th>30</th>\n",
       "      <th>31</th>\n",
       "      <th>33</th>\n",
       "      <th>34</th>\n",
       "      <th>39</th>\n",
       "      <th>59</th>\n",
       "      <th>61</th>\n",
       "      <th>63</th>\n",
       "      <th>65</th>\n",
       "      <th>...</th>\n",
       "      <th>178857</th>\n",
       "      <th>179482</th>\n",
       "      <th>181572</th>\n",
       "      <th>182256</th>\n",
       "      <th>187317</th>\n",
       "      <th>189272</th>\n",
       "      <th>197183</th>\n",
       "      <th>202078</th>\n",
       "      <th>211516</th>\n",
       "      <th>221289</th>\n",
       "    </tr>\n",
       "    <tr>\n",
       "      <th>user</th>\n",
       "      <th></th>\n",
       "      <th></th>\n",
       "      <th></th>\n",
       "      <th></th>\n",
       "      <th></th>\n",
       "      <th></th>\n",
       "      <th></th>\n",
       "      <th></th>\n",
       "      <th></th>\n",
       "      <th></th>\n",
       "      <th></th>\n",
       "      <th></th>\n",
       "      <th></th>\n",
       "      <th></th>\n",
       "      <th></th>\n",
       "      <th></th>\n",
       "      <th></th>\n",
       "      <th></th>\n",
       "      <th></th>\n",
       "      <th></th>\n",
       "      <th></th>\n",
       "    </tr>\n",
       "  </thead>\n",
       "  <tbody>\n",
       "    <tr>\n",
       "      <th>57md</th>\n",
       "      <td>3.69</td>\n",
       "      <td>NaN</td>\n",
       "      <td>NaN</td>\n",
       "      <td>NaN</td>\n",
       "      <td>3.63</td>\n",
       "      <td>NaN</td>\n",
       "      <td>NaN</td>\n",
       "      <td>NaN</td>\n",
       "      <td>4.00</td>\n",
       "      <td>2.18</td>\n",
       "      <td>...</td>\n",
       "      <td>3.98</td>\n",
       "      <td>NaN</td>\n",
       "      <td>3.94</td>\n",
       "      <td>3.94</td>\n",
       "      <td>3.69</td>\n",
       "      <td>4.68</td>\n",
       "      <td>3.48</td>\n",
       "      <td>4.18</td>\n",
       "      <td>NaN</td>\n",
       "      <td>NaN</td>\n",
       "    </tr>\n",
       "    <tr>\n",
       "      <th>ALC82</th>\n",
       "      <td>NaN</td>\n",
       "      <td>NaN</td>\n",
       "      <td>NaN</td>\n",
       "      <td>NaN</td>\n",
       "      <td>4.50</td>\n",
       "      <td>4.73</td>\n",
       "      <td>NaN</td>\n",
       "      <td>NaN</td>\n",
       "      <td>3.90</td>\n",
       "      <td>2.25</td>\n",
       "      <td>...</td>\n",
       "      <td>NaN</td>\n",
       "      <td>NaN</td>\n",
       "      <td>4.38</td>\n",
       "      <td>NaN</td>\n",
       "      <td>NaN</td>\n",
       "      <td>NaN</td>\n",
       "      <td>NaN</td>\n",
       "      <td>4.25</td>\n",
       "      <td>4.50</td>\n",
       "      <td>NaN</td>\n",
       "    </tr>\n",
       "    <tr>\n",
       "      <th>AgentMunky</th>\n",
       "      <td>4.07</td>\n",
       "      <td>3.95</td>\n",
       "      <td>3.16</td>\n",
       "      <td>3.88</td>\n",
       "      <td>4.30</td>\n",
       "      <td>NaN</td>\n",
       "      <td>4.15</td>\n",
       "      <td>NaN</td>\n",
       "      <td>3.46</td>\n",
       "      <td>1.72</td>\n",
       "      <td>...</td>\n",
       "      <td>NaN</td>\n",
       "      <td>4.24</td>\n",
       "      <td>NaN</td>\n",
       "      <td>NaN</td>\n",
       "      <td>NaN</td>\n",
       "      <td>NaN</td>\n",
       "      <td>4.12</td>\n",
       "      <td>NaN</td>\n",
       "      <td>NaN</td>\n",
       "      <td>NaN</td>\n",
       "    </tr>\n",
       "    <tr>\n",
       "      <th>Alieniloquium</th>\n",
       "      <td>NaN</td>\n",
       "      <td>4.07</td>\n",
       "      <td>NaN</td>\n",
       "      <td>3.88</td>\n",
       "      <td>4.12</td>\n",
       "      <td>3.95</td>\n",
       "      <td>3.41</td>\n",
       "      <td>NaN</td>\n",
       "      <td>NaN</td>\n",
       "      <td>NaN</td>\n",
       "      <td>...</td>\n",
       "      <td>3.44</td>\n",
       "      <td>NaN</td>\n",
       "      <td>4.12</td>\n",
       "      <td>NaN</td>\n",
       "      <td>NaN</td>\n",
       "      <td>NaN</td>\n",
       "      <td>NaN</td>\n",
       "      <td>NaN</td>\n",
       "      <td>3.95</td>\n",
       "      <td>4.0</td>\n",
       "    </tr>\n",
       "    <tr>\n",
       "      <th>Arbitrator</th>\n",
       "      <td>NaN</td>\n",
       "      <td>2.51</td>\n",
       "      <td>3.27</td>\n",
       "      <td>3.56</td>\n",
       "      <td>4.28</td>\n",
       "      <td>4.32</td>\n",
       "      <td>4.01</td>\n",
       "      <td>4.0</td>\n",
       "      <td>4.17</td>\n",
       "      <td>NaN</td>\n",
       "      <td>...</td>\n",
       "      <td>NaN</td>\n",
       "      <td>NaN</td>\n",
       "      <td>NaN</td>\n",
       "      <td>NaN</td>\n",
       "      <td>NaN</td>\n",
       "      <td>NaN</td>\n",
       "      <td>NaN</td>\n",
       "      <td>NaN</td>\n",
       "      <td>NaN</td>\n",
       "      <td>NaN</td>\n",
       "    </tr>\n",
       "  </tbody>\n",
       "</table>\n",
       "<p>5 rows × 481 columns</p>\n",
       "</div>"
      ],
      "text/plain": [
       "beer           6       30      31      33      34      39      59      61      \\\n",
       "user                                                                            \n",
       "57md             3.69     NaN     NaN     NaN    3.63     NaN     NaN     NaN   \n",
       "ALC82             NaN     NaN     NaN     NaN    4.50    4.73     NaN     NaN   \n",
       "AgentMunky       4.07    3.95    3.16    3.88    4.30     NaN    4.15     NaN   \n",
       "Alieniloquium     NaN    4.07     NaN    3.88    4.12    3.95    3.41     NaN   \n",
       "Arbitrator        NaN    2.51    3.27    3.56    4.28    4.32    4.01     4.0   \n",
       "\n",
       "beer           63      65      ...  178857  179482  181572  182256  187317  \\\n",
       "user                           ...                                           \n",
       "57md             4.00    2.18  ...    3.98     NaN    3.94    3.94    3.69   \n",
       "ALC82            3.90    2.25  ...     NaN     NaN    4.38     NaN     NaN   \n",
       "AgentMunky       3.46    1.72  ...     NaN    4.24     NaN     NaN     NaN   \n",
       "Alieniloquium     NaN     NaN  ...    3.44     NaN    4.12     NaN     NaN   \n",
       "Arbitrator       4.17     NaN  ...     NaN     NaN     NaN     NaN     NaN   \n",
       "\n",
       "beer           189272  197183  202078  211516  221289  \n",
       "user                                                   \n",
       "57md             4.68    3.48    4.18     NaN     NaN  \n",
       "ALC82             NaN     NaN    4.25    4.50     NaN  \n",
       "AgentMunky        NaN    4.12     NaN     NaN     NaN  \n",
       "Alieniloquium     NaN     NaN     NaN    3.95     4.0  \n",
       "Arbitrator        NaN     NaN     NaN     NaN     NaN  \n",
       "\n",
       "[5 rows x 481 columns]"
      ]
     },
     "execution_count": 17,
     "metadata": {},
     "output_type": "execute_result"
    }
   ],
   "source": [
    "ratings_matrix.head()"
   ]
  },
  {
   "cell_type": "markdown",
   "metadata": {},
   "source": [
    "> ratings_matrix.shape = (333,481)"
   ]
  },
  {
   "cell_type": "code",
   "execution_count": 18,
   "metadata": {},
   "outputs": [
    {
     "data": {
      "text/html": [
       "<div>\n",
       "<style scoped>\n",
       "    .dataframe tbody tr th:only-of-type {\n",
       "        vertical-align: middle;\n",
       "    }\n",
       "\n",
       "    .dataframe tbody tr th {\n",
       "        vertical-align: top;\n",
       "    }\n",
       "\n",
       "    .dataframe thead th {\n",
       "        text-align: right;\n",
       "    }\n",
       "</style>\n",
       "<table border=\"1\" class=\"dataframe\">\n",
       "  <thead>\n",
       "    <tr style=\"text-align: right;\">\n",
       "      <th>beer</th>\n",
       "      <th>6</th>\n",
       "      <th>30</th>\n",
       "      <th>31</th>\n",
       "      <th>33</th>\n",
       "      <th>34</th>\n",
       "      <th>39</th>\n",
       "      <th>59</th>\n",
       "      <th>61</th>\n",
       "      <th>63</th>\n",
       "      <th>65</th>\n",
       "      <th>...</th>\n",
       "      <th>178857</th>\n",
       "      <th>179482</th>\n",
       "      <th>181572</th>\n",
       "      <th>182256</th>\n",
       "      <th>187317</th>\n",
       "      <th>189272</th>\n",
       "      <th>197183</th>\n",
       "      <th>202078</th>\n",
       "      <th>211516</th>\n",
       "      <th>221289</th>\n",
       "    </tr>\n",
       "    <tr>\n",
       "      <th>user</th>\n",
       "      <th></th>\n",
       "      <th></th>\n",
       "      <th></th>\n",
       "      <th></th>\n",
       "      <th></th>\n",
       "      <th></th>\n",
       "      <th></th>\n",
       "      <th></th>\n",
       "      <th></th>\n",
       "      <th></th>\n",
       "      <th></th>\n",
       "      <th></th>\n",
       "      <th></th>\n",
       "      <th></th>\n",
       "      <th></th>\n",
       "      <th></th>\n",
       "      <th></th>\n",
       "      <th></th>\n",
       "      <th></th>\n",
       "      <th></th>\n",
       "      <th></th>\n",
       "    </tr>\n",
       "  </thead>\n",
       "  <tbody>\n",
       "    <tr>\n",
       "      <th>57md</th>\n",
       "      <td>3.69</td>\n",
       "      <td>0.00</td>\n",
       "      <td>0.00</td>\n",
       "      <td>0.00</td>\n",
       "      <td>3.63</td>\n",
       "      <td>0.00</td>\n",
       "      <td>0.00</td>\n",
       "      <td>0.0</td>\n",
       "      <td>4.00</td>\n",
       "      <td>2.18</td>\n",
       "      <td>...</td>\n",
       "      <td>3.98</td>\n",
       "      <td>0.00</td>\n",
       "      <td>3.94</td>\n",
       "      <td>3.94</td>\n",
       "      <td>3.69</td>\n",
       "      <td>4.68</td>\n",
       "      <td>3.48</td>\n",
       "      <td>4.18</td>\n",
       "      <td>0.0</td>\n",
       "      <td>0.0</td>\n",
       "    </tr>\n",
       "    <tr>\n",
       "      <th>ALC82</th>\n",
       "      <td>0.00</td>\n",
       "      <td>0.00</td>\n",
       "      <td>0.00</td>\n",
       "      <td>0.00</td>\n",
       "      <td>4.50</td>\n",
       "      <td>4.73</td>\n",
       "      <td>0.00</td>\n",
       "      <td>0.0</td>\n",
       "      <td>3.90</td>\n",
       "      <td>2.25</td>\n",
       "      <td>...</td>\n",
       "      <td>0.00</td>\n",
       "      <td>0.00</td>\n",
       "      <td>4.38</td>\n",
       "      <td>0.00</td>\n",
       "      <td>0.00</td>\n",
       "      <td>0.00</td>\n",
       "      <td>0.00</td>\n",
       "      <td>4.25</td>\n",
       "      <td>4.5</td>\n",
       "      <td>0.0</td>\n",
       "    </tr>\n",
       "    <tr>\n",
       "      <th>AgentMunky</th>\n",
       "      <td>4.07</td>\n",
       "      <td>3.95</td>\n",
       "      <td>3.16</td>\n",
       "      <td>3.88</td>\n",
       "      <td>4.30</td>\n",
       "      <td>0.00</td>\n",
       "      <td>4.15</td>\n",
       "      <td>0.0</td>\n",
       "      <td>3.46</td>\n",
       "      <td>1.72</td>\n",
       "      <td>...</td>\n",
       "      <td>0.00</td>\n",
       "      <td>4.24</td>\n",
       "      <td>0.00</td>\n",
       "      <td>0.00</td>\n",
       "      <td>0.00</td>\n",
       "      <td>0.00</td>\n",
       "      <td>4.12</td>\n",
       "      <td>0.00</td>\n",
       "      <td>0.0</td>\n",
       "      <td>0.0</td>\n",
       "    </tr>\n",
       "  </tbody>\n",
       "</table>\n",
       "<p>3 rows × 481 columns</p>\n",
       "</div>"
      ],
      "text/plain": [
       "beer        6       30      31      33      34      39      59      61      \\\n",
       "user                                                                         \n",
       "57md          3.69    0.00    0.00    0.00    3.63    0.00    0.00     0.0   \n",
       "ALC82         0.00    0.00    0.00    0.00    4.50    4.73    0.00     0.0   \n",
       "AgentMunky    4.07    3.95    3.16    3.88    4.30    0.00    4.15     0.0   \n",
       "\n",
       "beer        63      65      ...  178857  179482  181572  182256  187317  \\\n",
       "user                        ...                                           \n",
       "57md          4.00    2.18  ...    3.98    0.00    3.94    3.94    3.69   \n",
       "ALC82         3.90    2.25  ...    0.00    0.00    4.38    0.00    0.00   \n",
       "AgentMunky    3.46    1.72  ...    0.00    4.24    0.00    0.00    0.00   \n",
       "\n",
       "beer        189272  197183  202078  211516  221289  \n",
       "user                                                \n",
       "57md          4.68    3.48    4.18     0.0     0.0  \n",
       "ALC82         0.00    0.00    4.25     4.5     0.0  \n",
       "AgentMunky    0.00    4.12    0.00     0.0     0.0  \n",
       "\n",
       "[3 rows x 481 columns]"
      ]
     },
     "execution_count": 18,
     "metadata": {},
     "output_type": "execute_result"
    }
   ],
   "source": [
    "# beerID는 나중에\n",
    "# rating_beer = pd.merge(data, beers, on='beer_ID')\n",
    "\n",
    "# columns='beer_ID' 로 변환 & beer_ID 컬럼으로 pivot 수행. \n",
    "#ratings_matrix = rating_beer.pivot_table('rating', index='user', columns='beer_ID')\n",
    "\n",
    "# NaN 값을 모두 0 으로 변환\n",
    "ratings_matrix = ratings_matrix.fillna(0)\n",
    "ratings_matrix.head(3)"
   ]
  },
  {
   "cell_type": "markdown",
   "metadata": {},
   "source": [
    "### Item간의 유사도 측정\n",
    "- index가 user로 설정되어있던 ratings matrix를 itemID가 index가 되도록 변환"
   ]
  },
  {
   "cell_type": "code",
   "execution_count": 19,
   "metadata": {},
   "outputs": [
    {
     "data": {
      "text/html": [
       "<div>\n",
       "<style scoped>\n",
       "    .dataframe tbody tr th:only-of-type {\n",
       "        vertical-align: middle;\n",
       "    }\n",
       "\n",
       "    .dataframe tbody tr th {\n",
       "        vertical-align: top;\n",
       "    }\n",
       "\n",
       "    .dataframe thead th {\n",
       "        text-align: right;\n",
       "    }\n",
       "</style>\n",
       "<table border=\"1\" class=\"dataframe\">\n",
       "  <thead>\n",
       "    <tr style=\"text-align: right;\">\n",
       "      <th>user</th>\n",
       "      <th>57md</th>\n",
       "      <th>ALC82</th>\n",
       "      <th>AgentMunky</th>\n",
       "      <th>Alieniloquium</th>\n",
       "      <th>Arbitrator</th>\n",
       "      <th>ArrogantB</th>\n",
       "      <th>BARFLYB</th>\n",
       "      <th>BB1313</th>\n",
       "      <th>BEER88</th>\n",
       "      <th>BEERMILER12</th>\n",
       "      <th>...</th>\n",
       "      <th>vfgccp</th>\n",
       "      <th>wedge</th>\n",
       "      <th>weeare138</th>\n",
       "      <th>womencantsail</th>\n",
       "      <th>woodychandler</th>\n",
       "      <th>woosterbill</th>\n",
       "      <th>wordemupg</th>\n",
       "      <th>wvsabbath</th>\n",
       "      <th>zac16125</th>\n",
       "      <th>zeff80</th>\n",
       "    </tr>\n",
       "    <tr>\n",
       "      <th>beer</th>\n",
       "      <th></th>\n",
       "      <th></th>\n",
       "      <th></th>\n",
       "      <th></th>\n",
       "      <th></th>\n",
       "      <th></th>\n",
       "      <th></th>\n",
       "      <th></th>\n",
       "      <th></th>\n",
       "      <th></th>\n",
       "      <th></th>\n",
       "      <th></th>\n",
       "      <th></th>\n",
       "      <th></th>\n",
       "      <th></th>\n",
       "      <th></th>\n",
       "      <th></th>\n",
       "      <th></th>\n",
       "      <th></th>\n",
       "      <th></th>\n",
       "      <th></th>\n",
       "    </tr>\n",
       "  </thead>\n",
       "  <tbody>\n",
       "    <tr>\n",
       "      <th>6</th>\n",
       "      <td>3.69</td>\n",
       "      <td>0.0</td>\n",
       "      <td>4.07</td>\n",
       "      <td>0.00</td>\n",
       "      <td>0.00</td>\n",
       "      <td>0.0</td>\n",
       "      <td>0.00</td>\n",
       "      <td>3.6</td>\n",
       "      <td>0.0</td>\n",
       "      <td>0.00</td>\n",
       "      <td>...</td>\n",
       "      <td>0.00</td>\n",
       "      <td>0.00</td>\n",
       "      <td>3.95</td>\n",
       "      <td>0.00</td>\n",
       "      <td>0.0</td>\n",
       "      <td>3.61</td>\n",
       "      <td>0.00</td>\n",
       "      <td>0.00</td>\n",
       "      <td>0.00</td>\n",
       "      <td>3.17</td>\n",
       "    </tr>\n",
       "    <tr>\n",
       "      <th>30</th>\n",
       "      <td>0.00</td>\n",
       "      <td>0.0</td>\n",
       "      <td>3.95</td>\n",
       "      <td>4.07</td>\n",
       "      <td>2.51</td>\n",
       "      <td>0.0</td>\n",
       "      <td>3.77</td>\n",
       "      <td>0.0</td>\n",
       "      <td>4.0</td>\n",
       "      <td>4.42</td>\n",
       "      <td>...</td>\n",
       "      <td>3.85</td>\n",
       "      <td>4.79</td>\n",
       "      <td>4.10</td>\n",
       "      <td>0.00</td>\n",
       "      <td>0.0</td>\n",
       "      <td>4.14</td>\n",
       "      <td>4.47</td>\n",
       "      <td>4.38</td>\n",
       "      <td>4.31</td>\n",
       "      <td>4.33</td>\n",
       "    </tr>\n",
       "    <tr>\n",
       "      <th>31</th>\n",
       "      <td>0.00</td>\n",
       "      <td>0.0</td>\n",
       "      <td>3.16</td>\n",
       "      <td>0.00</td>\n",
       "      <td>3.27</td>\n",
       "      <td>0.0</td>\n",
       "      <td>0.00</td>\n",
       "      <td>0.0</td>\n",
       "      <td>0.0</td>\n",
       "      <td>3.90</td>\n",
       "      <td>...</td>\n",
       "      <td>4.02</td>\n",
       "      <td>0.00</td>\n",
       "      <td>0.00</td>\n",
       "      <td>3.11</td>\n",
       "      <td>0.0</td>\n",
       "      <td>0.00</td>\n",
       "      <td>4.10</td>\n",
       "      <td>3.06</td>\n",
       "      <td>0.00</td>\n",
       "      <td>4.23</td>\n",
       "    </tr>\n",
       "  </tbody>\n",
       "</table>\n",
       "<p>3 rows × 333 columns</p>\n",
       "</div>"
      ],
      "text/plain": [
       "user  57md  ALC82  AgentMunky  Alieniloquium  Arbitrator  ArrogantB  BARFLYB  \\\n",
       "beer                                                                           \n",
       "6     3.69    0.0        4.07           0.00        0.00        0.0     0.00   \n",
       "30    0.00    0.0        3.95           4.07        2.51        0.0     3.77   \n",
       "31    0.00    0.0        3.16           0.00        3.27        0.0     0.00   \n",
       "\n",
       "user  BB1313  BEER88  BEERMILER12  ...  vfgccp  wedge  weeare138  \\\n",
       "beer                               ...                             \n",
       "6        3.6     0.0         0.00  ...    0.00   0.00       3.95   \n",
       "30       0.0     4.0         4.42  ...    3.85   4.79       4.10   \n",
       "31       0.0     0.0         3.90  ...    4.02   0.00       0.00   \n",
       "\n",
       "user  womencantsail  woodychandler  woosterbill  wordemupg  wvsabbath  \\\n",
       "beer                                                                    \n",
       "6              0.00            0.0         3.61       0.00       0.00   \n",
       "30             0.00            0.0         4.14       4.47       4.38   \n",
       "31             3.11            0.0         0.00       4.10       3.06   \n",
       "\n",
       "user  zac16125  zeff80  \n",
       "beer                    \n",
       "6         0.00    3.17  \n",
       "30        4.31    4.33  \n",
       "31        0.00    4.23  \n",
       "\n",
       "[3 rows x 333 columns]"
      ]
     },
     "execution_count": 19,
     "metadata": {},
     "output_type": "execute_result"
    }
   ],
   "source": [
    "ratings_matrix_T = ratings_matrix.transpose() #User의 평점이 아니라 영화간의 유사도를 측정하는 프로세스\n",
    "ratings_matrix_T.head(3)"
   ]
  },
  {
   "cell_type": "markdown",
   "metadata": {},
   "source": [
    "> index가 beer , columns가 user"
   ]
  },
  {
   "cell_type": "code",
   "execution_count": 36,
   "metadata": {},
   "outputs": [
    {
     "data": {
      "text/html": [
       "<div>\n",
       "<style scoped>\n",
       "    .dataframe tbody tr th:only-of-type {\n",
       "        vertical-align: middle;\n",
       "    }\n",
       "\n",
       "    .dataframe tbody tr th {\n",
       "        vertical-align: top;\n",
       "    }\n",
       "\n",
       "    .dataframe thead th {\n",
       "        text-align: right;\n",
       "    }\n",
       "</style>\n",
       "<table border=\"1\" class=\"dataframe\">\n",
       "  <thead>\n",
       "    <tr style=\"text-align: right;\">\n",
       "      <th>beer</th>\n",
       "      <th>6</th>\n",
       "      <th>30</th>\n",
       "      <th>31</th>\n",
       "      <th>33</th>\n",
       "      <th>34</th>\n",
       "      <th>39</th>\n",
       "      <th>59</th>\n",
       "      <th>61</th>\n",
       "      <th>63</th>\n",
       "      <th>65</th>\n",
       "      <th>...</th>\n",
       "      <th>178857</th>\n",
       "      <th>179482</th>\n",
       "      <th>181572</th>\n",
       "      <th>182256</th>\n",
       "      <th>187317</th>\n",
       "      <th>189272</th>\n",
       "      <th>197183</th>\n",
       "      <th>202078</th>\n",
       "      <th>211516</th>\n",
       "      <th>221289</th>\n",
       "    </tr>\n",
       "    <tr>\n",
       "      <th>beer</th>\n",
       "      <th></th>\n",
       "      <th></th>\n",
       "      <th></th>\n",
       "      <th></th>\n",
       "      <th></th>\n",
       "      <th></th>\n",
       "      <th></th>\n",
       "      <th></th>\n",
       "      <th></th>\n",
       "      <th></th>\n",
       "      <th></th>\n",
       "      <th></th>\n",
       "      <th></th>\n",
       "      <th></th>\n",
       "      <th></th>\n",
       "      <th></th>\n",
       "      <th></th>\n",
       "      <th></th>\n",
       "      <th></th>\n",
       "      <th></th>\n",
       "      <th></th>\n",
       "    </tr>\n",
       "  </thead>\n",
       "  <tbody>\n",
       "    <tr>\n",
       "      <th>6</th>\n",
       "      <td>1.0000</td>\n",
       "      <td>0.7117</td>\n",
       "      <td>0.6496</td>\n",
       "      <td>0.7137</td>\n",
       "      <td>0.7147</td>\n",
       "      <td>0.6112</td>\n",
       "      <td>0.6738</td>\n",
       "      <td>0.6923</td>\n",
       "      <td>0.7124</td>\n",
       "      <td>0.6083</td>\n",
       "      <td>...</td>\n",
       "      <td>0.4869</td>\n",
       "      <td>0.4740</td>\n",
       "      <td>0.4043</td>\n",
       "      <td>0.4582</td>\n",
       "      <td>0.4639</td>\n",
       "      <td>0.4754</td>\n",
       "      <td>0.4922</td>\n",
       "      <td>0.4128</td>\n",
       "      <td>0.2802</td>\n",
       "      <td>0.4054</td>\n",
       "    </tr>\n",
       "    <tr>\n",
       "      <th>30</th>\n",
       "      <td>0.7117</td>\n",
       "      <td>1.0000</td>\n",
       "      <td>0.7582</td>\n",
       "      <td>0.9201</td>\n",
       "      <td>0.9364</td>\n",
       "      <td>0.8062</td>\n",
       "      <td>0.8288</td>\n",
       "      <td>0.7936</td>\n",
       "      <td>0.8541</td>\n",
       "      <td>0.7063</td>\n",
       "      <td>...</td>\n",
       "      <td>0.6231</td>\n",
       "      <td>0.5792</td>\n",
       "      <td>0.4821</td>\n",
       "      <td>0.6126</td>\n",
       "      <td>0.5958</td>\n",
       "      <td>0.5943</td>\n",
       "      <td>0.5701</td>\n",
       "      <td>0.5339</td>\n",
       "      <td>0.4125</td>\n",
       "      <td>0.5155</td>\n",
       "    </tr>\n",
       "    <tr>\n",
       "      <th>31</th>\n",
       "      <td>0.6496</td>\n",
       "      <td>0.7582</td>\n",
       "      <td>1.0000</td>\n",
       "      <td>0.7624</td>\n",
       "      <td>0.7592</td>\n",
       "      <td>0.6532</td>\n",
       "      <td>0.6952</td>\n",
       "      <td>0.7148</td>\n",
       "      <td>0.7234</td>\n",
       "      <td>0.6334</td>\n",
       "      <td>...</td>\n",
       "      <td>0.4531</td>\n",
       "      <td>0.4725</td>\n",
       "      <td>0.3797</td>\n",
       "      <td>0.4495</td>\n",
       "      <td>0.4679</td>\n",
       "      <td>0.4627</td>\n",
       "      <td>0.4774</td>\n",
       "      <td>0.3830</td>\n",
       "      <td>0.2865</td>\n",
       "      <td>0.3525</td>\n",
       "    </tr>\n",
       "    <tr>\n",
       "      <th>33</th>\n",
       "      <td>0.7137</td>\n",
       "      <td>0.9201</td>\n",
       "      <td>0.7624</td>\n",
       "      <td>1.0000</td>\n",
       "      <td>0.9179</td>\n",
       "      <td>0.7924</td>\n",
       "      <td>0.8332</td>\n",
       "      <td>0.8032</td>\n",
       "      <td>0.8376</td>\n",
       "      <td>0.7051</td>\n",
       "      <td>...</td>\n",
       "      <td>0.5939</td>\n",
       "      <td>0.5657</td>\n",
       "      <td>0.4816</td>\n",
       "      <td>0.5787</td>\n",
       "      <td>0.5799</td>\n",
       "      <td>0.5814</td>\n",
       "      <td>0.5504</td>\n",
       "      <td>0.5362</td>\n",
       "      <td>0.3814</td>\n",
       "      <td>0.4999</td>\n",
       "    </tr>\n",
       "    <tr>\n",
       "      <th>34</th>\n",
       "      <td>0.7147</td>\n",
       "      <td>0.9364</td>\n",
       "      <td>0.7592</td>\n",
       "      <td>0.9179</td>\n",
       "      <td>1.0000</td>\n",
       "      <td>0.8495</td>\n",
       "      <td>0.8489</td>\n",
       "      <td>0.8123</td>\n",
       "      <td>0.8813</td>\n",
       "      <td>0.7525</td>\n",
       "      <td>...</td>\n",
       "      <td>0.6397</td>\n",
       "      <td>0.5919</td>\n",
       "      <td>0.5468</td>\n",
       "      <td>0.6199</td>\n",
       "      <td>0.6196</td>\n",
       "      <td>0.6463</td>\n",
       "      <td>0.6040</td>\n",
       "      <td>0.5920</td>\n",
       "      <td>0.4511</td>\n",
       "      <td>0.5547</td>\n",
       "    </tr>\n",
       "  </tbody>\n",
       "</table>\n",
       "<p>5 rows × 481 columns</p>\n",
       "</div>"
      ],
      "text/plain": [
       "beer  6       30      31      33      34      39      59      61      63      \\\n",
       "beer                                                                           \n",
       "6     1.0000  0.7117  0.6496  0.7137  0.7147  0.6112  0.6738  0.6923  0.7124   \n",
       "30    0.7117  1.0000  0.7582  0.9201  0.9364  0.8062  0.8288  0.7936  0.8541   \n",
       "31    0.6496  0.7582  1.0000  0.7624  0.7592  0.6532  0.6952  0.7148  0.7234   \n",
       "33    0.7137  0.9201  0.7624  1.0000  0.9179  0.7924  0.8332  0.8032  0.8376   \n",
       "34    0.7147  0.9364  0.7592  0.9179  1.0000  0.8495  0.8489  0.8123  0.8813   \n",
       "\n",
       "beer  65      ...  178857  179482  181572  182256  187317  189272  197183  \\\n",
       "beer          ...                                                           \n",
       "6     0.6083  ...  0.4869  0.4740  0.4043  0.4582  0.4639  0.4754  0.4922   \n",
       "30    0.7063  ...  0.6231  0.5792  0.4821  0.6126  0.5958  0.5943  0.5701   \n",
       "31    0.6334  ...  0.4531  0.4725  0.3797  0.4495  0.4679  0.4627  0.4774   \n",
       "33    0.7051  ...  0.5939  0.5657  0.4816  0.5787  0.5799  0.5814  0.5504   \n",
       "34    0.7525  ...  0.6397  0.5919  0.5468  0.6199  0.6196  0.6463  0.6040   \n",
       "\n",
       "beer  202078  211516  221289  \n",
       "beer                          \n",
       "6     0.4128  0.2802  0.4054  \n",
       "30    0.5339  0.4125  0.5155  \n",
       "31    0.3830  0.2865  0.3525  \n",
       "33    0.5362  0.3814  0.4999  \n",
       "34    0.5920  0.4511  0.5547  \n",
       "\n",
       "[5 rows x 481 columns]"
      ]
     },
     "execution_count": 36,
     "metadata": {},
     "output_type": "execute_result"
    }
   ],
   "source": [
    "from sklearn.metrics.pairwise import cosine_similarity\n",
    "\n",
    "# 코사인 유사도 matrix 작성\n",
    "item_sim = cosine_similarity(ratings_matrix_T, ratings_matrix_T) #Item유사도 - corr.matrix처럼 n*n행렬\n",
    "\n",
    "# cosine_similarity() 로 반환된 넘파이 행렬을 영화명을 매핑하여 DataFrame으로 변환\n",
    "item_sim_df = pd.DataFrame(data=item_sim, index=ratings_matrix.columns,columns=ratings_matrix.columns).round(4) # shape (481,481) # 소수점 4번째 자리까지\n",
    "item_sim_df.head()"
   ]
  },
  {
   "cell_type": "markdown",
   "metadata": {},
   "source": [
    ">beer_ID간의 유사도 계산"
   ]
  },
  {
   "cell_type": "code",
   "execution_count": null,
   "metadata": {},
   "outputs": [],
   "source": [
    "item_sim_df[\"Godfather, The (1972)\"].sort_values(ascending=False)[:6] #해당 영화와 유사도가 가장 높은 상위 영화 5가지(1등은 자기 자신)"
   ]
  },
  {
   "cell_type": "markdown",
   "metadata": {},
   "source": [
    "### 유사도가 가장 높은 상위 n가지 추출하는 모듈 만들기\n",
    "> ※주의: 자기 자신 제외"
   ]
  },
  {
   "cell_type": "code",
   "execution_count": 34,
   "metadata": {},
   "outputs": [],
   "source": [
    "def corr_top(item,n):\n",
    "    ans = pd.DataFrame(item_sim_df[item].sort_values(ascending = False)[1:n])\n",
    "    return ans"
   ]
  },
  {
   "cell_type": "code",
   "execution_count": 37,
   "metadata": {},
   "outputs": [
    {
     "data": {
      "text/html": [
       "<div>\n",
       "<style scoped>\n",
       "    .dataframe tbody tr th:only-of-type {\n",
       "        vertical-align: middle;\n",
       "    }\n",
       "\n",
       "    .dataframe tbody tr th {\n",
       "        vertical-align: top;\n",
       "    }\n",
       "\n",
       "    .dataframe thead th {\n",
       "        text-align: right;\n",
       "    }\n",
       "</style>\n",
       "<table border=\"1\" class=\"dataframe\">\n",
       "  <thead>\n",
       "    <tr style=\"text-align: right;\">\n",
       "      <th></th>\n",
       "      <th>33</th>\n",
       "    </tr>\n",
       "    <tr>\n",
       "      <th>beer</th>\n",
       "      <th></th>\n",
       "    </tr>\n",
       "  </thead>\n",
       "  <tbody>\n",
       "    <tr>\n",
       "      <th>30</th>\n",
       "      <td>0.9201</td>\n",
       "    </tr>\n",
       "    <tr>\n",
       "      <th>34</th>\n",
       "      <td>0.9179</td>\n",
       "    </tr>\n",
       "    <tr>\n",
       "      <th>1708</th>\n",
       "      <td>0.9032</td>\n",
       "    </tr>\n",
       "    <tr>\n",
       "      <th>88</th>\n",
       "      <td>0.8984</td>\n",
       "    </tr>\n",
       "    <tr>\n",
       "      <th>412</th>\n",
       "      <td>0.8900</td>\n",
       "    </tr>\n",
       "    <tr>\n",
       "      <th>131</th>\n",
       "      <td>0.8889</td>\n",
       "    </tr>\n",
       "    <tr>\n",
       "      <th>1013</th>\n",
       "      <td>0.8871</td>\n",
       "    </tr>\n",
       "    <tr>\n",
       "      <th>2512</th>\n",
       "      <td>0.8865</td>\n",
       "    </tr>\n",
       "    <tr>\n",
       "      <th>1904</th>\n",
       "      <td>0.8851</td>\n",
       "    </tr>\n",
       "  </tbody>\n",
       "</table>\n",
       "</div>"
      ],
      "text/plain": [
       "          33\n",
       "beer        \n",
       "30    0.9201\n",
       "34    0.9179\n",
       "1708  0.9032\n",
       "88    0.8984\n",
       "412   0.8900\n",
       "131   0.8889\n",
       "1013  0.8871\n",
       "2512  0.8865\n",
       "1904  0.8851"
      ]
     },
     "execution_count": 37,
     "metadata": {},
     "output_type": "execute_result"
    }
   ],
   "source": [
    "corr_top(33,10)"
   ]
  },
  {
   "cell_type": "markdown",
   "metadata": {},
   "source": [
    "## 아이템 기반 인접 이웃 협업 필터링으로 개인화된 영화 추천"
   ]
  },
  {
   "cell_type": "code",
   "execution_count": 39,
   "metadata": {},
   "outputs": [],
   "source": [
    "### prediction matrix 작성하기 ###\n",
    "\n",
    "def predict_rating(ratings_arr, item_sim_arr ):\n",
    "    ratings_pred = ratings_arr.dot(item_sim_arr)/ np.array([np.abs(item_sim_arr).sum(axis=1)])\n",
    "    return ratings_pred"
   ]
  },
  {
   "cell_type": "markdown",
   "metadata": {},
   "source": [
    "### predict_rating(ratins_arr,item_sim_arr)\n",
    "> user가 item에 대해 평가한 데이터와 item간의 유사도를 계산한 데이터를 array형식으로 입력받아 rating 예측값을 계산하는 함수\n",
    "- ratings_arr: user가 item에 대해 점수를 매긴 matrix를 array형식으로 입력\n",
    "- item_sim_arr: item 유사도를 계산한 matrix를 array형식으로 입력\n",
    "- ratings_pred: user의 scoring정보와 item유사도를 dot product로 예측값을 연산. array형식으로 반환한다"
   ]
  },
  {
   "cell_type": "code",
   "execution_count": 111,
   "metadata": {},
   "outputs": [
    {
     "data": {
      "text/html": [
       "<div>\n",
       "<style scoped>\n",
       "    .dataframe tbody tr th:only-of-type {\n",
       "        vertical-align: middle;\n",
       "    }\n",
       "\n",
       "    .dataframe tbody tr th {\n",
       "        vertical-align: top;\n",
       "    }\n",
       "\n",
       "    .dataframe thead th {\n",
       "        text-align: right;\n",
       "    }\n",
       "</style>\n",
       "<table border=\"1\" class=\"dataframe\">\n",
       "  <thead>\n",
       "    <tr style=\"text-align: right;\">\n",
       "      <th>beer</th>\n",
       "      <th>6</th>\n",
       "      <th>30</th>\n",
       "      <th>31</th>\n",
       "      <th>33</th>\n",
       "      <th>34</th>\n",
       "      <th>39</th>\n",
       "      <th>59</th>\n",
       "      <th>61</th>\n",
       "      <th>63</th>\n",
       "      <th>65</th>\n",
       "      <th>...</th>\n",
       "      <th>178857</th>\n",
       "      <th>179482</th>\n",
       "      <th>181572</th>\n",
       "      <th>182256</th>\n",
       "      <th>187317</th>\n",
       "      <th>189272</th>\n",
       "      <th>197183</th>\n",
       "      <th>202078</th>\n",
       "      <th>211516</th>\n",
       "      <th>221289</th>\n",
       "    </tr>\n",
       "    <tr>\n",
       "      <th>user</th>\n",
       "      <th></th>\n",
       "      <th></th>\n",
       "      <th></th>\n",
       "      <th></th>\n",
       "      <th></th>\n",
       "      <th></th>\n",
       "      <th></th>\n",
       "      <th></th>\n",
       "      <th></th>\n",
       "      <th></th>\n",
       "      <th></th>\n",
       "      <th></th>\n",
       "      <th></th>\n",
       "      <th></th>\n",
       "      <th></th>\n",
       "      <th></th>\n",
       "      <th></th>\n",
       "      <th></th>\n",
       "      <th></th>\n",
       "      <th></th>\n",
       "      <th></th>\n",
       "    </tr>\n",
       "  </thead>\n",
       "  <tbody>\n",
       "    <tr>\n",
       "      <th>57md</th>\n",
       "      <td>2.557521</td>\n",
       "      <td>2.539770</td>\n",
       "      <td>2.542699</td>\n",
       "      <td>2.537633</td>\n",
       "      <td>2.537942</td>\n",
       "      <td>2.517111</td>\n",
       "      <td>2.529003</td>\n",
       "      <td>2.544423</td>\n",
       "      <td>2.548360</td>\n",
       "      <td>2.534147</td>\n",
       "      <td>...</td>\n",
       "      <td>2.562583</td>\n",
       "      <td>2.548413</td>\n",
       "      <td>2.502485</td>\n",
       "      <td>2.563750</td>\n",
       "      <td>2.555198</td>\n",
       "      <td>2.511763</td>\n",
       "      <td>2.552204</td>\n",
       "      <td>2.531040</td>\n",
       "      <td>2.415096</td>\n",
       "      <td>2.489413</td>\n",
       "    </tr>\n",
       "    <tr>\n",
       "      <th>ALC82</th>\n",
       "      <td>2.264491</td>\n",
       "      <td>2.302495</td>\n",
       "      <td>2.253402</td>\n",
       "      <td>2.297710</td>\n",
       "      <td>2.327306</td>\n",
       "      <td>2.359716</td>\n",
       "      <td>2.313593</td>\n",
       "      <td>2.282406</td>\n",
       "      <td>2.316119</td>\n",
       "      <td>2.328348</td>\n",
       "      <td>...</td>\n",
       "      <td>2.368528</td>\n",
       "      <td>2.329951</td>\n",
       "      <td>2.443169</td>\n",
       "      <td>2.355068</td>\n",
       "      <td>2.342703</td>\n",
       "      <td>2.406483</td>\n",
       "      <td>2.353883</td>\n",
       "      <td>2.408393</td>\n",
       "      <td>2.511186</td>\n",
       "      <td>2.438862</td>\n",
       "    </tr>\n",
       "    <tr>\n",
       "      <th>AgentMunky</th>\n",
       "      <td>2.563730</td>\n",
       "      <td>2.579625</td>\n",
       "      <td>2.580783</td>\n",
       "      <td>2.575660</td>\n",
       "      <td>2.572463</td>\n",
       "      <td>2.551211</td>\n",
       "      <td>2.568175</td>\n",
       "      <td>2.565421</td>\n",
       "      <td>2.568891</td>\n",
       "      <td>2.549082</td>\n",
       "      <td>...</td>\n",
       "      <td>2.515182</td>\n",
       "      <td>2.522537</td>\n",
       "      <td>2.468213</td>\n",
       "      <td>2.517621</td>\n",
       "      <td>2.499227</td>\n",
       "      <td>2.498136</td>\n",
       "      <td>2.505825</td>\n",
       "      <td>2.491471</td>\n",
       "      <td>2.425870</td>\n",
       "      <td>2.483437</td>\n",
       "    </tr>\n",
       "    <tr>\n",
       "      <th>Alieniloquium</th>\n",
       "      <td>2.025298</td>\n",
       "      <td>2.119282</td>\n",
       "      <td>2.035929</td>\n",
       "      <td>2.109260</td>\n",
       "      <td>2.137561</td>\n",
       "      <td>2.167387</td>\n",
       "      <td>2.133007</td>\n",
       "      <td>2.067375</td>\n",
       "      <td>2.096473</td>\n",
       "      <td>2.077914</td>\n",
       "      <td>...</td>\n",
       "      <td>2.202948</td>\n",
       "      <td>2.135681</td>\n",
       "      <td>2.286017</td>\n",
       "      <td>2.165826</td>\n",
       "      <td>2.133756</td>\n",
       "      <td>2.261145</td>\n",
       "      <td>2.142712</td>\n",
       "      <td>2.233455</td>\n",
       "      <td>2.404158</td>\n",
       "      <td>2.324640</td>\n",
       "    </tr>\n",
       "    <tr>\n",
       "      <th>Arbitrator</th>\n",
       "      <td>2.021488</td>\n",
       "      <td>2.059952</td>\n",
       "      <td>2.064185</td>\n",
       "      <td>2.061413</td>\n",
       "      <td>2.054135</td>\n",
       "      <td>2.061562</td>\n",
       "      <td>2.058637</td>\n",
       "      <td>2.055588</td>\n",
       "      <td>2.048894</td>\n",
       "      <td>2.025354</td>\n",
       "      <td>...</td>\n",
       "      <td>1.923869</td>\n",
       "      <td>1.913971</td>\n",
       "      <td>1.912202</td>\n",
       "      <td>1.932263</td>\n",
       "      <td>1.918706</td>\n",
       "      <td>1.926352</td>\n",
       "      <td>1.918871</td>\n",
       "      <td>1.901625</td>\n",
       "      <td>1.875120</td>\n",
       "      <td>1.905469</td>\n",
       "    </tr>\n",
       "  </tbody>\n",
       "</table>\n",
       "<p>5 rows × 481 columns</p>\n",
       "</div>"
      ],
      "text/plain": [
       "beer             6         30        31        33        34        39      \\\n",
       "user                                                                        \n",
       "57md           2.557521  2.539770  2.542699  2.537633  2.537942  2.517111   \n",
       "ALC82          2.264491  2.302495  2.253402  2.297710  2.327306  2.359716   \n",
       "AgentMunky     2.563730  2.579625  2.580783  2.575660  2.572463  2.551211   \n",
       "Alieniloquium  2.025298  2.119282  2.035929  2.109260  2.137561  2.167387   \n",
       "Arbitrator     2.021488  2.059952  2.064185  2.061413  2.054135  2.061562   \n",
       "\n",
       "beer             59        61        63        65      ...    178857  \\\n",
       "user                                                   ...             \n",
       "57md           2.529003  2.544423  2.548360  2.534147  ...  2.562583   \n",
       "ALC82          2.313593  2.282406  2.316119  2.328348  ...  2.368528   \n",
       "AgentMunky     2.568175  2.565421  2.568891  2.549082  ...  2.515182   \n",
       "Alieniloquium  2.133007  2.067375  2.096473  2.077914  ...  2.202948   \n",
       "Arbitrator     2.058637  2.055588  2.048894  2.025354  ...  1.923869   \n",
       "\n",
       "beer             179482    181572    182256    187317    189272    197183  \\\n",
       "user                                                                        \n",
       "57md           2.548413  2.502485  2.563750  2.555198  2.511763  2.552204   \n",
       "ALC82          2.329951  2.443169  2.355068  2.342703  2.406483  2.353883   \n",
       "AgentMunky     2.522537  2.468213  2.517621  2.499227  2.498136  2.505825   \n",
       "Alieniloquium  2.135681  2.286017  2.165826  2.133756  2.261145  2.142712   \n",
       "Arbitrator     1.913971  1.912202  1.932263  1.918706  1.926352  1.918871   \n",
       "\n",
       "beer             202078    211516    221289  \n",
       "user                                         \n",
       "57md           2.531040  2.415096  2.489413  \n",
       "ALC82          2.408393  2.511186  2.438862  \n",
       "AgentMunky     2.491471  2.425870  2.483437  \n",
       "Alieniloquium  2.233455  2.404158  2.324640  \n",
       "Arbitrator     1.901625  1.875120  1.905469  \n",
       "\n",
       "[5 rows x 481 columns]"
      ]
     },
     "execution_count": 111,
     "metadata": {},
     "output_type": "execute_result"
    }
   ],
   "source": [
    "# 결과 확인하기\n",
    "ratings_pred = predict_rating(ratings_matrix.values , item_sim_df.values)\n",
    "ratings_pred_matrix = pd.DataFrame(data=ratings_pred, index= ratings_matrix.index,columns = ratings_matrix.columns)\n",
    "ratings_pred_matrix.head()"
   ]
  },
  {
   "cell_type": "code",
   "execution_count": 43,
   "metadata": {},
   "outputs": [],
   "source": [
    "### mse 출력하기 ###\n",
    "\n",
    "from sklearn.metrics import mean_squared_error\n",
    "\n",
    "# 사용자가 평점을 부여한 영화에 대해서만 예측 성능 평가 MSE 를 구함. \n",
    "def get_mse(pred, actual): ##pred와 actual 모두 array 형태. matrix의 value만 가져오면 됨\n",
    "    # Ignore nonzero terms.\n",
    "    pred = pred[actual.nonzero()].flatten()\n",
    "    actual = actual[actual.nonzero()].flatten()\n",
    "    return mean_squared_error(pred, actual)"
   ]
  },
  {
   "cell_type": "markdown",
   "metadata": {},
   "source": [
    "### get_mse(predm actual)\n",
    "> 평점이 존재하는 항목만 추려서 모델 성능 평가하기\n",
    "- pred: 예측값을 담은 prediction matrix를 array형식으로 입력\n",
    "- actual: 실제값을 array형식으로 입력\n",
    "\n",
    "<참고>\n",
    "- array.nonzero(): array에서 0이 아닌 값들의 row, col을 array형식으로 반환 -> 0이 아닌 값의 위치 찾기\n",
    "- array.flatten(): 2차원의 배열을 1차원으로 한줄서기 시키는 함수\n",
    "    - 'c'는 순서대로 나열\n",
    "    - 'f'는 순서 섞기"
   ]
  },
  {
   "cell_type": "code",
   "execution_count": 42,
   "metadata": {},
   "outputs": [
    {
     "name": "stdout",
     "output_type": "stream",
     "text": [
      "아이템 기반 모든 인접 이웃 MSE:  2.0673987567209418\n"
     ]
    }
   ],
   "source": [
    "# 결과보기\n",
    "print('아이템 기반 모든 인접 이웃 MSE: ', get_mse(ratings_pred, ratings_matrix.values ))"
   ]
  },
  {
   "cell_type": "markdown",
   "metadata": {},
   "source": [
    "> MSE = 2.0674"
   ]
  },
  {
   "cell_type": "code",
   "execution_count": 50,
   "metadata": {},
   "outputs": [],
   "source": [
    "### 예측 평점(선호도)이 높은 top n개 추천하기 ###\n",
    "\n",
    "def predict_rating_topsim(ratings_arr, item_sim_arr, n):\n",
    "    # 사용자-아이템 평점 행렬 크기만큼 0으로 채운 예측 행렬 초기화\n",
    "    pred = np.zeros(ratings_arr.shape) # (333, 481)\n",
    "\n",
    "    # 사용자-아이템 평점 행렬의 열 크기만큼 Loop 수행. \n",
    "    for col in range(ratings_arr.shape[1]): ## 481 - beer 개수\n",
    "        top_n_items = [np.argsort(item_sim_arr[:, col])[:-n-1:-1]]  ## 유사도 행렬(item_sim_arr)을 오름차순 정렬한 후, 뒤에서 유사도가 큰 순으로 n개 데이터 행렬의 index 반환\n",
    "        # 개인화된 예측 평점을 계산\n",
    "        for row in range(ratings_arr.shape[0]): ## 333 - user 개수\n",
    "            pred[row, col] = item_sim_arr[col, :][top_n_items].dot(ratings_arr[row, :][top_n_items].T) ## row번째 user가 가지는 col번째 beer에 대한 예측 평점 = pred[row, col]\n",
    "            pred[row, col] /= np.sum(np.abs(item_sim_arr[col, :][top_n_items])) ## 0~5 사이로 범위 맞추기\n",
    "            \n",
    "    return pred"
   ]
  },
  {
   "cell_type": "markdown",
   "metadata": {},
   "source": [
    "### predict_rating_topsim(ratings_arr, item_sim_arr, n)\n",
    "> 특정 user가 가지는 특정 item(beer)에 대한 예측 평점 구하기\n",
    "- ratings_arr: 실제 ratings정보를 담은 matrix를 array형식으로 입력\n",
    "- item_sim_df: 아이템 유사도를 담은 matrix를 array형식으로 입력\n",
    "- n: 몇 개를 뽑을 건지\n",
    "\n",
    "<참고>\n",
    "\n",
    "- np.zeros(shape): 지정한 shape에 맞게 모두 0으로 채워진 array를 생성\n",
    "- argsort(): array의 전체 elements를 오름차순으로 정렬하는 함수. 단, 배열 안의 값은 values대신 index로 채워져있다.\n",
    "    - 정렬된 값들로 반환하기 위해서는 array[array.argsort()]로 인덱스 전환을 해야한다."
   ]
  },
  {
   "cell_type": "code",
   "execution_count": 52,
   "metadata": {},
   "outputs": [
    {
     "name": "stderr",
     "output_type": "stream",
     "text": [
      "C:\\Users\\genie\\Anaconda3\\lib\\site-packages\\ipykernel_launcher.py:12: FutureWarning: Using a non-tuple sequence for multidimensional indexing is deprecated; use `arr[tuple(seq)]` instead of `arr[seq]`. In the future this will be interpreted as an array index, `arr[np.array(seq)]`, which will result either in an error or a different result.\n",
      "  if sys.path[0] == '':\n",
      "C:\\Users\\genie\\Anaconda3\\lib\\site-packages\\ipykernel_launcher.py:13: FutureWarning: Using a non-tuple sequence for multidimensional indexing is deprecated; use `arr[tuple(seq)]` instead of `arr[seq]`. In the future this will be interpreted as an array index, `arr[np.array(seq)]`, which will result either in an error or a different result.\n",
      "  del sys.path[0]\n"
     ]
    },
    {
     "name": "stdout",
     "output_type": "stream",
     "text": [
      "아이템 기반 인접 TOP-20 이웃 MSE:  0.3952419924358358\n"
     ]
    }
   ],
   "source": [
    "# 결과 확인하기\n",
    "ratings_pred = predict_rating_topsim(ratings_matrix.values , item_sim_df.values, 20)\n",
    "print('아이템 기반 인접 TOP-20 이웃 MSE: ', get_mse(ratings_pred, ratings_matrix.values )) # top 20개 예측한 matrix와 실제값을 비교하여 성능 확인하기\n",
    "\n",
    "\n",
    "# 계산된 예측 평점 데이터는 DataFrame으로 재생성\n",
    "ratings_pred_matrix = pd.DataFrame(data=ratings_pred, index= ratings_matrix.index,columns = ratings_matrix.columns)"
   ]
  },
  {
   "cell_type": "markdown",
   "metadata": {},
   "source": [
    "> 아이템 기반 인접 top 20 MSE: 0.3952"
   ]
  },
  {
   "cell_type": "code",
   "execution_count": 58,
   "metadata": {},
   "outputs": [
    {
     "data": {
      "text/plain": [
       "beer\n",
       "1160     5.00\n",
       "731      5.00\n",
       "68916    4.94\n",
       "1703     4.75\n",
       "131      4.75\n",
       "47658    4.75\n",
       "16814    4.74\n",
       "645      4.70\n",
       "41815    4.68\n",
       "10325    4.68\n",
       "Name: BEERMILER12, dtype: float64"
      ]
     },
     "execution_count": 58,
     "metadata": {},
     "output_type": "execute_result"
    }
   ],
   "source": [
    "user_rating_id = ratings_matrix.iloc[9, :] #9번째 user의 rating정보\n",
    "user_rating_id[ user_rating_id > 0].sort_values(ascending=False)[:10] #평점을 준 item만 추려서 평점 순으로 나열 - top 10개 출력"
   ]
  },
  {
   "cell_type": "code",
   "execution_count": 92,
   "metadata": {},
   "outputs": [],
   "source": [
    "def get_unlist_beer(ratings_matrix, userId):\n",
    "    # userId로 입력받은 사용자의 모든 beer정보 추출하여 Series로 반환함. \n",
    "    # 반환된 user_rating 은 beerID를 index로 가지는 Series 객체임. \n",
    "    user_rating = ratings_matrix.iloc[userId,:] ##shape (481,) - 모든 beer에 대한 Series(평점을 매긴 것+매기지 않은 것 포함)\n",
    "    \n",
    "    # user_rating이 0보다 크면 기존에 평점을 매긴 beer임. 대상 index를 추출하여 list 객체로 만듬\n",
    "    already_beer = user_rating[ user_rating > 0].index.tolist()\n",
    "    \n",
    "    # 모든 beerID를 list 객체로 만듬. \n",
    "    all_beer_list = ratings_matrix.columns.tolist()\n",
    "    \n",
    "    # list comprehension으로 already_beer 해당하는 beer는 all_beer_list 제외함. \n",
    "    unlist_beer = [beer for beer in all_beer_list if beer not in already_beer]\n",
    "    \n",
    "    return unlist_beer"
   ]
  },
  {
   "cell_type": "markdown",
   "metadata": {},
   "source": [
    "### get_unlist_beer(ratings_matrix, userId)\n",
    "> 특정 유저에 대하여 평가 정보가 없는 beer의 리스트를 출력하는 함수\n",
    "- ratings_matrix: 평점 정보가 있는 matrix (DataFrame형태)\n",
    "- userId: 특정 유저의 ID\n",
    "\n",
    "<참고>\n",
    "- tolist(): list로 변환하는 함수\n",
    "- iloc(): index기반 DataFrame에 대한 subset 함수\n",
    "    - 원래 loc기반으로 작성되었으나 userId, beerId 모두 numeric 타입이므로 인덱스 기반의 iloc로 수정"
   ]
  },
  {
   "cell_type": "code",
   "execution_count": 96,
   "metadata": {},
   "outputs": [],
   "source": [
    "# 결과 확인하기\n",
    "unlist_beer = get_unlist_beer(ratings_matrix, 9) # 사용자가 평점을 매기지 않은 beer list 추출 ## type int\n",
    "unlist_str = list(map(str,unlist_beer))"
   ]
  },
  {
   "cell_type": "code",
   "execution_count": 112,
   "metadata": {},
   "outputs": [],
   "source": [
    "def recomm_beer_by_userid(pred_df, userId, n):\n",
    "    # 예측 평점 DataFrame에서 사용자id index와 unseen_list로 들어온 영화명 컬럼을 추출하여\n",
    "    # 가장 예측 평점이 높은 순으로 정렬함.\n",
    "    # 준비\n",
    "    pred_df.columns = pred_df.columns.astype(str)\n",
    "    unlist_beer = get_unlist_beer(ratings_matrix, userId) ##입력받은 특정 user가 평점을 매기지 않은 beer list 출력\n",
    "    \n",
    "    # loc를 위해 str변환\n",
    "    user = pred_df.index.tolist()[userId]\n",
    "    unlist_beer = list(map(str,unlist_beer))\n",
    "    \n",
    "    # 최종 \n",
    "    recomm_beer = pred_df.loc[user,unlist_beer].sort_values(ascending=False)[:n].round(2) ## 예상 평점 내림차순으로 top n개를 추출. 평점은 소수점 둘째까지\n",
    "    \n",
    "    return recomm_beer"
   ]
  },
  {
   "cell_type": "markdown",
   "metadata": {},
   "source": [
    "### recom_beer_by_userid(pred_df, userId, n)\n",
    "> 예측 평점 데이터를 기반으로 특정 user가 평점을 매기지 않은 beer 중에서 높은 평점으로 예상되는 제품을 n개 추천하기\n",
    "- pred_df: 모든 user와 모든 beer에 대한 예측 평점 데이터\n",
    "- userId: target user\n",
    "- n: 추천할 개수\n",
    "\n",
    "<참고>\n",
    "- unlist_beer: target이 평점을 매기지 않은 beer 리스트\n",
    "\n",
    "<**오류 수정**>\n",
    "pd.DataFrame.iloc[]인덱스 문제\n",
    "- user, unlist_beer 모두 int형식이지만 index기반 slicing에 맞지 않은 ID형태\n",
    "    - (481,333)형태의 인덱스는 0~480, 0~333의 범위 안에 있어야함\n",
    "- 특정 user의 (원하는)인덱스를 입력하면 userId를 담은 list에서 해당 위치의 userId를 반환->loc의 입력으로\n",
    "- pred_df의 columns은 각각 beerId를 숫자형식(이름이 아닌)으로 담은 int에 대한 리스트 -> str으로 반환해야함\n",
    "\n",
    "=> 인덱스 기반의 iloc는 적합하지 않고, userId와 beerId를 str형식으로 변환한 후 loc를 통해 원하는 userId와 unlist_beer를 추출"
   ]
  },
  {
   "cell_type": "code",
   "execution_count": 113,
   "metadata": {},
   "outputs": [
    {
     "data": {
      "text/html": [
       "<div>\n",
       "<style scoped>\n",
       "    .dataframe tbody tr th:only-of-type {\n",
       "        vertical-align: middle;\n",
       "    }\n",
       "\n",
       "    .dataframe tbody tr th {\n",
       "        vertical-align: top;\n",
       "    }\n",
       "\n",
       "    .dataframe thead th {\n",
       "        text-align: right;\n",
       "    }\n",
       "</style>\n",
       "<table border=\"1\" class=\"dataframe\">\n",
       "  <thead>\n",
       "    <tr style=\"text-align: right;\">\n",
       "      <th></th>\n",
       "      <th>pred_score</th>\n",
       "    </tr>\n",
       "    <tr>\n",
       "      <th>beer</th>\n",
       "      <th></th>\n",
       "    </tr>\n",
       "  </thead>\n",
       "  <tbody>\n",
       "    <tr>\n",
       "      <th>387</th>\n",
       "      <td>2.90</td>\n",
       "    </tr>\n",
       "    <tr>\n",
       "      <th>236</th>\n",
       "      <td>2.90</td>\n",
       "    </tr>\n",
       "    <tr>\n",
       "      <th>1658</th>\n",
       "      <td>2.90</td>\n",
       "    </tr>\n",
       "    <tr>\n",
       "      <th>30282</th>\n",
       "      <td>2.90</td>\n",
       "    </tr>\n",
       "    <tr>\n",
       "      <th>39286</th>\n",
       "      <td>2.89</td>\n",
       "    </tr>\n",
       "    <tr>\n",
       "      <th>73</th>\n",
       "      <td>2.89</td>\n",
       "    </tr>\n",
       "    <tr>\n",
       "      <th>361</th>\n",
       "      <td>2.89</td>\n",
       "    </tr>\n",
       "    <tr>\n",
       "      <th>402</th>\n",
       "      <td>2.89</td>\n",
       "    </tr>\n",
       "    <tr>\n",
       "      <th>3523</th>\n",
       "      <td>2.89</td>\n",
       "    </tr>\n",
       "    <tr>\n",
       "      <th>811</th>\n",
       "      <td>2.89</td>\n",
       "    </tr>\n",
       "  </tbody>\n",
       "</table>\n",
       "</div>"
      ],
      "text/plain": [
       "       pred_score\n",
       "beer             \n",
       "387          2.90\n",
       "236          2.90\n",
       "1658         2.90\n",
       "30282        2.90\n",
       "39286        2.89\n",
       "73           2.89\n",
       "361          2.89\n",
       "402          2.89\n",
       "3523         2.89\n",
       "811          2.89"
      ]
     },
     "execution_count": 113,
     "metadata": {},
     "output_type": "execute_result"
    }
   ],
   "source": [
    "# 아이템 기반의 인접 이웃 협업 필터링으로 영화 추천 \n",
    "recomm_beer = recomm_beer_by_userid(ratings_pred_matrix, 9, n=10)\n",
    "\n",
    "# 평점 데이타를 DataFrame으로 생성. \n",
    "recomm_beer = pd.DataFrame(data=recomm_beer.values,index=recomm_beer.index,columns=['pred_score'])\n",
    "recomm_beer"
   ]
  },
  {
   "cell_type": "markdown",
   "metadata": {},
   "source": [
    "# Surprise 패키지를 이용한 추천 시스템\n",
    "> surprise.KNNWithMean"
   ]
  },
  {
   "cell_type": "code",
   "execution_count": 8,
   "metadata": {},
   "outputs": [],
   "source": [
    "import surprise\n",
    "from surprise import KNNBasic\n",
    "from surprise import Dataset                                                     \n",
    "from surprise import Reader                                                      \n",
    "from surprise import dump\n",
    "from surprise.accuracy import rmse\n",
    "from surprise.model_selection import cross_validate\n",
    "from surprise.model_selection import KFold\n",
    "\n",
    "reader = surprise.reader.Reader()\n",
    "data_sur = surprise.Dataset.load_from_df(data,reader)"
   ]
  },
  {
   "cell_type": "markdown",
   "metadata": {},
   "source": [
    "사용 알고리즘\n",
    "1. SGD (Stochastic Gradient Descent)\n",
    "    - reg: 정규화 가중치. 디폴트는 0.02.\n",
    "    - learning_rate: 최적화 스텝 사이즈. 디폴트는 0.005.\n",
    "    - n_epochs: 최적화 반복 횟수. 디폴트는 20.\n",
    "2. ALS (Alternating Least Squares)의 인수\n",
    "    - reg_i: 상품에 대한 정규화 가중치. 디폴트는 10.\n",
    "    - reg_u: 사용자에 대한 정규화 가중치. 디폴트는 15.\n",
    "    - n_epochs: 최적화 반복 횟수. 디폴트는 10."
   ]
  },
  {
   "cell_type": "code",
   "execution_count": 132,
   "metadata": {},
   "outputs": [
    {
     "name": "stdout",
     "output_type": "stream",
     "text": [
      "Estimating biases using als...\n",
      "Estimating biases using als...\n",
      "Estimating biases using als...\n",
      "Estimating biases using als...\n",
      "Estimating biases using als...\n"
     ]
    },
    {
     "data": {
      "text/plain": [
       "{'test_rmse': array([0.33839486, 0.34038126, 0.33549609, 0.33660388, 0.33660952]),\n",
       " 'test_mae': array([0.24237791, 0.24322351, 0.24058372, 0.24007929, 0.24056748]),\n",
       " 'fit_time': (0.20020794868469238,\n",
       "  0.20339655876159668,\n",
       "  0.20307564735412598,\n",
       "  0.20311594009399414,\n",
       "  0.21645188331604004),\n",
       " 'test_time': (0.14975404739379883,\n",
       "  0.10935068130493164,\n",
       "  0.24921202659606934,\n",
       "  0.13941311836242676,\n",
       "  0.1545560359954834)}"
      ]
     },
     "execution_count": 132,
     "metadata": {},
     "output_type": "execute_result"
    }
   ],
   "source": [
    "algo = surprise.BaselineOnly()\n",
    "\n",
    "np.random.seed(0)\n",
    "cross_validate(algo, data_sur)"
   ]
  },
  {
   "cell_type": "markdown",
   "metadata": {},
   "source": [
    "#### MSD 유사도"
   ]
  },
  {
   "cell_type": "code",
   "execution_count": 145,
   "metadata": {},
   "outputs": [
    {
     "name": "stdout",
     "output_type": "stream",
     "text": [
      "Computing the msd similarity matrix...\n",
      "Done computing similarity matrix.\n",
      "Computing the msd similarity matrix...\n",
      "Done computing similarity matrix.\n",
      "Computing the msd similarity matrix...\n",
      "Done computing similarity matrix.\n",
      "Computing the msd similarity matrix...\n",
      "Done computing similarity matrix.\n",
      "Computing the msd similarity matrix...\n",
      "Done computing similarity matrix.\n"
     ]
    },
    {
     "data": {
      "text/plain": [
       "0.2367914965344077"
      ]
     },
     "execution_count": 145,
     "metadata": {},
     "output_type": "execute_result"
    }
   ],
   "source": [
    "sim_options = {'name': 'msd'}\n",
    "algo = surprise.KNNWithMeans(sim_options=sim_options)\n",
    "cross_validate(algo, data_sur)[\"test_mae\"].mean()"
   ]
  },
  {
   "cell_type": "markdown",
   "metadata": {},
   "source": [
    "#### 코사인 유사도"
   ]
  },
  {
   "cell_type": "code",
   "execution_count": 146,
   "metadata": {},
   "outputs": [
    {
     "name": "stdout",
     "output_type": "stream",
     "text": [
      "Computing the cosine similarity matrix...\n",
      "Done computing similarity matrix.\n",
      "Computing the cosine similarity matrix...\n",
      "Done computing similarity matrix.\n",
      "Computing the cosine similarity matrix...\n",
      "Done computing similarity matrix.\n",
      "Computing the cosine similarity matrix...\n",
      "Done computing similarity matrix.\n",
      "Computing the cosine similarity matrix...\n",
      "Done computing similarity matrix.\n"
     ]
    },
    {
     "data": {
      "text/plain": [
       "0.24067745768545593"
      ]
     },
     "execution_count": 146,
     "metadata": {},
     "output_type": "execute_result"
    }
   ],
   "source": [
    "sim_options = {'name': 'cosine'}\n",
    "algo = surprise.KNNWithMeans(sim_options=sim_options)\n",
    "cross_validate(algo, data_sur)[\"test_mae\"].mean()"
   ]
  },
  {
   "cell_type": "markdown",
   "metadata": {},
   "source": [
    "#### 피어슨 유사도"
   ]
  },
  {
   "cell_type": "code",
   "execution_count": 147,
   "metadata": {},
   "outputs": [
    {
     "name": "stdout",
     "output_type": "stream",
     "text": [
      "Computing the pearson similarity matrix...\n",
      "Done computing similarity matrix.\n",
      "Computing the pearson similarity matrix...\n",
      "Done computing similarity matrix.\n",
      "Computing the pearson similarity matrix...\n",
      "Done computing similarity matrix.\n",
      "Computing the pearson similarity matrix...\n",
      "Done computing similarity matrix.\n",
      "Computing the pearson similarity matrix...\n",
      "Done computing similarity matrix.\n"
     ]
    },
    {
     "data": {
      "text/plain": [
       "0.23701753238893414"
      ]
     },
     "execution_count": 147,
     "metadata": {},
     "output_type": "execute_result"
    }
   ],
   "source": [
    "sim_options = {'name': 'pearson'}\n",
    "algo = surprise.KNNWithMeans(sim_options=sim_options)\n",
    "cross_validate(algo, data_sur)[\"test_mae\"].mean()"
   ]
  },
  {
   "cell_type": "markdown",
   "metadata": {},
   "source": [
    "#### 피어슨-baseline 유사도"
   ]
  },
  {
   "cell_type": "code",
   "execution_count": 136,
   "metadata": {},
   "outputs": [
    {
     "name": "stdout",
     "output_type": "stream",
     "text": [
      "Estimating biases using als...\n",
      "Computing the pearson_baseline similarity matrix...\n",
      "Done computing similarity matrix.\n",
      "Estimating biases using als...\n",
      "Computing the pearson_baseline similarity matrix...\n",
      "Done computing similarity matrix.\n",
      "Estimating biases using als...\n",
      "Computing the pearson_baseline similarity matrix...\n",
      "Done computing similarity matrix.\n",
      "Estimating biases using als...\n",
      "Computing the pearson_baseline similarity matrix...\n",
      "Done computing similarity matrix.\n",
      "Estimating biases using als...\n",
      "Computing the pearson_baseline similarity matrix...\n",
      "Done computing similarity matrix.\n"
     ]
    },
    {
     "data": {
      "text/plain": [
       "0.28245169688879995"
      ]
     },
     "execution_count": 136,
     "metadata": {},
     "output_type": "execute_result"
    }
   ],
   "source": [
    "sim_options = {'name': 'pearson_baseline'}\n",
    "algo = surprise.KNNBasic(sim_options=sim_options)\n",
    "cross_validate(algo, data_sur)[\"test_mae\"].mean()"
   ]
  },
  {
   "cell_type": "markdown",
   "metadata": {},
   "source": [
    "### KNNWithMean"
   ]
  },
  {
   "cell_type": "code",
   "execution_count": 137,
   "metadata": {},
   "outputs": [
    {
     "name": "stdout",
     "output_type": "stream",
     "text": [
      "Estimating biases using als...\n",
      "Computing the pearson_baseline similarity matrix...\n",
      "Done computing similarity matrix.\n",
      "Estimating biases using als...\n",
      "Computing the pearson_baseline similarity matrix...\n",
      "Done computing similarity matrix.\n",
      "Estimating biases using als...\n",
      "Computing the pearson_baseline similarity matrix...\n",
      "Done computing similarity matrix.\n",
      "Estimating biases using als...\n",
      "Computing the pearson_baseline similarity matrix...\n",
      "Done computing similarity matrix.\n",
      "Estimating biases using als...\n",
      "Computing the pearson_baseline similarity matrix...\n",
      "Done computing similarity matrix.\n"
     ]
    },
    {
     "data": {
      "text/plain": [
       "0.23529248465954233"
      ]
     },
     "execution_count": 137,
     "metadata": {},
     "output_type": "execute_result"
    }
   ],
   "source": [
    "sim_options = {'name': 'pearson_baseline'}\n",
    "algo = surprise.KNNWithMeans(sim_options=sim_options)\n",
    "cross_validate(algo, data_sur)[\"test_mae\"].mean()"
   ]
  },
  {
   "cell_type": "markdown",
   "metadata": {},
   "source": [
    "### 코사인 유사도로 KNN사용하여 예측 모델 구축하기"
   ]
  },
  {
   "cell_type": "code",
   "execution_count": 9,
   "metadata": {},
   "outputs": [],
   "source": [
    "from surprise import accuracy \n",
    "from surprise.model_selection import train_test_split"
   ]
  },
  {
   "cell_type": "code",
   "execution_count": 10,
   "metadata": {},
   "outputs": [],
   "source": [
    "trainset, testset = train_test_split(data_sur, test_size=.25, random_state=0)"
   ]
  },
  {
   "cell_type": "code",
   "execution_count": 12,
   "metadata": {},
   "outputs": [
    {
     "name": "stdout",
     "output_type": "stream",
     "text": [
      "Computing the cosine similarity matrix...\n",
      "Done computing similarity matrix.\n"
     ]
    },
    {
     "data": {
      "text/plain": [
       "<surprise.prediction_algorithms.knns.KNNWithMeans at 0x2d5d3c94390>"
      ]
     },
     "execution_count": 12,
     "metadata": {},
     "output_type": "execute_result"
    }
   ],
   "source": [
    "sim_options = {'name': 'cosine'}\n",
    "algo = surprise.KNNWithMeans(sim_options=sim_options) #KNN 사용하기\n",
    "algo.fit(trainset)"
   ]
  },
  {
   "cell_type": "code",
   "execution_count": 13,
   "metadata": {},
   "outputs": [
    {
     "name": "stdout",
     "output_type": "stream",
     "text": [
      "prediction type : <class 'list'>  size: 25473\n",
      "prediction 결과의 최초 5개 추출\n"
     ]
    },
    {
     "data": {
      "text/plain": [
       "[Prediction(uid=80197, iid='mig100', r_ui=4.4, est=4.34157425430072, details={'actual_k': 40, 'was_impossible': False}),\n",
       " Prediction(uid=6518, iid='BEERMILER12', r_ui=3.88, est=4.064421583682428, details={'actual_k': 40, 'was_impossible': False}),\n",
       " Prediction(uid=152542, iid='Beginner2', r_ui=3.85, est=3.7943872572602673, details={'actual_k': 40, 'was_impossible': False}),\n",
       " Prediction(uid=580, iid='IckyT2012', r_ui=2.8, est=2.7156434748970293, details={'actual_k': 40, 'was_impossible': False}),\n",
       " Prediction(uid=3457, iid='smcolw', r_ui=4.2, est=3.9459584304856, details={'actual_k': 40, 'was_impossible': False})]"
      ]
     },
     "execution_count": 13,
     "metadata": {},
     "output_type": "execute_result"
    }
   ],
   "source": [
    "predictions = algo.test( testset ) \n",
    "print('prediction type :',type(predictions), ' size:',len(predictions)) # 예측값은 list형식의 instance로 반환되며 총 25000개의 length를 가짐\n",
    "print('prediction 결과의 최초 5개 추출') #상위 5개 목록 출력\n",
    "predictions[:5]"
   ]
  },
  {
   "cell_type": "code",
   "execution_count": 14,
   "metadata": {},
   "outputs": [
    {
     "data": {
      "text/plain": [
       "[(80197, 'mig100', 4.34157425430072),\n",
       " (6518, 'BEERMILER12', 4.064421583682428),\n",
       " (152542, 'Beginner2', 3.7943872572602673)]"
      ]
     },
     "execution_count": 14,
     "metadata": {},
     "output_type": "execute_result"
    }
   ],
   "source": [
    "[ (pred.uid, pred.iid, pred.est) for pred in predictions[:3] ] # userID, ItemID, 예상 score - 'mig100' user는 80197번 맥주에 4.34점을 줄 것으로 예측"
   ]
  },
  {
   "cell_type": "code",
   "execution_count": 15,
   "metadata": {},
   "outputs": [
    {
     "name": "stdout",
     "output_type": "stream",
     "text": [
      "RMSE: 0.3366\n"
     ]
    },
    {
     "data": {
      "text/plain": [
       "0.33664718360906354"
      ]
     },
     "execution_count": 15,
     "metadata": {},
     "output_type": "execute_result"
    }
   ],
   "source": [
    "accuracy.rmse(predictions) "
   ]
  },
  {
   "cell_type": "markdown",
   "metadata": {},
   "source": [
    "### 특정 user가 특정 item에 몇 점을 줄 것인지 예측하기"
   ]
  },
  {
   "cell_type": "code",
   "execution_count": 16,
   "metadata": {},
   "outputs": [],
   "source": [
    "def pred_user_item(uid,iid):\n",
    "    uid = str(uid) # 사용자 아이디, 아이템 아이디는 문자열로 입력해야 함.\n",
    "    iid = str(iid)\n",
    "    pred = algo.predict(uid, iid) #아무거나 userID와 ItemID를 입력하면 해당 유저가 해당 영화에 몇점을 줄 것인지 출력하는 프로세스\n",
    "    \n",
    "    print(pred)"
   ]
  }
 ],
 "metadata": {
  "kernelspec": {
   "display_name": "Python 3",
   "language": "python",
   "name": "python3"
  },
  "language_info": {
   "codemirror_mode": {
    "name": "ipython",
    "version": 3
   },
   "file_extension": ".py",
   "mimetype": "text/x-python",
   "name": "python",
   "nbconvert_exporter": "python",
   "pygments_lexer": "ipython3",
   "version": "3.7.3"
  }
 },
 "nbformat": 4,
 "nbformat_minor": 2
}
