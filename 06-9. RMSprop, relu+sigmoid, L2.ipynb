{
 "cells": [
  {
   "cell_type": "code",
   "execution_count": 1,
   "metadata": {
    "ExecuteTime": {
     "end_time": "2019-11-27T16:41:01.694377Z",
     "start_time": "2019-11-27T16:40:54.210691Z"
    }
   },
   "outputs": [],
   "source": [
    "%matplotlib inline\n",
    "import matplotlib.pyplot as plt\n",
    "import numpy as np\n",
    "import pandas as pd\n",
    "import seaborn as sns\n",
    "from sklearn.model_selection import train_test_split\n",
    "from sklearn.preprocessing import LabelEncoder\n",
    "from sklearn.decomposition import PCA"
   ]
  },
  {
   "cell_type": "code",
   "execution_count": 2,
   "metadata": {
    "ExecuteTime": {
     "end_time": "2019-11-27T16:41:26.091872Z",
     "start_time": "2019-11-27T16:41:07.516688Z"
    }
   },
   "outputs": [
    {
     "data": {
      "text/html": [
       "<div>\n",
       "<style scoped>\n",
       "    .dataframe tbody tr th:only-of-type {\n",
       "        vertical-align: middle;\n",
       "    }\n",
       "\n",
       "    .dataframe tbody tr th {\n",
       "        vertical-align: top;\n",
       "    }\n",
       "\n",
       "    .dataframe thead th {\n",
       "        text-align: right;\n",
       "    }\n",
       "</style>\n",
       "<table border=\"1\" class=\"dataframe\">\n",
       "  <thead>\n",
       "    <tr style=\"text-align: right;\">\n",
       "      <th></th>\n",
       "      <th>beer_id</th>\n",
       "      <th>username</th>\n",
       "      <th>date</th>\n",
       "      <th>text</th>\n",
       "      <th>look</th>\n",
       "      <th>smell</th>\n",
       "      <th>taste</th>\n",
       "      <th>feel</th>\n",
       "      <th>overall</th>\n",
       "      <th>score</th>\n",
       "    </tr>\n",
       "  </thead>\n",
       "  <tbody>\n",
       "    <tr>\n",
       "      <td>0</td>\n",
       "      <td>271781</td>\n",
       "      <td>bluejacket74</td>\n",
       "      <td>2017-03-17</td>\n",
       "      <td>750 ml bottle, 2016 vintage, bottle #304 of...</td>\n",
       "      <td>4.00</td>\n",
       "      <td>4.00</td>\n",
       "      <td>4.00</td>\n",
       "      <td>4.25</td>\n",
       "      <td>4.00</td>\n",
       "      <td>4.03</td>\n",
       "    </tr>\n",
       "    <tr>\n",
       "      <td>1</td>\n",
       "      <td>125646</td>\n",
       "      <td>_dirty_</td>\n",
       "      <td>2017-12-21</td>\n",
       "      <td></td>\n",
       "      <td>4.50</td>\n",
       "      <td>4.50</td>\n",
       "      <td>4.50</td>\n",
       "      <td>4.50</td>\n",
       "      <td>4.50</td>\n",
       "      <td>4.50</td>\n",
       "    </tr>\n",
       "    <tr>\n",
       "      <td>2</td>\n",
       "      <td>125646</td>\n",
       "      <td>CJDUBYA</td>\n",
       "      <td>2017-12-21</td>\n",
       "      <td></td>\n",
       "      <td>4.75</td>\n",
       "      <td>4.75</td>\n",
       "      <td>4.75</td>\n",
       "      <td>4.75</td>\n",
       "      <td>4.75</td>\n",
       "      <td>4.75</td>\n",
       "    </tr>\n",
       "    <tr>\n",
       "      <td>3</td>\n",
       "      <td>125646</td>\n",
       "      <td>GratefulBeerGuy</td>\n",
       "      <td>2017-12-20</td>\n",
       "      <td>0% 16 oz can. Funny story: As I finally wal...</td>\n",
       "      <td>4.75</td>\n",
       "      <td>4.75</td>\n",
       "      <td>4.50</td>\n",
       "      <td>4.50</td>\n",
       "      <td>4.50</td>\n",
       "      <td>4.58</td>\n",
       "    </tr>\n",
       "    <tr>\n",
       "      <td>4</td>\n",
       "      <td>125646</td>\n",
       "      <td>LukeGude</td>\n",
       "      <td>2017-12-20</td>\n",
       "      <td>Classic TH NEIPA. Overflowing head and bouq...</td>\n",
       "      <td>4.25</td>\n",
       "      <td>4.50</td>\n",
       "      <td>4.25</td>\n",
       "      <td>4.25</td>\n",
       "      <td>4.25</td>\n",
       "      <td>4.31</td>\n",
       "    </tr>\n",
       "  </tbody>\n",
       "</table>\n",
       "</div>"
      ],
      "text/plain": [
       "   beer_id         username        date  \\\n",
       "0   271781     bluejacket74  2017-03-17   \n",
       "1   125646          _dirty_  2017-12-21   \n",
       "2   125646          CJDUBYA  2017-12-21   \n",
       "3   125646  GratefulBeerGuy  2017-12-20   \n",
       "4   125646         LukeGude  2017-12-20   \n",
       "\n",
       "                                                text  look  smell  taste  \\\n",
       "0     750 ml bottle, 2016 vintage, bottle #304 of...  4.00   4.00   4.00   \n",
       "1                                                     4.50   4.50   4.50   \n",
       "2                                                     4.75   4.75   4.75   \n",
       "3     0% 16 oz can. Funny story: As I finally wal...  4.75   4.75   4.50   \n",
       "4     Classic TH NEIPA. Overflowing head and bouq...  4.25   4.50   4.25   \n",
       "\n",
       "   feel  overall  score  \n",
       "0  4.25     4.00   4.03  \n",
       "1  4.50     4.50   4.50  \n",
       "2  4.75     4.75   4.75  \n",
       "3  4.50     4.50   4.58  \n",
       "4  4.25     4.25   4.31  "
      ]
     },
     "execution_count": 2,
     "metadata": {},
     "output_type": "execute_result"
    }
   ],
   "source": [
    "df = pd.read_csv('reviews.csv')\n",
    "df.head()"
   ]
  },
  {
   "cell_type": "code",
   "execution_count": 3,
   "metadata": {
    "ExecuteTime": {
     "end_time": "2019-11-27T16:42:31.199539Z",
     "start_time": "2019-11-27T16:42:31.197539Z"
    }
   },
   "outputs": [
    {
     "name": "stdout",
     "output_type": "stream",
     "text": [
      "(9073128, 10)\n"
     ]
    }
   ],
   "source": [
    "print(df.shape) #원본 데이터 900만개를 사용"
   ]
  },
  {
   "cell_type": "code",
   "execution_count": 4,
   "metadata": {
    "ExecuteTime": {
     "end_time": "2019-11-27T16:42:35.466500Z",
     "start_time": "2019-11-27T16:42:35.277458Z"
    }
   },
   "outputs": [
    {
     "data": {
      "text/html": [
       "<div>\n",
       "<style scoped>\n",
       "    .dataframe tbody tr th:only-of-type {\n",
       "        vertical-align: middle;\n",
       "    }\n",
       "\n",
       "    .dataframe tbody tr th {\n",
       "        vertical-align: top;\n",
       "    }\n",
       "\n",
       "    .dataframe thead th {\n",
       "        text-align: right;\n",
       "    }\n",
       "</style>\n",
       "<table border=\"1\" class=\"dataframe\">\n",
       "  <thead>\n",
       "    <tr style=\"text-align: right;\">\n",
       "      <th></th>\n",
       "      <th>beerid</th>\n",
       "      <th>userid</th>\n",
       "      <th>rating</th>\n",
       "    </tr>\n",
       "  </thead>\n",
       "  <tbody>\n",
       "    <tr>\n",
       "      <td>0</td>\n",
       "      <td>271781</td>\n",
       "      <td>bluejacket74</td>\n",
       "      <td>4.03</td>\n",
       "    </tr>\n",
       "    <tr>\n",
       "      <td>1</td>\n",
       "      <td>125646</td>\n",
       "      <td>_dirty_</td>\n",
       "      <td>4.50</td>\n",
       "    </tr>\n",
       "    <tr>\n",
       "      <td>2</td>\n",
       "      <td>125646</td>\n",
       "      <td>CJDUBYA</td>\n",
       "      <td>4.75</td>\n",
       "    </tr>\n",
       "    <tr>\n",
       "      <td>3</td>\n",
       "      <td>125646</td>\n",
       "      <td>GratefulBeerGuy</td>\n",
       "      <td>4.58</td>\n",
       "    </tr>\n",
       "    <tr>\n",
       "      <td>4</td>\n",
       "      <td>125646</td>\n",
       "      <td>LukeGude</td>\n",
       "      <td>4.31</td>\n",
       "    </tr>\n",
       "  </tbody>\n",
       "</table>\n",
       "</div>"
      ],
      "text/plain": [
       "   beerid           userid  rating\n",
       "0  271781     bluejacket74    4.03\n",
       "1  125646          _dirty_    4.50\n",
       "2  125646          CJDUBYA    4.75\n",
       "3  125646  GratefulBeerGuy    4.58\n",
       "4  125646         LukeGude    4.31"
      ]
     },
     "execution_count": 4,
     "metadata": {},
     "output_type": "execute_result"
    }
   ],
   "source": [
    "#잠깐 전처리\n",
    "\n",
    "cols = ['beer_id','username','score']\n",
    "df = df[cols]\n",
    "df.rename(columns = {'beer_id':'beerid','username':'userid','score':'rating'}, inplace = True)\n",
    "df.head()"
   ]
  },
  {
   "cell_type": "code",
   "execution_count": 5,
   "metadata": {
    "ExecuteTime": {
     "end_time": "2019-11-27T16:42:43.052209Z",
     "start_time": "2019-11-27T16:42:38.373155Z"
    }
   },
   "outputs": [],
   "source": [
    "#딥러닝에 이용할 컬럼 변경: user, beer, rating\n",
    "\n",
    "user_enc = LabelEncoder()\n",
    "uid = df['userid'].values\n",
    "df['user'] = user_enc.fit_transform(uid.tolist()) #array 인식이 안돼서 list로 빼냄.(userid의 경우만 오류 발생)\n",
    "n_users = df['user'].nunique()"
   ]
  },
  {
   "cell_type": "code",
   "execution_count": 6,
   "metadata": {},
   "outputs": [
    {
     "data": {
      "text/plain": [
       "(164935, 309542, 1.0, 5.0)"
      ]
     },
     "execution_count": 6,
     "metadata": {},
     "output_type": "execute_result"
    }
   ],
   "source": [
    "item_enc = LabelEncoder()\n",
    "df['beer'] = item_enc.fit_transform(df['beerid'].values)\n",
    "n_beers = df['beer'].nunique()\n",
    "\n",
    "df['rating'] = df['rating'].values.astype(np.float32)\n",
    "min_rating = min(df['rating'])\n",
    "max_rating = max(df['rating'])\n",
    "\n",
    "n_users, n_beers, min_rating, max_rating #n_users, n_beers: 유니크한 값 개수, rating의 최솟값과 최댓값."
   ]
  },
  {
   "cell_type": "code",
   "execution_count": 7,
   "metadata": {
    "ExecuteTime": {
     "end_time": "2019-11-27T16:42:46.866068Z",
     "start_time": "2019-11-27T16:42:46.855069Z"
    }
   },
   "outputs": [
    {
     "data": {
      "text/html": [
       "<div>\n",
       "<style scoped>\n",
       "    .dataframe tbody tr th:only-of-type {\n",
       "        vertical-align: middle;\n",
       "    }\n",
       "\n",
       "    .dataframe tbody tr th {\n",
       "        vertical-align: top;\n",
       "    }\n",
       "\n",
       "    .dataframe thead th {\n",
       "        text-align: right;\n",
       "    }\n",
       "</style>\n",
       "<table border=\"1\" class=\"dataframe\">\n",
       "  <thead>\n",
       "    <tr style=\"text-align: right;\">\n",
       "      <th></th>\n",
       "      <th>user</th>\n",
       "      <th>beer</th>\n",
       "      <th>rating</th>\n",
       "    </tr>\n",
       "  </thead>\n",
       "  <tbody>\n",
       "    <tr>\n",
       "      <td>0</td>\n",
       "      <td>102213</td>\n",
       "      <td>231507</td>\n",
       "      <td>4.03</td>\n",
       "    </tr>\n",
       "    <tr>\n",
       "      <td>1</td>\n",
       "      <td>94429</td>\n",
       "      <td>112229</td>\n",
       "      <td>4.50</td>\n",
       "    </tr>\n",
       "    <tr>\n",
       "      <td>2</td>\n",
       "      <td>15635</td>\n",
       "      <td>112229</td>\n",
       "      <td>4.75</td>\n",
       "    </tr>\n",
       "    <tr>\n",
       "      <td>3</td>\n",
       "      <td>34826</td>\n",
       "      <td>112229</td>\n",
       "      <td>4.58</td>\n",
       "    </tr>\n",
       "    <tr>\n",
       "      <td>4</td>\n",
       "      <td>55007</td>\n",
       "      <td>112229</td>\n",
       "      <td>4.31</td>\n",
       "    </tr>\n",
       "  </tbody>\n",
       "</table>\n",
       "</div>"
      ],
      "text/plain": [
       "     user    beer  rating\n",
       "0  102213  231507    4.03\n",
       "1   94429  112229    4.50\n",
       "2   15635  112229    4.75\n",
       "3   34826  112229    4.58\n",
       "4   55007  112229    4.31"
      ]
     },
     "execution_count": 7,
     "metadata": {},
     "output_type": "execute_result"
    }
   ],
   "source": [
    "df2=df[['user','beer','rating']] \n",
    "df2.head() #완료된 데이터셋. 여기서 'user','beer','rating'만 사용"
   ]
  },
  {
   "cell_type": "code",
   "execution_count": 8,
   "metadata": {
    "ExecuteTime": {
     "end_time": "2019-11-27T16:42:50.351854Z",
     "start_time": "2019-11-27T16:42:49.645695Z"
    }
   },
   "outputs": [
    {
     "data": {
      "text/plain": [
       "((7258502, 2), (1814626, 2), (7258502,), (1814626,))"
      ]
     },
     "execution_count": 8,
     "metadata": {},
     "output_type": "execute_result"
    }
   ],
   "source": [
    "#train, test 셋 분할: test size는 0.2, random_state는 임의로 지정\n",
    "X = df[['user', 'beer']].values\n",
    "y = df['rating'].values\n",
    "\n",
    "X_train, X_test, y_train, y_test = train_test_split(X, y, test_size=0.2, random_state=42)\n",
    "\n",
    "X_train.shape, X_test.shape, y_train.shape, y_test.shape"
   ]
  },
  {
   "cell_type": "code",
   "execution_count": 9,
   "metadata": {
    "ExecuteTime": {
     "end_time": "2019-11-27T16:42:54.302743Z",
     "start_time": "2019-11-27T16:42:54.300743Z"
    }
   },
   "outputs": [],
   "source": [
    "#딥러닝 모델을 만들 때 필요한 또다른 변수는: 잠재요인의 개수를 정하는 것!\n",
    "#잠재요인의 개수는 원하는 대로 설정하면 되지만, 주의할 것은 user와 beer 모두에 대해 같은 사이즈를 줘야 한다는 점.\n",
    "\n",
    "#우리는 50개로 간다!(X에 대해서만 적용)\n",
    "n_factors = 50\n",
    "\n",
    "#X를 array로 만들기\n",
    "X_train_array = [X_train[:, 0], X_train[:, 1]]\n",
    "X_test_array = [X_test[:, 0], X_test[:, 1]]"
   ]
  },
  {
   "cell_type": "code",
   "execution_count": 10,
   "metadata": {},
   "outputs": [
    {
     "data": {
      "text/html": [
       "<div>\n",
       "<style scoped>\n",
       "    .dataframe tbody tr th:only-of-type {\n",
       "        vertical-align: middle;\n",
       "    }\n",
       "\n",
       "    .dataframe tbody tr th {\n",
       "        vertical-align: top;\n",
       "    }\n",
       "\n",
       "    .dataframe thead th {\n",
       "        text-align: right;\n",
       "    }\n",
       "</style>\n",
       "<table border=\"1\" class=\"dataframe\">\n",
       "  <thead>\n",
       "    <tr style=\"text-align: right;\">\n",
       "      <th></th>\n",
       "      <th>id</th>\n",
       "      <th>name</th>\n",
       "      <th>brewery_id</th>\n",
       "      <th>state</th>\n",
       "      <th>country</th>\n",
       "      <th>style</th>\n",
       "      <th>availability</th>\n",
       "      <th>abv</th>\n",
       "      <th>notes</th>\n",
       "      <th>retired</th>\n",
       "    </tr>\n",
       "  </thead>\n",
       "  <tbody>\n",
       "    <tr>\n",
       "      <td>0</td>\n",
       "      <td>202522</td>\n",
       "      <td>Olde Cogitator</td>\n",
       "      <td>2199</td>\n",
       "      <td>CA</td>\n",
       "      <td>US</td>\n",
       "      <td>English Oatmeal Stout</td>\n",
       "      <td>Rotating</td>\n",
       "      <td>7.3</td>\n",
       "      <td>No notes at this time.</td>\n",
       "      <td>f</td>\n",
       "    </tr>\n",
       "    <tr>\n",
       "      <td>1</td>\n",
       "      <td>82352</td>\n",
       "      <td>Konrads Stout Russian Imperial Stout</td>\n",
       "      <td>18604</td>\n",
       "      <td>NaN</td>\n",
       "      <td>NO</td>\n",
       "      <td>Russian Imperial Stout</td>\n",
       "      <td>Rotating</td>\n",
       "      <td>10.4</td>\n",
       "      <td>No notes at this time.</td>\n",
       "      <td>f</td>\n",
       "    </tr>\n",
       "    <tr>\n",
       "      <td>2</td>\n",
       "      <td>214879</td>\n",
       "      <td>Scottish Right</td>\n",
       "      <td>44306</td>\n",
       "      <td>IN</td>\n",
       "      <td>US</td>\n",
       "      <td>Scottish Ale</td>\n",
       "      <td>Year-round</td>\n",
       "      <td>4.0</td>\n",
       "      <td>No notes at this time.</td>\n",
       "      <td>t</td>\n",
       "    </tr>\n",
       "    <tr>\n",
       "      <td>3</td>\n",
       "      <td>320009</td>\n",
       "      <td>MegaMeow Imperial Stout</td>\n",
       "      <td>4378</td>\n",
       "      <td>WA</td>\n",
       "      <td>US</td>\n",
       "      <td>American Imperial Stout</td>\n",
       "      <td>Winter</td>\n",
       "      <td>8.7</td>\n",
       "      <td>Every time this year</td>\n",
       "      <td>f</td>\n",
       "    </tr>\n",
       "    <tr>\n",
       "      <td>4</td>\n",
       "      <td>246438</td>\n",
       "      <td>Peaches-N-Cream</td>\n",
       "      <td>44617</td>\n",
       "      <td>PA</td>\n",
       "      <td>US</td>\n",
       "      <td>American Cream Ale</td>\n",
       "      <td>Rotating</td>\n",
       "      <td>5.1</td>\n",
       "      <td>No notes at this time.</td>\n",
       "      <td>f</td>\n",
       "    </tr>\n",
       "  </tbody>\n",
       "</table>\n",
       "</div>"
      ],
      "text/plain": [
       "       id                                  name  brewery_id state country  \\\n",
       "0  202522                        Olde Cogitator        2199    CA      US   \n",
       "1   82352  Konrads Stout Russian Imperial Stout       18604   NaN      NO   \n",
       "2  214879                        Scottish Right       44306    IN      US   \n",
       "3  320009               MegaMeow Imperial Stout        4378    WA      US   \n",
       "4  246438                       Peaches-N-Cream       44617    PA      US   \n",
       "\n",
       "                     style availability   abv                   notes retired  \n",
       "0    English Oatmeal Stout     Rotating   7.3  No notes at this time.       f  \n",
       "1   Russian Imperial Stout     Rotating  10.4  No notes at this time.       f  \n",
       "2             Scottish Ale   Year-round   4.0  No notes at this time.       t  \n",
       "3  American Imperial Stout       Winter   8.7    Every time this year       f  \n",
       "4       American Cream Ale     Rotating   5.1  No notes at this time.       f  "
      ]
     },
     "execution_count": 10,
     "metadata": {},
     "output_type": "execute_result"
    }
   ],
   "source": [
    "beers = pd.read_csv('beers.csv')\n",
    "beers.head()"
   ]
  },
  {
   "cell_type": "code",
   "execution_count": 11,
   "metadata": {},
   "outputs": [],
   "source": [
    "## create a dictionary out of beerid, beer original title\n",
    "beers_dict = beers.set_index('id')['name'].to_dict()"
   ]
  },
  {
   "cell_type": "code",
   "execution_count": 12,
   "metadata": {},
   "outputs": [],
   "source": [
    "##시각화(각 epoch마다의 MSE, MAE 값 비교)\n",
    "\n",
    "def plot_history(hist):\n",
    "    \n",
    "    plt.figure(figsize=(10,15))\n",
    "\n",
    "    plt.subplot(2,1,1)\n",
    "    plt.xlabel('Epoch')\n",
    "    plt.ylabel('Mean Abs Error [rating]')\n",
    "    plt.plot(hist['epoch'], hist['mae'], label='Train Error')\n",
    "    plt.plot(hist['epoch'], hist['val_mae'],label = 'Test Error')\n",
    "    plt.legend()\n",
    "\n",
    "    plt.subplot(2,1,2)\n",
    "    plt.xlabel('Epoch')\n",
    "    plt.ylabel('Mean Square Error [$rating^2$]')\n",
    "    plt.plot(hist['epoch'], hist['mse'], label='Train Error')\n",
    "    plt.plot(hist['epoch'], hist['val_mse'],label = 'Test Error')\n",
    "    plt.legend()\n",
    "    plt.show()\n"
   ]
  },
  {
   "cell_type": "markdown",
   "metadata": {},
   "source": [
    "# Recommdation System using Keras \n",
    "- 각 유저와 각 맥주를 나타내기 위해 'embedding'이라는 것을 활용한다.->(설명부분 캡처)\n",
    "- 'embeddings'는 벡터이다(n_factor 사이즈의). 시작은 랜덤한 숫자로 가고, 각 유저/맥주의 필수적인 특징을 잡으면 fit model을 해보자.\n",
    "- fit model 과정) 유저 벡터와 맥주 벡터를 스칼라곱(dot product)하여 예측 평점을 계산함.\n",
    "- 이를 위해선 유니크한 유저 수와 맥주 수가 필요, -> 각각의 embedding matrix의 사이즈를 정의하기 위함."
   ]
  },
  {
   "cell_type": "code",
   "execution_count": 13,
   "metadata": {
    "ExecuteTime": {
     "end_time": "2019-11-27T16:43:14.561307Z",
     "start_time": "2019-11-27T16:43:05.998377Z"
    }
   },
   "outputs": [
    {
     "name": "stderr",
     "output_type": "stream",
     "text": [
      "Using TensorFlow backend.\n"
     ]
    }
   ],
   "source": [
    "#keras 라이브러리 로드\n",
    "from keras.models import Model\n",
    "from keras.layers import Input, Reshape, Dot\n",
    "from keras.layers import Embedding, Dense, Dropout\n",
    "from keras.optimizers import Adam\n",
    "from keras.regularizers import l2\n",
    "from keras.layers import Add, Activation, Lambda, Concatenate"
   ]
  },
  {
   "cell_type": "markdown",
   "metadata": {},
   "source": [
    "# 옵티마이저: RMSprop이 더 성능 좋았으므로, 이걸로 돌림\n",
    "- RecommenderV13: RMSprop, 레이어2, dropout1 ->결과 보면, dropout 자체를 안쓰려고 함.\n",
    "- RecommenderV14: RMSprop, 레이어2, kernel에 L2(0.001)\n",
    "- RecommenderV15: RMSprop, 레이어2, kernel에 L2(0.001) + activity에 L1(0.01)"
   ]
  },
  {
   "cell_type": "markdown",
   "metadata": {},
   "source": [
    "- 케라스 규제참고: https://keras.io/regularizers/\n",
    "- 케라스의 규제로는 dropout외, L1, L2가 있으며 각각은 라쏘와 릿지이다. \n",
    "- L1,L2는 커널 or bias or activity에 걸 수 있음."
   ]
  },
  {
   "cell_type": "code",
   "execution_count": 16,
   "metadata": {},
   "outputs": [],
   "source": [
    "from keras.layers import Concatenate, Dense, Dropout\n",
    "\n",
    "#output에 dropout을 추가한 버전\n",
    "##특히 dense layer를 2개 추가하였으며, 그 activation은 relu, sigmoid이다. \n",
    "#옵티마이저는 RMSprop\n",
    "\n",
    "class EmbeddingLayer:\n",
    "    def __init__(self, n_items, n_factors):\n",
    "        self.n_items = n_items\n",
    "        self.n_factors = n_factors\n",
    "    \n",
    "    def __call__(self, x):\n",
    "        x = Embedding(self.n_items, self.n_factors, embeddings_initializer='he_normal')(x) \n",
    "        x = Reshape((self.n_factors,))(x)\n",
    "        return x\n",
    "\n",
    "\n",
    "def RecommenderV13(n_users, n_movies, n_factors, min_rating, max_rating):\n",
    "   \n",
    "    #input: user, beer\n",
    "    user = Input(shape=(1,))\n",
    "    u = EmbeddingLayer(n_users, n_factors)(user)\n",
    "    \n",
    "    beer = Input(shape=(1,))\n",
    "    b = EmbeddingLayer(n_beers, n_factors)(beer)\n",
    "    \n",
    "    #output: x, 연산과정\n",
    "    x = Concatenate()([u, b])\n",
    "  \n",
    "    x = Dense(10, kernel_initializer='he_normal')(x)\n",
    "    x = Activation('relu')(x)\n",
    "    x = Dropout(0.5)(x)\n",
    "    \n",
    "    x = Dense(1, kernel_initializer='he_normal')(x)\n",
    "    x = Activation('sigmoid')(x)\n",
    "    x = Lambda(lambda x: x * (max_rating - min_rating) + min_rating)(x)\n",
    "\n",
    "    #완성되는 model\n",
    "    model = Model(inputs=[user, beer], outputs=x)\n",
    "    model.compile(loss=['mse'], metrics = ['mae','mse'] ,optimizer='RMSprop')\n",
    "\n",
    "    return model"
   ]
  },
  {
   "cell_type": "code",
   "execution_count": 17,
   "metadata": {},
   "outputs": [
    {
     "name": "stdout",
     "output_type": "stream",
     "text": [
      "Model: \"model_1\"\n",
      "__________________________________________________________________________________________________\n",
      "Layer (type)                    Output Shape         Param #     Connected to                     \n",
      "==================================================================================================\n",
      "input_2 (InputLayer)            (None, 1)            0                                            \n",
      "__________________________________________________________________________________________________\n",
      "input_3 (InputLayer)            (None, 1)            0                                            \n",
      "__________________________________________________________________________________________________\n",
      "embedding_1 (Embedding)         (None, 1, 50)        8246750     input_2[0][0]                    \n",
      "__________________________________________________________________________________________________\n",
      "embedding_2 (Embedding)         (None, 1, 50)        15477100    input_3[0][0]                    \n",
      "__________________________________________________________________________________________________\n",
      "reshape_1 (Reshape)             (None, 50)           0           embedding_1[0][0]                \n",
      "__________________________________________________________________________________________________\n",
      "reshape_2 (Reshape)             (None, 50)           0           embedding_2[0][0]                \n",
      "__________________________________________________________________________________________________\n",
      "concatenate_1 (Concatenate)     (None, 100)          0           reshape_1[0][0]                  \n",
      "                                                                 reshape_2[0][0]                  \n",
      "__________________________________________________________________________________________________\n",
      "dense_1 (Dense)                 (None, 10)           1010        concatenate_1[0][0]              \n",
      "__________________________________________________________________________________________________\n",
      "activation_1 (Activation)       (None, 10)           0           dense_1[0][0]                    \n",
      "__________________________________________________________________________________________________\n",
      "dropout_1 (Dropout)             (None, 10)           0           activation_1[0][0]               \n",
      "__________________________________________________________________________________________________\n",
      "dense_2 (Dense)                 (None, 1)            11          dropout_1[0][0]                  \n",
      "__________________________________________________________________________________________________\n",
      "activation_2 (Activation)       (None, 1)            0           dense_2[0][0]                    \n",
      "__________________________________________________________________________________________________\n",
      "lambda_1 (Lambda)               (None, 1)            0           activation_2[0][0]               \n",
      "==================================================================================================\n",
      "Total params: 23,724,871\n",
      "Trainable params: 23,724,871\n",
      "Non-trainable params: 0\n",
      "__________________________________________________________________________________________________\n"
     ]
    }
   ],
   "source": [
    "re13model = RecommenderV13(n_users, n_beers, n_factors, min_rating, max_rating)\n",
    "re13model.summary()"
   ]
  },
  {
   "cell_type": "code",
   "execution_count": 18,
   "metadata": {},
   "outputs": [
    {
     "name": "stdout",
     "output_type": "stream",
     "text": [
      "WARNING:tensorflow:From C:\\Users\\suyn3\\.conda\\envs\\tf0\\lib\\site-packages\\keras\\backend\\tensorflow_backend.py:422: The name tf.global_variables is deprecated. Please use tf.compat.v1.global_variables instead.\n",
      "\n",
      "Train on 7258502 samples, validate on 1814626 samples\n",
      "Epoch 1/10\n",
      "7258502/7258502 [==============================] - 1400s 193us/step - loss: 0.2440 - mae: 0.3554 - mse: 0.2440 - val_loss: 0.1949 - val_mae: 0.3113 - val_mse: 0.1949\n",
      "Epoch 2/10\n",
      "7258502/7258502 [==============================] - 1386s 191us/step - loss: 0.2158 - mae: 0.3305 - mse: 0.2158 - val_loss: 0.1915 - val_mae: 0.3080 - val_mse: 0.1915\n",
      "Epoch 3/10\n",
      "7258502/7258502 [==============================] - 1387s 191us/step - loss: 0.2120 - mae: 0.3270 - mse: 0.2120 - val_loss: 0.1889 - val_mae: 0.3053 - val_mse: 0.1889\n",
      "Epoch 4/10\n",
      "7258502/7258502 [==============================] - 1390s 191us/step - loss: 0.2098 - mae: 0.3249 - mse: 0.2098 - val_loss: 0.1879 - val_mae: 0.3045 - val_mse: 0.1879\n",
      "Epoch 5/10\n",
      "7258502/7258502 [==============================] - 1393s 192us/step - loss: 0.2083 - mae: 0.3236 - mse: 0.2083 - val_loss: 0.1860 - val_mae: 0.3024 - val_mse: 0.1860\n",
      "Epoch 6/10\n",
      "7258502/7258502 [==============================] - 1392s 192us/step - loss: 0.2071 - mae: 0.3225 - mse: 0.2071 - val_loss: 0.1860 - val_mae: 0.3024 - val_mse: 0.1860\n",
      "Epoch 7/10\n",
      "7258502/7258502 [==============================] - 1393s 192us/step - loss: 0.2064 - mae: 0.3218 - mse: 0.2064 - val_loss: 0.1848 - val_mae: 0.3019 - val_mse: 0.1848\n",
      "Epoch 8/10\n",
      "7258502/7258502 [==============================] - 1396s 192us/step - loss: 0.2057 - mae: 0.3211 - mse: 0.2057 - val_loss: 0.1854 - val_mae: 0.3019 - val_mse: 0.1854\n",
      "Epoch 9/10\n",
      "7258502/7258502 [==============================] - 1393s 192us/step - loss: 0.2052 - mae: 0.3207 - mse: 0.2052 - val_loss: 0.1846 - val_mae: 0.3010 - val_mse: 0.1846\n",
      "Epoch 10/10\n",
      "7258502/7258502 [==============================] - 1395s 192us/step - loss: 0.2047 - mae: 0.3203 - mse: 0.2047 - val_loss: 0.1845 - val_mae: 0.3024 - val_mse: 0.1845\n"
     ]
    }
   ],
   "source": [
    "## fit model\n",
    "seed = 7\n",
    "np.random.seed(seed)\n",
    "history_mf = re13model.fit(x=X_train_array, y=y_train, batch_size=1000, epochs=10,\n",
    "                    verbose=1, validation_data=(X_test_array, y_test)) "
   ]
  },
  {
   "cell_type": "code",
   "execution_count": 19,
   "metadata": {},
   "outputs": [
    {
     "data": {
      "text/html": [
       "<div>\n",
       "<style scoped>\n",
       "    .dataframe tbody tr th:only-of-type {\n",
       "        vertical-align: middle;\n",
       "    }\n",
       "\n",
       "    .dataframe tbody tr th {\n",
       "        vertical-align: top;\n",
       "    }\n",
       "\n",
       "    .dataframe thead th {\n",
       "        text-align: right;\n",
       "    }\n",
       "</style>\n",
       "<table border=\"1\" class=\"dataframe\">\n",
       "  <thead>\n",
       "    <tr style=\"text-align: right;\">\n",
       "      <th></th>\n",
       "      <th>val_loss</th>\n",
       "      <th>val_mae</th>\n",
       "      <th>val_mse</th>\n",
       "      <th>loss</th>\n",
       "      <th>mae</th>\n",
       "      <th>mse</th>\n",
       "      <th>epoch</th>\n",
       "    </tr>\n",
       "  </thead>\n",
       "  <tbody>\n",
       "    <tr>\n",
       "      <td>0</td>\n",
       "      <td>0.194875</td>\n",
       "      <td>0.311298</td>\n",
       "      <td>0.194875</td>\n",
       "      <td>0.244048</td>\n",
       "      <td>0.355414</td>\n",
       "      <td>0.244047</td>\n",
       "      <td>0</td>\n",
       "    </tr>\n",
       "    <tr>\n",
       "      <td>1</td>\n",
       "      <td>0.191522</td>\n",
       "      <td>0.308022</td>\n",
       "      <td>0.191522</td>\n",
       "      <td>0.215773</td>\n",
       "      <td>0.330451</td>\n",
       "      <td>0.215773</td>\n",
       "      <td>1</td>\n",
       "    </tr>\n",
       "    <tr>\n",
       "      <td>2</td>\n",
       "      <td>0.188914</td>\n",
       "      <td>0.305316</td>\n",
       "      <td>0.188914</td>\n",
       "      <td>0.212021</td>\n",
       "      <td>0.326991</td>\n",
       "      <td>0.212021</td>\n",
       "      <td>2</td>\n",
       "    </tr>\n",
       "    <tr>\n",
       "      <td>3</td>\n",
       "      <td>0.187904</td>\n",
       "      <td>0.304473</td>\n",
       "      <td>0.187904</td>\n",
       "      <td>0.209754</td>\n",
       "      <td>0.324916</td>\n",
       "      <td>0.209754</td>\n",
       "      <td>3</td>\n",
       "    </tr>\n",
       "    <tr>\n",
       "      <td>4</td>\n",
       "      <td>0.186050</td>\n",
       "      <td>0.302422</td>\n",
       "      <td>0.186050</td>\n",
       "      <td>0.208266</td>\n",
       "      <td>0.323567</td>\n",
       "      <td>0.208266</td>\n",
       "      <td>4</td>\n",
       "    </tr>\n",
       "    <tr>\n",
       "      <td>5</td>\n",
       "      <td>0.185977</td>\n",
       "      <td>0.302395</td>\n",
       "      <td>0.185977</td>\n",
       "      <td>0.207117</td>\n",
       "      <td>0.322494</td>\n",
       "      <td>0.207117</td>\n",
       "      <td>5</td>\n",
       "    </tr>\n",
       "    <tr>\n",
       "      <td>6</td>\n",
       "      <td>0.184769</td>\n",
       "      <td>0.301921</td>\n",
       "      <td>0.184769</td>\n",
       "      <td>0.206395</td>\n",
       "      <td>0.321764</td>\n",
       "      <td>0.206394</td>\n",
       "      <td>6</td>\n",
       "    </tr>\n",
       "    <tr>\n",
       "      <td>7</td>\n",
       "      <td>0.185401</td>\n",
       "      <td>0.301937</td>\n",
       "      <td>0.185401</td>\n",
       "      <td>0.205681</td>\n",
       "      <td>0.321142</td>\n",
       "      <td>0.205681</td>\n",
       "      <td>7</td>\n",
       "    </tr>\n",
       "    <tr>\n",
       "      <td>8</td>\n",
       "      <td>0.184642</td>\n",
       "      <td>0.301043</td>\n",
       "      <td>0.184642</td>\n",
       "      <td>0.205154</td>\n",
       "      <td>0.320670</td>\n",
       "      <td>0.205154</td>\n",
       "      <td>8</td>\n",
       "    </tr>\n",
       "    <tr>\n",
       "      <td>9</td>\n",
       "      <td>0.184466</td>\n",
       "      <td>0.302388</td>\n",
       "      <td>0.184466</td>\n",
       "      <td>0.204728</td>\n",
       "      <td>0.320251</td>\n",
       "      <td>0.204728</td>\n",
       "      <td>9</td>\n",
       "    </tr>\n",
       "  </tbody>\n",
       "</table>\n",
       "</div>"
      ],
      "text/plain": [
       "   val_loss   val_mae   val_mse      loss       mae       mse  epoch\n",
       "0  0.194875  0.311298  0.194875  0.244048  0.355414  0.244047      0\n",
       "1  0.191522  0.308022  0.191522  0.215773  0.330451  0.215773      1\n",
       "2  0.188914  0.305316  0.188914  0.212021  0.326991  0.212021      2\n",
       "3  0.187904  0.304473  0.187904  0.209754  0.324916  0.209754      3\n",
       "4  0.186050  0.302422  0.186050  0.208266  0.323567  0.208266      4\n",
       "5  0.185977  0.302395  0.185977  0.207117  0.322494  0.207117      5\n",
       "6  0.184769  0.301921  0.184769  0.206395  0.321764  0.206394      6\n",
       "7  0.185401  0.301937  0.185401  0.205681  0.321142  0.205681      7\n",
       "8  0.184642  0.301043  0.184642  0.205154  0.320670  0.205154      8\n",
       "9  0.184466  0.302388  0.184466  0.204728  0.320251  0.204728      9"
      ]
     },
     "execution_count": 19,
     "metadata": {},
     "output_type": "execute_result"
    }
   ],
   "source": [
    "## show loss & mae & mse at each epoch\n",
    "hist13 = pd.DataFrame(history_mf.history)\n",
    "hist13['epoch'] = history_mf.epoch\n",
    "hist13"
   ]
  },
  {
   "cell_type": "code",
   "execution_count": 20,
   "metadata": {},
   "outputs": [
    {
     "name": "stdout",
     "output_type": "stream",
     "text": [
      "1814626/1814626 [==============================] - 7s 4us/step\n",
      "## evaluation loss and_metrics ##\n",
      "[0.18446611288741277, 0.30238789319992065, 0.18446588516235352]\n"
     ]
    }
   ],
   "source": [
    "#모델 평가하기; model.evaluate()\n",
    "loss_and_metrics = re13model.evaluate(X_test_array, y_test, batch_size=1000)\n",
    "print('## evaluation loss and_metrics ##')\n",
    "print(loss_and_metrics)"
   ]
  },
  {
   "cell_type": "code",
   "execution_count": 21,
   "metadata": {},
   "outputs": [
    {
     "data": {
      "image/png": "[encoded data removed]",
      "text/plain": [
       "<Figure size 720x1080 with 2 Axes>"
      ]
     },
     "metadata": {
      "needs_background": "light"
     },
     "output_type": "display_data"
    }
   ],
   "source": [
    "plot_history(hist13)"
   ]
  },
  {
   "cell_type": "code",
   "execution_count": 22,
   "metadata": {},
   "outputs": [],
   "source": [
    "def get_unbeer_keras(df, userid):\n",
    "    beers = df[df['user']==userid]['beer'].unique().tolist() #해당 유저가 평가한 beer\n",
    "    total_beers = df['beer'].unique().tolist() #모든 beer\n",
    "    unbeers = [beer for beer in total_beers if beer not in beers] #해당 유저가 평가안한 beer\n",
    "    return unbeers\n",
    "\n",
    "def recomm_beer_by_keras(userid, model, top_n):\n",
    "    unbeers = get_unbeer_keras(df,userid)\n",
    "    predict =[v[0][0] for v in  [model.predict([[userid],[beer]]) for beer in unbeers]]\n",
    "    ndf= pd.DataFrame({'beer':unbeers,'rating':predict})\n",
    "    final = ndf.sort_values(by='rating', ascending=False)[:top_n]\n",
    "    return final\n"
   ]
  },
  {
   "cell_type": "code",
   "execution_count": 23,
   "metadata": {},
   "outputs": [
    {
     "name": "stdout",
     "output_type": "stream",
     "text": [
      "Wall time: 6min 15s\n"
     ]
    },
    {
     "data": {
      "text/html": [
       "<div>\n",
       "<style scoped>\n",
       "    .dataframe tbody tr th:only-of-type {\n",
       "        vertical-align: middle;\n",
       "    }\n",
       "\n",
       "    .dataframe tbody tr th {\n",
       "        vertical-align: top;\n",
       "    }\n",
       "\n",
       "    .dataframe thead th {\n",
       "        text-align: right;\n",
       "    }\n",
       "</style>\n",
       "<table border=\"1\" class=\"dataframe\">\n",
       "  <thead>\n",
       "    <tr style=\"text-align: right;\">\n",
       "      <th></th>\n",
       "      <th>beer</th>\n",
       "      <th>rating</th>\n",
       "    </tr>\n",
       "  </thead>\n",
       "  <tbody>\n",
       "    <tr>\n",
       "      <td>186538</td>\n",
       "      <td>68022</td>\n",
       "      <td>4.824777</td>\n",
       "    </tr>\n",
       "    <tr>\n",
       "      <td>191828</td>\n",
       "      <td>52574</td>\n",
       "      <td>4.775228</td>\n",
       "    </tr>\n",
       "    <tr>\n",
       "      <td>210211</td>\n",
       "      <td>122288</td>\n",
       "      <td>4.747730</td>\n",
       "    </tr>\n",
       "    <tr>\n",
       "      <td>108760</td>\n",
       "      <td>34828</td>\n",
       "      <td>4.733747</td>\n",
       "    </tr>\n",
       "    <tr>\n",
       "      <td>12954</td>\n",
       "      <td>76214</td>\n",
       "      <td>4.690979</td>\n",
       "    </tr>\n",
       "    <tr>\n",
       "      <td>169444</td>\n",
       "      <td>98340</td>\n",
       "      <td>4.686193</td>\n",
       "    </tr>\n",
       "    <tr>\n",
       "      <td>182975</td>\n",
       "      <td>13645</td>\n",
       "      <td>4.680044</td>\n",
       "    </tr>\n",
       "    <tr>\n",
       "      <td>290539</td>\n",
       "      <td>51395</td>\n",
       "      <td>4.679646</td>\n",
       "    </tr>\n",
       "    <tr>\n",
       "      <td>15542</td>\n",
       "      <td>76794</td>\n",
       "      <td>4.664147</td>\n",
       "    </tr>\n",
       "    <tr>\n",
       "      <td>85480</td>\n",
       "      <td>86880</td>\n",
       "      <td>4.655080</td>\n",
       "    </tr>\n",
       "  </tbody>\n",
       "</table>\n",
       "</div>"
      ],
      "text/plain": [
       "          beer    rating\n",
       "186538   68022  4.824777\n",
       "191828   52574  4.775228\n",
       "210211  122288  4.747730\n",
       "108760   34828  4.733747\n",
       "12954    76214  4.690979\n",
       "169444   98340  4.686193\n",
       "182975   13645  4.680044\n",
       "290539   51395  4.679646\n",
       "15542    76794  4.664147\n",
       "85480    86880  4.655080"
      ]
     },
     "execution_count": 23,
     "metadata": {},
     "output_type": "execute_result"
    }
   ],
   "source": [
    "%%time\n",
    "\n",
    "unbeers = get_unbeer_keras(df2, 190)\n",
    "recomm_beer_by_keras(190, re13model, 10)"
   ]
  },
  {
   "cell_type": "code",
   "execution_count": 24,
   "metadata": {},
   "outputs": [
    {
     "data": {
      "text/plain": [
       "(309542, 50)"
      ]
     },
     "execution_count": 24,
     "metadata": {},
     "output_type": "execute_result"
    }
   ],
   "source": [
    "## get weights of the beers embedding matrix\n",
    "beer_embedding_weights = re13model.layers[3].get_weights()[0] #3은 beer-embedding : layer 확인!\n",
    "beer_embedding_weights.shape"
   ]
  },
  {
   "cell_type": "code",
   "execution_count": 25,
   "metadata": {},
   "outputs": [
    {
     "data": {
      "text/plain": [
       "(3, 309542)"
      ]
     },
     "execution_count": 25,
     "metadata": {},
     "output_type": "execute_result"
    }
   ],
   "source": [
    "## import PCA\n",
    "pca = PCA(n_components = 3) ## use 3 components\n",
    "beer_embedding_weights_t = np.transpose(beer_embedding_weights) ## pass the transpose of the embedding matrix\n",
    "beer_pca = pca.fit(beer_embedding_weights_t) ## fit\n",
    "\n",
    "## display the resulting matrix dimensions\n",
    "beer_pca.components_.shape"
   ]
  },
  {
   "cell_type": "code",
   "execution_count": 26,
   "metadata": {},
   "outputs": [
    {
     "data": {
      "text/plain": [
       "array([0.93086463, 0.05413963, 0.00361837], dtype=float32)"
      ]
     },
     "execution_count": 26,
     "metadata": {},
     "output_type": "execute_result"
    }
   ],
   "source": [
    "## display the variance explained by the 3 components\n",
    "beer_pca.explained_variance_ratio_\n",
    " #variance 가 아주 낮으면 좋은 해석을 기대하기 어렵다.\n",
    "    #첫번째 PC 분산은 약 얼마? 78%로, dropout 규제를 넣었는데도 성능이 좋다!"
   ]
  },
  {
   "cell_type": "code",
   "execution_count": 27,
   "metadata": {},
   "outputs": [],
   "source": [
    "from operator import itemgetter\n",
    "\n",
    "## extract first PCA\n",
    "pca0 = beer_pca.components_[0]\n",
    "\n",
    "## get the value (pca0, beer title)\n",
    "beer_comp0 = [(f, beers_dict[i]) for f,i in zip(pca0, list(beers_dict.keys()))]"
   ]
  },
  {
   "cell_type": "code",
   "execution_count": 28,
   "metadata": {},
   "outputs": [
    {
     "data": {
      "text/plain": [
       "[(0.010736336, 'Grid Iron Irish Red'),\n",
       " (0.010144114, 'Nocturnality'),\n",
       " (0.009857028, 'Dirty Bastard - Bourbon-Soaked Apricots And Ginger'),\n",
       " (0.009801656, 'Sir Phobos'),\n",
       " (0.009741707, 'Pomegranate kolsch'),\n",
       " (0.0097121075, 'Ahhh You Again'),\n",
       " (0.009654376, 'Rolo Tony Brown Town'),\n",
       " (0.009333192, \"Weekend At Brett's Barrel Aged\"),\n",
       " (0.009243805, 'Janis Hoplin'),\n",
       " (0.008856212, 'Mele Kalikimaka Coconut Porter')]"
      ]
     },
     "execution_count": 28,
     "metadata": {},
     "output_type": "execute_result"
    }
   ],
   "source": [
    "## beers corresponding to the highest values of pca0\n",
    "sorted(beer_comp0, key = itemgetter(0), reverse = True)[:10]"
   ]
  },
  {
   "cell_type": "code",
   "execution_count": 29,
   "metadata": {},
   "outputs": [
    {
     "data": {
      "text/plain": [
       "[(-0.04050416, 'Snowman Make Like A Tree And Leaf Maple Porter'),\n",
       " (-0.035838056, 'Jolly Golden Ale'),\n",
       " (-0.034587532, \"Monk's Phunk\"),\n",
       " (-0.03345729, 'G-Spot Jalapeno Ale'),\n",
       " (-0.03076992, 'Handlebar Hefe'),\n",
       " (-0.030741971, 'One-Eyed Jack Imperial Pilsner'),\n",
       " (-0.03060478, \"'Sconnie Badger Brown Ale\"),\n",
       " (-0.029868336, 'Winter Sesh'),\n",
       " (-0.02947721, 'La Grand Duc (Rousse Au Seigle)'),\n",
       " (-0.029219901, 'Saison Garni')]"
      ]
     },
     "execution_count": 29,
     "metadata": {},
     "output_type": "execute_result"
    }
   ],
   "source": [
    "## beers corresponding to the lowest values of pca0\n",
    "sorted(beer_comp0, key = itemgetter(0))[:10]"
   ]
  },
  {
   "cell_type": "markdown",
   "metadata": {},
   "source": [
    "# dropout은 안 쓰기로 함! L2규제를 각 레이어에 추가하여 성능을 보자."
   ]
  },
  {
   "cell_type": "code",
   "execution_count": 30,
   "metadata": {},
   "outputs": [],
   "source": [
    "#dense layer에 L2 규제를 추가한 버전, 연산의 layer도 2개 더 추가하였다.\n",
    "##bias가 있음// + activation을 추가(sigmoid), 연산할 때 평점의 min, max도 함께 고려한다.\n",
    "##옵티마이저가 RMSprop\n",
    "\n",
    "def RecommenderV14(n_users, n_movies, n_factors, min_rating, max_rating):\n",
    "   \n",
    "    #input: user, beer\n",
    "    user = Input(shape=(1,))\n",
    "    u = EmbeddingLayer(n_users, n_factors)(user)\n",
    "    \n",
    "    beer = Input(shape=(1,))\n",
    "    b = EmbeddingLayer(n_beers, n_factors)(beer)\n",
    "    \n",
    "    #output: x, 연산과정\n",
    "    x = Concatenate()([u, b])\n",
    "    \n",
    "    x = Dense(10, kernel_initializer='he_normal',kernel_regularizer=l2(0.001))(x) #L2 규제 추가\n",
    "    x = Activation('relu')(x)\n",
    "    \n",
    "    x = Dense(1, kernel_initializer='he_normal',kernel_regularizer=l2(0.001))(x) #L2 규제 추가\n",
    "    x = Activation('sigmoid')(x)\n",
    "    x = Lambda(lambda x: x * (max_rating - min_rating) + min_rating)(x)\n",
    "\n",
    "    #완성되는 model\n",
    "    model = Model(inputs=[user, beer], outputs=x)\n",
    "    model.compile(loss=['mse'], metrics = ['mae','mse'] ,optimizer='RMSprop')\n",
    "\n",
    "    return model\n"
   ]
  },
  {
   "cell_type": "code",
   "execution_count": 31,
   "metadata": {},
   "outputs": [
    {
     "name": "stdout",
     "output_type": "stream",
     "text": [
      "Model: \"model_2\"\n",
      "__________________________________________________________________________________________________\n",
      "Layer (type)                    Output Shape         Param #     Connected to                     \n",
      "==================================================================================================\n",
      "input_4 (InputLayer)            (None, 1)            0                                            \n",
      "__________________________________________________________________________________________________\n",
      "input_5 (InputLayer)            (None, 1)            0                                            \n",
      "__________________________________________________________________________________________________\n",
      "embedding_3 (Embedding)         (None, 1, 50)        8246750     input_4[0][0]                    \n",
      "__________________________________________________________________________________________________\n",
      "embedding_4 (Embedding)         (None, 1, 50)        15477100    input_5[0][0]                    \n",
      "__________________________________________________________________________________________________\n",
      "reshape_3 (Reshape)             (None, 50)           0           embedding_3[0][0]                \n",
      "__________________________________________________________________________________________________\n",
      "reshape_4 (Reshape)             (None, 50)           0           embedding_4[0][0]                \n",
      "__________________________________________________________________________________________________\n",
      "concatenate_2 (Concatenate)     (None, 100)          0           reshape_3[0][0]                  \n",
      "                                                                 reshape_4[0][0]                  \n",
      "__________________________________________________________________________________________________\n",
      "dense_3 (Dense)                 (None, 10)           1010        concatenate_2[0][0]              \n",
      "__________________________________________________________________________________________________\n",
      "activation_3 (Activation)       (None, 10)           0           dense_3[0][0]                    \n",
      "__________________________________________________________________________________________________\n",
      "dense_4 (Dense)                 (None, 1)            11          activation_3[0][0]               \n",
      "__________________________________________________________________________________________________\n",
      "activation_4 (Activation)       (None, 1)            0           dense_4[0][0]                    \n",
      "__________________________________________________________________________________________________\n",
      "lambda_2 (Lambda)               (None, 1)            0           activation_4[0][0]               \n",
      "==================================================================================================\n",
      "Total params: 23,724,871\n",
      "Trainable params: 23,724,871\n",
      "Non-trainable params: 0\n",
      "__________________________________________________________________________________________________\n"
     ]
    }
   ],
   "source": [
    "re14model = RecommenderV14(n_users, n_beers, n_factors, min_rating, max_rating)\n",
    "re14model.summary()"
   ]
  },
  {
   "cell_type": "code",
   "execution_count": 32,
   "metadata": {},
   "outputs": [
    {
     "name": "stdout",
     "output_type": "stream",
     "text": [
      "Train on 7258502 samples, validate on 1814626 samples\n",
      "Epoch 1/10\n",
      "7258502/7258502 [==============================] - 1417s 195us/step - loss: 0.2144 - mae: 0.3235 - mse: 0.2082 - val_loss: 0.1975 - val_mae: 0.3093 - val_mse: 0.1928\n",
      "Epoch 2/10\n",
      "7258502/7258502 [==============================] - 1385s 191us/step - loss: 0.1916 - mae: 0.3034 - mse: 0.1869 - val_loss: 0.1929 - val_mae: 0.3055 - val_mse: 0.1886\n",
      "Epoch 3/10\n",
      "7258502/7258502 [==============================] - 1376s 190us/step - loss: 0.1864 - mae: 0.2984 - mse: 0.1821 - val_loss: 0.1899 - val_mae: 0.3030 - val_mse: 0.1858\n",
      "Epoch 4/10\n",
      "7258502/7258502 [==============================] - 1374s 189us/step - loss: 0.1833 - mae: 0.2956 - mse: 0.1792 - val_loss: 0.1889 - val_mae: 0.3015 - val_mse: 0.1850\n",
      "Epoch 5/10\n",
      "7258502/7258502 [==============================] - 1369s 189us/step - loss: 0.1812 - mae: 0.2936 - mse: 0.1773 - val_loss: 0.1881 - val_mae: 0.3010 - val_mse: 0.1843\n",
      "Epoch 6/10\n",
      "7258502/7258502 [==============================] - 1376s 190us/step - loss: 0.1797 - mae: 0.2922 - mse: 0.1759 - val_loss: 0.1876 - val_mae: 0.3005 - val_mse: 0.1839\n",
      "Epoch 7/10\n",
      "7258502/7258502 [==============================] - 1376s 190us/step - loss: 0.1783 - mae: 0.2909 - mse: 0.1746 - val_loss: 0.1875 - val_mae: 0.3014 - val_mse: 0.1837\n",
      "Epoch 8/10\n",
      "7258502/7258502 [==============================] - 1378s 190us/step - loss: 0.1771 - mae: 0.2896 - mse: 0.1733 - val_loss: 0.1869 - val_mae: 0.2995 - val_mse: 0.1831\n",
      "Epoch 9/10\n",
      "7258502/7258502 [==============================] - 1377s 190us/step - loss: 0.1762 - mae: 0.2886 - mse: 0.1724 - val_loss: 0.1870 - val_mae: 0.2992 - val_mse: 0.1833\n",
      "Epoch 10/10\n",
      "7258502/7258502 [==============================] - 1380s 190us/step - loss: 0.1753 - mae: 0.2877 - mse: 0.1716 - val_loss: 0.1874 - val_mae: 0.3019 - val_mse: 0.1836\n"
     ]
    }
   ],
   "source": [
    "## fit model\n",
    "seed = 7\n",
    "np.random.seed(seed)\n",
    "history_mf = re14model.fit(x=X_train_array, y=y_train, batch_size=1000, epochs=10,\n",
    "                    verbose=1, validation_data=(X_test_array, y_test)) "
   ]
  },
  {
   "cell_type": "code",
   "execution_count": 33,
   "metadata": {},
   "outputs": [
    {
     "data": {
      "text/html": [
       "<div>\n",
       "<style scoped>\n",
       "    .dataframe tbody tr th:only-of-type {\n",
       "        vertical-align: middle;\n",
       "    }\n",
       "\n",
       "    .dataframe tbody tr th {\n",
       "        vertical-align: top;\n",
       "    }\n",
       "\n",
       "    .dataframe thead th {\n",
       "        text-align: right;\n",
       "    }\n",
       "</style>\n",
       "<table border=\"1\" class=\"dataframe\">\n",
       "  <thead>\n",
       "    <tr style=\"text-align: right;\">\n",
       "      <th></th>\n",
       "      <th>val_loss</th>\n",
       "      <th>val_mae</th>\n",
       "      <th>val_mse</th>\n",
       "      <th>loss</th>\n",
       "      <th>mae</th>\n",
       "      <th>mse</th>\n",
       "      <th>epoch</th>\n",
       "    </tr>\n",
       "  </thead>\n",
       "  <tbody>\n",
       "    <tr>\n",
       "      <td>0</td>\n",
       "      <td>0.197546</td>\n",
       "      <td>0.309324</td>\n",
       "      <td>0.192761</td>\n",
       "      <td>0.214435</td>\n",
       "      <td>0.323473</td>\n",
       "      <td>0.208152</td>\n",
       "      <td>0</td>\n",
       "    </tr>\n",
       "    <tr>\n",
       "      <td>1</td>\n",
       "      <td>0.192889</td>\n",
       "      <td>0.305476</td>\n",
       "      <td>0.188572</td>\n",
       "      <td>0.191605</td>\n",
       "      <td>0.303366</td>\n",
       "      <td>0.186933</td>\n",
       "      <td>1</td>\n",
       "    </tr>\n",
       "    <tr>\n",
       "      <td>2</td>\n",
       "      <td>0.189895</td>\n",
       "      <td>0.303037</td>\n",
       "      <td>0.185769</td>\n",
       "      <td>0.186371</td>\n",
       "      <td>0.298437</td>\n",
       "      <td>0.182055</td>\n",
       "      <td>2</td>\n",
       "    </tr>\n",
       "    <tr>\n",
       "      <td>3</td>\n",
       "      <td>0.188892</td>\n",
       "      <td>0.301481</td>\n",
       "      <td>0.184960</td>\n",
       "      <td>0.183324</td>\n",
       "      <td>0.295580</td>\n",
       "      <td>0.179220</td>\n",
       "      <td>3</td>\n",
       "    </tr>\n",
       "    <tr>\n",
       "      <td>4</td>\n",
       "      <td>0.188103</td>\n",
       "      <td>0.301014</td>\n",
       "      <td>0.184301</td>\n",
       "      <td>0.181247</td>\n",
       "      <td>0.293632</td>\n",
       "      <td>0.177321</td>\n",
       "      <td>4</td>\n",
       "    </tr>\n",
       "    <tr>\n",
       "      <td>5</td>\n",
       "      <td>0.187574</td>\n",
       "      <td>0.300454</td>\n",
       "      <td>0.183946</td>\n",
       "      <td>0.179687</td>\n",
       "      <td>0.292191</td>\n",
       "      <td>0.175910</td>\n",
       "      <td>5</td>\n",
       "    </tr>\n",
       "    <tr>\n",
       "      <td>6</td>\n",
       "      <td>0.187482</td>\n",
       "      <td>0.301398</td>\n",
       "      <td>0.183694</td>\n",
       "      <td>0.178343</td>\n",
       "      <td>0.290856</td>\n",
       "      <td>0.174608</td>\n",
       "      <td>6</td>\n",
       "    </tr>\n",
       "    <tr>\n",
       "      <td>7</td>\n",
       "      <td>0.186867</td>\n",
       "      <td>0.299455</td>\n",
       "      <td>0.183124</td>\n",
       "      <td>0.177110</td>\n",
       "      <td>0.289572</td>\n",
       "      <td>0.173322</td>\n",
       "      <td>7</td>\n",
       "    </tr>\n",
       "    <tr>\n",
       "      <td>8</td>\n",
       "      <td>0.187038</td>\n",
       "      <td>0.299219</td>\n",
       "      <td>0.183342</td>\n",
       "      <td>0.176155</td>\n",
       "      <td>0.288572</td>\n",
       "      <td>0.172353</td>\n",
       "      <td>8</td>\n",
       "    </tr>\n",
       "    <tr>\n",
       "      <td>9</td>\n",
       "      <td>0.187368</td>\n",
       "      <td>0.301914</td>\n",
       "      <td>0.183635</td>\n",
       "      <td>0.175340</td>\n",
       "      <td>0.287743</td>\n",
       "      <td>0.171560</td>\n",
       "      <td>9</td>\n",
       "    </tr>\n",
       "  </tbody>\n",
       "</table>\n",
       "</div>"
      ],
      "text/plain": [
       "   val_loss   val_mae   val_mse      loss       mae       mse  epoch\n",
       "0  0.197546  0.309324  0.192761  0.214435  0.323473  0.208152      0\n",
       "1  0.192889  0.305476  0.188572  0.191605  0.303366  0.186933      1\n",
       "2  0.189895  0.303037  0.185769  0.186371  0.298437  0.182055      2\n",
       "3  0.188892  0.301481  0.184960  0.183324  0.295580  0.179220      3\n",
       "4  0.188103  0.301014  0.184301  0.181247  0.293632  0.177321      4\n",
       "5  0.187574  0.300454  0.183946  0.179687  0.292191  0.175910      5\n",
       "6  0.187482  0.301398  0.183694  0.178343  0.290856  0.174608      6\n",
       "7  0.186867  0.299455  0.183124  0.177110  0.289572  0.173322      7\n",
       "8  0.187038  0.299219  0.183342  0.176155  0.288572  0.172353      8\n",
       "9  0.187368  0.301914  0.183635  0.175340  0.287743  0.171560      9"
      ]
     },
     "execution_count": 33,
     "metadata": {},
     "output_type": "execute_result"
    }
   ],
   "source": [
    "## show loss & mae & mse at each epoch\n",
    "hist14 = pd.DataFrame(history_mf.history)\n",
    "hist14['epoch'] = history_mf.epoch\n",
    "hist14"
   ]
  },
  {
   "cell_type": "code",
   "execution_count": 34,
   "metadata": {},
   "outputs": [
    {
     "name": "stdout",
     "output_type": "stream",
     "text": [
      "1814626/1814626 [==============================] - 8s 4us/step\n",
      "## evaluation loss and_metrics ##\n",
      "[0.18736835497024054, 0.301913857460022, 0.18363521993160248]\n"
     ]
    }
   ],
   "source": [
    "#모델 평가하기; model.evaluate()\n",
    "loss_and_metrics = re14model.evaluate(X_test_array, y_test, batch_size=1000)\n",
    "print('## evaluation loss and_metrics ##')\n",
    "print(loss_and_metrics)"
   ]
  },
  {
   "cell_type": "code",
   "execution_count": 35,
   "metadata": {},
   "outputs": [
    {
     "data": {
      "image/png": "[encoded data removed]",
      "text/plain": [
       "<Figure size 720x1080 with 2 Axes>"
      ]
     },
     "metadata": {
      "needs_background": "light"
     },
     "output_type": "display_data"
    }
   ],
   "source": [
    "plot_history(hist14)"
   ]
  },
  {
   "cell_type": "code",
   "execution_count": 36,
   "metadata": {},
   "outputs": [],
   "source": [
    "def get_unbeer_keras(df, userid):\n",
    "    beers = df[df['user']==userid]['beer'].unique().tolist() #해당 유저가 평가한 beer\n",
    "    total_beers = df['beer'].unique().tolist() #모든 beer\n",
    "    unbeers = [beer for beer in total_beers if beer not in beers] #해당 유저가 평가안한 beer\n",
    "    return unbeers\n",
    "\n",
    "def recomm_beer_by_keras(userid, model, top_n):\n",
    "    unbeers = get_unbeer_keras(df,userid)\n",
    "    predict =[v[0][0] for v in  [model.predict([[userid],[beer]]) for beer in unbeers]]\n",
    "    ndf= pd.DataFrame({'beer':unbeers,'rating':predict})\n",
    "    final = ndf.sort_values(by='rating', ascending=False)[:top_n]\n",
    "    return final"
   ]
  },
  {
   "cell_type": "code",
   "execution_count": 37,
   "metadata": {},
   "outputs": [
    {
     "name": "stdout",
     "output_type": "stream",
     "text": [
      "Wall time: 4min 58s\n"
     ]
    },
    {
     "data": {
      "text/html": [
       "<div>\n",
       "<style scoped>\n",
       "    .dataframe tbody tr th:only-of-type {\n",
       "        vertical-align: middle;\n",
       "    }\n",
       "\n",
       "    .dataframe tbody tr th {\n",
       "        vertical-align: top;\n",
       "    }\n",
       "\n",
       "    .dataframe thead th {\n",
       "        text-align: right;\n",
       "    }\n",
       "</style>\n",
       "<table border=\"1\" class=\"dataframe\">\n",
       "  <thead>\n",
       "    <tr style=\"text-align: right;\">\n",
       "      <th></th>\n",
       "      <th>beer</th>\n",
       "      <th>rating</th>\n",
       "    </tr>\n",
       "  </thead>\n",
       "  <tbody>\n",
       "    <tr>\n",
       "      <td>186538</td>\n",
       "      <td>68022</td>\n",
       "      <td>4.825977</td>\n",
       "    </tr>\n",
       "    <tr>\n",
       "      <td>191828</td>\n",
       "      <td>52574</td>\n",
       "      <td>4.746490</td>\n",
       "    </tr>\n",
       "    <tr>\n",
       "      <td>210211</td>\n",
       "      <td>122288</td>\n",
       "      <td>4.727958</td>\n",
       "    </tr>\n",
       "    <tr>\n",
       "      <td>108760</td>\n",
       "      <td>34828</td>\n",
       "      <td>4.714993</td>\n",
       "    </tr>\n",
       "    <tr>\n",
       "      <td>85480</td>\n",
       "      <td>86880</td>\n",
       "      <td>4.689719</td>\n",
       "    </tr>\n",
       "    <tr>\n",
       "      <td>12954</td>\n",
       "      <td>76214</td>\n",
       "      <td>4.689309</td>\n",
       "    </tr>\n",
       "    <tr>\n",
       "      <td>169444</td>\n",
       "      <td>98340</td>\n",
       "      <td>4.687913</td>\n",
       "    </tr>\n",
       "    <tr>\n",
       "      <td>109217</td>\n",
       "      <td>80528</td>\n",
       "      <td>4.675450</td>\n",
       "    </tr>\n",
       "    <tr>\n",
       "      <td>290539</td>\n",
       "      <td>51395</td>\n",
       "      <td>4.664763</td>\n",
       "    </tr>\n",
       "    <tr>\n",
       "      <td>73822</td>\n",
       "      <td>185846</td>\n",
       "      <td>4.660795</td>\n",
       "    </tr>\n",
       "  </tbody>\n",
       "</table>\n",
       "</div>"
      ],
      "text/plain": [
       "          beer    rating\n",
       "186538   68022  4.825977\n",
       "191828   52574  4.746490\n",
       "210211  122288  4.727958\n",
       "108760   34828  4.714993\n",
       "85480    86880  4.689719\n",
       "12954    76214  4.689309\n",
       "169444   98340  4.687913\n",
       "109217   80528  4.675450\n",
       "290539   51395  4.664763\n",
       "73822   185846  4.660795"
      ]
     },
     "execution_count": 37,
     "metadata": {},
     "output_type": "execute_result"
    }
   ],
   "source": [
    "%%time\n",
    "\n",
    "unbeers = get_unbeer_keras(df2, 190)\n",
    "recomm_beer_by_keras(190, re14model, 10)"
   ]
  },
  {
   "cell_type": "code",
   "execution_count": 38,
   "metadata": {},
   "outputs": [
    {
     "data": {
      "text/plain": [
       "(309542, 50)"
      ]
     },
     "execution_count": 38,
     "metadata": {},
     "output_type": "execute_result"
    }
   ],
   "source": [
    "## get weights of the beers embedding matrix\n",
    "beer_embedding_weights = re14model.layers[3].get_weights()[0] #3은 beer-embedding : layer 확인!\n",
    "beer_embedding_weights.shape"
   ]
  },
  {
   "cell_type": "code",
   "execution_count": 39,
   "metadata": {},
   "outputs": [
    {
     "data": {
      "text/plain": [
       "(3, 309542)"
      ]
     },
     "execution_count": 39,
     "metadata": {},
     "output_type": "execute_result"
    }
   ],
   "source": [
    "## import PCA\n",
    "pca = PCA(n_components = 3) ## use 3 components\n",
    "beer_embedding_weights_t = np.transpose(beer_embedding_weights) ## pass the transpose of the embedding matrix\n",
    "beer_pca = pca.fit(beer_embedding_weights_t) ## fit\n",
    "\n",
    "## display the resulting matrix dimensions\n",
    "beer_pca.components_.shape"
   ]
  },
  {
   "cell_type": "code",
   "execution_count": 40,
   "metadata": {},
   "outputs": [
    {
     "data": {
      "text/plain": [
       "array([9.9927950e-01, 1.8998542e-05, 1.6598371e-05], dtype=float32)"
      ]
     },
     "execution_count": 40,
     "metadata": {},
     "output_type": "execute_result"
    }
   ],
   "source": [
    "## display the variance explained by the 3 components\n",
    "beer_pca.explained_variance_ratio_\n",
    " #variance 가 아주 낮으면 좋은 해석을 기대하기 어렵다.\n",
    "    #첫번째 PC 분산은 약 얼마? 78%로, dropout 규제를 넣었는데도 성능이 좋다!"
   ]
  },
  {
   "cell_type": "code",
   "execution_count": 41,
   "metadata": {},
   "outputs": [],
   "source": [
    "from operator import itemgetter\n",
    "\n",
    "## extract first PCA\n",
    "pca0 = beer_pca.components_[0]\n",
    "\n",
    "## get the value (pca0, beer title)\n",
    "beer_comp0 = [(f, beers_dict[i]) for f,i in zip(pca0, list(beers_dict.keys()))]"
   ]
  },
  {
   "cell_type": "code",
   "execution_count": 42,
   "metadata": {},
   "outputs": [
    {
     "data": {
      "text/plain": [
       "[(0.03897305, 'Snowman Make Like A Tree And Leaf Maple Porter'),\n",
       " (0.032054745, 'Jolly Golden Ale'),\n",
       " (0.03073786, \"Monk's Phunk\"),\n",
       " (0.029865708, 'G-Spot Jalapeno Ale'),\n",
       " (0.028268116, 'Saison Garni'),\n",
       " (0.028236136, 'Handlebar Hefe'),\n",
       " (0.028151834, 'One-Eyed Jack Imperial Pilsner'),\n",
       " (0.027413, 'Full Rosenberry'),\n",
       " (0.026798487, 'Winter Sesh'),\n",
       " (0.026572049, 'Seas The Day IPL')]"
      ]
     },
     "execution_count": 42,
     "metadata": {},
     "output_type": "execute_result"
    }
   ],
   "source": [
    "## beers corresponding to the highest values of pca0\n",
    "sorted(beer_comp0, key = itemgetter(0), reverse = True)[:10]"
   ]
  },
  {
   "cell_type": "code",
   "execution_count": 43,
   "metadata": {},
   "outputs": [
    {
     "data": {
      "text/plain": [
       "[(-0.0088316575, 'Sunday Driving'),\n",
       " (-0.0087829735, 'Cream Ale'),\n",
       " (-0.008557313, 'Grid Iron Irish Red'),\n",
       " (-0.008259866, 'Nocturnality'),\n",
       " (-0.008155828, 'Sir Phobos'),\n",
       " (-0.007877434, 'Carrabassett Pale Ale'),\n",
       " (-0.007852224, 'Bean Me Up Espresso Milk Stout'),\n",
       " (-0.007841992, 'Dirty Bastard - Bourbon-Soaked Apricots And Ginger'),\n",
       " (-0.007692527, 'Ahhh You Again'),\n",
       " (-0.007624732, \"Weekend At Brett's Barrel Aged\")]"
      ]
     },
     "execution_count": 43,
     "metadata": {},
     "output_type": "execute_result"
    }
   ],
   "source": [
    "## beers corresponding to the lowest values of pca0\n",
    "sorted(beer_comp0, key = itemgetter(0))[:10]"
   ]
  },
  {
   "cell_type": "markdown",
   "metadata": {},
   "source": [
    "# activation 규제 추가 --> 성능 안좋음 , 사용x"
   ]
  },
  {
   "cell_type": "code",
   "execution_count": 51,
   "metadata": {},
   "outputs": [],
   "source": [
    "from keras.regularizers import l1"
   ]
  },
  {
   "cell_type": "code",
   "execution_count": 61,
   "metadata": {},
   "outputs": [],
   "source": [
    "#dense layer에 L2 규제를 추가한 버전, activation에도 L1 규제를 추가해봄.\n",
    "##bias가 있음// + activation을 추가(sigmoid), 연산할 때 평점의 min, max도 함께 고려한다.\n",
    "##옵티마이저가 RMSprop\n",
    "\n",
    "def RecommenderV15(n_users, n_movies, n_factors, min_rating, max_rating):\n",
    "   \n",
    "    #input: user, beer\n",
    "    user = Input(shape=(1,))\n",
    "    u = EmbeddingLayer(n_users, n_factors)(user)\n",
    "    \n",
    "    beer = Input(shape=(1,))\n",
    "    b = EmbeddingLayer(n_beers, n_factors)(beer)\n",
    "    \n",
    "    #output: x, 연산과정\n",
    "    x = Concatenate()([u, b])\n",
    "    \n",
    "    x = Dense(10, kernel_initializer='he_normal',kernel_regularizer=l2(1e-6),activity_regularizer=l1(0.001))(x) #L2, L1 규제 추가 #규제 rate은 낮을수록 좋은 듯.\n",
    "    x = Activation('relu')(x)\n",
    "    \n",
    "    x = Dense(1, kernel_initializer='he_normal',kernel_regularizer=l2(1e-6),activity_regularizer=l1(0.001))(x) #L2, L1 규제 추가\n",
    "    x = Activation('sigmoid')(x)\n",
    "    x = Lambda(lambda x: x * (max_rating - min_rating) + min_rating)(x)\n",
    "\n",
    "    #완성되는 model\n",
    "    model = Model(inputs=[user, beer], outputs=x)\n",
    "    model.compile(loss=['mse'], metrics = ['mae','mse'] ,optimizer='RMSprop')\n",
    "\n",
    "    return model\n"
   ]
  },
  {
   "cell_type": "code",
   "execution_count": 62,
   "metadata": {},
   "outputs": [
    {
     "name": "stdout",
     "output_type": "stream",
     "text": [
      "Model: \"model_6\"\n",
      "__________________________________________________________________________________________________\n",
      "Layer (type)                    Output Shape         Param #     Connected to                     \n",
      "==================================================================================================\n",
      "input_16 (InputLayer)           (None, 1)            0                                            \n",
      "__________________________________________________________________________________________________\n",
      "input_17 (InputLayer)           (None, 1)            0                                            \n",
      "__________________________________________________________________________________________________\n",
      "embedding_15 (Embedding)        (None, 1, 50)        8246750     input_16[0][0]                   \n",
      "__________________________________________________________________________________________________\n",
      "embedding_16 (Embedding)        (None, 1, 50)        15477100    input_17[0][0]                   \n",
      "__________________________________________________________________________________________________\n",
      "reshape_15 (Reshape)            (None, 50)           0           embedding_15[0][0]               \n",
      "__________________________________________________________________________________________________\n",
      "reshape_16 (Reshape)            (None, 50)           0           embedding_16[0][0]               \n",
      "__________________________________________________________________________________________________\n",
      "concatenate_8 (Concatenate)     (None, 100)          0           reshape_15[0][0]                 \n",
      "                                                                 reshape_16[0][0]                 \n",
      "__________________________________________________________________________________________________\n",
      "dense_11 (Dense)                (None, 10)           1010        concatenate_8[0][0]              \n",
      "__________________________________________________________________________________________________\n",
      "activation_11 (Activation)      (None, 10)           0           dense_11[0][0]                   \n",
      "__________________________________________________________________________________________________\n",
      "dense_12 (Dense)                (None, 1)            11          activation_11[0][0]              \n",
      "__________________________________________________________________________________________________\n",
      "activation_12 (Activation)      (None, 1)            0           dense_12[0][0]                   \n",
      "__________________________________________________________________________________________________\n",
      "lambda_6 (Lambda)               (None, 1)            0           activation_12[0][0]              \n",
      "==================================================================================================\n",
      "Total params: 23,724,871\n",
      "Trainable params: 23,724,871\n",
      "Non-trainable params: 0\n",
      "__________________________________________________________________________________________________\n"
     ]
    }
   ],
   "source": [
    "re15model = RecommenderV15(n_users, n_beers, n_factors, min_rating, max_rating)\n",
    "re15model.summary()"
   ]
  },
  {
   "cell_type": "code",
   "execution_count": 63,
   "metadata": {},
   "outputs": [
    {
     "name": "stdout",
     "output_type": "stream",
     "text": [
      "Train on 7258502 samples, validate on 1814626 samples\n",
      "Epoch 1/10\n",
      "7258502/7258502 [==============================] - 1394s 192us/step - loss: 0.9749 - mae: 0.6418 - mse: 0.5488 - val_loss: 0.9678 - val_mae: 0.5220 - val_mse: 0.3800\n",
      "Epoch 2/10\n",
      "7258502/7258502 [==============================] - 1406s 194us/step - loss: 0.9245 - mae: 0.6006 - mse: 0.4738 - val_loss: 0.9619 - val_mae: 0.4911 - val_mse: 0.3440\n",
      "Epoch 3/10\n",
      "7258502/7258502 [==============================] - 1461s 201us/step - loss: 0.9137 - mae: 0.5952 - mse: 0.4640 - val_loss: 0.9492 - val_mae: 0.4830 - val_mse: 0.3347\n",
      "Epoch 4/10\n",
      "7258502/7258502 [==============================] - 1443s 199us/step - loss: 0.9085 - mae: 0.5927 - mse: 0.4592 - val_loss: 0.9514 - val_mae: 0.4732 - val_mse: 0.3243\n",
      "Epoch 5/10\n",
      "7258502/7258502 [==============================] - 1455s 200us/step - loss: 0.9052 - mae: 0.5911 - mse: 0.4561 - val_loss: 0.9390 - val_mae: 0.4861 - val_mse: 0.3362\n",
      "Epoch 6/10\n",
      "7258502/7258502 [==============================] - 1443s 199us/step - loss: 0.9032 - mae: 0.5900 - mse: 0.4540 - val_loss: 0.9223 - val_mae: 0.5134 - val_mse: 0.3653\n",
      "Epoch 7/10\n",
      "7258502/7258502 [==============================] - 1446s 199us/step - loss: 0.9020 - mae: 0.5891 - mse: 0.4524 - val_loss: 0.9247 - val_mae: 0.5116 - val_mse: 0.3630\n",
      "Epoch 8/10\n",
      "7258502/7258502 [==============================] - 1493s 206us/step - loss: 0.9014 - mae: 0.5885 - mse: 0.4511 - val_loss: 0.9409 - val_mae: 0.4735 - val_mse: 0.3222\n",
      "Epoch 9/10\n",
      "7258502/7258502 [==============================] - 1404s 193us/step - loss: 0.9008 - mae: 0.5879 - mse: 0.4499 - val_loss: 0.9488 - val_mae: 0.4640 - val_mse: 0.3134 0.5879 - mse: 0\n",
      "Epoch 10/10\n",
      "7258502/7258502 [==============================] - 1430s 197us/step - loss: 0.9006 - mae: 0.5874 - mse: 0.4490 - val_loss: 0.9404 - val_mae: 0.4667 - val_mse: 0.3157\n"
     ]
    }
   ],
   "source": [
    "## fit model\n",
    "seed = 7\n",
    "np.random.seed(seed)\n",
    "history_mf = re15model.fit(x=X_train_array, y=y_train, batch_size=1000, epochs=10,\n",
    "                    verbose=1, validation_data=(X_test_array, y_test)) "
   ]
  },
  {
   "cell_type": "code",
   "execution_count": 64,
   "metadata": {},
   "outputs": [
    {
     "data": {
      "text/html": [
       "<div>\n",
       "<style scoped>\n",
       "    .dataframe tbody tr th:only-of-type {\n",
       "        vertical-align: middle;\n",
       "    }\n",
       "\n",
       "    .dataframe tbody tr th {\n",
       "        vertical-align: top;\n",
       "    }\n",
       "\n",
       "    .dataframe thead th {\n",
       "        text-align: right;\n",
       "    }\n",
       "</style>\n",
       "<table border=\"1\" class=\"dataframe\">\n",
       "  <thead>\n",
       "    <tr style=\"text-align: right;\">\n",
       "      <th></th>\n",
       "      <th>val_loss</th>\n",
       "      <th>val_mae</th>\n",
       "      <th>val_mse</th>\n",
       "      <th>loss</th>\n",
       "      <th>mae</th>\n",
       "      <th>mse</th>\n",
       "      <th>epoch</th>\n",
       "    </tr>\n",
       "  </thead>\n",
       "  <tbody>\n",
       "    <tr>\n",
       "      <td>0</td>\n",
       "      <td>0.967767</td>\n",
       "      <td>0.521959</td>\n",
       "      <td>0.380043</td>\n",
       "      <td>0.974936</td>\n",
       "      <td>0.641778</td>\n",
       "      <td>0.548825</td>\n",
       "      <td>0</td>\n",
       "    </tr>\n",
       "    <tr>\n",
       "      <td>1</td>\n",
       "      <td>0.961899</td>\n",
       "      <td>0.491051</td>\n",
       "      <td>0.343961</td>\n",
       "      <td>0.924480</td>\n",
       "      <td>0.600648</td>\n",
       "      <td>0.473792</td>\n",
       "      <td>1</td>\n",
       "    </tr>\n",
       "    <tr>\n",
       "      <td>2</td>\n",
       "      <td>0.949190</td>\n",
       "      <td>0.483001</td>\n",
       "      <td>0.334680</td>\n",
       "      <td>0.913735</td>\n",
       "      <td>0.595183</td>\n",
       "      <td>0.463995</td>\n",
       "      <td>2</td>\n",
       "    </tr>\n",
       "    <tr>\n",
       "      <td>3</td>\n",
       "      <td>0.951403</td>\n",
       "      <td>0.473190</td>\n",
       "      <td>0.324303</td>\n",
       "      <td>0.908526</td>\n",
       "      <td>0.592683</td>\n",
       "      <td>0.459170</td>\n",
       "      <td>3</td>\n",
       "    </tr>\n",
       "    <tr>\n",
       "      <td>4</td>\n",
       "      <td>0.938997</td>\n",
       "      <td>0.486102</td>\n",
       "      <td>0.336214</td>\n",
       "      <td>0.905166</td>\n",
       "      <td>0.591086</td>\n",
       "      <td>0.456080</td>\n",
       "      <td>4</td>\n",
       "    </tr>\n",
       "    <tr>\n",
       "      <td>5</td>\n",
       "      <td>0.922331</td>\n",
       "      <td>0.513352</td>\n",
       "      <td>0.365294</td>\n",
       "      <td>0.903206</td>\n",
       "      <td>0.589961</td>\n",
       "      <td>0.453970</td>\n",
       "      <td>5</td>\n",
       "    </tr>\n",
       "    <tr>\n",
       "      <td>6</td>\n",
       "      <td>0.924670</td>\n",
       "      <td>0.511560</td>\n",
       "      <td>0.363027</td>\n",
       "      <td>0.902044</td>\n",
       "      <td>0.589146</td>\n",
       "      <td>0.452370</td>\n",
       "      <td>6</td>\n",
       "    </tr>\n",
       "    <tr>\n",
       "      <td>7</td>\n",
       "      <td>0.940933</td>\n",
       "      <td>0.473527</td>\n",
       "      <td>0.322199</td>\n",
       "      <td>0.901374</td>\n",
       "      <td>0.588481</td>\n",
       "      <td>0.451074</td>\n",
       "      <td>7</td>\n",
       "    </tr>\n",
       "    <tr>\n",
       "      <td>8</td>\n",
       "      <td>0.948789</td>\n",
       "      <td>0.463951</td>\n",
       "      <td>0.313365</td>\n",
       "      <td>0.900850</td>\n",
       "      <td>0.587853</td>\n",
       "      <td>0.449872</td>\n",
       "      <td>8</td>\n",
       "    </tr>\n",
       "    <tr>\n",
       "      <td>9</td>\n",
       "      <td>0.940397</td>\n",
       "      <td>0.466724</td>\n",
       "      <td>0.315662</td>\n",
       "      <td>0.900589</td>\n",
       "      <td>0.587400</td>\n",
       "      <td>0.448990</td>\n",
       "      <td>9</td>\n",
       "    </tr>\n",
       "  </tbody>\n",
       "</table>\n",
       "</div>"
      ],
      "text/plain": [
       "   val_loss   val_mae   val_mse      loss       mae       mse  epoch\n",
       "0  0.967767  0.521959  0.380043  0.974936  0.641778  0.548825      0\n",
       "1  0.961899  0.491051  0.343961  0.924480  0.600648  0.473792      1\n",
       "2  0.949190  0.483001  0.334680  0.913735  0.595183  0.463995      2\n",
       "3  0.951403  0.473190  0.324303  0.908526  0.592683  0.459170      3\n",
       "4  0.938997  0.486102  0.336214  0.905166  0.591086  0.456080      4\n",
       "5  0.922331  0.513352  0.365294  0.903206  0.589961  0.453970      5\n",
       "6  0.924670  0.511560  0.363027  0.902044  0.589146  0.452370      6\n",
       "7  0.940933  0.473527  0.322199  0.901374  0.588481  0.451074      7\n",
       "8  0.948789  0.463951  0.313365  0.900850  0.587853  0.449872      8\n",
       "9  0.940397  0.466724  0.315662  0.900589  0.587400  0.448990      9"
      ]
     },
     "execution_count": 64,
     "metadata": {},
     "output_type": "execute_result"
    }
   ],
   "source": [
    "## show loss & mae & mse at each epoch\n",
    "hist15 = pd.DataFrame(history_mf.history)\n",
    "hist15['epoch'] = history_mf.epoch\n",
    "hist15"
   ]
  },
  {
   "cell_type": "code",
   "execution_count": null,
   "metadata": {},
   "outputs": [],
   "source": []
  }
 ],
 "metadata": {
  "kernelspec": {
   "display_name": "Python 3",
   "language": "python",
   "name": "python3"
  },
  "language_info": {
   "codemirror_mode": {
    "name": "ipython",
    "version": 3
   },
   "file_extension": ".py",
   "mimetype": "text/x-python",
   "name": "python",
   "nbconvert_exporter": "python",
   "pygments_lexer": "ipython3",
   "version": "3.7.1"
  }
 },
 "nbformat": 4,
 "nbformat_minor": 2
}
