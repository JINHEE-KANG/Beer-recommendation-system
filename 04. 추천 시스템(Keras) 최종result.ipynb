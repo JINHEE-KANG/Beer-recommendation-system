{
 "cells": [
  {
   "cell_type": "markdown",
   "metadata": {},
   "source": [
    "- it's debatable whether this topic even qualifies as \"deep learning\" because we're going to see how to build a pretty good recommender system without using a neural network at all! We will, however, take advantage of the power of a modern computation framework like Keras to implement the recommender with minimal code. We'll try a couple different approaches using a technique called collaborative filtering. Finally we'll build a true neural network and see how it compares to the collaborative filtering approach."
   ]
  },
  {
   "cell_type": "markdown",
   "metadata": {},
   "source": [
    "\n",
    "- neural network(신경망) 같은 딥러닝을 쓰지 않아도 꽤 좋은 추천 시스템을 만들 수 있다. 그렇다면, 딥러닝은 왜 쓰는가?\n",
    "- 더 코드가 단순하다!\n",
    "- 더 많은 데이터를 사용할 수 있다!"
   ]
  },
  {
   "cell_type": "markdown",
   "metadata": {},
   "source": [
    "## Collaborative Filtering(CF)\n",
    "- 전처리 과정"
   ]
  },
  {
   "cell_type": "markdown",
   "metadata": {},
   "source": [
    "출처 : https://www.johnwittenauer.net/deep-learning-with-keras-recommender-systems/"
   ]
  },
  {
   "cell_type": "code",
   "execution_count": 1,
   "metadata": {
    "ExecuteTime": {
     "end_time": "2019-11-27T16:41:01.694377Z",
     "start_time": "2019-11-27T16:40:54.210691Z"
    }
   },
   "outputs": [],
   "source": [
    "%matplotlib inline\n",
    "import matplotlib.pyplot as plt\n",
    "import numpy as np\n",
    "import pandas as pd\n",
    "import seaborn as sns\n",
    "from sklearn.model_selection import train_test_split\n",
    "from sklearn.preprocessing import LabelEncoder"
   ]
  },
  {
   "cell_type": "code",
   "execution_count": 2,
   "metadata": {
    "ExecuteTime": {
     "end_time": "2019-11-27T16:41:26.091872Z",
     "start_time": "2019-11-27T16:41:07.516688Z"
    }
   },
   "outputs": [
    {
     "data": {
      "text/html": [
       "<div>\n",
       "<style scoped>\n",
       "    .dataframe tbody tr th:only-of-type {\n",
       "        vertical-align: middle;\n",
       "    }\n",
       "\n",
       "    .dataframe tbody tr th {\n",
       "        vertical-align: top;\n",
       "    }\n",
       "\n",
       "    .dataframe thead th {\n",
       "        text-align: right;\n",
       "    }\n",
       "</style>\n",
       "<table border=\"1\" class=\"dataframe\">\n",
       "  <thead>\n",
       "    <tr style=\"text-align: right;\">\n",
       "      <th></th>\n",
       "      <th>Unnamed: 0</th>\n",
       "      <th>beer_id</th>\n",
       "      <th>username</th>\n",
       "      <th>look</th>\n",
       "      <th>smell</th>\n",
       "      <th>taste</th>\n",
       "      <th>feel</th>\n",
       "      <th>overall</th>\n",
       "      <th>score</th>\n",
       "    </tr>\n",
       "  </thead>\n",
       "  <tbody>\n",
       "    <tr>\n",
       "      <td>0</td>\n",
       "      <td>0</td>\n",
       "      <td>271781</td>\n",
       "      <td>bluejacket74</td>\n",
       "      <td>4.00</td>\n",
       "      <td>4.00</td>\n",
       "      <td>4.0</td>\n",
       "      <td>4.25</td>\n",
       "      <td>4.00</td>\n",
       "      <td>4.03</td>\n",
       "    </tr>\n",
       "    <tr>\n",
       "      <td>1</td>\n",
       "      <td>9449</td>\n",
       "      <td>78043</td>\n",
       "      <td>bluejacket74</td>\n",
       "      <td>3.50</td>\n",
       "      <td>4.00</td>\n",
       "      <td>3.5</td>\n",
       "      <td>3.50</td>\n",
       "      <td>3.50</td>\n",
       "      <td>3.62</td>\n",
       "    </tr>\n",
       "    <tr>\n",
       "      <td>2</td>\n",
       "      <td>10982</td>\n",
       "      <td>225791</td>\n",
       "      <td>bluejacket74</td>\n",
       "      <td>4.25</td>\n",
       "      <td>4.00</td>\n",
       "      <td>4.0</td>\n",
       "      <td>3.75</td>\n",
       "      <td>4.00</td>\n",
       "      <td>3.99</td>\n",
       "    </tr>\n",
       "    <tr>\n",
       "      <td>3</td>\n",
       "      <td>17441</td>\n",
       "      <td>77030</td>\n",
       "      <td>bluejacket74</td>\n",
       "      <td>3.50</td>\n",
       "      <td>3.75</td>\n",
       "      <td>4.0</td>\n",
       "      <td>3.75</td>\n",
       "      <td>3.75</td>\n",
       "      <td>3.84</td>\n",
       "    </tr>\n",
       "    <tr>\n",
       "      <td>4</td>\n",
       "      <td>18672</td>\n",
       "      <td>47658</td>\n",
       "      <td>bluejacket74</td>\n",
       "      <td>4.50</td>\n",
       "      <td>5.00</td>\n",
       "      <td>5.0</td>\n",
       "      <td>5.00</td>\n",
       "      <td>5.00</td>\n",
       "      <td>4.97</td>\n",
       "    </tr>\n",
       "  </tbody>\n",
       "</table>\n",
       "</div>"
      ],
      "text/plain": [
       "   Unnamed: 0  beer_id      username  look  smell  taste  feel  overall  score\n",
       "0           0   271781  bluejacket74  4.00   4.00    4.0  4.25     4.00   4.03\n",
       "1        9449    78043  bluejacket74  3.50   4.00    3.5  3.50     3.50   3.62\n",
       "2       10982   225791  bluejacket74  4.25   4.00    4.0  3.75     4.00   3.99\n",
       "3       17441    77030  bluejacket74  3.50   3.75    4.0  3.75     3.75   3.84\n",
       "4       18672    47658  bluejacket74  4.50   5.00    5.0  5.00     5.00   4.97"
      ]
     },
     "execution_count": 2,
     "metadata": {},
     "output_type": "execute_result"
    }
   ],
   "source": [
    "df = pd.read_csv('new_df.csv')\n",
    "df.head()"
   ]
  },
  {
   "cell_type": "code",
   "execution_count": 3,
   "metadata": {
    "ExecuteTime": {
     "end_time": "2019-11-27T16:42:31.199539Z",
     "start_time": "2019-11-27T16:42:31.197539Z"
    }
   },
   "outputs": [
    {
     "name": "stdout",
     "output_type": "stream",
     "text": [
      "(4403885, 9)\n"
     ]
    }
   ],
   "source": [
    "print(df.shape) #중간발표 때 1차 전처리를 했던 440만개의 데이터를 활용하였다."
   ]
  },
  {
   "cell_type": "code",
   "execution_count": 4,
   "metadata": {
    "ExecuteTime": {
     "end_time": "2019-11-27T16:42:35.466500Z",
     "start_time": "2019-11-27T16:42:35.277458Z"
    }
   },
   "outputs": [
    {
     "data": {
      "text/html": [
       "<div>\n",
       "<style scoped>\n",
       "    .dataframe tbody tr th:only-of-type {\n",
       "        vertical-align: middle;\n",
       "    }\n",
       "\n",
       "    .dataframe tbody tr th {\n",
       "        vertical-align: top;\n",
       "    }\n",
       "\n",
       "    .dataframe thead th {\n",
       "        text-align: right;\n",
       "    }\n",
       "</style>\n",
       "<table border=\"1\" class=\"dataframe\">\n",
       "  <thead>\n",
       "    <tr style=\"text-align: right;\">\n",
       "      <th></th>\n",
       "      <th>beerid</th>\n",
       "      <th>userid</th>\n",
       "      <th>rating</th>\n",
       "    </tr>\n",
       "  </thead>\n",
       "  <tbody>\n",
       "    <tr>\n",
       "      <td>0</td>\n",
       "      <td>271781</td>\n",
       "      <td>bluejacket74</td>\n",
       "      <td>4.03</td>\n",
       "    </tr>\n",
       "    <tr>\n",
       "      <td>1</td>\n",
       "      <td>78043</td>\n",
       "      <td>bluejacket74</td>\n",
       "      <td>3.62</td>\n",
       "    </tr>\n",
       "    <tr>\n",
       "      <td>2</td>\n",
       "      <td>225791</td>\n",
       "      <td>bluejacket74</td>\n",
       "      <td>3.99</td>\n",
       "    </tr>\n",
       "    <tr>\n",
       "      <td>3</td>\n",
       "      <td>77030</td>\n",
       "      <td>bluejacket74</td>\n",
       "      <td>3.84</td>\n",
       "    </tr>\n",
       "    <tr>\n",
       "      <td>4</td>\n",
       "      <td>47658</td>\n",
       "      <td>bluejacket74</td>\n",
       "      <td>4.97</td>\n",
       "    </tr>\n",
       "  </tbody>\n",
       "</table>\n",
       "</div>"
      ],
      "text/plain": [
       "   beerid        userid  rating\n",
       "0  271781  bluejacket74    4.03\n",
       "1   78043  bluejacket74    3.62\n",
       "2  225791  bluejacket74    3.99\n",
       "3   77030  bluejacket74    3.84\n",
       "4   47658  bluejacket74    4.97"
      ]
     },
     "execution_count": 4,
     "metadata": {},
     "output_type": "execute_result"
    }
   ],
   "source": [
    "#잠깐 전처리\n",
    "\n",
    "cols = ['beer_id','username','score']\n",
    "df = df[cols]\n",
    "df.rename(columns = {'beer_id':'beerid','username':'userid','score':'rating'}, inplace = True)\n",
    "df.head()"
   ]
  },
  {
   "cell_type": "markdown",
   "metadata": {},
   "source": [
    "## LabelEncoder\n",
    "- user/beer 컬럼은 지금은 non-sequentail integer이다. 그러므로 unique ID를 나타내는 것으로 value를 바꿔주어야 한다.\n",
    "- 이 때 이용하는 것이 바로 'labelencoder()' <-발표자료에는 이것의 설명도 추가.(캡처확인)\n",
    "- 이를 이용하면 모델링을 위해, 변수의 value를 0부터 시작되는 숫자로 바꿀 수 있다. (숫자->숫자도 되고 문자->숫자도 된다.)"
   ]
  },
  {
   "cell_type": "code",
   "execution_count": 5,
   "metadata": {
    "ExecuteTime": {
     "end_time": "2019-11-27T16:42:43.052209Z",
     "start_time": "2019-11-27T16:42:38.373155Z"
    }
   },
   "outputs": [
    {
     "data": {
      "text/plain": [
       "(9012, 154711, 1.0, 5.0)"
      ]
     },
     "execution_count": 5,
     "metadata": {},
     "output_type": "execute_result"
    }
   ],
   "source": [
    "#딥러닝에 이용할 컬럼 변경: user, beer, rating\n",
    "\n",
    "user_enc = LabelEncoder()\n",
    "df['user'] = user_enc.fit_transform(df['userid'].values)\n",
    "n_users = df['user'].nunique()\n",
    "\n",
    "item_enc = LabelEncoder()\n",
    "df['beer'] = item_enc.fit_transform(df['beerid'].values)\n",
    "n_beers = df['beer'].nunique()\n",
    "\n",
    "df['rating'] = df['rating'].values.astype(np.float32)\n",
    "min_rating = min(df['rating'])\n",
    "max_rating = max(df['rating'])\n",
    "\n",
    "n_users, n_beers, min_rating, max_rating #n_users, n_beers: 유니크한 값 개수, rating의 최솟값과 최댓값."
   ]
  },
  {
   "cell_type": "code",
   "execution_count": 6,
   "metadata": {
    "ExecuteTime": {
     "end_time": "2019-11-27T16:42:46.866068Z",
     "start_time": "2019-11-27T16:42:46.855069Z"
    }
   },
   "outputs": [
    {
     "data": {
      "text/html": [
       "<div>\n",
       "<style scoped>\n",
       "    .dataframe tbody tr th:only-of-type {\n",
       "        vertical-align: middle;\n",
       "    }\n",
       "\n",
       "    .dataframe tbody tr th {\n",
       "        vertical-align: top;\n",
       "    }\n",
       "\n",
       "    .dataframe thead th {\n",
       "        text-align: right;\n",
       "    }\n",
       "</style>\n",
       "<table border=\"1\" class=\"dataframe\">\n",
       "  <thead>\n",
       "    <tr style=\"text-align: right;\">\n",
       "      <th></th>\n",
       "      <th>user</th>\n",
       "      <th>beer</th>\n",
       "      <th>rating</th>\n",
       "    </tr>\n",
       "  </thead>\n",
       "  <tbody>\n",
       "    <tr>\n",
       "      <td>0</td>\n",
       "      <td>5227</td>\n",
       "      <td>129595</td>\n",
       "      <td>4.03</td>\n",
       "    </tr>\n",
       "    <tr>\n",
       "      <td>1</td>\n",
       "      <td>5227</td>\n",
       "      <td>43239</td>\n",
       "      <td>3.62</td>\n",
       "    </tr>\n",
       "    <tr>\n",
       "      <td>2</td>\n",
       "      <td>5227</td>\n",
       "      <td>112870</td>\n",
       "      <td>3.99</td>\n",
       "    </tr>\n",
       "    <tr>\n",
       "      <td>3</td>\n",
       "      <td>5227</td>\n",
       "      <td>42548</td>\n",
       "      <td>3.84</td>\n",
       "    </tr>\n",
       "    <tr>\n",
       "      <td>4</td>\n",
       "      <td>5227</td>\n",
       "      <td>24908</td>\n",
       "      <td>4.97</td>\n",
       "    </tr>\n",
       "  </tbody>\n",
       "</table>\n",
       "</div>"
      ],
      "text/plain": [
       "   user    beer  rating\n",
       "0  5227  129595    4.03\n",
       "1  5227   43239    3.62\n",
       "2  5227  112870    3.99\n",
       "3  5227   42548    3.84\n",
       "4  5227   24908    4.97"
      ]
     },
     "execution_count": 6,
     "metadata": {},
     "output_type": "execute_result"
    }
   ],
   "source": [
    "df2=df[['user','beer','rating']] \n",
    "df2.head() #완료된 데이터셋. 여기서 'user','beer','rating'만 사용"
   ]
  },
  {
   "cell_type": "code",
   "execution_count": 7,
   "metadata": {},
   "outputs": [
    {
     "data": {
      "image/png": "[encoded data removed]",
      "text/plain": [
       "<Figure size 432x288 with 1 Axes>"
      ]
     },
     "metadata": {
      "needs_background": "light"
     },
     "output_type": "display_data"
    }
   ],
   "source": [
    "#rating의 분포 - 3,4,5점에 편중된 데이터.\n",
    "sns.distplot(df2['rating'])\n",
    "plt.show()"
   ]
  },
  {
   "cell_type": "markdown",
   "metadata": {},
   "source": [
    "- we will deal with rating as \"continuous\" as we are ok with predicting intermediate values.\n",
    "- the data is unbalanced, and most of the ratings are from 3 to 5. (Ideally we should consier the impact of such imbalance on the model)"
   ]
  },
  {
   "cell_type": "code",
   "execution_count": 8,
   "metadata": {
    "ExecuteTime": {
     "end_time": "2019-11-27T16:42:50.351854Z",
     "start_time": "2019-11-27T16:42:49.645695Z"
    }
   },
   "outputs": [
    {
     "data": {
      "text/plain": [
       "((3523108, 2), (880777, 2), (3523108,), (880777,))"
      ]
     },
     "execution_count": 8,
     "metadata": {},
     "output_type": "execute_result"
    }
   ],
   "source": [
    "#train, test 셋 분할: test size는 0.2, random_state는 임의로 지정\n",
    "X = df[['user', 'beer']].values\n",
    "y = df['rating'].values\n",
    "\n",
    "X_train, X_test, y_train, y_test = train_test_split(X, y, test_size=0.2, random_state=42)\n",
    "\n",
    "X_train.shape, X_test.shape, y_train.shape, y_test.shape"
   ]
  },
  {
   "cell_type": "code",
   "execution_count": 9,
   "metadata": {},
   "outputs": [
    {
     "data": {
      "text/plain": [
       "array([[ 2536, 47704],\n",
       "       [ 6471,  3864],\n",
       "       [ 3774, 41147],\n",
       "       ...,\n",
       "       [ 7422, 93757],\n",
       "       [ 8111,  1516],\n",
       "       [ 8160, 78494]], dtype=int64)"
      ]
     },
     "execution_count": 9,
     "metadata": {},
     "output_type": "execute_result"
    }
   ],
   "source": [
    "X_train"
   ]
  },
  {
   "cell_type": "code",
   "execution_count": 10,
   "metadata": {
    "ExecuteTime": {
     "end_time": "2019-11-27T16:42:54.302743Z",
     "start_time": "2019-11-27T16:42:54.300743Z"
    }
   },
   "outputs": [],
   "source": [
    "#딥러닝 모델을 만들 때 필요한 또다른 변수는: 잠재요인의 개수를 정하는 것!\n",
    "#잠재요인의 개수는 원하는 대로 설정하면 되지만, 주의할 것은 user와 beer 모두에 대해 같은 사이즈를 줘야 한다는 점.\n",
    "\n",
    "#우리는 50개로 간다!(X에 대해서만 적용)\n",
    "n_factors = 50\n",
    "\n",
    "#X를 array로 만들기\n",
    "X_train_array = [X_train[:, 0], X_train[:, 1]]\n",
    "X_test_array = [X_test[:, 0], X_test[:, 1]]"
   ]
  },
  {
   "cell_type": "code",
   "execution_count": 11,
   "metadata": {},
   "outputs": [
    {
     "data": {
      "text/plain": [
       "[array([2536, 6471, 3774, ..., 7422, 8111, 8160], dtype=int64),\n",
       " array([47704,  3864, 41147, ..., 93757,  1516, 78494], dtype=int64)]"
      ]
     },
     "execution_count": 11,
     "metadata": {},
     "output_type": "execute_result"
    }
   ],
   "source": [
    "X_train_array"
   ]
  },
  {
   "cell_type": "markdown",
   "metadata": {},
   "source": [
    "# Recommdation System using Keras \n",
    "- 각 유저와 각 맥주를 나타내기 위해 'embedding'이라는 것을 활용한다.->(설명부분 캡처)\n",
    "- 'embeddings'는 벡터이다(n_factor 사이즈의). 시작은 랜덤한 숫자로 가고, 각 유저/맥주의 필수적인 특징을 잡으면 fit model을 해보자.\n",
    "- fit model 과정) 유저 벡터와 맥주 벡터를 스칼라곱(dot product)하여 예측 평점을 계산함.\n",
    "- 이를 위해선 유니크한 유저 수와 맥주 수가 필요, -> 각각의 embedding matrix의 사이즈를 정의하기 위함."
   ]
  },
  {
   "cell_type": "markdown",
   "metadata": {},
   "source": [
    "- Now we get to the model itself. The main idea here is we're going to use embeddings to represent each user and each movie in the data. These embeddings will be vectors (of size n_factors) that start out as random numbers but are fit by the model to capture the essential qualities of each user/movie. We can accomplish this by computing the dot product between a user vector and a movie vector to get a predicted rating. The code is fairly simple, there isn't even a traditional neural network layer or activation involved. I stuck some regularization on the embedding layers and used a different initializer but even that probably isn't necessary. Notice that this is where we need the number of unique users and movies, since those are required to define the size of each embedding matrix."
   ]
  },
  {
   "cell_type": "code",
   "execution_count": 12,
   "metadata": {
    "ExecuteTime": {
     "end_time": "2019-11-27T16:43:14.561307Z",
     "start_time": "2019-11-27T16:43:05.998377Z"
    }
   },
   "outputs": [
    {
     "name": "stderr",
     "output_type": "stream",
     "text": [
      "Using TensorFlow backend.\n"
     ]
    }
   ],
   "source": [
    "#keras 라이브러리 로드\n",
    "from keras.models import Model\n",
    "from keras.layers import Input, Reshape, Dot\n",
    "from keras.layers import Embedding, Flatten, Dense, Dropout, concatenate, multiply, Input\n",
    "from keras.optimizers import Adam\n",
    "from keras.regularizers import l2\n",
    "from keras.layers import Add, Activation, Lambda"
   ]
  },
  {
   "cell_type": "markdown",
   "metadata": {},
   "source": [
    "## RecommenderV2 함수\n",
    "- 각각의 embedding에 'bias'를 추가해보자.\n",
    "- input : n_users(# of unique users), n_beers(# of uniuqe beers), n_factors(# of 잠재요인)\n",
    "- 이 함수를 사용하면 예측평점 계산하기가 아주 간편하다.(역시 계산이 간단한 딥러닝^-^)"
   ]
  },
  {
   "cell_type": "markdown",
   "metadata": {},
   "source": [
    "- 참고(케라스 사전: embedding): https://keras.io/layers/embeddings/"
   ]
  },
  {
   "cell_type": "code",
   "execution_count": 13,
   "metadata": {
    "ExecuteTime": {
     "end_time": "2019-11-27T16:43:20.928742Z",
     "start_time": "2019-11-27T16:43:20.924741Z"
    }
   },
   "outputs": [],
   "source": [
    "#I also refactored the code a bit by pulling out the embedding layer \n",
    "# and reshape operation into a separate class.\n",
    "\n",
    "class EmbeddingLayer:\n",
    "    def __init__(self, n_items, n_factors):\n",
    "        self.n_items = n_items\n",
    "        self.n_factors = n_factors\n",
    "    \n",
    "    def __call__(self, x):\n",
    "        x = Embedding(self.n_items, self.n_factors, embeddings_initializer='he_normal', \n",
    "                      #initializer는 정규분포\n",
    "                      embeddings_regularizer=l2(1e-6))(x) #정규화\n",
    "        x = Reshape((self.n_factors,))(x)\n",
    "        return x\n",
    "\n",
    "def RecommenderV2(n_users, n_beers, n_factors, min_rating, max_rating):\n",
    "    user = Input(shape=(1,))\n",
    "    u = EmbeddingLayer(n_users, n_factors)(user) #u는 user * n_factor\n",
    "    ub = EmbeddingLayer(n_users, 1)(user)\n",
    "    \n",
    "    beer = Input(shape=(1,))\n",
    "    m = EmbeddingLayer(n_beers, n_factors)(beer) #m은 beer * n_factor\n",
    "    mb = EmbeddingLayer(n_beers, 1)(beer)\n",
    "\n",
    "    x = Dot(axes=1)([u, m]) #예측행렬 R_hat은 u*m을 한 것.\n",
    "    x = Add()([x, ub, mb])\n",
    "    x = Activation('sigmoid')(x)\n",
    "    x = Lambda(lambda x: x * (max_rating - min_rating) + min_rating)(x)\n",
    "\n",
    "    model = Model(inputs=[user, beer], outputs=x)\n",
    "    opt = Adam(lr=0.002) #learning rate(학습률) 설정. #optimizer인 최적화 방법은 Adam을 씀.\n",
    "    #Adam 알고리즘 설명: https://forensics.tistory.com/28\n",
    "    #학습률 설정은 경사하강법, sgd 등 여러 가지를 쓸 수 있는데, 예시 코드에서 adam을 써서..\n",
    "    model.compile(loss=['mse'], metrics = ['mae','mse'] ,optimizer=opt) #loss와 함께 출력할 mae, mse는 metrics로 설정.\n",
    "\n",
    "    return model"
   ]
  },
  {
   "cell_type": "code",
   "execution_count": 14,
   "metadata": {
    "ExecuteTime": {
     "end_time": "2019-11-27T16:43:23.993433Z",
     "start_time": "2019-11-27T16:43:23.836396Z"
    }
   },
   "outputs": [
    {
     "name": "stdout",
     "output_type": "stream",
     "text": [
      "Model: \"model_1\"\n",
      "__________________________________________________________________________________________________\n",
      "Layer (type)                    Output Shape         Param #     Connected to                     \n",
      "==================================================================================================\n",
      "input_1 (InputLayer)            (None, 1)            0                                            \n",
      "__________________________________________________________________________________________________\n",
      "input_2 (InputLayer)            (None, 1)            0                                            \n",
      "__________________________________________________________________________________________________\n",
      "embedding_1 (Embedding)         (None, 1, 50)        450600      input_1[0][0]                    \n",
      "__________________________________________________________________________________________________\n",
      "embedding_3 (Embedding)         (None, 1, 50)        7735550     input_2[0][0]                    \n",
      "__________________________________________________________________________________________________\n",
      "reshape_1 (Reshape)             (None, 50)           0           embedding_1[0][0]                \n",
      "__________________________________________________________________________________________________\n",
      "reshape_3 (Reshape)             (None, 50)           0           embedding_3[0][0]                \n",
      "__________________________________________________________________________________________________\n",
      "embedding_2 (Embedding)         (None, 1, 1)         9012        input_1[0][0]                    \n",
      "__________________________________________________________________________________________________\n",
      "embedding_4 (Embedding)         (None, 1, 1)         154711      input_2[0][0]                    \n",
      "__________________________________________________________________________________________________\n",
      "dot_1 (Dot)                     (None, 1)            0           reshape_1[0][0]                  \n",
      "                                                                 reshape_3[0][0]                  \n",
      "__________________________________________________________________________________________________\n",
      "reshape_2 (Reshape)             (None, 1)            0           embedding_2[0][0]                \n",
      "__________________________________________________________________________________________________\n",
      "reshape_4 (Reshape)             (None, 1)            0           embedding_4[0][0]                \n",
      "__________________________________________________________________________________________________\n",
      "add_1 (Add)                     (None, 1)            0           dot_1[0][0]                      \n",
      "                                                                 reshape_2[0][0]                  \n",
      "                                                                 reshape_4[0][0]                  \n",
      "__________________________________________________________________________________________________\n",
      "activation_1 (Activation)       (None, 1)            0           add_1[0][0]                      \n",
      "__________________________________________________________________________________________________\n",
      "lambda_1 (Lambda)               (None, 1)            0           activation_1[0][0]               \n",
      "==================================================================================================\n",
      "Total params: 8,349,873\n",
      "Trainable params: 8,349,873\n",
      "Non-trainable params: 0\n",
      "__________________________________________________________________________________________________\n"
     ]
    }
   ],
   "source": [
    "model = RecommenderV2(n_users, n_beers, n_factors, min_rating, max_rating)\n",
    "model.summary()"
   ]
  },
  {
   "cell_type": "markdown",
   "metadata": {},
   "source": [
    "## 모델 train셋에 학습\n",
    "예: model.fit(x, y, batch_size=32, epochs=10)\n",
    "- x: 입력 데이터\n",
    "- y: 라벨 값\n",
    "- batch_size : 몇 개의 샘플로 가중치를 갱신할 것인지 지정 (작을수록 가중치 갱신이 자주 일어남, 더 업데이트를 많이 하게 됨.)\n",
    "- epochs : 학습 반복의 횟수 (클수록 학습을 많이 하므로 정확도가 높아지지만, 너무 크면 과적합의 가능성)\n",
    "- 참고) https://tykimos.github.io/2017/03/25/Fit_Talk/ 설명 잘나와있음!"
   ]
  },
  {
   "cell_type": "code",
   "execution_count": 15,
   "metadata": {
    "ExecuteTime": {
     "end_time": "2019-11-27T19:32:26.675015Z",
     "start_time": "2019-11-27T16:43:45.742331Z"
    },
    "scrolled": true
   },
   "outputs": [
    {
     "name": "stdout",
     "output_type": "stream",
     "text": [
      "WARNING:tensorflow:From C:\\Users\\suyn3\\.conda\\envs\\tf0\\lib\\site-packages\\keras\\backend\\tensorflow_backend.py:422: The name tf.global_variables is deprecated. Please use tf.compat.v1.global_variables instead.\n",
      "\n",
      "Train on 3523108 samples, validate on 880777 samples\n",
      "Epoch 1/4\n",
      "3523108/3523108 [==============================] - 1930s 548us/step - loss: 0.2176 - mae: 0.3200 - mse: 0.1931 - val_loss: 0.1675 - val_mae: 0.2739 - val_mse: 0.1429\n",
      "Epoch 2/4\n",
      "3523108/3523108 [==============================] - 1902s 540us/step - loss: 0.1630 - mae: 0.2665 - mse: 0.1359 - val_loss: 0.1654 - val_mae: 0.2680 - val_mse: 0.1383\n",
      "Epoch 3/4\n",
      "3523108/3523108 [==============================] - 1887s 536us/step - loss: 0.1597 - mae: 0.2601 - mse: 0.1298 - val_loss: 0.1668 - val_mae: 0.2670 - val_mse: 0.1376\n",
      "Epoch 4/4\n",
      "3523108/3523108 [==============================] - 1898s 539us/step - loss: 0.1583 - mae: 0.2573 - mse: 0.1268 - val_loss: 0.1682 - val_mae: 0.2671 - val_mse: 0.1380\n"
     ]
    }
   ],
   "source": [
    "## fit model\n",
    "import numpy as np\n",
    "seed = 7\n",
    "np.random.seed(seed)\n",
    "history_mf = model.fit(x=X_train_array, y=y_train, batch_size=250, epochs=4,\n",
    "                    verbose=1, validation_data=(X_test_array, y_test)) #배치 500일때: 한 epoch 돌아갈 때마다 약 20분 걸림, 학습 계속 할수록 조금씩 줄긴함.\n",
    "                                                                                                    #배치 250일때: 한 epoch 돌아갈 때마다 약 32분 걸림.\n",
    "    \n",
    "    \n",
    "#Train on 3523108 samples, validate on 880777 samples\n",
    "#Epoch 1/4\n",
    "#3523108/3523108 [==============================] - 1930s 548us/step - loss: 0.2176 - mae: 0.3200 - mse: 0.1931 - val_loss: 0.1675 - val_mae: 0.2739 - val_mse: 0.1429\n",
    "#Epoch 2/4\n",
    "#3523108/3523108 [==============================] - 1902s 540us/step - loss: 0.1630 - mae: 0.2665 - mse: 0.1359 - val_loss: 0.1654 - val_mae: 0.2680 - val_mse: 0.1383\n",
    "#Epoch 3/4\n",
    "#3523108/3523108 [==============================] - 1887s 536us/step - loss: 0.1597 - mae: 0.2601 - mse: 0.1298 - val_loss: 0.1668 - val_mae: 0.2670 - val_mse: 0.1376\n",
    "#Epoch 4/4\n",
    "#3523108/3523108 [==============================] - 1898s 539us/step - loss: 0.1583 - mae: 0.2573 - mse: 0.1268 - val_loss: 0.1682 - val_mae: 0.2671 - val_mse: 0.1380"
   ]
  },
  {
   "cell_type": "markdown",
   "metadata": {},
   "source": [
    "## 모델의 학습과정 살펴보기\n",
    "- https://tykimos.github.io/2017/01/27/Keras_Talk/"
   ]
  },
  {
   "cell_type": "code",
   "execution_count": 16,
   "metadata": {
    "ExecuteTime": {
     "end_time": "2019-11-27T19:32:27.060102Z",
     "start_time": "2019-11-27T19:32:26.806045Z"
    }
   },
   "outputs": [
    {
     "data": {
      "text/html": [
       "<div>\n",
       "<style scoped>\n",
       "    .dataframe tbody tr th:only-of-type {\n",
       "        vertical-align: middle;\n",
       "    }\n",
       "\n",
       "    .dataframe tbody tr th {\n",
       "        vertical-align: top;\n",
       "    }\n",
       "\n",
       "    .dataframe thead th {\n",
       "        text-align: right;\n",
       "    }\n",
       "</style>\n",
       "<table border=\"1\" class=\"dataframe\">\n",
       "  <thead>\n",
       "    <tr style=\"text-align: right;\">\n",
       "      <th></th>\n",
       "      <th>val_loss</th>\n",
       "      <th>val_mae</th>\n",
       "      <th>val_mse</th>\n",
       "      <th>loss</th>\n",
       "      <th>mae</th>\n",
       "      <th>mse</th>\n",
       "      <th>epoch</th>\n",
       "    </tr>\n",
       "  </thead>\n",
       "  <tbody>\n",
       "    <tr>\n",
       "      <td>0</td>\n",
       "      <td>0.167467</td>\n",
       "      <td>0.273923</td>\n",
       "      <td>0.142893</td>\n",
       "      <td>0.217640</td>\n",
       "      <td>0.319983</td>\n",
       "      <td>0.193101</td>\n",
       "      <td>0</td>\n",
       "    </tr>\n",
       "    <tr>\n",
       "      <td>1</td>\n",
       "      <td>0.165420</td>\n",
       "      <td>0.268024</td>\n",
       "      <td>0.138346</td>\n",
       "      <td>0.162994</td>\n",
       "      <td>0.266498</td>\n",
       "      <td>0.135919</td>\n",
       "      <td>1</td>\n",
       "    </tr>\n",
       "    <tr>\n",
       "      <td>2</td>\n",
       "      <td>0.166801</td>\n",
       "      <td>0.266976</td>\n",
       "      <td>0.137625</td>\n",
       "      <td>0.159678</td>\n",
       "      <td>0.260065</td>\n",
       "      <td>0.129779</td>\n",
       "      <td>2</td>\n",
       "    </tr>\n",
       "    <tr>\n",
       "      <td>3</td>\n",
       "      <td>0.168201</td>\n",
       "      <td>0.267143</td>\n",
       "      <td>0.137998</td>\n",
       "      <td>0.158346</td>\n",
       "      <td>0.257274</td>\n",
       "      <td>0.126849</td>\n",
       "      <td>3</td>\n",
       "    </tr>\n",
       "  </tbody>\n",
       "</table>\n",
       "</div>"
      ],
      "text/plain": [
       "   val_loss   val_mae   val_mse      loss       mae       mse  epoch\n",
       "0  0.167467  0.273923  0.142893  0.217640  0.319983  0.193101      0\n",
       "1  0.165420  0.268024  0.138346  0.162994  0.266498  0.135919      1\n",
       "2  0.166801  0.266976  0.137625  0.159678  0.260065  0.129779      2\n",
       "3  0.168201  0.267143  0.137998  0.158346  0.257274  0.126849      3"
      ]
     },
     "execution_count": 16,
     "metadata": {},
     "output_type": "execute_result"
    }
   ],
   "source": [
    "## show loss & mae & mse at each epoch\n",
    "hist = pd.DataFrame(history_mf.history)\n",
    "hist['epoch'] = history_mf.epoch\n",
    "hist"
   ]
  },
  {
   "cell_type": "code",
   "execution_count": 17,
   "metadata": {},
   "outputs": [
    {
     "name": "stdout",
     "output_type": "stream",
     "text": [
      "880777/880777 [==============================] - 24s 27us/step\n",
      "## evaluation loss and_metrics ##\n",
      "[0.16820117165986248, 0.2671428620815277, 0.13799847662448883]\n"
     ]
    }
   ],
   "source": [
    "#모델 평가하기; model.evaluate()\n",
    "loss_and_metrics = model.evaluate(X_test_array, y_test, batch_size=500)\n",
    "print('## evaluation loss and_metrics ##')\n",
    "print(loss_and_metrics)"
   ]
  },
  {
   "cell_type": "markdown",
   "metadata": {},
   "source": [
    "## Interpretation of embedding/bias values\n",
    "- Ideally, if we have trained the model enough to learn about the latent factors of the users/books, \n",
    "- the values of the bias or embedding matrices should have a meaning about the underlying characteristics of what they represent. \n",
    "- Although this model is preliminary, we will see how we could interpret these values with a good model."
   ]
  },
  {
   "cell_type": "code",
   "execution_count": 18,
   "metadata": {
    "ExecuteTime": {
     "end_time": "2019-11-28T01:51:34.436692Z",
     "start_time": "2019-11-28T01:51:34.425689Z"
    }
   },
   "outputs": [
    {
     "data": {
      "text/html": [
       "<div>\n",
       "<style scoped>\n",
       "    .dataframe tbody tr th:only-of-type {\n",
       "        vertical-align: middle;\n",
       "    }\n",
       "\n",
       "    .dataframe tbody tr th {\n",
       "        vertical-align: top;\n",
       "    }\n",
       "\n",
       "    .dataframe thead th {\n",
       "        text-align: right;\n",
       "    }\n",
       "</style>\n",
       "<table border=\"1\" class=\"dataframe\">\n",
       "  <thead>\n",
       "    <tr style=\"text-align: right;\">\n",
       "      <th></th>\n",
       "      <th>id</th>\n",
       "      <th>name</th>\n",
       "      <th>brewery_id</th>\n",
       "      <th>state</th>\n",
       "      <th>country</th>\n",
       "      <th>style</th>\n",
       "      <th>availability</th>\n",
       "      <th>abv</th>\n",
       "      <th>notes</th>\n",
       "      <th>retired</th>\n",
       "    </tr>\n",
       "  </thead>\n",
       "  <tbody>\n",
       "    <tr>\n",
       "      <td>0</td>\n",
       "      <td>202522</td>\n",
       "      <td>Olde Cogitator</td>\n",
       "      <td>2199</td>\n",
       "      <td>CA</td>\n",
       "      <td>US</td>\n",
       "      <td>English Oatmeal Stout</td>\n",
       "      <td>Rotating</td>\n",
       "      <td>7.3</td>\n",
       "      <td>No notes at this time.</td>\n",
       "      <td>f</td>\n",
       "    </tr>\n",
       "    <tr>\n",
       "      <td>1</td>\n",
       "      <td>82352</td>\n",
       "      <td>Konrads Stout Russian Imperial Stout</td>\n",
       "      <td>18604</td>\n",
       "      <td>NaN</td>\n",
       "      <td>NO</td>\n",
       "      <td>Russian Imperial Stout</td>\n",
       "      <td>Rotating</td>\n",
       "      <td>10.4</td>\n",
       "      <td>No notes at this time.</td>\n",
       "      <td>f</td>\n",
       "    </tr>\n",
       "    <tr>\n",
       "      <td>2</td>\n",
       "      <td>214879</td>\n",
       "      <td>Scottish Right</td>\n",
       "      <td>44306</td>\n",
       "      <td>IN</td>\n",
       "      <td>US</td>\n",
       "      <td>Scottish Ale</td>\n",
       "      <td>Year-round</td>\n",
       "      <td>4.0</td>\n",
       "      <td>No notes at this time.</td>\n",
       "      <td>t</td>\n",
       "    </tr>\n",
       "    <tr>\n",
       "      <td>3</td>\n",
       "      <td>320009</td>\n",
       "      <td>MegaMeow Imperial Stout</td>\n",
       "      <td>4378</td>\n",
       "      <td>WA</td>\n",
       "      <td>US</td>\n",
       "      <td>American Imperial Stout</td>\n",
       "      <td>Winter</td>\n",
       "      <td>8.7</td>\n",
       "      <td>Every time this year</td>\n",
       "      <td>f</td>\n",
       "    </tr>\n",
       "    <tr>\n",
       "      <td>4</td>\n",
       "      <td>246438</td>\n",
       "      <td>Peaches-N-Cream</td>\n",
       "      <td>44617</td>\n",
       "      <td>PA</td>\n",
       "      <td>US</td>\n",
       "      <td>American Cream Ale</td>\n",
       "      <td>Rotating</td>\n",
       "      <td>5.1</td>\n",
       "      <td>No notes at this time.</td>\n",
       "      <td>f</td>\n",
       "    </tr>\n",
       "  </tbody>\n",
       "</table>\n",
       "</div>"
      ],
      "text/plain": [
       "       id                                  name  brewery_id state country  \\\n",
       "0  202522                        Olde Cogitator        2199    CA      US   \n",
       "1   82352  Konrads Stout Russian Imperial Stout       18604   NaN      NO   \n",
       "2  214879                        Scottish Right       44306    IN      US   \n",
       "3  320009               MegaMeow Imperial Stout        4378    WA      US   \n",
       "4  246438                       Peaches-N-Cream       44617    PA      US   \n",
       "\n",
       "                     style availability   abv                   notes retired  \n",
       "0    English Oatmeal Stout     Rotating   7.3  No notes at this time.       f  \n",
       "1   Russian Imperial Stout     Rotating  10.4  No notes at this time.       f  \n",
       "2             Scottish Ale   Year-round   4.0  No notes at this time.       t  \n",
       "3  American Imperial Stout       Winter   8.7    Every time this year       f  \n",
       "4       American Cream Ale     Rotating   5.1  No notes at this time.       f  "
      ]
     },
     "execution_count": 18,
     "metadata": {},
     "output_type": "execute_result"
    }
   ],
   "source": [
    "beers = pd.read_csv('beers.csv')\n",
    "beers.head()"
   ]
  },
  {
   "cell_type": "code",
   "execution_count": 19,
   "metadata": {
    "ExecuteTime": {
     "end_time": "2019-11-28T01:52:39.149268Z",
     "start_time": "2019-11-28T01:52:37.947999Z"
    }
   },
   "outputs": [],
   "source": [
    "## create a dictionary out of beerid, beer original title\n",
    "beers_dict = beers.set_index('id')['name'].to_dict()"
   ]
  },
  {
   "cell_type": "code",
   "execution_count": 20,
   "metadata": {},
   "outputs": [
    {
     "data": {
      "text/plain": [
       "[<keras.engine.input_layer.InputLayer at 0x247c4df0ec8>,\n",
       " <keras.engine.input_layer.InputLayer at 0x24783c4d108>,\n",
       " <keras.layers.embeddings.Embedding at 0x24783c4d248>,\n",
       " <keras.layers.embeddings.Embedding at 0x247c4e78108>,\n",
       " <keras.layers.core.Reshape at 0x24783c4d308>,\n",
       " <keras.layers.core.Reshape at 0x247c4e787c8>,\n",
       " <keras.layers.embeddings.Embedding at 0x24783c43e88>,\n",
       " <keras.layers.embeddings.Embedding at 0x247c4ebba48>,\n",
       " <keras.layers.merge.Dot at 0x247c4ea4908>,\n",
       " <keras.layers.core.Reshape at 0x247c4df8dc8>,\n",
       " <keras.layers.core.Reshape at 0x247c4ec3208>,\n",
       " <keras.layers.merge.Add at 0x247c4f2c608>,\n",
       " <keras.layers.core.Activation at 0x247c4f00b48>,\n",
       " <keras.layers.core.Lambda at 0x247c4f4d108>]"
      ]
     },
     "execution_count": 20,
     "metadata": {},
     "output_type": "execute_result"
    }
   ],
   "source": [
    "model.layers"
   ]
  },
  {
   "cell_type": "code",
   "execution_count": 21,
   "metadata": {
    "ExecuteTime": {
     "end_time": "2019-11-28T01:51:59.097246Z",
     "start_time": "2019-11-28T01:51:58.985222Z"
    }
   },
   "outputs": [
    {
     "data": {
      "text/plain": [
       "(154711, 50)"
      ]
     },
     "execution_count": 21,
     "metadata": {},
     "output_type": "execute_result"
    }
   ],
   "source": [
    "## get weights of the beers embedding matrix\n",
    "beer_embedding_weights = model.layers[3].get_weights()[0] #3은 beer-embedding : layer 확인! ##이게 잘못돼있어서, 밑에 PCA 부터도 다시 돌리기.\n",
    "beer_embedding_weights.shape"
   ]
  },
  {
   "cell_type": "code",
   "execution_count": 22,
   "metadata": {
    "scrolled": true
   },
   "outputs": [
    {
     "data": {
      "text/plain": [
       "array([[-2.11319616e-30,  2.14778052e-30, -2.17935204e-30,\n",
       "        -2.07657284e-30, -2.11760474e-30, -2.13666204e-30,\n",
       "         2.18124055e-30,  2.05374744e-29,  2.15454516e-30,\n",
       "        -2.18041168e-30,  2.08636593e-30, -2.16191203e-30,\n",
       "         2.15873782e-30,  2.15002600e-30, -2.15377404e-30,\n",
       "         2.11391632e-30,  2.18631718e-30, -2.16265175e-30,\n",
       "        -2.06380828e-30, -2.15363148e-30, -2.18904940e-30,\n",
       "        -2.14692175e-30, -2.14125192e-30, -1.89904642e-19,\n",
       "         2.13677282e-30,  2.12229769e-30,  1.42428158e-19,\n",
       "        -2.14968802e-30,  2.13059141e-30,  2.18704862e-30,\n",
       "        -2.17370441e-30, -1.60629388e-29,  2.18534424e-30,\n",
       "        -2.15922401e-30,  2.01162348e-30,  2.13957012e-30,\n",
       "        -2.12270770e-30, -2.17040136e-30, -2.15907279e-30,\n",
       "        -4.63961040e-17,  2.16892927e-30,  2.13868784e-30,\n",
       "        -2.18471644e-30, -2.17044330e-30, -2.17854970e-30,\n",
       "         2.18998322e-30, -2.15247705e-30, -2.17797474e-30,\n",
       "        -1.93628426e-30,  2.17090805e-30],\n",
       "       [ 2.78446223e-05,  8.30487252e-08, -3.89625784e-05,\n",
       "         2.50174693e-04, -1.40668153e-05, -2.55442976e-11,\n",
       "         8.67031707e-12,  2.63879629e-04, -1.13815513e-04,\n",
       "        -1.25820321e-09,  5.50022596e-05,  6.79174809e-06,\n",
       "         2.77236182e-07,  2.63861398e-11,  4.79459288e-07,\n",
       "         2.67962832e-06,  1.47619772e-07,  4.51421556e-06,\n",
       "        -1.19230233e-03,  4.05974525e-08,  2.77474392e-05,\n",
       "         2.59682764e-07,  8.67075687e-06, -1.72930933e-03,\n",
       "        -1.49705214e-03,  1.40996752e-04,  3.77236021e-04,\n",
       "         1.86055345e-07, -8.13249426e-05, -3.27646546e-07,\n",
       "         5.05751173e-04, -3.15118791e-06, -3.50546361e-06,\n",
       "        -1.15114693e-18, -1.39226440e-05,  1.40180830e-07,\n",
       "         1.82759366e-03, -7.14749040e-04, -2.94578779e-08,\n",
       "        -7.58233806e-03,  7.02580612e-04, -1.12817643e-05,\n",
       "        -6.97687824e-07, -1.58663070e-07,  3.91020922e-06,\n",
       "        -3.39250022e-07, -5.27554657e-05,  6.22742791e-09,\n",
       "        -6.17565365e-06,  2.95695514e-07],\n",
       "       [ 9.83026400e-02, -2.81028718e-01, -4.01205942e-02,\n",
       "        -3.48832846e-01,  1.61438733e-02, -2.45272532e-01,\n",
       "        -1.01614155e-01, -3.18660259e-01, -9.73504856e-02,\n",
       "        -1.93550214e-01,  8.37992430e-02,  1.84059069e-01,\n",
       "         3.24716866e-02, -4.37059961e-02,  1.47398710e-01,\n",
       "        -1.02581829e-01,  3.27610135e-01,  2.17130527e-01,\n",
       "        -1.16307266e-01,  2.83929482e-02,  2.80608609e-02,\n",
       "         1.09195918e-01, -1.74289718e-02,  5.61287627e-02,\n",
       "         2.05537364e-01, -1.30094260e-01, -2.53520440e-02,\n",
       "        -1.30444437e-01, -1.73388988e-01, -7.07661510e-02,\n",
       "         1.65746324e-02,  6.04766272e-02, -1.38565660e-01,\n",
       "         8.99082124e-02, -1.59103319e-01, -2.13134021e-01,\n",
       "        -9.58574191e-02, -6.15140311e-02,  5.77604175e-02,\n",
       "        -3.45195383e-01, -1.47052007e-02,  5.19139990e-02,\n",
       "        -4.37968709e-02, -2.04909593e-01, -1.87997535e-01,\n",
       "        -9.88352820e-02,  2.49403968e-01, -3.74380141e-01,\n",
       "         3.01324576e-01, -2.11675495e-01],\n",
       "       [-1.16290189e-01,  1.91286474e-01, -3.25165167e-02,\n",
       "        -1.00403428e-01, -6.99096695e-02, -2.79733865e-03,\n",
       "         8.42188392e-03, -1.03936315e-01, -4.92906338e-03,\n",
       "        -1.36951074e-01, -1.28640190e-01, -6.49993820e-03,\n",
       "         3.72210354e-01,  1.13571370e-02,  4.68179956e-02,\n",
       "        -7.10314289e-02,  2.02038094e-01,  8.01759735e-02,\n",
       "        -9.46317539e-02,  7.66344741e-02,  5.79719730e-02,\n",
       "        -3.23422961e-02, -8.02840069e-02,  7.27895871e-02,\n",
       "         1.61833137e-01, -4.53001522e-02, -4.99157719e-02,\n",
       "        -1.40793115e-01, -1.74135238e-01, -4.66647558e-02,\n",
       "         7.38914385e-02, -8.23533162e-02, -3.49702388e-01,\n",
       "        -4.68521044e-02,  8.53637382e-02, -2.83740349e-02,\n",
       "        -1.94476649e-01,  7.80987591e-02, -7.35964905e-03,\n",
       "        -3.49781334e-01, -9.54325050e-02,  8.92675817e-02,\n",
       "        -3.54407472e-03,  1.00046709e-01,  4.73953485e-02,\n",
       "         7.25383125e-03,  1.24843277e-01, -1.62982404e-01,\n",
       "         1.22642167e-01,  2.05590785e-03],\n",
       "       [-2.71324128e-01, -3.16061974e-01,  4.82966118e-02,\n",
       "         3.59828584e-02,  1.71106588e-02, -1.30221426e-01,\n",
       "        -2.43961349e-01, -2.75664955e-01, -2.05426782e-01,\n",
       "        -6.57340959e-02,  9.77788046e-02,  1.52918816e-01,\n",
       "         2.38796532e-01, -3.21308076e-02,  4.39073682e-01,\n",
       "        -1.92043185e-01,  3.18196639e-02, -7.99499825e-03,\n",
       "        -5.00701182e-02, -4.97817025e-02,  3.72785449e-01,\n",
       "         1.95364103e-01,  1.09397769e-01, -1.17958861e-03,\n",
       "        -3.28239575e-02,  1.57837912e-01, -7.10172653e-02,\n",
       "        -2.03720659e-01, -2.17069849e-01, -2.31437217e-02,\n",
       "        -2.74955601e-01, -1.61343068e-01, -3.33195895e-01,\n",
       "         1.52923256e-01, -1.06298029e-02, -2.25586183e-02,\n",
       "        -1.67880878e-01, -1.92819640e-01, -3.13143522e-01,\n",
       "        -2.41373688e-01, -3.13764900e-01,  2.79091299e-02,\n",
       "        -3.58593427e-02, -3.15492034e-01,  8.44177091e-04,\n",
       "         7.08278567e-02,  1.98754370e-01, -1.68985873e-02,\n",
       "         1.98394924e-01,  1.95129052e-01]], dtype=float32)"
      ]
     },
     "execution_count": 22,
     "metadata": {},
     "output_type": "execute_result"
    }
   ],
   "source": [
    "beer_embedding_weights[:5]"
   ]
  },
  {
   "cell_type": "markdown",
   "metadata": {},
   "source": [
    "## PCA\n",
    "- To compress these these vectors into fewer dimensions, we can use Principal Component Analysis(PCA)to reduce the dim_embedddings to three components.\n",
    "- 참고: https://www.onceupondata.com/2019/02/10/nn-collaborative-filtering/ "
   ]
  },
  {
   "cell_type": "code",
   "execution_count": 23,
   "metadata": {
    "ExecuteTime": {
     "end_time": "2019-11-28T01:52:01.346753Z",
     "start_time": "2019-11-28T01:52:00.761621Z"
    }
   },
   "outputs": [
    {
     "data": {
      "text/plain": [
       "(3, 154711)"
      ]
     },
     "execution_count": 23,
     "metadata": {},
     "output_type": "execute_result"
    }
   ],
   "source": [
    "## import PCA\n",
    "from sklearn.decomposition import PCA\n",
    "\n",
    "pca = PCA(n_components = 3) ## use 3 components\n",
    "beer_embedding_weights_t = np.transpose(beer_embedding_weights) ## pass the transpose of the embedding matrix\n",
    "beer_pca = pca.fit(beer_embedding_weights_t) ## fit\n",
    "\n",
    "## display the resulting matrix dimensions\n",
    "beer_pca.components_.shape"
   ]
  },
  {
   "cell_type": "code",
   "execution_count": 24,
   "metadata": {
    "ExecuteTime": {
     "end_time": "2019-11-28T01:52:06.942013Z",
     "start_time": "2019-11-28T01:52:06.937013Z"
    }
   },
   "outputs": [
    {
     "data": {
      "text/plain": [
       "array([0.0761895 , 0.06784803, 0.04288473], dtype=float32)"
      ]
     },
     "execution_count": 24,
     "metadata": {},
     "output_type": "execute_result"
    }
   ],
   "source": [
    "## display the variance explained by the 3 components\n",
    "beer_pca.explained_variance_ratio_\n",
    " #variance 가 아주 낮으면 좋은 해석을 기대하기 어렵다.\n",
    "    #첫번째 PC 분산은 약 얼마? 8%.....너무 적어..."
   ]
  },
  {
   "cell_type": "code",
   "execution_count": 25,
   "metadata": {
    "ExecuteTime": {
     "end_time": "2019-11-28T01:53:08.395857Z",
     "start_time": "2019-11-28T01:53:08.377853Z"
    }
   },
   "outputs": [],
   "source": [
    "from operator import itemgetter\n",
    "\n",
    "## extract first PCA\n",
    "pca0 = beer_pca.components_[0]\n",
    "\n",
    "## get the value (pca0, beer title)\n",
    "beer_comp0 = [(f, beers_dict[i]) for f,i in zip(pca0, list(beers_dict.keys()))]"
   ]
  },
  {
   "cell_type": "markdown",
   "metadata": {},
   "source": [
    "If we look at the two extremes on this axis, we will get the following results. Ideally with a good model, we should find the top ten beers sharing a certain feature like (look, smell, etc.), while the lowest ten should be on the opposite side."
   ]
  },
  {
   "cell_type": "code",
   "execution_count": 26,
   "metadata": {
    "ExecuteTime": {
     "end_time": "2019-11-28T01:53:14.545242Z",
     "start_time": "2019-11-28T01:53:14.536240Z"
    }
   },
   "outputs": [
    {
     "data": {
      "text/plain": [
       "[(0.024323443, 'Frame & Canvas'),\n",
       " (0.022369744, 'Pilsener'),\n",
       " (0.020697122, 'Alt Kanzler'),\n",
       " (0.020453537, 'Legit Wit'),\n",
       " (0.019554796, 'Goats Peak Bock'),\n",
       " (0.019527998, 'Mister Mayor'),\n",
       " (0.019423287, 'Dark Cellar Blend 6th Anniversary Ale'),\n",
       " (0.019401329, 'Vanilla Bourbon Coffee Export Stout'),\n",
       " (0.019197188, 'TIME WARP CITRA IPA'),\n",
       " (0.01904832, 'Giddy Up')]"
      ]
     },
     "execution_count": 26,
     "metadata": {},
     "output_type": "execute_result"
    }
   ],
   "source": [
    "## beers corresponding to the highest values of pca0\n",
    "sorted(beer_comp0, key = itemgetter(0), reverse = True)[:10]"
   ]
  },
  {
   "cell_type": "code",
   "execution_count": 27,
   "metadata": {
    "ExecuteTime": {
     "end_time": "2019-11-28T01:53:20.890672Z",
     "start_time": "2019-11-28T01:53:20.880670Z"
    }
   },
   "outputs": [
    {
     "data": {
      "text/plain": [
       "[(-0.027704202, 'Blueberry Blonde'),\n",
       " (-0.025366532, 'Gotlandsdrika'),\n",
       " (-0.025085008, 'Magic #8 - Maple Candied Almond Pale'),\n",
       " (-0.024267048, 'Gold Coast'),\n",
       " (-0.02396601, 'Strawberry Hefeweizen'),\n",
       " (-0.023793964, 'Duck Dive Best Coast Pale Ale'),\n",
       " (-0.023699753, 'Spring Recess Lemon Drop IPA'),\n",
       " (-0.023454342, 'Rum Raisin Stout'),\n",
       " (-0.023056054, 'Karma'),\n",
       " (-0.022792833, 'Pookie Blonde Ale')]"
      ]
     },
     "execution_count": 27,
     "metadata": {},
     "output_type": "execute_result"
    }
   ],
   "source": [
    "## beers corresponding to the lowest values of pca0\n",
    "sorted(beer_comp0, key = itemgetter(0))[:10]"
   ]
  },
  {
   "cell_type": "markdown",
   "metadata": {},
   "source": [
    "## 예측 및 시각화\n",
    "- 예측; model.predict\n",
    "- 시각화(plot_history) input:history"
   ]
  },
  {
   "cell_type": "code",
   "execution_count": 138,
   "metadata": {},
   "outputs": [
    {
     "data": {
      "text/plain": [
       "array([[3.7343857]], dtype=float32)"
      ]
     },
     "execution_count": 138,
     "metadata": {},
     "output_type": "execute_result"
    }
   ],
   "source": [
    "model.predict([[5227],[25151]]) \n",
    "\n",
    "#이렇게 존재하지 않는 것에  평점에 대해서도 예측가능.\n",
    "##이를 이용하여, user가 먹어보지 않은 맥주를 (예측평점에 기반하여) 추천해보자!"
   ]
  },
  {
   "cell_type": "code",
   "execution_count": 185,
   "metadata": {},
   "outputs": [
    {
     "data": {
      "text/plain": [
       "4.728028"
      ]
     },
     "execution_count": 185,
     "metadata": {},
     "output_type": "execute_result"
    }
   ],
   "source": [
    "model.predict([[5277],[43752]])[0][0]"
   ]
  },
  {
   "cell_type": "code",
   "execution_count": 28,
   "metadata": {},
   "outputs": [],
   "source": [
    "## import libraries\n",
    "from sklearn.metrics import mean_absolute_error, mean_squared_error"
   ]
  },
  {
   "cell_type": "code",
   "execution_count": 29,
   "metadata": {},
   "outputs": [
    {
     "data": {
      "text/plain": [
       "'mean squared error on test data is 0.13799844682216644'"
      ]
     },
     "execution_count": 29,
     "metadata": {},
     "output_type": "execute_result"
    }
   ],
   "source": [
    "## predict on test data  \n",
    "pred = model.predict([X_test_array[0], X_test_array[1]]) #model.predict([X_test_array])로만 하면 안됨.\n",
    "\n",
    "f'mean squared error on test data is {mean_squared_error(y_test, pred)}' #실제(y_test)와 예측값(predcitions) 비교 -> test MSE는?"
   ]
  },
  {
   "cell_type": "markdown",
   "metadata": {},
   "source": [
    "### 제대로 모델이 만들어졌을까? 한번 추천해보자."
   ]
  },
  {
   "cell_type": "code",
   "execution_count": 141,
   "metadata": {},
   "outputs": [],
   "source": [
    "#유저가 평가하지 않은 beer목록을 반환해 주는 함수 : get_unbeer_surprise\n",
    "\n",
    "def get_unbeer_keras(df, userid):\n",
    "    beers = df[df['user']==userid]['beer'].unique().tolist() #해당 유저가 평가한 beer\n",
    "    \n",
    "    total_beers = df['beer'].unique().tolist() #모든 beer\n",
    "    \n",
    "    unbeers = [beer for beer in total_beers if beer not in beers] #해당 유저가 평가안한 beer\n",
    "    \n",
    "    print('이미 평가한 beer 수: ', len(beers), '안 평가한 beer 수: ' , len(unbeers), '전체 beer 수: ', len(total_beers))\n",
    "    \n",
    "    return unbeers"
   ]
  },
  {
   "cell_type": "code",
   "execution_count": 142,
   "metadata": {},
   "outputs": [
    {
     "name": "stdout",
     "output_type": "stream",
     "text": [
      "이미 평가한 beer 수:  2867 안 평가한 beer 수:  151844 전체 beer 수:  154711\n"
     ]
    }
   ],
   "source": [
    "#userid는 항상 숫자로!!\n",
    "unbeers = get_unbeer_keras(df2, 5227) #해당 유저아이디의 평가안한 unbeers(list)가 반환 "
   ]
  },
  {
   "cell_type": "markdown",
   "metadata": {},
   "source": [
    "### We will use this:"
   ]
  },
  {
   "cell_type": "code",
   "execution_count": 207,
   "metadata": {},
   "outputs": [],
   "source": [
    "def get_unbeer_keras(df, userid):\n",
    "    beers = df[df['user']==userid]['beer'].unique().tolist() #해당 유저가 평가한 beer\n",
    "    total_beers = df['beer'].unique().tolist() #모든 beer\n",
    "    unbeers = [beer for beer in total_beers if beer not in beers] #해당 유저가 평가안한 beer\n",
    "    return unbeers\n",
    "\n",
    "def recomm_beer_by_keras(userid, top_n):\n",
    "    unbeers = get_unbeer_keras(df,userid)\n",
    "    predict = [model.predict([[userid],[beer]]) for beer in unbeers]\n",
    "    ndf= pd.DataFrame({'beer':unbeers,'rating':predict})\n",
    "    final = ndf.sort_values(by='rating', ascending=False)[:top_n]\n",
    "    final = final.reset_index()\n",
    "\n",
    "    f_b_list=final.beer.tolist()\n",
    "    beer_title = beers[beers.id.isin(f_b_list)]['name']\n",
    "    beer_country = beers[beers.id.isin(f_b_list)]['country']\n",
    "    final2 = pd.DataFrame({'title':beer_title,'country':beer_country})\n",
    "    final2 = final2.reset_index()\n",
    "    final3 = pd.concat([final, final2], axis =1)\n",
    "    final3.drop(['index'],axis = 1, inplace=True)\n",
    "    return final3"
   ]
  },
  {
   "cell_type": "code",
   "execution_count": 208,
   "metadata": {},
   "outputs": [
    {
     "name": "stdout",
     "output_type": "stream",
     "text": [
      "ID를 입력하세요.당신이 선호할 만한 맥주를 추천해드립니다.5227\n",
      "몇 가지의 맥주를 추천해 드릴까요?10\n"
     ]
    },
    {
     "data": {
      "text/html": [
       "<div>\n",
       "<style scoped>\n",
       "    .dataframe tbody tr th:only-of-type {\n",
       "        vertical-align: middle;\n",
       "    }\n",
       "\n",
       "    .dataframe tbody tr th {\n",
       "        vertical-align: top;\n",
       "    }\n",
       "\n",
       "    .dataframe thead th {\n",
       "        text-align: right;\n",
       "    }\n",
       "</style>\n",
       "<table border=\"1\" class=\"dataframe\">\n",
       "  <thead>\n",
       "    <tr style=\"text-align: right;\">\n",
       "      <th></th>\n",
       "      <th>beer</th>\n",
       "      <th>rating</th>\n",
       "      <th>title</th>\n",
       "      <th>country</th>\n",
       "    </tr>\n",
       "  </thead>\n",
       "  <tbody>\n",
       "    <tr>\n",
       "      <td>0</td>\n",
       "      <td>21961</td>\n",
       "      <td>[[4.713478]]</td>\n",
       "      <td>Gruhlke's Porter</td>\n",
       "      <td>US</td>\n",
       "    </tr>\n",
       "    <tr>\n",
       "      <td>1</td>\n",
       "      <td>43752</td>\n",
       "      <td>[[4.695874]]</td>\n",
       "      <td>Nugget IPA</td>\n",
       "      <td>US</td>\n",
       "    </tr>\n",
       "    <tr>\n",
       "      <td>2</td>\n",
       "      <td>33284</td>\n",
       "      <td>[[4.6756506]]</td>\n",
       "      <td>Sarazen</td>\n",
       "      <td>BE</td>\n",
       "    </tr>\n",
       "    <tr>\n",
       "      <td>3</td>\n",
       "      <td>12226</td>\n",
       "      <td>[[4.67117]]</td>\n",
       "      <td>McCarthy's India Brown Ale</td>\n",
       "      <td>US</td>\n",
       "    </tr>\n",
       "    <tr>\n",
       "      <td>4</td>\n",
       "      <td>77264</td>\n",
       "      <td>[[4.6315575]]</td>\n",
       "      <td>Dogwatch Stout</td>\n",
       "      <td>GB</td>\n",
       "    </tr>\n",
       "    <tr>\n",
       "      <td>5</td>\n",
       "      <td>49557</td>\n",
       "      <td>[[4.616802]]</td>\n",
       "      <td>Delicious IPA</td>\n",
       "      <td>US</td>\n",
       "    </tr>\n",
       "    <tr>\n",
       "      <td>6</td>\n",
       "      <td>80943</td>\n",
       "      <td>[[4.5994735]]</td>\n",
       "      <td>Wainwright</td>\n",
       "      <td>GB</td>\n",
       "    </tr>\n",
       "    <tr>\n",
       "      <td>7</td>\n",
       "      <td>66596</td>\n",
       "      <td>[[4.5885487]]</td>\n",
       "      <td>Mocha Porter</td>\n",
       "      <td>US</td>\n",
       "    </tr>\n",
       "    <tr>\n",
       "      <td>8</td>\n",
       "      <td>109789</td>\n",
       "      <td>[[4.588021]]</td>\n",
       "      <td>Bölkstoff</td>\n",
       "      <td>DE</td>\n",
       "    </tr>\n",
       "    <tr>\n",
       "      <td>9</td>\n",
       "      <td>59633</td>\n",
       "      <td>[[4.587138]]</td>\n",
       "      <td>White Birch Oak Aged Special B</td>\n",
       "      <td>US</td>\n",
       "    </tr>\n",
       "  </tbody>\n",
       "</table>\n",
       "</div>"
      ],
      "text/plain": [
       "     beer         rating                           title country\n",
       "0   21961   [[4.713478]]                Gruhlke's Porter      US\n",
       "1   43752   [[4.695874]]                      Nugget IPA      US\n",
       "2   33284  [[4.6756506]]                         Sarazen      BE\n",
       "3   12226    [[4.67117]]      McCarthy's India Brown Ale      US\n",
       "4   77264  [[4.6315575]]                  Dogwatch Stout      GB\n",
       "5   49557   [[4.616802]]                   Delicious IPA      US\n",
       "6   80943  [[4.5994735]]                      Wainwright      GB\n",
       "7   66596  [[4.5885487]]                    Mocha Porter      US\n",
       "8  109789   [[4.588021]]                       Bölkstoff      DE\n",
       "9   59633   [[4.587138]]  White Birch Oak Aged Special B      US"
      ]
     },
     "execution_count": 208,
     "metadata": {},
     "output_type": "execute_result"
    }
   ],
   "source": [
    "userid = int(input('ID를 입력하세요.당신이 선호할 만한 맥주를 추천해드립니다.'))\n",
    "topn= int(input('몇 가지의 맥주를 추천해 드릴까요?'))\n",
    "\n",
    "unbeers = get_unbeer_keras(df2, userid)\n",
    "recomm_beer_by_keras(userid, topn)#살짝 오래걸림. 3분정도.(정확히는 3분 20초)"
   ]
  },
  {
   "cell_type": "markdown",
   "metadata": {},
   "source": [
    "### 시각화"
   ]
  },
  {
   "cell_type": "code",
   "execution_count": 50,
   "metadata": {
    "ExecuteTime": {
     "end_time": "2019-11-28T01:54:35.742533Z",
     "start_time": "2019-11-28T01:54:35.737533Z"
    }
   },
   "outputs": [
    {
     "data": {
      "text/plain": [
       "{'val_loss': [0.1674668795506741,\n",
       "  0.1654197296568085,\n",
       "  0.1668006553415519,\n",
       "  0.16820117159029485],\n",
       " 'val_mae': [0.273923397064209,\n",
       "  0.26802393794059753,\n",
       "  0.26697561144828796,\n",
       "  0.26714256405830383],\n",
       " 'val_mse': [0.1428927332162857,\n",
       "  0.13834567368030548,\n",
       "  0.1376253366470337,\n",
       "  0.13799841701984406],\n",
       " 'loss': [0.21764005307420503,\n",
       "  0.16299389642931025,\n",
       "  0.15967830967613184,\n",
       "  0.15834553015555652],\n",
       " 'mae': [0.31998307, 0.26649776, 0.2600653, 0.2572737],\n",
       " 'mse': [0.1931007, 0.13591853, 0.12977935, 0.12684941]}"
      ]
     },
     "execution_count": 50,
     "metadata": {},
     "output_type": "execute_result"
    }
   ],
   "source": [
    "history_mf.history"
   ]
  },
  {
   "cell_type": "code",
   "execution_count": 51,
   "metadata": {
    "ExecuteTime": {
     "end_time": "2019-11-28T01:53:52.774855Z",
     "start_time": "2019-11-28T01:53:52.409772Z"
    }
   },
   "outputs": [
    {
     "data": {
      "image/png": "[encoded data removed]",
      "text/plain": [
       "<Figure size 720x1080 with 2 Axes>"
      ]
     },
     "metadata": {
      "needs_background": "light"
     },
     "output_type": "display_data"
    }
   ],
   "source": [
    "##시각화(각 epoch마다의 MSE, MAE 값 비교)\n",
    "\n",
    "def plot_history(hist):\n",
    "    \n",
    "    plt.figure(figsize=(10,15))\n",
    "\n",
    "    plt.subplot(2,1,1)\n",
    "    plt.xlabel('Epoch')\n",
    "    plt.ylabel('Mean Abs Error [rating]')\n",
    "    plt.plot(hist['epoch'], hist['mae'], label='Train Error')\n",
    "    plt.plot(hist['epoch'], hist['val_mae'],label = 'Val Error')\n",
    "    # plt.ylim([0,5])\n",
    "    plt.legend()\n",
    "\n",
    "    plt.subplot(2,1,2)\n",
    "    plt.xlabel('Epoch')\n",
    "    plt.ylabel('Mean Square Error [$rating^2$]')\n",
    "    plt.plot(hist['epoch'], hist['mse'], label='Train Error')\n",
    "    plt.plot(hist['epoch'], hist['val_mse'],label = 'Val Error')\n",
    "    # plt.ylim([0,20])\n",
    "    plt.legend()\n",
    "    plt.show()\n",
    "\n",
    "plot_history(hist)"
   ]
  },
  {
   "cell_type": "code",
   "execution_count": null,
   "metadata": {},
   "outputs": [],
   "source": []
  },
  {
   "cell_type": "code",
   "execution_count": null,
   "metadata": {},
   "outputs": [],
   "source": []
  }
 ],
 "metadata": {
  "kernelspec": {
   "display_name": "Python 3",
   "language": "python",
   "name": "python3"
  },
  "language_info": {
   "codemirror_mode": {
    "name": "ipython",
    "version": 3
   },
   "file_extension": ".py",
   "mimetype": "text/x-python",
   "name": "python",
   "nbconvert_exporter": "python",
   "pygments_lexer": "ipython3",
   "version": "3.7.4"
  }
 },
 "nbformat": 4,
 "nbformat_minor": 2
}
