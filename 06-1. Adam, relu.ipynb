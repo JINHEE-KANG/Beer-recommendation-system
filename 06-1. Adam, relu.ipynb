{
 "cells": [
  {
   "cell_type": "code",
   "execution_count": 1,
   "metadata": {
    "ExecuteTime": {
     "end_time": "2019-11-27T16:41:01.694377Z",
     "start_time": "2019-11-27T16:40:54.210691Z"
    }
   },
   "outputs": [],
   "source": [
    "%matplotlib inline\n",
    "import matplotlib.pyplot as plt\n",
    "import numpy as np\n",
    "import pandas as pd\n",
    "import seaborn as sns\n",
    "from sklearn.model_selection import train_test_split\n",
    "from sklearn.preprocessing import LabelEncoder\n",
    "from sklearn.decomposition import PCA"
   ]
  },
  {
   "cell_type": "code",
   "execution_count": 2,
   "metadata": {
    "ExecuteTime": {
     "end_time": "2019-11-27T16:41:26.091872Z",
     "start_time": "2019-11-27T16:41:07.516688Z"
    }
   },
   "outputs": [
    {
     "data": {
      "text/html": [
       "<div>\n",
       "<style scoped>\n",
       "    .dataframe tbody tr th:only-of-type {\n",
       "        vertical-align: middle;\n",
       "    }\n",
       "\n",
       "    .dataframe tbody tr th {\n",
       "        vertical-align: top;\n",
       "    }\n",
       "\n",
       "    .dataframe thead th {\n",
       "        text-align: right;\n",
       "    }\n",
       "</style>\n",
       "<table border=\"1\" class=\"dataframe\">\n",
       "  <thead>\n",
       "    <tr style=\"text-align: right;\">\n",
       "      <th></th>\n",
       "      <th>beer_id</th>\n",
       "      <th>username</th>\n",
       "      <th>date</th>\n",
       "      <th>text</th>\n",
       "      <th>look</th>\n",
       "      <th>smell</th>\n",
       "      <th>taste</th>\n",
       "      <th>feel</th>\n",
       "      <th>overall</th>\n",
       "      <th>score</th>\n",
       "    </tr>\n",
       "  </thead>\n",
       "  <tbody>\n",
       "    <tr>\n",
       "      <th>0</th>\n",
       "      <td>271781</td>\n",
       "      <td>bluejacket74</td>\n",
       "      <td>2017-03-17</td>\n",
       "      <td>750 ml bottle, 2016 vintage, bottle #304 of...</td>\n",
       "      <td>4.00</td>\n",
       "      <td>4.00</td>\n",
       "      <td>4.00</td>\n",
       "      <td>4.25</td>\n",
       "      <td>4.00</td>\n",
       "      <td>4.03</td>\n",
       "    </tr>\n",
       "    <tr>\n",
       "      <th>1</th>\n",
       "      <td>125646</td>\n",
       "      <td>_dirty_</td>\n",
       "      <td>2017-12-21</td>\n",
       "      <td></td>\n",
       "      <td>4.50</td>\n",
       "      <td>4.50</td>\n",
       "      <td>4.50</td>\n",
       "      <td>4.50</td>\n",
       "      <td>4.50</td>\n",
       "      <td>4.50</td>\n",
       "    </tr>\n",
       "    <tr>\n",
       "      <th>2</th>\n",
       "      <td>125646</td>\n",
       "      <td>CJDUBYA</td>\n",
       "      <td>2017-12-21</td>\n",
       "      <td></td>\n",
       "      <td>4.75</td>\n",
       "      <td>4.75</td>\n",
       "      <td>4.75</td>\n",
       "      <td>4.75</td>\n",
       "      <td>4.75</td>\n",
       "      <td>4.75</td>\n",
       "    </tr>\n",
       "    <tr>\n",
       "      <th>3</th>\n",
       "      <td>125646</td>\n",
       "      <td>GratefulBeerGuy</td>\n",
       "      <td>2017-12-20</td>\n",
       "      <td>0% 16 oz can. Funny story: As I finally wal...</td>\n",
       "      <td>4.75</td>\n",
       "      <td>4.75</td>\n",
       "      <td>4.50</td>\n",
       "      <td>4.50</td>\n",
       "      <td>4.50</td>\n",
       "      <td>4.58</td>\n",
       "    </tr>\n",
       "    <tr>\n",
       "      <th>4</th>\n",
       "      <td>125646</td>\n",
       "      <td>LukeGude</td>\n",
       "      <td>2017-12-20</td>\n",
       "      <td>Classic TH NEIPA. Overflowing head and bouq...</td>\n",
       "      <td>4.25</td>\n",
       "      <td>4.50</td>\n",
       "      <td>4.25</td>\n",
       "      <td>4.25</td>\n",
       "      <td>4.25</td>\n",
       "      <td>4.31</td>\n",
       "    </tr>\n",
       "  </tbody>\n",
       "</table>\n",
       "</div>"
      ],
      "text/plain": [
       "   beer_id         username        date  \\\n",
       "0   271781     bluejacket74  2017-03-17   \n",
       "1   125646          _dirty_  2017-12-21   \n",
       "2   125646          CJDUBYA  2017-12-21   \n",
       "3   125646  GratefulBeerGuy  2017-12-20   \n",
       "4   125646         LukeGude  2017-12-20   \n",
       "\n",
       "                                                text  look  smell  taste  \\\n",
       "0     750 ml bottle, 2016 vintage, bottle #304 of...  4.00   4.00   4.00   \n",
       "1                                                     4.50   4.50   4.50   \n",
       "2                                                     4.75   4.75   4.75   \n",
       "3     0% 16 oz can. Funny story: As I finally wal...  4.75   4.75   4.50   \n",
       "4     Classic TH NEIPA. Overflowing head and bouq...  4.25   4.50   4.25   \n",
       "\n",
       "   feel  overall  score  \n",
       "0  4.25     4.00   4.03  \n",
       "1  4.50     4.50   4.50  \n",
       "2  4.75     4.75   4.75  \n",
       "3  4.50     4.50   4.58  \n",
       "4  4.25     4.25   4.31  "
      ]
     },
     "execution_count": 2,
     "metadata": {},
     "output_type": "execute_result"
    }
   ],
   "source": [
    "df = pd.read_csv('C:/Users/HOME/Desktop/8차/통계학 세미나/팀플/잠재요인 돌릴때 쓰는 데이터/reviews.csv')\n",
    "df.head()"
   ]
  },
  {
   "cell_type": "code",
   "execution_count": 3,
   "metadata": {
    "ExecuteTime": {
     "end_time": "2019-11-27T16:42:31.199539Z",
     "start_time": "2019-11-27T16:42:31.197539Z"
    }
   },
   "outputs": [
    {
     "name": "stdout",
     "output_type": "stream",
     "text": [
      "(9073128, 10)\n"
     ]
    }
   ],
   "source": [
    "print(df.shape) #원본 데이터 900만개를 사용"
   ]
  },
  {
   "cell_type": "code",
   "execution_count": 4,
   "metadata": {
    "ExecuteTime": {
     "end_time": "2019-11-27T16:42:35.466500Z",
     "start_time": "2019-11-27T16:42:35.277458Z"
    }
   },
   "outputs": [
    {
     "data": {
      "text/html": [
       "<div>\n",
       "<style scoped>\n",
       "    .dataframe tbody tr th:only-of-type {\n",
       "        vertical-align: middle;\n",
       "    }\n",
       "\n",
       "    .dataframe tbody tr th {\n",
       "        vertical-align: top;\n",
       "    }\n",
       "\n",
       "    .dataframe thead th {\n",
       "        text-align: right;\n",
       "    }\n",
       "</style>\n",
       "<table border=\"1\" class=\"dataframe\">\n",
       "  <thead>\n",
       "    <tr style=\"text-align: right;\">\n",
       "      <th></th>\n",
       "      <th>beerid</th>\n",
       "      <th>userid</th>\n",
       "      <th>rating</th>\n",
       "    </tr>\n",
       "  </thead>\n",
       "  <tbody>\n",
       "    <tr>\n",
       "      <th>0</th>\n",
       "      <td>271781</td>\n",
       "      <td>bluejacket74</td>\n",
       "      <td>4.03</td>\n",
       "    </tr>\n",
       "    <tr>\n",
       "      <th>1</th>\n",
       "      <td>125646</td>\n",
       "      <td>_dirty_</td>\n",
       "      <td>4.50</td>\n",
       "    </tr>\n",
       "    <tr>\n",
       "      <th>2</th>\n",
       "      <td>125646</td>\n",
       "      <td>CJDUBYA</td>\n",
       "      <td>4.75</td>\n",
       "    </tr>\n",
       "    <tr>\n",
       "      <th>3</th>\n",
       "      <td>125646</td>\n",
       "      <td>GratefulBeerGuy</td>\n",
       "      <td>4.58</td>\n",
       "    </tr>\n",
       "    <tr>\n",
       "      <th>4</th>\n",
       "      <td>125646</td>\n",
       "      <td>LukeGude</td>\n",
       "      <td>4.31</td>\n",
       "    </tr>\n",
       "  </tbody>\n",
       "</table>\n",
       "</div>"
      ],
      "text/plain": [
       "   beerid           userid  rating\n",
       "0  271781     bluejacket74    4.03\n",
       "1  125646          _dirty_    4.50\n",
       "2  125646          CJDUBYA    4.75\n",
       "3  125646  GratefulBeerGuy    4.58\n",
       "4  125646         LukeGude    4.31"
      ]
     },
     "execution_count": 4,
     "metadata": {},
     "output_type": "execute_result"
    }
   ],
   "source": [
    "#잠깐 전처리\n",
    "\n",
    "cols = ['beer_id','username','score']\n",
    "df = df[cols]\n",
    "df.rename(columns = {'beer_id':'beerid','username':'userid','score':'rating'}, inplace = True)\n",
    "df.head()"
   ]
  },
  {
   "cell_type": "code",
   "execution_count": 5,
   "metadata": {
    "ExecuteTime": {
     "end_time": "2019-11-27T16:42:43.052209Z",
     "start_time": "2019-11-27T16:42:38.373155Z"
    }
   },
   "outputs": [],
   "source": [
    "#딥러닝에 이용할 컬럼 변경: user, beer, rating\n",
    "\n",
    "user_enc = LabelEncoder()\n",
    "uid = df['userid'].values\n",
    "df['user'] = user_enc.fit_transform(uid.tolist()) #array 인식이 안돼서 list로 빼냄.(userid의 경우만 오류 발생)\n",
    "n_users = df['user'].nunique()"
   ]
  },
  {
   "cell_type": "code",
   "execution_count": 6,
   "metadata": {},
   "outputs": [
    {
     "data": {
      "text/plain": [
       "(164935, 309542, 1.0, 5.0)"
      ]
     },
     "execution_count": 6,
     "metadata": {},
     "output_type": "execute_result"
    }
   ],
   "source": [
    "item_enc = LabelEncoder()\n",
    "df['beer'] = item_enc.fit_transform(df['beerid'].values)\n",
    "n_beers = df['beer'].nunique()\n",
    "\n",
    "df['rating'] = df['rating'].values.astype(np.float32)\n",
    "min_rating = min(df['rating'])\n",
    "max_rating = max(df['rating'])\n",
    "\n",
    "n_users, n_beers, min_rating, max_rating #n_users, n_beers: 유니크한 값 개수, rating의 최솟값과 최댓값."
   ]
  },
  {
   "cell_type": "code",
   "execution_count": 7,
   "metadata": {
    "ExecuteTime": {
     "end_time": "2019-11-27T16:42:46.866068Z",
     "start_time": "2019-11-27T16:42:46.855069Z"
    }
   },
   "outputs": [
    {
     "data": {
      "text/html": [
       "<div>\n",
       "<style scoped>\n",
       "    .dataframe tbody tr th:only-of-type {\n",
       "        vertical-align: middle;\n",
       "    }\n",
       "\n",
       "    .dataframe tbody tr th {\n",
       "        vertical-align: top;\n",
       "    }\n",
       "\n",
       "    .dataframe thead th {\n",
       "        text-align: right;\n",
       "    }\n",
       "</style>\n",
       "<table border=\"1\" class=\"dataframe\">\n",
       "  <thead>\n",
       "    <tr style=\"text-align: right;\">\n",
       "      <th></th>\n",
       "      <th>user</th>\n",
       "      <th>beer</th>\n",
       "      <th>rating</th>\n",
       "    </tr>\n",
       "  </thead>\n",
       "  <tbody>\n",
       "    <tr>\n",
       "      <th>0</th>\n",
       "      <td>102213</td>\n",
       "      <td>231507</td>\n",
       "      <td>4.03</td>\n",
       "    </tr>\n",
       "    <tr>\n",
       "      <th>1</th>\n",
       "      <td>94429</td>\n",
       "      <td>112229</td>\n",
       "      <td>4.50</td>\n",
       "    </tr>\n",
       "    <tr>\n",
       "      <th>2</th>\n",
       "      <td>15635</td>\n",
       "      <td>112229</td>\n",
       "      <td>4.75</td>\n",
       "    </tr>\n",
       "    <tr>\n",
       "      <th>3</th>\n",
       "      <td>34826</td>\n",
       "      <td>112229</td>\n",
       "      <td>4.58</td>\n",
       "    </tr>\n",
       "    <tr>\n",
       "      <th>4</th>\n",
       "      <td>55007</td>\n",
       "      <td>112229</td>\n",
       "      <td>4.31</td>\n",
       "    </tr>\n",
       "  </tbody>\n",
       "</table>\n",
       "</div>"
      ],
      "text/plain": [
       "     user    beer  rating\n",
       "0  102213  231507    4.03\n",
       "1   94429  112229    4.50\n",
       "2   15635  112229    4.75\n",
       "3   34826  112229    4.58\n",
       "4   55007  112229    4.31"
      ]
     },
     "execution_count": 7,
     "metadata": {},
     "output_type": "execute_result"
    }
   ],
   "source": [
    "df2=df[['user','beer','rating']] \n",
    "df2.head() #완료된 데이터셋. 여기서 'user','beer','rating'만 사용"
   ]
  },
  {
   "cell_type": "code",
   "execution_count": 8,
   "metadata": {
    "ExecuteTime": {
     "end_time": "2019-11-27T16:42:50.351854Z",
     "start_time": "2019-11-27T16:42:49.645695Z"
    }
   },
   "outputs": [
    {
     "data": {
      "text/plain": [
       "((7258502, 2), (1814626, 2), (7258502,), (1814626,))"
      ]
     },
     "execution_count": 8,
     "metadata": {},
     "output_type": "execute_result"
    }
   ],
   "source": [
    "#train, test 셋 분할: test size는 0.2, random_state는 임의로 지정\n",
    "X = df[['user', 'beer']].values\n",
    "y = df['rating'].values\n",
    "\n",
    "X_train, X_test, y_train, y_test = train_test_split(X, y, test_size=0.2, random_state=42)\n",
    "\n",
    "X_train.shape, X_test.shape, y_train.shape, y_test.shape"
   ]
  },
  {
   "cell_type": "code",
   "execution_count": 9,
   "metadata": {
    "ExecuteTime": {
     "end_time": "2019-11-27T16:42:54.302743Z",
     "start_time": "2019-11-27T16:42:54.300743Z"
    }
   },
   "outputs": [],
   "source": [
    "#딥러닝 모델을 만들 때 필요한 또다른 변수는: 잠재요인의 개수를 정하는 것!\n",
    "#잠재요인의 개수는 원하는 대로 설정하면 되지만, 주의할 것은 user와 beer 모두에 대해 같은 사이즈를 줘야 한다는 점.\n",
    "\n",
    "#우리는 50개로 간다!(X에 대해서만 적용)\n",
    "n_factors = 50\n",
    "\n",
    "#X를 array로 만들기\n",
    "X_train_array = [X_train[:, 0], X_train[:, 1]]\n",
    "X_test_array = [X_test[:, 0], X_test[:, 1]]"
   ]
  },
  {
   "cell_type": "code",
   "execution_count": 10,
   "metadata": {},
   "outputs": [
    {
     "data": {
      "text/html": [
       "<div>\n",
       "<style scoped>\n",
       "    .dataframe tbody tr th:only-of-type {\n",
       "        vertical-align: middle;\n",
       "    }\n",
       "\n",
       "    .dataframe tbody tr th {\n",
       "        vertical-align: top;\n",
       "    }\n",
       "\n",
       "    .dataframe thead th {\n",
       "        text-align: right;\n",
       "    }\n",
       "</style>\n",
       "<table border=\"1\" class=\"dataframe\">\n",
       "  <thead>\n",
       "    <tr style=\"text-align: right;\">\n",
       "      <th></th>\n",
       "      <th>id</th>\n",
       "      <th>name</th>\n",
       "      <th>brewery_id</th>\n",
       "      <th>state</th>\n",
       "      <th>country</th>\n",
       "      <th>style</th>\n",
       "      <th>availability</th>\n",
       "      <th>abv</th>\n",
       "      <th>notes</th>\n",
       "      <th>retired</th>\n",
       "    </tr>\n",
       "  </thead>\n",
       "  <tbody>\n",
       "    <tr>\n",
       "      <th>0</th>\n",
       "      <td>202522</td>\n",
       "      <td>Olde Cogitator</td>\n",
       "      <td>2199</td>\n",
       "      <td>CA</td>\n",
       "      <td>US</td>\n",
       "      <td>English Oatmeal Stout</td>\n",
       "      <td>Rotating</td>\n",
       "      <td>7.3</td>\n",
       "      <td>No notes at this time.</td>\n",
       "      <td>f</td>\n",
       "    </tr>\n",
       "    <tr>\n",
       "      <th>1</th>\n",
       "      <td>82352</td>\n",
       "      <td>Konrads Stout Russian Imperial Stout</td>\n",
       "      <td>18604</td>\n",
       "      <td>NaN</td>\n",
       "      <td>NO</td>\n",
       "      <td>Russian Imperial Stout</td>\n",
       "      <td>Rotating</td>\n",
       "      <td>10.4</td>\n",
       "      <td>No notes at this time.</td>\n",
       "      <td>f</td>\n",
       "    </tr>\n",
       "    <tr>\n",
       "      <th>2</th>\n",
       "      <td>214879</td>\n",
       "      <td>Scottish Right</td>\n",
       "      <td>44306</td>\n",
       "      <td>IN</td>\n",
       "      <td>US</td>\n",
       "      <td>Scottish Ale</td>\n",
       "      <td>Year-round</td>\n",
       "      <td>4.0</td>\n",
       "      <td>No notes at this time.</td>\n",
       "      <td>t</td>\n",
       "    </tr>\n",
       "    <tr>\n",
       "      <th>3</th>\n",
       "      <td>320009</td>\n",
       "      <td>MegaMeow Imperial Stout</td>\n",
       "      <td>4378</td>\n",
       "      <td>WA</td>\n",
       "      <td>US</td>\n",
       "      <td>American Imperial Stout</td>\n",
       "      <td>Winter</td>\n",
       "      <td>8.7</td>\n",
       "      <td>Every time this year</td>\n",
       "      <td>f</td>\n",
       "    </tr>\n",
       "    <tr>\n",
       "      <th>4</th>\n",
       "      <td>246438</td>\n",
       "      <td>Peaches-N-Cream</td>\n",
       "      <td>44617</td>\n",
       "      <td>PA</td>\n",
       "      <td>US</td>\n",
       "      <td>American Cream Ale</td>\n",
       "      <td>Rotating</td>\n",
       "      <td>5.1</td>\n",
       "      <td>No notes at this time.</td>\n",
       "      <td>f</td>\n",
       "    </tr>\n",
       "  </tbody>\n",
       "</table>\n",
       "</div>"
      ],
      "text/plain": [
       "       id                                  name  brewery_id state country  \\\n",
       "0  202522                        Olde Cogitator        2199    CA      US   \n",
       "1   82352  Konrads Stout Russian Imperial Stout       18604   NaN      NO   \n",
       "2  214879                        Scottish Right       44306    IN      US   \n",
       "3  320009               MegaMeow Imperial Stout        4378    WA      US   \n",
       "4  246438                       Peaches-N-Cream       44617    PA      US   \n",
       "\n",
       "                     style availability   abv                   notes retired  \n",
       "0    English Oatmeal Stout     Rotating   7.3  No notes at this time.       f  \n",
       "1   Russian Imperial Stout     Rotating  10.4  No notes at this time.       f  \n",
       "2             Scottish Ale   Year-round   4.0  No notes at this time.       t  \n",
       "3  American Imperial Stout       Winter   8.7    Every time this year       f  \n",
       "4       American Cream Ale     Rotating   5.1  No notes at this time.       f  "
      ]
     },
     "execution_count": 10,
     "metadata": {},
     "output_type": "execute_result"
    }
   ],
   "source": [
    "beers = pd.read_csv('C:/Users/HOME/Desktop/8차/통계학 세미나/팀플/잠재요인 돌릴때 쓰는 데이터/beers.csv')\n",
    "beers.head()"
   ]
  },
  {
   "cell_type": "code",
   "execution_count": 11,
   "metadata": {},
   "outputs": [],
   "source": [
    "## create a dictionary out of beerid, beer original title\n",
    "beers_dict = beers.set_index('id')['name'].to_dict()"
   ]
  },
  {
   "cell_type": "code",
   "execution_count": 12,
   "metadata": {},
   "outputs": [],
   "source": [
    "##시각화(각 epoch마다의 MSE, MAE 값 비교)\n",
    "\n",
    "def plot_history(hist):\n",
    "    \n",
    "    plt.figure(figsize=(10,15))\n",
    "\n",
    "    plt.subplot(2,1,1)\n",
    "    plt.xlabel('Epoch')\n",
    "    plt.ylabel('Mean Abs Error [rating]')\n",
    "    plt.plot(hist['epoch'], hist['mae'], label='Train Error')\n",
    "    plt.plot(hist['epoch'], hist['val_mae'],label = 'Test Error')\n",
    "    plt.legend()\n",
    "\n",
    "    plt.subplot(2,1,2)\n",
    "    plt.xlabel('Epoch')\n",
    "    plt.ylabel('Mean Square Error [$rating^2$]')\n",
    "    plt.plot(hist['epoch'], hist['mse'], label='Train Error')\n",
    "    plt.plot(hist['epoch'], hist['val_mse'],label = 'Test Error')\n",
    "    plt.legend()\n",
    "    plt.show()\n"
   ]
  },
  {
   "cell_type": "code",
   "execution_count": 13,
   "metadata": {
    "ExecuteTime": {
     "end_time": "2019-11-27T16:43:14.561307Z",
     "start_time": "2019-11-27T16:43:05.998377Z"
    }
   },
   "outputs": [
    {
     "name": "stderr",
     "output_type": "stream",
     "text": [
      "Using TensorFlow backend.\n"
     ]
    }
   ],
   "source": [
    "#keras 라이브러리 로드\n",
    "from keras.models import Model\n",
    "from keras.layers import Input, Reshape, Dot\n",
    "from keras.layers import Embedding, Dense, Dropout\n",
    "from keras.optimizers import Adam\n",
    "from keras.regularizers import l2\n",
    "from keras.layers import Add, Activation, Lambda, Concatenate"
   ]
  },
  {
   "cell_type": "markdown",
   "metadata": {},
   "source": [
    "# 레이어 1개만 추가한 버전, 액티베이션은 relu; test MSE: 0.1816, 과적합"
   ]
  },
  {
   "cell_type": "code",
   "execution_count": 14,
   "metadata": {},
   "outputs": [],
   "source": [
    "##bias가 있음, 아주 단순한 버전. 그냥 R_hat = u*m으로 연산한다. 최저 rating과 최고 rating을 이용한다.\n",
    "##layer 1개를 추가하였고, activation 함수 1개는: relu\n",
    "\n",
    "class EmbeddingLayer:\n",
    "    def __init__(self, n_items, n_factors):\n",
    "        self.n_items = n_items\n",
    "        self.n_factors = n_factors\n",
    "    \n",
    "    def __call__(self, x):\n",
    "        x = Embedding(self.n_items, self.n_factors, embeddings_initializer='he_normal')(x) \n",
    "        x = Reshape((self.n_factors,))(x)\n",
    "        return x\n",
    "\n",
    "def RecommenderV7(n_users, n_beers, n_factors, min_rating, max_rating):\n",
    "    \n",
    "    #input: user, beer\n",
    "    user = Input(shape=(1,))\n",
    "    u = EmbeddingLayer(n_users, n_factors)(user) #u는 user * n_factor\n",
    "    ub = EmbeddingLayer(n_users, 1)(user) #user_bias\n",
    "    \n",
    "    beer = Input(shape=(1,))\n",
    "    b = EmbeddingLayer(n_beers, n_factors)(beer) #b은 beer * n_factor\n",
    "    bb = EmbeddingLayer(n_beers, 1)(beer) #beer_bias\n",
    "    \n",
    "    #input 연산- activation 1가지를 추가. relu\n",
    "    x = Concatenate()([u, b])\n",
    "    \n",
    "    x = Dense(1, kernel_initializer='he_normal')(x)\n",
    "    x = Activation('relu')(x)\n",
    "    \n",
    "    x = Lambda(lambda x: x * (max_rating - min_rating) + min_rating)(x)\n",
    "\n",
    "\n",
    "    #최종 모델 만들기(input은 user, beer 2개를 받고, output은 x를 반환.)\n",
    "    model = Model(inputs=[user, beer], outputs=x)\n",
    "    opt = Adam(lr=0.001) #learning rate(학습률) 설정. #optimizer인 최적화 방법은 Adam을 씀.\n",
    "    model.compile(loss=['mse'], metrics = ['mae','mse'] ,optimizer=opt) #loss와 함께 출력할 mae, mse는 metrics로 설정.\n",
    "\n",
    "    return model"
   ]
  },
  {
   "cell_type": "code",
   "execution_count": 15,
   "metadata": {},
   "outputs": [
    {
     "name": "stdout",
     "output_type": "stream",
     "text": [
      "Model: \"model_1\"\n",
      "__________________________________________________________________________________________________\n",
      "Layer (type)                    Output Shape         Param #     Connected to                     \n",
      "==================================================================================================\n",
      "input_1 (InputLayer)            (None, 1)            0                                            \n",
      "__________________________________________________________________________________________________\n",
      "input_2 (InputLayer)            (None, 1)            0                                            \n",
      "__________________________________________________________________________________________________\n",
      "embedding_1 (Embedding)         (None, 1, 50)        8246750     input_1[0][0]                    \n",
      "__________________________________________________________________________________________________\n",
      "embedding_3 (Embedding)         (None, 1, 50)        15477100    input_2[0][0]                    \n",
      "__________________________________________________________________________________________________\n",
      "reshape_1 (Reshape)             (None, 50)           0           embedding_1[0][0]                \n",
      "__________________________________________________________________________________________________\n",
      "reshape_3 (Reshape)             (None, 50)           0           embedding_3[0][0]                \n",
      "__________________________________________________________________________________________________\n",
      "concatenate_1 (Concatenate)     (None, 100)          0           reshape_1[0][0]                  \n",
      "                                                                 reshape_3[0][0]                  \n",
      "__________________________________________________________________________________________________\n",
      "dense_1 (Dense)                 (None, 1)            101         concatenate_1[0][0]              \n",
      "__________________________________________________________________________________________________\n",
      "activation_1 (Activation)       (None, 1)            0           dense_1[0][0]                    \n",
      "__________________________________________________________________________________________________\n",
      "lambda_1 (Lambda)               (None, 1)            0           activation_1[0][0]               \n",
      "==================================================================================================\n",
      "Total params: 23,723,951\n",
      "Trainable params: 23,723,951\n",
      "Non-trainable params: 0\n",
      "__________________________________________________________________________________________________\n"
     ]
    }
   ],
   "source": [
    "re7model = RecommenderV7(n_users, n_beers, n_factors, min_rating, max_rating)\n",
    "re7model.summary()"
   ]
  },
  {
   "cell_type": "code",
   "execution_count": 16,
   "metadata": {},
   "outputs": [
    {
     "name": "stdout",
     "output_type": "stream",
     "text": [
      "WARNING:tensorflow:From C:\\Users\\HOME\\Anaconda3\\lib\\site-packages\\keras\\backend\\tensorflow_backend.py:422: The name tf.global_variables is deprecated. Please use tf.compat.v1.global_variables instead.\n",
      "\n",
      "Train on 7258502 samples, validate on 1814626 samples\n",
      "Epoch 1/10\n",
      "7258502/7258502 [==============================] - 2472s 341us/step - loss: 0.3126 - mae: 0.3788 - mse: 0.3126 - val_loss: 0.1896 - val_mae: 0.3093 - val_mse: 0.1896\n",
      "Epoch 2/10\n",
      "7258502/7258502 [==============================] - 2460s 339us/step - loss: 0.1814 - mae: 0.3025 - mse: 0.1814 - val_loss: 0.1850 - val_mae: 0.3056 - val_mse: 0.1850\n",
      "Epoch 3/10\n",
      "7258502/7258502 [==============================] - 2469s 340us/step - loss: 0.1753 - mae: 0.2960 - mse: 0.1753 - val_loss: 0.1828 - val_mae: 0.3030 - val_mse: 0.1828\n",
      "Epoch 4/10\n",
      "7258502/7258502 [==============================] - 2470s 340us/step - loss: 0.1721 - mae: 0.2925 - mse: 0.1721 - val_loss: 0.1828 - val_mae: 0.3030 - val_mse: 0.1828\n",
      "Epoch 5/10\n",
      "7258502/7258502 [==============================] - 2474s 341us/step - loss: 0.1700 - mae: 0.2904 - mse: 0.1700 - val_loss: 0.1826 - val_mae: 0.3012 - val_mse: 0.1826\n",
      "Epoch 6/10\n",
      "7258502/7258502 [==============================] - 2475s 341us/step - loss: 0.1686 - mae: 0.2889 - mse: 0.1686 - val_loss: 0.1823 - val_mae: 0.3016 - val_mse: 0.1823\n",
      "Epoch 7/10\n",
      "7258502/7258502 [==============================] - 2475s 341us/step - loss: 0.1675 - mae: 0.2877 - mse: 0.1675 - val_loss: 0.1815 - val_mae: 0.3010 - val_mse: 0.1815\n",
      "Epoch 8/10\n",
      "7258502/7258502 [==============================] - 2466s 340us/step - loss: 0.1667 - mae: 0.2868 - mse: 0.1667 - val_loss: 0.1821 - val_mae: 0.2998 - val_mse: 0.1821\n",
      "Epoch 9/10\n",
      "7258502/7258502 [==============================] - 2466s 340us/step - loss: 0.1660 - mae: 0.2861 - mse: 0.1660 - val_loss: 0.1814 - val_mae: 0.3000 - val_mse: 0.1814\n",
      "Epoch 10/10\n",
      "7258502/7258502 [==============================] - 2471s 340us/step - loss: 0.1653 - mae: 0.2854 - mse: 0.1653 - val_loss: 0.1817 - val_mae: 0.3014 - val_mse: 0.1817\n"
     ]
    }
   ],
   "source": [
    "## fit model\n",
    "seed = 7\n",
    "np.random.seed(seed)\n",
    "history_mf = re7model.fit(x=X_train_array, y=y_train, batch_size=1000, epochs=10,\n",
    "                    verbose=1, validation_data=(X_test_array, y_test)) "
   ]
  },
  {
   "cell_type": "code",
   "execution_count": 17,
   "metadata": {},
   "outputs": [
    {
     "data": {
      "text/html": [
       "<div>\n",
       "<style scoped>\n",
       "    .dataframe tbody tr th:only-of-type {\n",
       "        vertical-align: middle;\n",
       "    }\n",
       "\n",
       "    .dataframe tbody tr th {\n",
       "        vertical-align: top;\n",
       "    }\n",
       "\n",
       "    .dataframe thead th {\n",
       "        text-align: right;\n",
       "    }\n",
       "</style>\n",
       "<table border=\"1\" class=\"dataframe\">\n",
       "  <thead>\n",
       "    <tr style=\"text-align: right;\">\n",
       "      <th></th>\n",
       "      <th>val_loss</th>\n",
       "      <th>val_mae</th>\n",
       "      <th>val_mse</th>\n",
       "      <th>loss</th>\n",
       "      <th>mae</th>\n",
       "      <th>mse</th>\n",
       "      <th>epoch</th>\n",
       "    </tr>\n",
       "  </thead>\n",
       "  <tbody>\n",
       "    <tr>\n",
       "      <th>0</th>\n",
       "      <td>0.189635</td>\n",
       "      <td>0.309336</td>\n",
       "      <td>0.189635</td>\n",
       "      <td>0.312647</td>\n",
       "      <td>0.378812</td>\n",
       "      <td>0.312648</td>\n",
       "      <td>0</td>\n",
       "    </tr>\n",
       "    <tr>\n",
       "      <th>1</th>\n",
       "      <td>0.185034</td>\n",
       "      <td>0.305646</td>\n",
       "      <td>0.185034</td>\n",
       "      <td>0.181390</td>\n",
       "      <td>0.302504</td>\n",
       "      <td>0.181391</td>\n",
       "      <td>1</td>\n",
       "    </tr>\n",
       "    <tr>\n",
       "      <th>2</th>\n",
       "      <td>0.182810</td>\n",
       "      <td>0.302957</td>\n",
       "      <td>0.182809</td>\n",
       "      <td>0.175254</td>\n",
       "      <td>0.295971</td>\n",
       "      <td>0.175254</td>\n",
       "      <td>2</td>\n",
       "    </tr>\n",
       "    <tr>\n",
       "      <th>3</th>\n",
       "      <td>0.182779</td>\n",
       "      <td>0.302990</td>\n",
       "      <td>0.182779</td>\n",
       "      <td>0.172056</td>\n",
       "      <td>0.292497</td>\n",
       "      <td>0.172057</td>\n",
       "      <td>3</td>\n",
       "    </tr>\n",
       "    <tr>\n",
       "      <th>4</th>\n",
       "      <td>0.182570</td>\n",
       "      <td>0.301165</td>\n",
       "      <td>0.182570</td>\n",
       "      <td>0.170035</td>\n",
       "      <td>0.290379</td>\n",
       "      <td>0.170035</td>\n",
       "      <td>4</td>\n",
       "    </tr>\n",
       "    <tr>\n",
       "      <th>5</th>\n",
       "      <td>0.182333</td>\n",
       "      <td>0.301578</td>\n",
       "      <td>0.182333</td>\n",
       "      <td>0.168620</td>\n",
       "      <td>0.288869</td>\n",
       "      <td>0.168620</td>\n",
       "      <td>5</td>\n",
       "    </tr>\n",
       "    <tr>\n",
       "      <th>6</th>\n",
       "      <td>0.181471</td>\n",
       "      <td>0.301017</td>\n",
       "      <td>0.181471</td>\n",
       "      <td>0.167543</td>\n",
       "      <td>0.287732</td>\n",
       "      <td>0.167543</td>\n",
       "      <td>6</td>\n",
       "    </tr>\n",
       "    <tr>\n",
       "      <th>7</th>\n",
       "      <td>0.182095</td>\n",
       "      <td>0.299840</td>\n",
       "      <td>0.182095</td>\n",
       "      <td>0.166696</td>\n",
       "      <td>0.286813</td>\n",
       "      <td>0.166696</td>\n",
       "      <td>7</td>\n",
       "    </tr>\n",
       "    <tr>\n",
       "      <th>8</th>\n",
       "      <td>0.181361</td>\n",
       "      <td>0.299953</td>\n",
       "      <td>0.181361</td>\n",
       "      <td>0.165972</td>\n",
       "      <td>0.286074</td>\n",
       "      <td>0.165972</td>\n",
       "      <td>8</td>\n",
       "    </tr>\n",
       "    <tr>\n",
       "      <th>9</th>\n",
       "      <td>0.181679</td>\n",
       "      <td>0.301357</td>\n",
       "      <td>0.181679</td>\n",
       "      <td>0.165346</td>\n",
       "      <td>0.285448</td>\n",
       "      <td>0.165346</td>\n",
       "      <td>9</td>\n",
       "    </tr>\n",
       "  </tbody>\n",
       "</table>\n",
       "</div>"
      ],
      "text/plain": [
       "   val_loss   val_mae   val_mse      loss       mae       mse  epoch\n",
       "0  0.189635  0.309336  0.189635  0.312647  0.378812  0.312648      0\n",
       "1  0.185034  0.305646  0.185034  0.181390  0.302504  0.181391      1\n",
       "2  0.182810  0.302957  0.182809  0.175254  0.295971  0.175254      2\n",
       "3  0.182779  0.302990  0.182779  0.172056  0.292497  0.172057      3\n",
       "4  0.182570  0.301165  0.182570  0.170035  0.290379  0.170035      4\n",
       "5  0.182333  0.301578  0.182333  0.168620  0.288869  0.168620      5\n",
       "6  0.181471  0.301017  0.181471  0.167543  0.287732  0.167543      6\n",
       "7  0.182095  0.299840  0.182095  0.166696  0.286813  0.166696      7\n",
       "8  0.181361  0.299953  0.181361  0.165972  0.286074  0.165972      8\n",
       "9  0.181679  0.301357  0.181679  0.165346  0.285448  0.165346      9"
      ]
     },
     "execution_count": 17,
     "metadata": {},
     "output_type": "execute_result"
    }
   ],
   "source": [
    "## show loss & mae & mse at each epoch\n",
    "hist7 = pd.DataFrame(history_mf.history)\n",
    "hist7['epoch'] = history_mf.epoch\n",
    "hist7"
   ]
  },
  {
   "cell_type": "code",
   "execution_count": 18,
   "metadata": {},
   "outputs": [
    {
     "name": "stdout",
     "output_type": "stream",
     "text": [
      "1814626/1814626 [==============================] - 4s 2us/step\n",
      "## evaluation loss and_metrics ##\n",
      "[0.181679046346107, 0.30135658383369446, 0.18167895078659058]\n"
     ]
    }
   ],
   "source": [
    "#모델 평가하기; model.evaluate()\n",
    "loss_and_metrics = re7model.evaluate(X_test_array, y_test, batch_size=1000)\n",
    "print('## evaluation loss and_metrics ##')\n",
    "print(loss_and_metrics)"
   ]
  },
  {
   "cell_type": "code",
   "execution_count": 19,
   "metadata": {},
   "outputs": [
    {
     "data": {
      "image/png": "[encoded data removed]",
      "text/plain": [
       "<Figure size 720x1080 with 2 Axes>"
      ]
     },
     "metadata": {
      "needs_background": "light"
     },
     "output_type": "display_data"
    }
   ],
   "source": [
    "plot_history(hist7)"
   ]
  },
  {
   "cell_type": "code",
   "execution_count": 20,
   "metadata": {},
   "outputs": [],
   "source": [
    "def get_unbeer_keras(df, userid):\n",
    "    beers = df[df['user']==userid]['beer'].unique().tolist() #해당 유저가 평가한 beer\n",
    "    total_beers = df['beer'].unique().tolist() #모든 beer\n",
    "    unbeers = [beer for beer in total_beers if beer not in beers] #해당 유저가 평가안한 beer\n",
    "    return unbeers\n",
    "\n",
    "def recomm_beer_by_keras(userid, model, top_n):\n",
    "    unbeers = get_unbeer_keras(df,userid)\n",
    "    predict =[v[0][0] for v in  [model.predict([[userid],[beer]]) for beer in unbeers]]\n",
    "    ndf= pd.DataFrame({'beer':unbeers,'rating':predict})\n",
    "    final = ndf.sort_values(by='rating', ascending=False)[:top_n]\n",
    "    return final\n"
   ]
  },
  {
   "cell_type": "code",
   "execution_count": 21,
   "metadata": {},
   "outputs": [
    {
     "name": "stdout",
     "output_type": "stream",
     "text": [
      "Wall time: 3min 1s\n"
     ]
    },
    {
     "data": {
      "text/html": [
       "<div>\n",
       "<style scoped>\n",
       "    .dataframe tbody tr th:only-of-type {\n",
       "        vertical-align: middle;\n",
       "    }\n",
       "\n",
       "    .dataframe tbody tr th {\n",
       "        vertical-align: top;\n",
       "    }\n",
       "\n",
       "    .dataframe thead th {\n",
       "        text-align: right;\n",
       "    }\n",
       "</style>\n",
       "<table border=\"1\" class=\"dataframe\">\n",
       "  <thead>\n",
       "    <tr style=\"text-align: right;\">\n",
       "      <th></th>\n",
       "      <th>beer</th>\n",
       "      <th>rating</th>\n",
       "    </tr>\n",
       "  </thead>\n",
       "  <tbody>\n",
       "    <tr>\n",
       "      <th>227886</th>\n",
       "      <td>53386</td>\n",
       "      <td>5.018239</td>\n",
       "    </tr>\n",
       "    <tr>\n",
       "      <th>252789</th>\n",
       "      <td>101353</td>\n",
       "      <td>4.998735</td>\n",
       "    </tr>\n",
       "    <tr>\n",
       "      <th>8159</th>\n",
       "      <td>91882</td>\n",
       "      <td>4.969511</td>\n",
       "    </tr>\n",
       "    <tr>\n",
       "      <th>270318</th>\n",
       "      <td>179053</td>\n",
       "      <td>4.969384</td>\n",
       "    </tr>\n",
       "    <tr>\n",
       "      <th>208315</th>\n",
       "      <td>135645</td>\n",
       "      <td>4.965288</td>\n",
       "    </tr>\n",
       "    <tr>\n",
       "      <th>221111</th>\n",
       "      <td>65312</td>\n",
       "      <td>4.959350</td>\n",
       "    </tr>\n",
       "    <tr>\n",
       "      <th>186538</th>\n",
       "      <td>68022</td>\n",
       "      <td>4.937458</td>\n",
       "    </tr>\n",
       "    <tr>\n",
       "      <th>184632</th>\n",
       "      <td>145113</td>\n",
       "      <td>4.932275</td>\n",
       "    </tr>\n",
       "    <tr>\n",
       "      <th>269898</th>\n",
       "      <td>102640</td>\n",
       "      <td>4.930546</td>\n",
       "    </tr>\n",
       "    <tr>\n",
       "      <th>43781</th>\n",
       "      <td>154466</td>\n",
       "      <td>4.930435</td>\n",
       "    </tr>\n",
       "  </tbody>\n",
       "</table>\n",
       "</div>"
      ],
      "text/plain": [
       "          beer    rating\n",
       "227886   53386  5.018239\n",
       "252789  101353  4.998735\n",
       "8159     91882  4.969511\n",
       "270318  179053  4.969384\n",
       "208315  135645  4.965288\n",
       "221111   65312  4.959350\n",
       "186538   68022  4.937458\n",
       "184632  145113  4.932275\n",
       "269898  102640  4.930546\n",
       "43781   154466  4.930435"
      ]
     },
     "execution_count": 21,
     "metadata": {},
     "output_type": "execute_result"
    }
   ],
   "source": [
    "%%time\n",
    "\n",
    "unbeers = get_unbeer_keras(df2, 190)\n",
    "recomm_beer_by_keras(190, re7model, 10)"
   ]
  },
  {
   "cell_type": "code",
   "execution_count": 22,
   "metadata": {},
   "outputs": [
    {
     "data": {
      "text/plain": [
       "(309542, 50)"
      ]
     },
     "execution_count": 22,
     "metadata": {},
     "output_type": "execute_result"
    }
   ],
   "source": [
    "## get weights of the beers embedding matrix\n",
    "beer_embedding_weights = re7model.layers[3].get_weights()[0] #3은 beer-embedding : layer 확인!\n",
    "beer_embedding_weights.shape"
   ]
  },
  {
   "cell_type": "code",
   "execution_count": 23,
   "metadata": {},
   "outputs": [
    {
     "data": {
      "text/plain": [
       "(3, 309542)"
      ]
     },
     "execution_count": 23,
     "metadata": {},
     "output_type": "execute_result"
    }
   ],
   "source": [
    "## import PCA\n",
    "pca = PCA(n_components = 3) ## use 3 components\n",
    "beer_embedding_weights_t = np.transpose(beer_embedding_weights) ## pass the transpose of the embedding matrix\n",
    "beer_pca = pca.fit(beer_embedding_weights_t) ## fit\n",
    "\n",
    "## display the resulting matrix dimensions\n",
    "beer_pca.components_.shape"
   ]
  },
  {
   "cell_type": "code",
   "execution_count": 24,
   "metadata": {},
   "outputs": [
    {
     "data": {
      "text/plain": [
       "array([9.9840343e-01, 1.1468965e-03, 5.3597993e-05], dtype=float32)"
      ]
     },
     "execution_count": 24,
     "metadata": {},
     "output_type": "execute_result"
    }
   ],
   "source": [
    "## display the variance explained by the 3 components\n",
    "beer_pca.explained_variance_ratio_\n",
    " #variance 가 아주 낮으면 좋은 해석을 기대하기 어렵다.\n",
    "    #첫번째 PC 분산은 약 얼마? 78%로, dropout 규제를 넣었는데도 성능이 좋다!"
   ]
  },
  {
   "cell_type": "code",
   "execution_count": 25,
   "metadata": {},
   "outputs": [],
   "source": [
    "from operator import itemgetter\n",
    "\n",
    "## extract first PCA\n",
    "pca0 = beer_pca.components_[0]\n",
    "\n",
    "## get the value (pca0, beer title)\n",
    "beer_comp0 = [(f, beers_dict[i]) for f,i in zip(pca0, list(beers_dict.keys()))]"
   ]
  },
  {
   "cell_type": "code",
   "execution_count": 26,
   "metadata": {},
   "outputs": [
    {
     "data": {
      "text/plain": [
       "[(0.01126184, 'Pilsner'),\n",
       " (0.011077536, 'Morning Juice 6'),\n",
       " (0.010897062, 'Sunday Driving'),\n",
       " (0.0103482315, 'Castalia IPA'),\n",
       " (0.010331211, 'Würzburger Hofbräu Premium Pilsner'),\n",
       " (0.0102425, 'Oktoberfest'),\n",
       " (0.010219849, 'Cream Ale'),\n",
       " (0.010095107, 'Dark Secret Barrel Aged Coffee Bean'),\n",
       " (0.009872162, 'Bean Me Up Espresso Milk Stout'),\n",
       " (0.009774746, 'Passion For Me')]"
      ]
     },
     "execution_count": 26,
     "metadata": {},
     "output_type": "execute_result"
    }
   ],
   "source": [
    "## beers corresponding to the highest values of pca0\n",
    "sorted(beer_comp0, key = itemgetter(0), reverse = True)[:10]"
   ]
  },
  {
   "cell_type": "code",
   "execution_count": 27,
   "metadata": {},
   "outputs": [
    {
     "data": {
      "text/plain": [
       "[(-0.006448596, 'Left Coast Hop Juice'),\n",
       " (-0.0063365065, 'Double Stuffed Marshmallow and Chocolate Cranium'),\n",
       " (-0.006229367, 'Wunder Pils'),\n",
       " (-0.006184741, 'Barrel Aged Edition - Scotch'),\n",
       " (-0.0061689806, '423 Blonde Ale'),\n",
       " (-0.0061501786, 'Communication Breakdown'),\n",
       " (-0.006090207, 'Icarus Saison'),\n",
       " (-0.0060554505, 'Blauw'),\n",
       " (-0.0060453913, 'La Montagnaise'),\n",
       " (-0.0060432586, 'Snowman Make Like A Tree And Leaf Maple Porter')]"
      ]
     },
     "execution_count": 27,
     "metadata": {},
     "output_type": "execute_result"
    }
   ],
   "source": [
    "## beers corresponding to the lowest values of pca0\n",
    "sorted(beer_comp0, key = itemgetter(0))[:10]"
   ]
  },
  {
   "cell_type": "code",
   "execution_count": null,
   "metadata": {},
   "outputs": [],
   "source": []
  }
 ],
 "metadata": {
  "kernelspec": {
   "display_name": "Python 3",
   "language": "python",
   "name": "python3"
  },
  "language_info": {
   "codemirror_mode": {
    "name": "ipython",
    "version": 3
   },
   "file_extension": ".py",
   "mimetype": "text/x-python",
   "name": "python",
   "nbconvert_exporter": "python",
   "pygments_lexer": "ipython3",
   "version": "3.7.1"
  }
 },
 "nbformat": 4,
 "nbformat_minor": 2
}
