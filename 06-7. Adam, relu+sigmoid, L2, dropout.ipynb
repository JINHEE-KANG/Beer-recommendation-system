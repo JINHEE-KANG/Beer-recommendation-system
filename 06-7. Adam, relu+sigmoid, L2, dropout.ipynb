{
 "cells": [
  {
   "cell_type": "markdown",
   "metadata": {},
   "source": [
    "## Collaborative Filtering(CF)\n",
    "- 전처리 과정"
   ]
  },
  {
   "cell_type": "code",
   "execution_count": 39,
   "metadata": {
    "ExecuteTime": {
     "end_time": "2019-11-27T16:41:01.694377Z",
     "start_time": "2019-11-27T16:40:54.210691Z"
    }
   },
   "outputs": [],
   "source": [
    "%matplotlib inline\n",
    "import matplotlib.pyplot as plt\n",
    "import numpy as np\n",
    "import pandas as pd\n",
    "import seaborn as sns\n",
    "from sklearn.model_selection import train_test_split\n",
    "from sklearn.preprocessing import LabelEncoder\n",
    "from sklearn.decomposition import PCA"
   ]
  },
  {
   "cell_type": "code",
   "execution_count": 2,
   "metadata": {
    "ExecuteTime": {
     "end_time": "2019-11-27T16:41:26.091872Z",
     "start_time": "2019-11-27T16:41:07.516688Z"
    }
   },
   "outputs": [
    {
     "data": {
      "text/html": [
       "<div>\n",
       "<style scoped>\n",
       "    .dataframe tbody tr th:only-of-type {\n",
       "        vertical-align: middle;\n",
       "    }\n",
       "\n",
       "    .dataframe tbody tr th {\n",
       "        vertical-align: top;\n",
       "    }\n",
       "\n",
       "    .dataframe thead th {\n",
       "        text-align: right;\n",
       "    }\n",
       "</style>\n",
       "<table border=\"1\" class=\"dataframe\">\n",
       "  <thead>\n",
       "    <tr style=\"text-align: right;\">\n",
       "      <th></th>\n",
       "      <th>beer_id</th>\n",
       "      <th>username</th>\n",
       "      <th>date</th>\n",
       "      <th>text</th>\n",
       "      <th>look</th>\n",
       "      <th>smell</th>\n",
       "      <th>taste</th>\n",
       "      <th>feel</th>\n",
       "      <th>overall</th>\n",
       "      <th>score</th>\n",
       "    </tr>\n",
       "  </thead>\n",
       "  <tbody>\n",
       "    <tr>\n",
       "      <td>0</td>\n",
       "      <td>271781</td>\n",
       "      <td>bluejacket74</td>\n",
       "      <td>2017-03-17</td>\n",
       "      <td>750 ml bottle, 2016 vintage, bottle #304 of...</td>\n",
       "      <td>4.00</td>\n",
       "      <td>4.00</td>\n",
       "      <td>4.00</td>\n",
       "      <td>4.25</td>\n",
       "      <td>4.00</td>\n",
       "      <td>4.03</td>\n",
       "    </tr>\n",
       "    <tr>\n",
       "      <td>1</td>\n",
       "      <td>125646</td>\n",
       "      <td>_dirty_</td>\n",
       "      <td>2017-12-21</td>\n",
       "      <td></td>\n",
       "      <td>4.50</td>\n",
       "      <td>4.50</td>\n",
       "      <td>4.50</td>\n",
       "      <td>4.50</td>\n",
       "      <td>4.50</td>\n",
       "      <td>4.50</td>\n",
       "    </tr>\n",
       "    <tr>\n",
       "      <td>2</td>\n",
       "      <td>125646</td>\n",
       "      <td>CJDUBYA</td>\n",
       "      <td>2017-12-21</td>\n",
       "      <td></td>\n",
       "      <td>4.75</td>\n",
       "      <td>4.75</td>\n",
       "      <td>4.75</td>\n",
       "      <td>4.75</td>\n",
       "      <td>4.75</td>\n",
       "      <td>4.75</td>\n",
       "    </tr>\n",
       "    <tr>\n",
       "      <td>3</td>\n",
       "      <td>125646</td>\n",
       "      <td>GratefulBeerGuy</td>\n",
       "      <td>2017-12-20</td>\n",
       "      <td>0% 16 oz can. Funny story: As I finally wal...</td>\n",
       "      <td>4.75</td>\n",
       "      <td>4.75</td>\n",
       "      <td>4.50</td>\n",
       "      <td>4.50</td>\n",
       "      <td>4.50</td>\n",
       "      <td>4.58</td>\n",
       "    </tr>\n",
       "    <tr>\n",
       "      <td>4</td>\n",
       "      <td>125646</td>\n",
       "      <td>LukeGude</td>\n",
       "      <td>2017-12-20</td>\n",
       "      <td>Classic TH NEIPA. Overflowing head and bouq...</td>\n",
       "      <td>4.25</td>\n",
       "      <td>4.50</td>\n",
       "      <td>4.25</td>\n",
       "      <td>4.25</td>\n",
       "      <td>4.25</td>\n",
       "      <td>4.31</td>\n",
       "    </tr>\n",
       "  </tbody>\n",
       "</table>\n",
       "</div>"
      ],
      "text/plain": [
       "   beer_id         username        date  \\\n",
       "0   271781     bluejacket74  2017-03-17   \n",
       "1   125646          _dirty_  2017-12-21   \n",
       "2   125646          CJDUBYA  2017-12-21   \n",
       "3   125646  GratefulBeerGuy  2017-12-20   \n",
       "4   125646         LukeGude  2017-12-20   \n",
       "\n",
       "                                                text  look  smell  taste  \\\n",
       "0     750 ml bottle, 2016 vintage, bottle #304 of...  4.00   4.00   4.00   \n",
       "1                                                     4.50   4.50   4.50   \n",
       "2                                                     4.75   4.75   4.75   \n",
       "3     0% 16 oz can. Funny story: As I finally wal...  4.75   4.75   4.50   \n",
       "4     Classic TH NEIPA. Overflowing head and bouq...  4.25   4.50   4.25   \n",
       "\n",
       "   feel  overall  score  \n",
       "0  4.25     4.00   4.03  \n",
       "1  4.50     4.50   4.50  \n",
       "2  4.75     4.75   4.75  \n",
       "3  4.50     4.50   4.58  \n",
       "4  4.25     4.25   4.31  "
      ]
     },
     "execution_count": 2,
     "metadata": {},
     "output_type": "execute_result"
    }
   ],
   "source": [
    "df = pd.read_csv('reviews.csv')\n",
    "df.head()"
   ]
  },
  {
   "cell_type": "code",
   "execution_count": 3,
   "metadata": {
    "ExecuteTime": {
     "end_time": "2019-11-27T16:42:31.199539Z",
     "start_time": "2019-11-27T16:42:31.197539Z"
    }
   },
   "outputs": [
    {
     "name": "stdout",
     "output_type": "stream",
     "text": [
      "(9073128, 10)\n"
     ]
    }
   ],
   "source": [
    "print(df.shape) #원본 데이터 900만개를 사용"
   ]
  },
  {
   "cell_type": "code",
   "execution_count": 4,
   "metadata": {
    "ExecuteTime": {
     "end_time": "2019-11-27T16:42:35.466500Z",
     "start_time": "2019-11-27T16:42:35.277458Z"
    }
   },
   "outputs": [
    {
     "data": {
      "text/html": [
       "<div>\n",
       "<style scoped>\n",
       "    .dataframe tbody tr th:only-of-type {\n",
       "        vertical-align: middle;\n",
       "    }\n",
       "\n",
       "    .dataframe tbody tr th {\n",
       "        vertical-align: top;\n",
       "    }\n",
       "\n",
       "    .dataframe thead th {\n",
       "        text-align: right;\n",
       "    }\n",
       "</style>\n",
       "<table border=\"1\" class=\"dataframe\">\n",
       "  <thead>\n",
       "    <tr style=\"text-align: right;\">\n",
       "      <th></th>\n",
       "      <th>beerid</th>\n",
       "      <th>userid</th>\n",
       "      <th>rating</th>\n",
       "    </tr>\n",
       "  </thead>\n",
       "  <tbody>\n",
       "    <tr>\n",
       "      <td>0</td>\n",
       "      <td>271781</td>\n",
       "      <td>bluejacket74</td>\n",
       "      <td>4.03</td>\n",
       "    </tr>\n",
       "    <tr>\n",
       "      <td>1</td>\n",
       "      <td>125646</td>\n",
       "      <td>_dirty_</td>\n",
       "      <td>4.50</td>\n",
       "    </tr>\n",
       "    <tr>\n",
       "      <td>2</td>\n",
       "      <td>125646</td>\n",
       "      <td>CJDUBYA</td>\n",
       "      <td>4.75</td>\n",
       "    </tr>\n",
       "    <tr>\n",
       "      <td>3</td>\n",
       "      <td>125646</td>\n",
       "      <td>GratefulBeerGuy</td>\n",
       "      <td>4.58</td>\n",
       "    </tr>\n",
       "    <tr>\n",
       "      <td>4</td>\n",
       "      <td>125646</td>\n",
       "      <td>LukeGude</td>\n",
       "      <td>4.31</td>\n",
       "    </tr>\n",
       "  </tbody>\n",
       "</table>\n",
       "</div>"
      ],
      "text/plain": [
       "   beerid           userid  rating\n",
       "0  271781     bluejacket74    4.03\n",
       "1  125646          _dirty_    4.50\n",
       "2  125646          CJDUBYA    4.75\n",
       "3  125646  GratefulBeerGuy    4.58\n",
       "4  125646         LukeGude    4.31"
      ]
     },
     "execution_count": 4,
     "metadata": {},
     "output_type": "execute_result"
    }
   ],
   "source": [
    "#잠깐 전처리\n",
    "\n",
    "cols = ['beer_id','username','score']\n",
    "df = df[cols]\n",
    "df.rename(columns = {'beer_id':'beerid','username':'userid','score':'rating'}, inplace = True)\n",
    "df.head()"
   ]
  },
  {
   "cell_type": "code",
   "execution_count": 5,
   "metadata": {
    "ExecuteTime": {
     "end_time": "2019-11-27T16:42:43.052209Z",
     "start_time": "2019-11-27T16:42:38.373155Z"
    }
   },
   "outputs": [],
   "source": [
    "#딥러닝에 이용할 컬럼 변경: user, beer, rating\n",
    "\n",
    "user_enc = LabelEncoder()\n",
    "uid = df['userid'].values\n",
    "df['user'] = user_enc.fit_transform(uid.tolist()) #array 인식이 안돼서 list로 빼냄.(userid의 경우만 오류 발생)\n",
    "n_users = df['user'].nunique()"
   ]
  },
  {
   "cell_type": "code",
   "execution_count": 6,
   "metadata": {},
   "outputs": [
    {
     "data": {
      "text/plain": [
       "(164935, 309542, 1.0, 5.0)"
      ]
     },
     "execution_count": 6,
     "metadata": {},
     "output_type": "execute_result"
    }
   ],
   "source": [
    "item_enc = LabelEncoder()\n",
    "df['beer'] = item_enc.fit_transform(df['beerid'].values)\n",
    "n_beers = df['beer'].nunique()\n",
    "\n",
    "df['rating'] = df['rating'].values.astype(np.float32)\n",
    "min_rating = min(df['rating'])\n",
    "max_rating = max(df['rating'])\n",
    "\n",
    "n_users, n_beers, min_rating, max_rating #n_users, n_beers: 유니크한 값 개수, rating의 최솟값과 최댓값."
   ]
  },
  {
   "cell_type": "code",
   "execution_count": 7,
   "metadata": {
    "ExecuteTime": {
     "end_time": "2019-11-27T16:42:46.866068Z",
     "start_time": "2019-11-27T16:42:46.855069Z"
    }
   },
   "outputs": [
    {
     "data": {
      "text/html": [
       "<div>\n",
       "<style scoped>\n",
       "    .dataframe tbody tr th:only-of-type {\n",
       "        vertical-align: middle;\n",
       "    }\n",
       "\n",
       "    .dataframe tbody tr th {\n",
       "        vertical-align: top;\n",
       "    }\n",
       "\n",
       "    .dataframe thead th {\n",
       "        text-align: right;\n",
       "    }\n",
       "</style>\n",
       "<table border=\"1\" class=\"dataframe\">\n",
       "  <thead>\n",
       "    <tr style=\"text-align: right;\">\n",
       "      <th></th>\n",
       "      <th>user</th>\n",
       "      <th>beer</th>\n",
       "      <th>rating</th>\n",
       "    </tr>\n",
       "  </thead>\n",
       "  <tbody>\n",
       "    <tr>\n",
       "      <td>0</td>\n",
       "      <td>102213</td>\n",
       "      <td>231507</td>\n",
       "      <td>4.03</td>\n",
       "    </tr>\n",
       "    <tr>\n",
       "      <td>1</td>\n",
       "      <td>94429</td>\n",
       "      <td>112229</td>\n",
       "      <td>4.50</td>\n",
       "    </tr>\n",
       "    <tr>\n",
       "      <td>2</td>\n",
       "      <td>15635</td>\n",
       "      <td>112229</td>\n",
       "      <td>4.75</td>\n",
       "    </tr>\n",
       "    <tr>\n",
       "      <td>3</td>\n",
       "      <td>34826</td>\n",
       "      <td>112229</td>\n",
       "      <td>4.58</td>\n",
       "    </tr>\n",
       "    <tr>\n",
       "      <td>4</td>\n",
       "      <td>55007</td>\n",
       "      <td>112229</td>\n",
       "      <td>4.31</td>\n",
       "    </tr>\n",
       "  </tbody>\n",
       "</table>\n",
       "</div>"
      ],
      "text/plain": [
       "     user    beer  rating\n",
       "0  102213  231507    4.03\n",
       "1   94429  112229    4.50\n",
       "2   15635  112229    4.75\n",
       "3   34826  112229    4.58\n",
       "4   55007  112229    4.31"
      ]
     },
     "execution_count": 7,
     "metadata": {},
     "output_type": "execute_result"
    }
   ],
   "source": [
    "df2=df[['user','beer','rating']] \n",
    "df2.head() #완료된 데이터셋. 여기서 'user','beer','rating'만 사용"
   ]
  },
  {
   "cell_type": "code",
   "execution_count": 8,
   "metadata": {
    "ExecuteTime": {
     "end_time": "2019-11-27T16:42:50.351854Z",
     "start_time": "2019-11-27T16:42:49.645695Z"
    }
   },
   "outputs": [
    {
     "data": {
      "text/plain": [
       "((7258502, 2), (1814626, 2), (7258502,), (1814626,))"
      ]
     },
     "execution_count": 8,
     "metadata": {},
     "output_type": "execute_result"
    }
   ],
   "source": [
    "#train, test 셋 분할: test size는 0.2, random_state는 임의로 지정\n",
    "X = df[['user', 'beer']].values\n",
    "y = df['rating'].values\n",
    "\n",
    "X_train, X_test, y_train, y_test = train_test_split(X, y, test_size=0.2, random_state=42)\n",
    "\n",
    "X_train.shape, X_test.shape, y_train.shape, y_test.shape"
   ]
  },
  {
   "cell_type": "code",
   "execution_count": 9,
   "metadata": {
    "ExecuteTime": {
     "end_time": "2019-11-27T16:42:54.302743Z",
     "start_time": "2019-11-27T16:42:54.300743Z"
    }
   },
   "outputs": [],
   "source": [
    "#딥러닝 모델을 만들 때 필요한 또다른 변수는: 잠재요인의 개수를 정하는 것!\n",
    "#잠재요인의 개수는 원하는 대로 설정하면 되지만, 주의할 것은 user와 beer 모두에 대해 같은 사이즈를 줘야 한다는 점.\n",
    "\n",
    "#우리는 50개로 간다!(X에 대해서만 적용)\n",
    "n_factors = 50\n",
    "\n",
    "#X를 array로 만들기\n",
    "X_train_array = [X_train[:, 0], X_train[:, 1]]\n",
    "X_test_array = [X_test[:, 0], X_test[:, 1]]"
   ]
  },
  {
   "cell_type": "code",
   "execution_count": 10,
   "metadata": {},
   "outputs": [
    {
     "data": {
      "text/html": [
       "<div>\n",
       "<style scoped>\n",
       "    .dataframe tbody tr th:only-of-type {\n",
       "        vertical-align: middle;\n",
       "    }\n",
       "\n",
       "    .dataframe tbody tr th {\n",
       "        vertical-align: top;\n",
       "    }\n",
       "\n",
       "    .dataframe thead th {\n",
       "        text-align: right;\n",
       "    }\n",
       "</style>\n",
       "<table border=\"1\" class=\"dataframe\">\n",
       "  <thead>\n",
       "    <tr style=\"text-align: right;\">\n",
       "      <th></th>\n",
       "      <th>id</th>\n",
       "      <th>name</th>\n",
       "      <th>brewery_id</th>\n",
       "      <th>state</th>\n",
       "      <th>country</th>\n",
       "      <th>style</th>\n",
       "      <th>availability</th>\n",
       "      <th>abv</th>\n",
       "      <th>notes</th>\n",
       "      <th>retired</th>\n",
       "    </tr>\n",
       "  </thead>\n",
       "  <tbody>\n",
       "    <tr>\n",
       "      <td>0</td>\n",
       "      <td>202522</td>\n",
       "      <td>Olde Cogitator</td>\n",
       "      <td>2199</td>\n",
       "      <td>CA</td>\n",
       "      <td>US</td>\n",
       "      <td>English Oatmeal Stout</td>\n",
       "      <td>Rotating</td>\n",
       "      <td>7.3</td>\n",
       "      <td>No notes at this time.</td>\n",
       "      <td>f</td>\n",
       "    </tr>\n",
       "    <tr>\n",
       "      <td>1</td>\n",
       "      <td>82352</td>\n",
       "      <td>Konrads Stout Russian Imperial Stout</td>\n",
       "      <td>18604</td>\n",
       "      <td>NaN</td>\n",
       "      <td>NO</td>\n",
       "      <td>Russian Imperial Stout</td>\n",
       "      <td>Rotating</td>\n",
       "      <td>10.4</td>\n",
       "      <td>No notes at this time.</td>\n",
       "      <td>f</td>\n",
       "    </tr>\n",
       "    <tr>\n",
       "      <td>2</td>\n",
       "      <td>214879</td>\n",
       "      <td>Scottish Right</td>\n",
       "      <td>44306</td>\n",
       "      <td>IN</td>\n",
       "      <td>US</td>\n",
       "      <td>Scottish Ale</td>\n",
       "      <td>Year-round</td>\n",
       "      <td>4.0</td>\n",
       "      <td>No notes at this time.</td>\n",
       "      <td>t</td>\n",
       "    </tr>\n",
       "    <tr>\n",
       "      <td>3</td>\n",
       "      <td>320009</td>\n",
       "      <td>MegaMeow Imperial Stout</td>\n",
       "      <td>4378</td>\n",
       "      <td>WA</td>\n",
       "      <td>US</td>\n",
       "      <td>American Imperial Stout</td>\n",
       "      <td>Winter</td>\n",
       "      <td>8.7</td>\n",
       "      <td>Every time this year</td>\n",
       "      <td>f</td>\n",
       "    </tr>\n",
       "    <tr>\n",
       "      <td>4</td>\n",
       "      <td>246438</td>\n",
       "      <td>Peaches-N-Cream</td>\n",
       "      <td>44617</td>\n",
       "      <td>PA</td>\n",
       "      <td>US</td>\n",
       "      <td>American Cream Ale</td>\n",
       "      <td>Rotating</td>\n",
       "      <td>5.1</td>\n",
       "      <td>No notes at this time.</td>\n",
       "      <td>f</td>\n",
       "    </tr>\n",
       "  </tbody>\n",
       "</table>\n",
       "</div>"
      ],
      "text/plain": [
       "       id                                  name  brewery_id state country  \\\n",
       "0  202522                        Olde Cogitator        2199    CA      US   \n",
       "1   82352  Konrads Stout Russian Imperial Stout       18604   NaN      NO   \n",
       "2  214879                        Scottish Right       44306    IN      US   \n",
       "3  320009               MegaMeow Imperial Stout        4378    WA      US   \n",
       "4  246438                       Peaches-N-Cream       44617    PA      US   \n",
       "\n",
       "                     style availability   abv                   notes retired  \n",
       "0    English Oatmeal Stout     Rotating   7.3  No notes at this time.       f  \n",
       "1   Russian Imperial Stout     Rotating  10.4  No notes at this time.       f  \n",
       "2             Scottish Ale   Year-round   4.0  No notes at this time.       t  \n",
       "3  American Imperial Stout       Winter   8.7    Every time this year       f  \n",
       "4       American Cream Ale     Rotating   5.1  No notes at this time.       f  "
      ]
     },
     "execution_count": 10,
     "metadata": {},
     "output_type": "execute_result"
    }
   ],
   "source": [
    "beers = pd.read_csv('beers.csv')\n",
    "beers.head()"
   ]
  },
  {
   "cell_type": "code",
   "execution_count": 11,
   "metadata": {},
   "outputs": [],
   "source": [
    "## create a dictionary out of beerid, beer original title\n",
    "beers_dict = beers.set_index('id')['name'].to_dict()"
   ]
  },
  {
   "cell_type": "code",
   "execution_count": 29,
   "metadata": {
    "ExecuteTime": {
     "end_time": "2019-11-27T16:43:14.561307Z",
     "start_time": "2019-11-27T16:43:05.998377Z"
    }
   },
   "outputs": [],
   "source": [
    "#keras 라이브러리 로드\n",
    "from keras.models import Model\n",
    "from keras.layers import Input, Reshape, Dot\n",
    "from keras.layers import Embedding, Dense, Dropout\n",
    "from keras.optimizers import Adam\n",
    "from keras.regularizers import l2\n",
    "from keras.layers import Add, Activation, Lambda, Concatenate"
   ]
  },
  {
   "cell_type": "code",
   "execution_count": 43,
   "metadata": {
    "ExecuteTime": {
     "end_time": "2019-11-28T01:53:52.774855Z",
     "start_time": "2019-11-28T01:53:52.409772Z"
    }
   },
   "outputs": [],
   "source": [
    "##시각화(각 epoch마다의 MSE, MAE 값 비교)\n",
    "\n",
    "def plot_history(hist):\n",
    "    \n",
    "    plt.figure(figsize=(10,15))\n",
    "\n",
    "    plt.subplot(2,1,1)\n",
    "    plt.xlabel('Epoch')\n",
    "    plt.ylabel('Mean Abs Error [rating]')\n",
    "    plt.plot(hist['epoch'], hist['mae'], label='Train Error')\n",
    "    plt.plot(hist['epoch'], hist['val_mae'],label = 'Test Error')\n",
    "    plt.legend()\n",
    "\n",
    "    plt.subplot(2,1,2)\n",
    "    plt.xlabel('Epoch')\n",
    "    plt.ylabel('Mean Square Error [$rating^2$]')\n",
    "    plt.plot(hist['epoch'], hist['mse'], label='Train Error')\n",
    "    plt.plot(hist['epoch'], hist['val_mse'],label = 'Test Error')\n",
    "    plt.legend()\n",
    "    plt.show()\n"
   ]
  },
  {
   "cell_type": "markdown",
   "metadata": {},
   "source": [
    "# 신경망에서 과적합 방지하기 위해 사용하는 방법\n",
    "정리하면 신경망에서 과대적합을 방지하기 위해 가장 널리 사용하는 방법은 다음과 같습니다:\n",
    "- 더 많은 훈련 데이터를 모읍니다.\n",
    "- 네트워크의 용량을 줄입니다.(output의 reshape)\n",
    "- 가중치 규제를 추가합니다.(L1 or L2)\n",
    "- 드롭아웃을 추가합니다.(dropout)"
   ]
  },
  {
   "cell_type": "markdown",
   "metadata": {},
   "source": [
    "- train-error와 test-error의 꺾은선이 차이나는 epoch: 과적합이 발생하는 부분.\n",
    "- 과적합을 막기 위해, '규제'와 'dropout'을 사용해야 한다!(교수님 의견)"
   ]
  },
  {
   "cell_type": "markdown",
   "metadata": {},
   "source": [
    "- 과대적합을 막는 가장 간단한 방법은 모델의 규모를 축소하는 것입니다. 즉, 모델에 있는 학습 가능한 파라미터의 수를 줄입니다(모델 파라미터는 층(layer)의 개수와 층의 유닛(unit) 개수에 의해 결정됩니다). 딥러닝에서는 모델의 학습 가능한 파라미터의 수를 종종 모델의 \"용량\"이라고 말합니다. 직관적으로 생각해 보면 많은 파라미터를 가진 모델이 더 많은 \"기억 용량\"을 가집니다. 이런 모델은 훈련 샘플과 타깃 사이를 일반화 능력이 없는 딕셔너리와 같은 매핑으로 완벽하게 학습할 수 있습니다. 하지만 이전에 본 적 없는 데이터에서 예측을 할 땐 쓸모가 없을 것입니다.\n",
    "- 항상 기억해야 할 점은 딥러닝 모델이 훈련 세트에는 학습이 잘 되는 경향이 있지만 진짜 해결할 문제는 학습이 아니라 일반화라는 것입니다.\n",
    "- 알맞은 모델의 크기를 찾으려면 비교적 적은 수의 층과 파라미터로 시작해서 검증 손실이 감소할 때까지 새로운 층을 추가하거나 층의 크기를 늘리는 것이 좋습니다.\n",
    "- 출처: https://www.tensorflow.org/tutorials/keras/overfit_and_underfit?hl=ko"
   ]
  },
  {
   "cell_type": "markdown",
   "metadata": {},
   "source": [
    "## L2 규제"
   ]
  },
  {
   "cell_type": "code",
   "execution_count": 30,
   "metadata": {},
   "outputs": [],
   "source": [
    "#dense layer에 L2 규제를 추가한 버전, 연산의 layer도 2개 더 추가하였다.\n",
    "##bias가 있음// + activation을 추가(sigmoid), 연산할 때 평점의 min, max도 함께 고려한다.\n",
    "\n",
    "def RecommenderV2(n_users, n_movies, n_factors, min_rating, max_rating):\n",
    "   \n",
    "    #input: user, beer\n",
    "    user = Input(shape=(1,))\n",
    "    u = EmbeddingLayer(n_users, n_factors)(user)\n",
    "    \n",
    "    beer = Input(shape=(1,))\n",
    "    b = EmbeddingLayer(n_beers, n_factors)(beer)\n",
    "    \n",
    "    #output: x, 연산과정\n",
    "    x = Concatenate()([u, b])\n",
    "    \n",
    "    x = Dense(10, kernel_initializer='he_normal',kernel_regularizer=l2(0.001))(x) #L2 규제 추가\n",
    "    x = Activation('relu')(x)\n",
    "    \n",
    "    x = Dense(1, kernel_initializer='he_normal',kernel_regularizer=l2(0.001))(x) #L2 규제 추가\n",
    "    x = Activation('sigmoid')(x)\n",
    "    x = Lambda(lambda x: x * (max_rating - min_rating) + min_rating)(x)\n",
    "\n",
    "    #완성되는 model\n",
    "    model = Model(inputs=[user, beer], outputs=x)\n",
    "    opt = Adam(lr=0.001)\n",
    "    model.compile(loss=['mse'], metrics = ['mae','mse'] ,optimizer=opt)\n",
    "\n",
    "    return model"
   ]
  },
  {
   "cell_type": "code",
   "execution_count": 38,
   "metadata": {},
   "outputs": [
    {
     "name": "stdout",
     "output_type": "stream",
     "text": [
      "Model: \"model_3\"\n",
      "__________________________________________________________________________________________________\n",
      "Layer (type)                    Output Shape         Param #     Connected to                     \n",
      "==================================================================================================\n",
      "input_7 (InputLayer)            (None, 1)            0                                            \n",
      "__________________________________________________________________________________________________\n",
      "input_8 (InputLayer)            (None, 1)            0                                            \n",
      "__________________________________________________________________________________________________\n",
      "embedding_11 (Embedding)        (None, 1, 50)        8246750     input_7[0][0]                    \n",
      "__________________________________________________________________________________________________\n",
      "embedding_12 (Embedding)        (None, 1, 50)        15477100    input_8[0][0]                    \n",
      "__________________________________________________________________________________________________\n",
      "reshape_11 (Reshape)            (None, 50)           0           embedding_11[0][0]               \n",
      "__________________________________________________________________________________________________\n",
      "reshape_12 (Reshape)            (None, 50)           0           embedding_12[0][0]               \n",
      "__________________________________________________________________________________________________\n",
      "concatenate_1 (Concatenate)     (None, 100)          0           reshape_11[0][0]                 \n",
      "                                                                 reshape_12[0][0]                 \n",
      "__________________________________________________________________________________________________\n",
      "dense_1 (Dense)                 (None, 10)           1010        concatenate_1[0][0]              \n",
      "__________________________________________________________________________________________________\n",
      "activation_1 (Activation)       (None, 10)           0           dense_1[0][0]                    \n",
      "__________________________________________________________________________________________________\n",
      "dense_2 (Dense)                 (None, 1)            11          activation_1[0][0]               \n",
      "__________________________________________________________________________________________________\n",
      "activation_2 (Activation)       (None, 1)            0           dense_2[0][0]                    \n",
      "__________________________________________________________________________________________________\n",
      "lambda_1 (Lambda)               (None, 1)            0           activation_2[0][0]               \n",
      "==================================================================================================\n",
      "Total params: 23,724,871\n",
      "Trainable params: 23,724,871\n",
      "Non-trainable params: 0\n",
      "__________________________________________________________________________________________________\n"
     ]
    }
   ],
   "source": [
    "re2model = RecommenderV2(n_users, n_beers, n_factors, min_rating, max_rating)\n",
    "re2model.summary()"
   ]
  },
  {
   "cell_type": "code",
   "execution_count": 39,
   "metadata": {},
   "outputs": [
    {
     "name": "stdout",
     "output_type": "stream",
     "text": [
      "Train on 7258502 samples, validate on 1814626 samples\n",
      "Epoch 1/10\n",
      "7258502/7258502 [==============================] - 2744s 378us/step - loss: 0.3118 - mae: 0.3526 - mse: 0.2377 - val_loss: 0.2773 - val_mae: 0.3331 - val_mse: 0.2153\n",
      "Epoch 2/10\n",
      "7258502/7258502 [==============================] - 2729s 376us/step - loss: 0.2768 - mae: 0.3324 - mse: 0.2148 - val_loss: 0.2767 - val_mae: 0.3327 - val_mse: 0.2149\n",
      "Epoch 3/10\n",
      "7258502/7258502 [==============================] - 2728s 376us/step - loss: 0.2770 - mae: 0.3323 - mse: 0.2147 - val_loss: 0.2758 - val_mae: 0.3317 - val_mse: 0.2150\n",
      "Epoch 4/10\n",
      "7258502/7258502 [==============================] - 2733s 376us/step - loss: 0.2768 - mae: 0.3323 - mse: 0.2147 - val_loss: 0.2764 - val_mae: 0.3319 - val_mse: 0.2149\n",
      "Epoch 5/10\n",
      "7258502/7258502 [==============================] - 2740s 378us/step - loss: 0.2768 - mae: 0.3323 - mse: 0.2147 - val_loss: 0.2765 - val_mae: 0.3316 - val_mse: 0.2148\n",
      "Epoch 6/10\n",
      "7258502/7258502 [==============================] - 2832s 390us/step - loss: 0.2767 - mae: 0.3323 - mse: 0.2147 - val_loss: 0.2775 - val_mae: 0.3320 - val_mse: 0.2148\n",
      "Epoch 7/10\n",
      "7258502/7258502 [==============================] - 2785s 384us/step - loss: 0.2767 - mae: 0.3323 - mse: 0.2147 - val_loss: 0.2774 - val_mae: 0.3318 - val_mse: 0.2146\n",
      "Epoch 8/10\n",
      "7258502/7258502 [==============================] - 2858s 394us/step - loss: 0.2768 - mae: 0.3323 - mse: 0.2147 - val_loss: 0.2768 - val_mae: 0.3321 - val_mse: 0.2149\n",
      "Epoch 9/10\n",
      "7258502/7258502 [==============================] - 2890s 398us/step - loss: 0.2769 - mae: 0.3324 - mse: 0.2147 - val_loss: 0.2766 - val_mae: 0.3327 - val_mse: 0.2148\n",
      "Epoch 10/10\n",
      "7258502/7258502 [==============================] - 2751s 379us/step - loss: 0.2767 - mae: 0.3323 - mse: 0.2147 - val_loss: 0.2767 - val_mae: 0.3331 - val_mse: 0.2149\n"
     ]
    }
   ],
   "source": [
    "## fit model\n",
    "seed = 7\n",
    "np.random.seed(seed)\n",
    "history_mf = re2model.fit(x=X_train_array, y=y_train, batch_size=1000, epochs=10,\n",
    "                    verbose=1, validation_data=(X_test_array, y_test)) "
   ]
  },
  {
   "cell_type": "code",
   "execution_count": 40,
   "metadata": {},
   "outputs": [
    {
     "data": {
      "text/html": [
       "<div>\n",
       "<style scoped>\n",
       "    .dataframe tbody tr th:only-of-type {\n",
       "        vertical-align: middle;\n",
       "    }\n",
       "\n",
       "    .dataframe tbody tr th {\n",
       "        vertical-align: top;\n",
       "    }\n",
       "\n",
       "    .dataframe thead th {\n",
       "        text-align: right;\n",
       "    }\n",
       "</style>\n",
       "<table border=\"1\" class=\"dataframe\">\n",
       "  <thead>\n",
       "    <tr style=\"text-align: right;\">\n",
       "      <th></th>\n",
       "      <th>val_loss</th>\n",
       "      <th>val_mae</th>\n",
       "      <th>val_mse</th>\n",
       "      <th>loss</th>\n",
       "      <th>mae</th>\n",
       "      <th>mse</th>\n",
       "      <th>epoch</th>\n",
       "    </tr>\n",
       "  </thead>\n",
       "  <tbody>\n",
       "    <tr>\n",
       "      <td>0</td>\n",
       "      <td>0.277338</td>\n",
       "      <td>0.333118</td>\n",
       "      <td>0.215275</td>\n",
       "      <td>0.311771</td>\n",
       "      <td>0.352643</td>\n",
       "      <td>0.237664</td>\n",
       "      <td>0</td>\n",
       "    </tr>\n",
       "    <tr>\n",
       "      <td>1</td>\n",
       "      <td>0.276742</td>\n",
       "      <td>0.332720</td>\n",
       "      <td>0.214861</td>\n",
       "      <td>0.276785</td>\n",
       "      <td>0.332426</td>\n",
       "      <td>0.214781</td>\n",
       "      <td>1</td>\n",
       "    </tr>\n",
       "    <tr>\n",
       "      <td>2</td>\n",
       "      <td>0.275829</td>\n",
       "      <td>0.331672</td>\n",
       "      <td>0.215012</td>\n",
       "      <td>0.276951</td>\n",
       "      <td>0.332304</td>\n",
       "      <td>0.214675</td>\n",
       "      <td>2</td>\n",
       "    </tr>\n",
       "    <tr>\n",
       "      <td>3</td>\n",
       "      <td>0.276413</td>\n",
       "      <td>0.331893</td>\n",
       "      <td>0.214869</td>\n",
       "      <td>0.276848</td>\n",
       "      <td>0.332315</td>\n",
       "      <td>0.214700</td>\n",
       "      <td>3</td>\n",
       "    </tr>\n",
       "    <tr>\n",
       "      <td>4</td>\n",
       "      <td>0.276473</td>\n",
       "      <td>0.331591</td>\n",
       "      <td>0.214781</td>\n",
       "      <td>0.276791</td>\n",
       "      <td>0.332332</td>\n",
       "      <td>0.214697</td>\n",
       "      <td>4</td>\n",
       "    </tr>\n",
       "    <tr>\n",
       "      <td>5</td>\n",
       "      <td>0.277482</td>\n",
       "      <td>0.331953</td>\n",
       "      <td>0.214825</td>\n",
       "      <td>0.276673</td>\n",
       "      <td>0.332301</td>\n",
       "      <td>0.214677</td>\n",
       "      <td>5</td>\n",
       "    </tr>\n",
       "    <tr>\n",
       "      <td>6</td>\n",
       "      <td>0.277405</td>\n",
       "      <td>0.331814</td>\n",
       "      <td>0.214556</td>\n",
       "      <td>0.276696</td>\n",
       "      <td>0.332325</td>\n",
       "      <td>0.214698</td>\n",
       "      <td>6</td>\n",
       "    </tr>\n",
       "    <tr>\n",
       "      <td>7</td>\n",
       "      <td>0.276767</td>\n",
       "      <td>0.332100</td>\n",
       "      <td>0.214918</td>\n",
       "      <td>0.276781</td>\n",
       "      <td>0.332323</td>\n",
       "      <td>0.214742</td>\n",
       "      <td>7</td>\n",
       "    </tr>\n",
       "    <tr>\n",
       "      <td>8</td>\n",
       "      <td>0.276551</td>\n",
       "      <td>0.332676</td>\n",
       "      <td>0.214811</td>\n",
       "      <td>0.276889</td>\n",
       "      <td>0.332354</td>\n",
       "      <td>0.214707</td>\n",
       "      <td>8</td>\n",
       "    </tr>\n",
       "    <tr>\n",
       "      <td>9</td>\n",
       "      <td>0.276750</td>\n",
       "      <td>0.333097</td>\n",
       "      <td>0.214862</td>\n",
       "      <td>0.276734</td>\n",
       "      <td>0.332298</td>\n",
       "      <td>0.214678</td>\n",
       "      <td>9</td>\n",
       "    </tr>\n",
       "  </tbody>\n",
       "</table>\n",
       "</div>"
      ],
      "text/plain": [
       "   val_loss   val_mae   val_mse      loss       mae       mse  epoch\n",
       "0  0.277338  0.333118  0.215275  0.311771  0.352643  0.237664      0\n",
       "1  0.276742  0.332720  0.214861  0.276785  0.332426  0.214781      1\n",
       "2  0.275829  0.331672  0.215012  0.276951  0.332304  0.214675      2\n",
       "3  0.276413  0.331893  0.214869  0.276848  0.332315  0.214700      3\n",
       "4  0.276473  0.331591  0.214781  0.276791  0.332332  0.214697      4\n",
       "5  0.277482  0.331953  0.214825  0.276673  0.332301  0.214677      5\n",
       "6  0.277405  0.331814  0.214556  0.276696  0.332325  0.214698      6\n",
       "7  0.276767  0.332100  0.214918  0.276781  0.332323  0.214742      7\n",
       "8  0.276551  0.332676  0.214811  0.276889  0.332354  0.214707      8\n",
       "9  0.276750  0.333097  0.214862  0.276734  0.332298  0.214678      9"
      ]
     },
     "execution_count": 40,
     "metadata": {},
     "output_type": "execute_result"
    }
   ],
   "source": [
    "## show loss & mae & mse at each epoch\n",
    "hist3 = pd.DataFrame(history_mf.history)\n",
    "hist3['epoch'] = history_mf.epoch\n",
    "hist3"
   ]
  },
  {
   "cell_type": "code",
   "execution_count": 41,
   "metadata": {},
   "outputs": [
    {
     "name": "stdout",
     "output_type": "stream",
     "text": [
      "1814626/1814626 [==============================] - 66s 37us/step\n",
      "## evaluation loss and_metrics ##\n",
      "[0.27674963348797615, 0.333096981048584, 0.21486195921897888]\n"
     ]
    }
   ],
   "source": [
    "#모델 평가하기; model.evaluate()\n",
    "loss_and_metrics = re2model.evaluate(X_test_array, y_test, batch_size=1000)\n",
    "print('## evaluation loss and_metrics ##')\n",
    "print(loss_and_metrics)"
   ]
  },
  {
   "cell_type": "code",
   "execution_count": 42,
   "metadata": {},
   "outputs": [
    {
     "data": {
      "text/plain": [
       "(309542, 50)"
      ]
     },
     "execution_count": 42,
     "metadata": {},
     "output_type": "execute_result"
    }
   ],
   "source": [
    "## get weights of the beers embedding matrix\n",
    "beer_embedding_weights = re2model.layers[3].get_weights()[0] #3은 beer-embedding : layer 확인!\n",
    "beer_embedding_weights.shape"
   ]
  },
  {
   "cell_type": "code",
   "execution_count": 43,
   "metadata": {},
   "outputs": [
    {
     "data": {
      "text/plain": [
       "(3, 309542)"
      ]
     },
     "execution_count": 43,
     "metadata": {},
     "output_type": "execute_result"
    }
   ],
   "source": [
    "## import PCA\n",
    "pca = PCA(n_components = 3) ## use 3 components\n",
    "beer_embedding_weights_t = np.transpose(beer_embedding_weights) ## pass the transpose of the embedding matrix\n",
    "beer_pca = pca.fit(beer_embedding_weights_t) ## fit\n",
    "\n",
    "## display the resulting matrix dimensions\n",
    "beer_pca.components_.shape"
   ]
  },
  {
   "cell_type": "code",
   "execution_count": 44,
   "metadata": {},
   "outputs": [
    {
     "data": {
      "text/plain": [
       "array([0.9244073 , 0.05990653, 0.00552208], dtype=float32)"
      ]
     },
     "execution_count": 44,
     "metadata": {},
     "output_type": "execute_result"
    }
   ],
   "source": [
    "## display the variance explained by the 3 components\n",
    "beer_pca.explained_variance_ratio_\n",
    " #variance 가 아주 낮으면 좋은 해석을 기대하기 어렵다.\n",
    "    #첫번째 PC 분산은 약 얼마? 23%로, 좀 성능이 괜찮아졌다!"
   ]
  },
  {
   "cell_type": "code",
   "execution_count": 45,
   "metadata": {},
   "outputs": [
    {
     "data": {
      "image/png": "[encoded data removed]",
      "text/plain": [
       "<Figure size 720x1080 with 2 Axes>"
      ]
     },
     "metadata": {
      "needs_background": "light"
     },
     "output_type": "display_data"
    }
   ],
   "source": [
    "plot_history(hist3)"
   ]
  },
  {
   "cell_type": "code",
   "execution_count": 22,
   "metadata": {},
   "outputs": [],
   "source": [
    "class EmbeddingLayer:\n",
    "    def __init__(self, n_items, n_factors):\n",
    "        self.n_items = n_items\n",
    "        self.n_factors = n_factors\n",
    "    \n",
    "    def __call__(self, x):\n",
    "        x = Embedding(self.n_items, self.n_factors, embeddings_initializer='he_normal')(x) #initializer는 정규분포\n",
    "        x = Reshape((self.n_factors,))(x)\n",
    "        return \n",
    "    "
   ]
  },
  {
   "cell_type": "markdown",
   "metadata": {},
   "source": [
    "## dropout "
   ]
  },
  {
   "cell_type": "code",
   "execution_count": 32,
   "metadata": {},
   "outputs": [],
   "source": [
    "from keras.layers import Concatenate, Dense, Dropout\n",
    "\n",
    "#output에 dropout을 추가한 버전\n",
    "##특히 dense layer를 2개 추가하였으며, 각각의 activation은 relu와 sigmoid이다. 가장 복잡한 버전\n",
    "\n",
    "def RecommenderV3(n_users, n_movies, n_factors, min_rating, max_rating):\n",
    "   \n",
    "    #input: user, beer\n",
    "    user = Input(shape=(1,))\n",
    "    u = EmbeddingLayer(n_users, n_factors)(user)\n",
    "    \n",
    "    beer = Input(shape=(1,))\n",
    "    b = EmbeddingLayer(n_beers, n_factors)(beer)\n",
    "    \n",
    "    #output: x, 연산과정\n",
    "    x = Concatenate()([u, b])\n",
    "    x = Dropout(0.05)(x)\n",
    "    \n",
    "    x = Dense(10, kernel_initializer='he_normal')(x)\n",
    "    x = Activation('relu')(x)\n",
    "    x = Dropout(0.5)(x)\n",
    "    \n",
    "    x = Dense(1, kernel_initializer='he_normal')(x)\n",
    "    x = Activation('sigmoid')(x)\n",
    "    x = Lambda(lambda x: x * (max_rating - min_rating) + min_rating)(x)\n",
    "\n",
    "    #완성되는 model\n",
    "    model = Model(inputs=[user, beer], outputs=x)\n",
    "    opt = Adam(lr=0.001)\n",
    "    model.compile(loss=['mse'], metrics = ['mae','mse'] ,optimizer=opt)\n",
    "\n",
    "    return model"
   ]
  },
  {
   "cell_type": "code",
   "execution_count": 33,
   "metadata": {},
   "outputs": [
    {
     "name": "stdout",
     "output_type": "stream",
     "text": [
      "Model: \"model_2\"\n",
      "__________________________________________________________________________________________________\n",
      "Layer (type)                    Output Shape         Param #     Connected to                     \n",
      "==================================================================================================\n",
      "input_9 (InputLayer)            (None, 1)            0                                            \n",
      "__________________________________________________________________________________________________\n",
      "input_10 (InputLayer)           (None, 1)            0                                            \n",
      "__________________________________________________________________________________________________\n",
      "embedding_5 (Embedding)         (None, 1, 50)        8246750     input_9[0][0]                    \n",
      "__________________________________________________________________________________________________\n",
      "embedding_6 (Embedding)         (None, 1, 50)        15477100    input_10[0][0]                   \n",
      "__________________________________________________________________________________________________\n",
      "reshape_5 (Reshape)             (None, 50)           0           embedding_5[0][0]                \n",
      "__________________________________________________________________________________________________\n",
      "reshape_6 (Reshape)             (None, 50)           0           embedding_6[0][0]                \n",
      "__________________________________________________________________________________________________\n",
      "concatenate_1 (Concatenate)     (None, 100)          0           reshape_5[0][0]                  \n",
      "                                                                 reshape_6[0][0]                  \n",
      "__________________________________________________________________________________________________\n",
      "dropout_1 (Dropout)             (None, 100)          0           concatenate_1[0][0]              \n",
      "__________________________________________________________________________________________________\n",
      "dense_1 (Dense)                 (None, 10)           1010        dropout_1[0][0]                  \n",
      "__________________________________________________________________________________________________\n",
      "activation_1 (Activation)       (None, 10)           0           dense_1[0][0]                    \n",
      "__________________________________________________________________________________________________\n",
      "dropout_2 (Dropout)             (None, 10)           0           activation_1[0][0]               \n",
      "__________________________________________________________________________________________________\n",
      "dense_2 (Dense)                 (None, 1)            11          dropout_2[0][0]                  \n",
      "__________________________________________________________________________________________________\n",
      "activation_2 (Activation)       (None, 1)            0           dense_2[0][0]                    \n",
      "__________________________________________________________________________________________________\n",
      "lambda_1 (Lambda)               (None, 1)            0           activation_2[0][0]               \n",
      "==================================================================================================\n",
      "Total params: 23,724,871\n",
      "Trainable params: 23,724,871\n",
      "Non-trainable params: 0\n",
      "__________________________________________________________________________________________________\n"
     ]
    }
   ],
   "source": [
    "re3model = RecommenderV3(n_users, n_beers, n_factors, min_rating, max_rating)\n",
    "re3model.summary()"
   ]
  },
  {
   "cell_type": "code",
   "execution_count": 34,
   "metadata": {},
   "outputs": [
    {
     "name": "stdout",
     "output_type": "stream",
     "text": [
      "WARNING:tensorflow:From C:\\Users\\suyn3\\.conda\\envs\\tf0\\lib\\site-packages\\keras\\backend\\tensorflow_backend.py:422: The name tf.global_variables is deprecated. Please use tf.compat.v1.global_variables instead.\n",
      "\n",
      "Train on 7258502 samples, validate on 1814626 samples\n",
      "Epoch 1/10\n",
      "7258502/7258502 [==============================] - 1752s 241us/step - loss: 0.2388 - mae: 0.3542 - mse: 0.2388 - val_loss: 0.1884 - val_mae: 0.3069 - val_mse: 0.1884\n",
      "Epoch 2/10\n",
      "7258502/7258502 [==============================] - 1689s 233us/step - loss: 0.2064 - mae: 0.3244 - mse: 0.2064 - val_loss: 0.1833 - val_mae: 0.3023 - val_mse: 0.1833\n",
      "Epoch 3/10\n",
      "7258502/7258502 [==============================] - 1735s 239us/step - loss: 0.1973 - mae: 0.3164 - mse: 0.1973 - val_loss: 0.1805 - val_mae: 0.2990 - val_mse: 0.1805\n",
      "Epoch 5/10\n",
      "7258502/7258502 [==============================] - 1697s 234us/step - loss: 0.1951 - mae: 0.3145 - mse: 0.1951 - val_loss: 0.1797 - val_mae: 0.2979 - val_mse: 0.1797\n",
      "Epoch 6/10\n",
      "7258502/7258502 [==============================] - 1701s 234us/step - loss: 0.1937 - mae: 0.3131 - mse: 0.1937 - val_loss: 0.1796 - val_mae: 0.2975 - val_mse: 0.1796\n",
      "Epoch 7/10\n",
      "7258502/7258502 [==============================] - 1730s 238us/step - loss: 0.1921 - mae: 0.3119 - mse: 0.1921 - val_loss: 0.1792 - val_mae: 0.2968 - val_mse: 0.1792\n",
      "Epoch 8/10\n",
      "7258502/7258502 [==============================] - 1719s 237us/step - loss: 0.1911 - mae: 0.3110 - mse: 0.1911 - val_loss: 0.1796 - val_mae: 0.2976 - val_mse: 0.1796\n",
      "Epoch 9/10\n",
      "7258502/7258502 [==============================] - 1716s 236us/step - loss: 0.1903 - mae: 0.3102 - mse: 0.1903 - val_loss: 0.1793 - val_mae: 0.2980 - val_mse: 0.1793\n",
      "Epoch 10/10\n",
      "7258502/7258502 [==============================] - 1728s 238us/step - loss: 0.1895 - mae: 0.3096 - mse: 0.1895 - val_loss: 0.1783 - val_mae: 0.2966 - val_mse: 0.1783\n"
     ]
    }
   ],
   "source": [
    "## fit model\n",
    "seed = 7\n",
    "np.random.seed(seed)\n",
    "history_mf = re3model.fit(x=X_train_array, y=y_train, batch_size=1000, epochs=10,\n",
    "                    verbose=1, validation_data=(X_test_array, y_test)) "
   ]
  },
  {
   "cell_type": "code",
   "execution_count": 47,
   "metadata": {},
   "outputs": [
    {
     "name": "stdout",
     "output_type": "stream",
     "text": [
      "Train on 7258502 samples, validate on 1814626 samples\n",
      "Epoch 1/20\n",
      "7258502/7258502 [==============================] - 1728s 238us/step - loss: 0.1889 - mae: 0.3091 - mse: 0.1889 - val_loss: 0.1788 - val_mae: 0.2969 - val_mse: 0.1788\n",
      "Epoch 2/20\n",
      "7258502/7258502 [==============================] - 1731s 238us/step - loss: 0.1884 - mae: 0.3086 - mse: 0.1884 - val_loss: 0.1788 - val_mae: 0.2972 - val_mse: 0.1788\n",
      "Epoch 3/20\n",
      "7258502/7258502 [==============================] - 1725s 238us/step - loss: 0.1878 - mae: 0.3081 - mse: 0.1878 - val_loss: 0.1792 - val_mae: 0.2975 - val_mse: 0.1792\n",
      "Epoch 4/20\n",
      "7258502/7258502 [==============================] - 1791s 247us/step - loss: 0.1874 - mae: 0.3077 - mse: 0.1874 - val_loss: 0.1788 - val_mae: 0.2972 - val_mse: 0.1788\n",
      "Epoch 5/20\n",
      "7258502/7258502 [==============================] - 1736s 239us/step - loss: 0.1870 - mae: 0.3074 - mse: 0.1870 - val_loss: 0.1790 - val_mae: 0.2963 - val_mse: 0.1790\n",
      "Epoch 6/20\n",
      "7258502/7258502 [==============================] - 1720s 237us/step - loss: 0.1868 - mae: 0.3071 - mse: 0.1868 - val_loss: 0.1789 - val_mae: 0.2966 - val_mse: 0.1789\n",
      "Epoch 7/20\n",
      "7258502/7258502 [==============================] - 1727s 238us/step - loss: 0.1863 - mae: 0.3067 - mse: 0.1863 - val_loss: 0.1782 - val_mae: 0.2955 - val_mse: 0.1782\n",
      "Epoch 8/20\n",
      "7258502/7258502 [==============================] - 1734s 239us/step - loss: 0.1861 - mae: 0.3065 - mse: 0.1861 - val_loss: 0.1796 - val_mae: 0.2968 - val_mse: 0.1796\n",
      "Epoch 9/20\n",
      "7258502/7258502 [==============================] - 1739s 240us/step - loss: 0.1858 - mae: 0.3063 - mse: 0.1858 - val_loss: 0.1784 - val_mae: 0.2961 - val_mse: 0.1784\n",
      "Epoch 10/20\n",
      "7258502/7258502 [==============================] - 1731s 239us/step - loss: 0.1856 - mae: 0.3061 - mse: 0.1856 - val_loss: 0.1783 - val_mae: 0.2961 - val_mse: 0.1783\n",
      "Epoch 11/20\n",
      "7258502/7258502 [==============================] - 1729s 238us/step - loss: 0.1853 - mae: 0.3059 - mse: 0.1853 - val_loss: 0.1786 - val_mae: 0.2966 - val_mse: 0.1786\n",
      "Epoch 12/20\n",
      "7258502/7258502 [==============================] - 1732s 239us/step - loss: 0.1851 - mae: 0.3056 - mse: 0.1851 - val_loss: 0.1787 - val_mae: 0.2957 - val_mse: 0.1787\n",
      "Epoch 13/20\n",
      "7258502/7258502 [==============================] - 1743s 240us/step - loss: 0.1848 - mae: 0.3055 - mse: 0.1848 - val_loss: 0.1784 - val_mae: 0.2960 - val_mse: 0.1784\n",
      "Epoch 14/20\n",
      "7258502/7258502 [==============================] - 1766s 243us/step - loss: 0.1849 - mae: 0.3054 - mse: 0.1849 - val_loss: 0.1792 - val_mae: 0.2966 - val_mse: 0.1792\n",
      "Epoch 15/20\n",
      "7258502/7258502 [==============================] - 1759s 242us/step - loss: 0.1846 - mae: 0.3053 - mse: 0.1846 - val_loss: 0.1790 - val_mae: 0.2976 - val_mse: 0.1790\n",
      "Epoch 16/20\n",
      "7258502/7258502 [==============================] - 1747s 241us/step - loss: 0.1842 - mae: 0.3048 - mse: 0.1842 - val_loss: 0.1783 - val_mae: 0.2950 - val_mse: 0.1783\n",
      "Epoch 17/20\n",
      "7258502/7258502 [==============================] - 1766s 243us/step - loss: 0.1843 - mae: 0.3049 - mse: 0.1843 - val_loss: 0.1787 - val_mae: 0.2962 - val_mse: 0.1787\n",
      "Epoch 18/20\n",
      "7258502/7258502 [==============================] - 1740s 240us/step - loss: 0.1842 - mae: 0.3049 - mse: 0.1842 - val_loss: 0.1789 - val_mae: 0.2969 - val_mse: 0.1789\n",
      "Epoch 19/20\n",
      "7258502/7258502 [==============================] - 29101s 4ms/step - loss: 0.1840 - mae: 0.3047 - mse: 0.1840 - val_loss: 0.1789 - val_mae: 0.2960 - val_mse: 0.1789\n",
      "Epoch 20/20\n",
      "7258502/7258502 [==============================] - 1735s 239us/step - loss: 0.1839 - mae: 0.3046 - mse: 0.1839 - val_loss: 0.1786 - val_mae: 0.2962 - val_mse: 0.1786\n"
     ]
    }
   ],
   "source": [
    "## fit model -- epoch 20번한 버전\n",
    "seed = 7\n",
    "np.random.seed(seed)\n",
    "history_mf2 = re3model.fit(x=X_train_array, y=y_train, batch_size=1000, epochs=20,\n",
    "                    verbose=1, validation_data=(X_test_array, y_test)) "
   ]
  },
  {
   "cell_type": "code",
   "execution_count": 35,
   "metadata": {},
   "outputs": [
    {
     "data": {
      "text/html": [
       "<div>\n",
       "<style scoped>\n",
       "    .dataframe tbody tr th:only-of-type {\n",
       "        vertical-align: middle;\n",
       "    }\n",
       "\n",
       "    .dataframe tbody tr th {\n",
       "        vertical-align: top;\n",
       "    }\n",
       "\n",
       "    .dataframe thead th {\n",
       "        text-align: right;\n",
       "    }\n",
       "</style>\n",
       "<table border=\"1\" class=\"dataframe\">\n",
       "  <thead>\n",
       "    <tr style=\"text-align: right;\">\n",
       "      <th></th>\n",
       "      <th>val_loss</th>\n",
       "      <th>val_mae</th>\n",
       "      <th>val_mse</th>\n",
       "      <th>loss</th>\n",
       "      <th>mae</th>\n",
       "      <th>mse</th>\n",
       "      <th>epoch</th>\n",
       "    </tr>\n",
       "  </thead>\n",
       "  <tbody>\n",
       "    <tr>\n",
       "      <td>0</td>\n",
       "      <td>0.188354</td>\n",
       "      <td>0.306945</td>\n",
       "      <td>0.188354</td>\n",
       "      <td>0.238753</td>\n",
       "      <td>0.354244</td>\n",
       "      <td>0.238753</td>\n",
       "      <td>0</td>\n",
       "    </tr>\n",
       "    <tr>\n",
       "      <td>1</td>\n",
       "      <td>0.183275</td>\n",
       "      <td>0.302295</td>\n",
       "      <td>0.183275</td>\n",
       "      <td>0.206377</td>\n",
       "      <td>0.324425</td>\n",
       "      <td>0.206377</td>\n",
       "      <td>1</td>\n",
       "    </tr>\n",
       "    <tr>\n",
       "      <td>2</td>\n",
       "      <td>0.181723</td>\n",
       "      <td>0.300530</td>\n",
       "      <td>0.181722</td>\n",
       "      <td>0.200812</td>\n",
       "      <td>0.319459</td>\n",
       "      <td>0.200812</td>\n",
       "      <td>2</td>\n",
       "    </tr>\n",
       "    <tr>\n",
       "      <td>3</td>\n",
       "      <td>0.180534</td>\n",
       "      <td>0.299035</td>\n",
       "      <td>0.180534</td>\n",
       "      <td>0.197276</td>\n",
       "      <td>0.316408</td>\n",
       "      <td>0.197276</td>\n",
       "      <td>3</td>\n",
       "    </tr>\n",
       "    <tr>\n",
       "      <td>4</td>\n",
       "      <td>0.179712</td>\n",
       "      <td>0.297865</td>\n",
       "      <td>0.179712</td>\n",
       "      <td>0.195143</td>\n",
       "      <td>0.314529</td>\n",
       "      <td>0.195143</td>\n",
       "      <td>4</td>\n",
       "    </tr>\n",
       "    <tr>\n",
       "      <td>5</td>\n",
       "      <td>0.179569</td>\n",
       "      <td>0.297518</td>\n",
       "      <td>0.179569</td>\n",
       "      <td>0.193654</td>\n",
       "      <td>0.313132</td>\n",
       "      <td>0.193654</td>\n",
       "      <td>5</td>\n",
       "    </tr>\n",
       "    <tr>\n",
       "      <td>6</td>\n",
       "      <td>0.179185</td>\n",
       "      <td>0.296808</td>\n",
       "      <td>0.179185</td>\n",
       "      <td>0.192145</td>\n",
       "      <td>0.311875</td>\n",
       "      <td>0.192144</td>\n",
       "      <td>6</td>\n",
       "    </tr>\n",
       "    <tr>\n",
       "      <td>7</td>\n",
       "      <td>0.179615</td>\n",
       "      <td>0.297568</td>\n",
       "      <td>0.179615</td>\n",
       "      <td>0.191146</td>\n",
       "      <td>0.310975</td>\n",
       "      <td>0.191146</td>\n",
       "      <td>7</td>\n",
       "    </tr>\n",
       "    <tr>\n",
       "      <td>8</td>\n",
       "      <td>0.179329</td>\n",
       "      <td>0.297987</td>\n",
       "      <td>0.179329</td>\n",
       "      <td>0.190309</td>\n",
       "      <td>0.310207</td>\n",
       "      <td>0.190309</td>\n",
       "      <td>8</td>\n",
       "    </tr>\n",
       "    <tr>\n",
       "      <td>9</td>\n",
       "      <td>0.178334</td>\n",
       "      <td>0.296594</td>\n",
       "      <td>0.178334</td>\n",
       "      <td>0.189515</td>\n",
       "      <td>0.309577</td>\n",
       "      <td>0.189515</td>\n",
       "      <td>9</td>\n",
       "    </tr>\n",
       "  </tbody>\n",
       "</table>\n",
       "</div>"
      ],
      "text/plain": [
       "   val_loss   val_mae   val_mse      loss       mae       mse  epoch\n",
       "0  0.188354  0.306945  0.188354  0.238753  0.354244  0.238753      0\n",
       "1  0.183275  0.302295  0.183275  0.206377  0.324425  0.206377      1\n",
       "2  0.181723  0.300530  0.181722  0.200812  0.319459  0.200812      2\n",
       "3  0.180534  0.299035  0.180534  0.197276  0.316408  0.197276      3\n",
       "4  0.179712  0.297865  0.179712  0.195143  0.314529  0.195143      4\n",
       "5  0.179569  0.297518  0.179569  0.193654  0.313132  0.193654      5\n",
       "6  0.179185  0.296808  0.179185  0.192145  0.311875  0.192144      6\n",
       "7  0.179615  0.297568  0.179615  0.191146  0.310975  0.191146      7\n",
       "8  0.179329  0.297987  0.179329  0.190309  0.310207  0.190309      8\n",
       "9  0.178334  0.296594  0.178334  0.189515  0.309577  0.189515      9"
      ]
     },
     "execution_count": 35,
     "metadata": {},
     "output_type": "execute_result"
    }
   ],
   "source": [
    "## show loss & mae & mse at each epoch\n",
    "hist4 = pd.DataFrame(history_mf.history)\n",
    "hist4['epoch'] = history_mf.epoch\n",
    "hist4"
   ]
  },
  {
   "cell_type": "code",
   "execution_count": 48,
   "metadata": {},
   "outputs": [
    {
     "data": {
      "text/html": [
       "<div>\n",
       "<style scoped>\n",
       "    .dataframe tbody tr th:only-of-type {\n",
       "        vertical-align: middle;\n",
       "    }\n",
       "\n",
       "    .dataframe tbody tr th {\n",
       "        vertical-align: top;\n",
       "    }\n",
       "\n",
       "    .dataframe thead th {\n",
       "        text-align: right;\n",
       "    }\n",
       "</style>\n",
       "<table border=\"1\" class=\"dataframe\">\n",
       "  <thead>\n",
       "    <tr style=\"text-align: right;\">\n",
       "      <th></th>\n",
       "      <th>val_loss</th>\n",
       "      <th>val_mae</th>\n",
       "      <th>val_mse</th>\n",
       "      <th>loss</th>\n",
       "      <th>mae</th>\n",
       "      <th>mse</th>\n",
       "      <th>epoch</th>\n",
       "    </tr>\n",
       "  </thead>\n",
       "  <tbody>\n",
       "    <tr>\n",
       "      <td>0</td>\n",
       "      <td>0.178792</td>\n",
       "      <td>0.296857</td>\n",
       "      <td>0.178792</td>\n",
       "      <td>0.188913</td>\n",
       "      <td>0.309057</td>\n",
       "      <td>0.188913</td>\n",
       "      <td>0</td>\n",
       "    </tr>\n",
       "    <tr>\n",
       "      <td>1</td>\n",
       "      <td>0.178824</td>\n",
       "      <td>0.297179</td>\n",
       "      <td>0.178823</td>\n",
       "      <td>0.188447</td>\n",
       "      <td>0.308647</td>\n",
       "      <td>0.188447</td>\n",
       "      <td>1</td>\n",
       "    </tr>\n",
       "    <tr>\n",
       "      <td>2</td>\n",
       "      <td>0.179233</td>\n",
       "      <td>0.297506</td>\n",
       "      <td>0.179233</td>\n",
       "      <td>0.187787</td>\n",
       "      <td>0.308076</td>\n",
       "      <td>0.187787</td>\n",
       "      <td>2</td>\n",
       "    </tr>\n",
       "    <tr>\n",
       "      <td>3</td>\n",
       "      <td>0.178780</td>\n",
       "      <td>0.297214</td>\n",
       "      <td>0.178780</td>\n",
       "      <td>0.187363</td>\n",
       "      <td>0.307678</td>\n",
       "      <td>0.187364</td>\n",
       "      <td>3</td>\n",
       "    </tr>\n",
       "    <tr>\n",
       "      <td>4</td>\n",
       "      <td>0.178986</td>\n",
       "      <td>0.296349</td>\n",
       "      <td>0.178986</td>\n",
       "      <td>0.186964</td>\n",
       "      <td>0.307374</td>\n",
       "      <td>0.186964</td>\n",
       "      <td>4</td>\n",
       "    </tr>\n",
       "    <tr>\n",
       "      <td>5</td>\n",
       "      <td>0.178913</td>\n",
       "      <td>0.296599</td>\n",
       "      <td>0.178913</td>\n",
       "      <td>0.186824</td>\n",
       "      <td>0.307141</td>\n",
       "      <td>0.186824</td>\n",
       "      <td>5</td>\n",
       "    </tr>\n",
       "    <tr>\n",
       "      <td>6</td>\n",
       "      <td>0.178215</td>\n",
       "      <td>0.295457</td>\n",
       "      <td>0.178215</td>\n",
       "      <td>0.186342</td>\n",
       "      <td>0.306709</td>\n",
       "      <td>0.186343</td>\n",
       "      <td>6</td>\n",
       "    </tr>\n",
       "    <tr>\n",
       "      <td>7</td>\n",
       "      <td>0.179591</td>\n",
       "      <td>0.296822</td>\n",
       "      <td>0.179590</td>\n",
       "      <td>0.186086</td>\n",
       "      <td>0.306524</td>\n",
       "      <td>0.186087</td>\n",
       "      <td>7</td>\n",
       "    </tr>\n",
       "    <tr>\n",
       "      <td>8</td>\n",
       "      <td>0.178418</td>\n",
       "      <td>0.296053</td>\n",
       "      <td>0.178417</td>\n",
       "      <td>0.185803</td>\n",
       "      <td>0.306301</td>\n",
       "      <td>0.185803</td>\n",
       "      <td>8</td>\n",
       "    </tr>\n",
       "    <tr>\n",
       "      <td>9</td>\n",
       "      <td>0.178311</td>\n",
       "      <td>0.296074</td>\n",
       "      <td>0.178311</td>\n",
       "      <td>0.185561</td>\n",
       "      <td>0.306074</td>\n",
       "      <td>0.185561</td>\n",
       "      <td>9</td>\n",
       "    </tr>\n",
       "    <tr>\n",
       "      <td>10</td>\n",
       "      <td>0.178640</td>\n",
       "      <td>0.296578</td>\n",
       "      <td>0.178640</td>\n",
       "      <td>0.185318</td>\n",
       "      <td>0.305869</td>\n",
       "      <td>0.185318</td>\n",
       "      <td>10</td>\n",
       "    </tr>\n",
       "    <tr>\n",
       "      <td>11</td>\n",
       "      <td>0.178730</td>\n",
       "      <td>0.295686</td>\n",
       "      <td>0.178730</td>\n",
       "      <td>0.185090</td>\n",
       "      <td>0.305648</td>\n",
       "      <td>0.185090</td>\n",
       "      <td>11</td>\n",
       "    </tr>\n",
       "    <tr>\n",
       "      <td>12</td>\n",
       "      <td>0.178441</td>\n",
       "      <td>0.295969</td>\n",
       "      <td>0.178441</td>\n",
       "      <td>0.184844</td>\n",
       "      <td>0.305468</td>\n",
       "      <td>0.184844</td>\n",
       "      <td>12</td>\n",
       "    </tr>\n",
       "    <tr>\n",
       "      <td>13</td>\n",
       "      <td>0.179152</td>\n",
       "      <td>0.296554</td>\n",
       "      <td>0.179152</td>\n",
       "      <td>0.184850</td>\n",
       "      <td>0.305396</td>\n",
       "      <td>0.184850</td>\n",
       "      <td>13</td>\n",
       "    </tr>\n",
       "    <tr>\n",
       "      <td>14</td>\n",
       "      <td>0.179002</td>\n",
       "      <td>0.297601</td>\n",
       "      <td>0.179002</td>\n",
       "      <td>0.184621</td>\n",
       "      <td>0.305270</td>\n",
       "      <td>0.184621</td>\n",
       "      <td>14</td>\n",
       "    </tr>\n",
       "    <tr>\n",
       "      <td>15</td>\n",
       "      <td>0.178335</td>\n",
       "      <td>0.295049</td>\n",
       "      <td>0.178335</td>\n",
       "      <td>0.184186</td>\n",
       "      <td>0.304828</td>\n",
       "      <td>0.184186</td>\n",
       "      <td>15</td>\n",
       "    </tr>\n",
       "    <tr>\n",
       "      <td>16</td>\n",
       "      <td>0.178735</td>\n",
       "      <td>0.296175</td>\n",
       "      <td>0.178735</td>\n",
       "      <td>0.184277</td>\n",
       "      <td>0.304934</td>\n",
       "      <td>0.184277</td>\n",
       "      <td>16</td>\n",
       "    </tr>\n",
       "    <tr>\n",
       "      <td>17</td>\n",
       "      <td>0.178886</td>\n",
       "      <td>0.296902</td>\n",
       "      <td>0.178886</td>\n",
       "      <td>0.184247</td>\n",
       "      <td>0.304877</td>\n",
       "      <td>0.184247</td>\n",
       "      <td>17</td>\n",
       "    </tr>\n",
       "    <tr>\n",
       "      <td>18</td>\n",
       "      <td>0.178890</td>\n",
       "      <td>0.295985</td>\n",
       "      <td>0.178890</td>\n",
       "      <td>0.183966</td>\n",
       "      <td>0.304660</td>\n",
       "      <td>0.183966</td>\n",
       "      <td>18</td>\n",
       "    </tr>\n",
       "    <tr>\n",
       "      <td>19</td>\n",
       "      <td>0.178565</td>\n",
       "      <td>0.296233</td>\n",
       "      <td>0.178565</td>\n",
       "      <td>0.183911</td>\n",
       "      <td>0.304585</td>\n",
       "      <td>0.183911</td>\n",
       "      <td>19</td>\n",
       "    </tr>\n",
       "  </tbody>\n",
       "</table>\n",
       "</div>"
      ],
      "text/plain": [
       "    val_loss   val_mae   val_mse      loss       mae       mse  epoch\n",
       "0   0.178792  0.296857  0.178792  0.188913  0.309057  0.188913      0\n",
       "1   0.178824  0.297179  0.178823  0.188447  0.308647  0.188447      1\n",
       "2   0.179233  0.297506  0.179233  0.187787  0.308076  0.187787      2\n",
       "3   0.178780  0.297214  0.178780  0.187363  0.307678  0.187364      3\n",
       "4   0.178986  0.296349  0.178986  0.186964  0.307374  0.186964      4\n",
       "5   0.178913  0.296599  0.178913  0.186824  0.307141  0.186824      5\n",
       "6   0.178215  0.295457  0.178215  0.186342  0.306709  0.186343      6\n",
       "7   0.179591  0.296822  0.179590  0.186086  0.306524  0.186087      7\n",
       "8   0.178418  0.296053  0.178417  0.185803  0.306301  0.185803      8\n",
       "9   0.178311  0.296074  0.178311  0.185561  0.306074  0.185561      9\n",
       "10  0.178640  0.296578  0.178640  0.185318  0.305869  0.185318     10\n",
       "11  0.178730  0.295686  0.178730  0.185090  0.305648  0.185090     11\n",
       "12  0.178441  0.295969  0.178441  0.184844  0.305468  0.184844     12\n",
       "13  0.179152  0.296554  0.179152  0.184850  0.305396  0.184850     13\n",
       "14  0.179002  0.297601  0.179002  0.184621  0.305270  0.184621     14\n",
       "15  0.178335  0.295049  0.178335  0.184186  0.304828  0.184186     15\n",
       "16  0.178735  0.296175  0.178735  0.184277  0.304934  0.184277     16\n",
       "17  0.178886  0.296902  0.178886  0.184247  0.304877  0.184247     17\n",
       "18  0.178890  0.295985  0.178890  0.183966  0.304660  0.183966     18\n",
       "19  0.178565  0.296233  0.178565  0.183911  0.304585  0.183911     19"
      ]
     },
     "execution_count": 48,
     "metadata": {},
     "output_type": "execute_result"
    }
   ],
   "source": [
    "## show loss & mae & mse at each epoch --epoch 20번 버전\n",
    "hist5 = pd.DataFrame(history_mf2.history)\n",
    "hist5['epoch'] = history_mf2.epoch\n",
    "hist5"
   ]
  },
  {
   "cell_type": "code",
   "execution_count": 44,
   "metadata": {},
   "outputs": [
    {
     "data": {
      "image/png": "[encoded data removed]",
      "text/plain": [
       "<Figure size 720x1080 with 2 Axes>"
      ]
     },
     "metadata": {
      "needs_background": "light"
     },
     "output_type": "display_data"
    }
   ],
   "source": [
    "plot_history(hist4)"
   ]
  },
  {
   "cell_type": "code",
   "execution_count": 50,
   "metadata": {},
   "outputs": [
    {
     "data": {
      "image/png": "[encoded data removed]",
      "text/plain": [
       "<Figure size 720x1080 with 2 Axes>"
      ]
     },
     "metadata": {
      "needs_background": "light"
     },
     "output_type": "display_data"
    }
   ],
   "source": [
    "plot_history(hist5)"
   ]
  },
  {
   "cell_type": "code",
   "execution_count": 36,
   "metadata": {},
   "outputs": [
    {
     "name": "stdout",
     "output_type": "stream",
     "text": [
      "1814626/1814626 [==============================] - 6s 3us/step\n",
      "## evaluation loss and_metrics ##\n",
      "[0.1783340476847047, 0.296593576669693, 0.1783340573310852]\n"
     ]
    }
   ],
   "source": [
    "#모델 평가하기; model.evaluate()\n",
    "loss_and_metrics = re3model.evaluate(X_test_array, y_test, batch_size=1000)\n",
    "print('## evaluation loss and_metrics ##')\n",
    "print(loss_and_metrics)"
   ]
  },
  {
   "cell_type": "code",
   "execution_count": 51,
   "metadata": {},
   "outputs": [
    {
     "name": "stdout",
     "output_type": "stream",
     "text": [
      "1814626/1814626 [==============================] - 9s 5us/step\n",
      "## evaluation loss and_metrics ##\n",
      "[0.1785651017746869, 0.2962329685688019, 0.17856498062610626]\n"
     ]
    }
   ],
   "source": [
    "#20번 버전 \n",
    "#모델 평가하기; model.evaluate()\n",
    "loss_and_metrics = re3model.evaluate(X_test_array, y_test, batch_size=1000)\n",
    "print('## evaluation loss and_metrics ##')\n",
    "print(loss_and_metrics)"
   ]
  },
  {
   "cell_type": "code",
   "execution_count": 52,
   "metadata": {},
   "outputs": [
    {
     "data": {
      "text/plain": [
       "(309542, 50)"
      ]
     },
     "execution_count": 52,
     "metadata": {},
     "output_type": "execute_result"
    }
   ],
   "source": [
    "## get weights of the beers embedding matrix\n",
    "beer_embedding_weights = re3model.layers[3].get_weights()[0] #3은 beer-embedding : layer 확인!\n",
    "beer_embedding_weights.shape"
   ]
  },
  {
   "cell_type": "code",
   "execution_count": 53,
   "metadata": {},
   "outputs": [
    {
     "data": {
      "text/plain": [
       "(3, 309542)"
      ]
     },
     "execution_count": 53,
     "metadata": {},
     "output_type": "execute_result"
    }
   ],
   "source": [
    "## import PCA\n",
    "pca = PCA(n_components = 3) ## use 3 components\n",
    "beer_embedding_weights_t = np.transpose(beer_embedding_weights) ## pass the transpose of the embedding matrix\n",
    "beer_pca = pca.fit(beer_embedding_weights_t) ## fit\n",
    "\n",
    "## display the resulting matrix dimensions\n",
    "beer_pca.components_.shape"
   ]
  },
  {
   "cell_type": "code",
   "execution_count": 41,
   "metadata": {
    "ExecuteTime": {
     "end_time": "2019-11-28T01:51:59.097246Z",
     "start_time": "2019-11-28T01:51:58.985222Z"
    }
   },
   "outputs": [
    {
     "data": {
      "text/plain": [
       "array([0.78686005, 0.11961538, 0.02359777], dtype=float32)"
      ]
     },
     "execution_count": 41,
     "metadata": {},
     "output_type": "execute_result"
    }
   ],
   "source": [
    "## display the variance explained by the 3 components\n",
    "beer_pca.explained_variance_ratio_\n",
    " #variance 가 아주 낮으면 좋은 해석을 기대하기 어렵다.\n",
    "    #첫번째 PC 분산은 약 얼마? 78%로, dropout 규제를 넣었는데도 성능이 좋다!"
   ]
  },
  {
   "cell_type": "code",
   "execution_count": 54,
   "metadata": {},
   "outputs": [
    {
     "data": {
      "text/plain": [
       "array([0.7642738 , 0.14852946, 0.03598557], dtype=float32)"
      ]
     },
     "execution_count": 54,
     "metadata": {},
     "output_type": "execute_result"
    }
   ],
   "source": [
    "#20번 버전\n",
    "## display the variance explained by the 3 components\n",
    "beer_pca.explained_variance_ratio_\n",
    " #variance 가 아주 낮으면 좋은 해석을 기대하기 어렵다.\n",
    "    #첫번째 PC 분산은 약 얼마? 78%로, dropout 규제를 넣었는데도 성능이 좋다!"
   ]
  },
  {
   "cell_type": "code",
   "execution_count": 55,
   "metadata": {},
   "outputs": [],
   "source": [
    "#여기서부턴 전부 20번 버전\n",
    "from operator import itemgetter\n",
    "\n",
    "## extract first PCA\n",
    "pca0 = beer_pca.components_[0]\n",
    "\n",
    "## get the value (pca0, beer title)\n",
    "beer_comp0 = [(f, beers_dict[i]) for f,i in zip(pca0, list(beers_dict.keys()))]"
   ]
  },
  {
   "cell_type": "code",
   "execution_count": 56,
   "metadata": {},
   "outputs": [
    {
     "data": {
      "text/plain": [
       "[(0.013569722, 'Cream Ale'),\n",
       " (0.012582743, 'Sunday Driving'),\n",
       " (0.010959065, 'Dirty Bastard - Bourbon-Soaked Apricots And Ginger'),\n",
       " (0.010454713, 'Rolo Tony Brown Town'),\n",
       " (0.01038827, 'Carrabassett Pale Ale'),\n",
       " (0.010299142, \"Weekend At Brett's Barrel Aged\"),\n",
       " (0.010174001, 'Bean Me Up Espresso Milk Stout'),\n",
       " (0.010076623, 'Nocturnality'),\n",
       " (0.010031739, 'Ahhh You Again'),\n",
       " (0.009913673, 'Morning Juice 6')]"
      ]
     },
     "execution_count": 56,
     "metadata": {},
     "output_type": "execute_result"
    }
   ],
   "source": [
    "## beers corresponding to the highest values of pca0\n",
    "sorted(beer_comp0, key = itemgetter(0), reverse = True)[:10]"
   ]
  },
  {
   "cell_type": "code",
   "execution_count": 57,
   "metadata": {},
   "outputs": [
    {
     "data": {
      "text/plain": [
       "[(-0.014319813, 'Snowman Make Like A Tree And Leaf Maple Porter'),\n",
       " (-0.011460765, 'City Steam American Wheat'),\n",
       " (-0.0113334935, 'Double Stuffed Marshmallow and Chocolate Cranium'),\n",
       " (-0.011072019, 'Bare Tree Weiss Wine Vintage 2003'),\n",
       " (-0.01096, \"Monk's Phunk\"),\n",
       " (-0.010704503, 'Jolly Golden Ale'),\n",
       " (-0.010558221, 'Saison Garni'),\n",
       " (-0.010292491, 'Peach Wheat'),\n",
       " (-0.010199628, 'Mad3 Folks Bier'),\n",
       " (-0.010035179, 'Buckeye Beer')]"
      ]
     },
     "execution_count": 57,
     "metadata": {},
     "output_type": "execute_result"
    }
   ],
   "source": [
    "## beers corresponding to the lowest values of pca0\n",
    "sorted(beer_comp0, key = itemgetter(0))[:10]"
   ]
  },
  {
   "cell_type": "markdown",
   "metadata": {},
   "source": [
    "### 제대로 모델이 만들어졌을까? 한번 추천해보자."
   ]
  },
  {
   "cell_type": "code",
   "execution_count": 59,
   "metadata": {},
   "outputs": [
    {
     "data": {
      "text/plain": [
       "3.740604"
      ]
     },
     "execution_count": 59,
     "metadata": {},
     "output_type": "execute_result"
    }
   ],
   "source": [
    "#20번 - 예측\n",
    "re3model.predict([[5277],[43752]])[0][0]"
   ]
  },
  {
   "cell_type": "code",
   "execution_count": 60,
   "metadata": {},
   "outputs": [],
   "source": [
    "#유저가 평가하지 않은 beer목록을 반환해 주는 함수 : get_unbeer_keras\n",
    "\n",
    "def get_unbeer_keras(df, userid):\n",
    "    beers = df[df['user']==userid]['beer'].unique().tolist() #해당 유저가 평가한 beer\n",
    "    \n",
    "    total_beers = df['beer'].unique().tolist() #모든 beer\n",
    "    \n",
    "    unbeers = [beer for beer in total_beers if beer not in beers] #해당 유저가 평가안한 beer\n",
    "    \n",
    "    print('이미 평가한 beer 수: ', len(beers), '안 평가한 beer 수: ' , len(unbeers), '전체 beer 수: ', len(total_beers))\n",
    "    \n",
    "    return unbeers"
   ]
  },
  {
   "cell_type": "code",
   "execution_count": 61,
   "metadata": {},
   "outputs": [
    {
     "name": "stdout",
     "output_type": "stream",
     "text": [
      "이미 평가한 beer 수:  1 안 평가한 beer 수:  309541 전체 beer 수:  309542\n"
     ]
    }
   ],
   "source": [
    "#userid는 항상 숫자로!!\n",
    "unbeers = get_unbeer_keras(df2, 5227) #해당 유저아이디의 평가안한 unbeers(list)가 반환 "
   ]
  },
  {
   "cell_type": "code",
   "execution_count": 68,
   "metadata": {},
   "outputs": [],
   "source": [
    "def get_unbeer_keras(df, userid):\n",
    "    beers = df[df['user']==userid]['beer'].unique().tolist() #해당 유저가 평가한 beer\n",
    "    total_beers = df['beer'].unique().tolist() #모든 beer\n",
    "    unbeers = [beer for beer in total_beers if beer not in beers] #해당 유저가 평가안한 beer\n",
    "    return unbeers\n",
    "\n",
    "def recomm_beer_by_keras(userid, model, top_n):\n",
    "    unbeers = get_unbeer_keras(df,userid)\n",
    "    predict =[v[0][0] for v in  [model.predict([[userid],[beer]]) for beer in unbeers]]\n",
    "    ndf= pd.DataFrame({'beer':unbeers,'rating':predict})\n",
    "    final = ndf.sort_values(by='rating', ascending=False)[:top_n]\n",
    "    return final\n"
   ]
  },
  {
   "cell_type": "code",
   "execution_count": 69,
   "metadata": {},
   "outputs": [
    {
     "name": "stdout",
     "output_type": "stream",
     "text": [
      "ID를 입력하세요.당신이 선호할 만한 맥주를 추천해드립니다. 5227\n",
      "몇 가지의 맥주를 추천해 드릴까요? 10\n",
      "Wall time: 6min 37s\n"
     ]
    },
    {
     "data": {
      "text/html": [
       "<div>\n",
       "<style scoped>\n",
       "    .dataframe tbody tr th:only-of-type {\n",
       "        vertical-align: middle;\n",
       "    }\n",
       "\n",
       "    .dataframe tbody tr th {\n",
       "        vertical-align: top;\n",
       "    }\n",
       "\n",
       "    .dataframe thead th {\n",
       "        text-align: right;\n",
       "    }\n",
       "</style>\n",
       "<table border=\"1\" class=\"dataframe\">\n",
       "  <thead>\n",
       "    <tr style=\"text-align: right;\">\n",
       "      <th></th>\n",
       "      <th>beer</th>\n",
       "      <th>rating</th>\n",
       "    </tr>\n",
       "  </thead>\n",
       "  <tbody>\n",
       "    <tr>\n",
       "      <td>186812</td>\n",
       "      <td>68022</td>\n",
       "      <td>4.947903</td>\n",
       "    </tr>\n",
       "    <tr>\n",
       "      <td>253136</td>\n",
       "      <td>101353</td>\n",
       "      <td>4.922272</td>\n",
       "    </tr>\n",
       "    <tr>\n",
       "      <td>104965</td>\n",
       "      <td>129086</td>\n",
       "      <td>4.910248</td>\n",
       "    </tr>\n",
       "    <tr>\n",
       "      <td>204533</td>\n",
       "      <td>171119</td>\n",
       "      <td>4.910101</td>\n",
       "    </tr>\n",
       "    <tr>\n",
       "      <td>86573</td>\n",
       "      <td>230155</td>\n",
       "      <td>4.881294</td>\n",
       "    </tr>\n",
       "    <tr>\n",
       "      <td>161204</td>\n",
       "      <td>141547</td>\n",
       "      <td>4.880967</td>\n",
       "    </tr>\n",
       "    <tr>\n",
       "      <td>85624</td>\n",
       "      <td>86880</td>\n",
       "      <td>4.865480</td>\n",
       "    </tr>\n",
       "    <tr>\n",
       "      <td>79531</td>\n",
       "      <td>102972</td>\n",
       "      <td>4.861054</td>\n",
       "    </tr>\n",
       "    <tr>\n",
       "      <td>274601</td>\n",
       "      <td>217720</td>\n",
       "      <td>4.861049</td>\n",
       "    </tr>\n",
       "    <tr>\n",
       "      <td>292087</td>\n",
       "      <td>147772</td>\n",
       "      <td>4.859876</td>\n",
       "    </tr>\n",
       "  </tbody>\n",
       "</table>\n",
       "</div>"
      ],
      "text/plain": [
       "          beer    rating\n",
       "186812   68022  4.947903\n",
       "253136  101353  4.922272\n",
       "104965  129086  4.910248\n",
       "204533  171119  4.910101\n",
       "86573   230155  4.881294\n",
       "161204  141547  4.880967\n",
       "85624    86880  4.865480\n",
       "79531   102972  4.861054\n",
       "274601  217720  4.861049\n",
       "292087  147772  4.859876"
      ]
     },
     "execution_count": 69,
     "metadata": {},
     "output_type": "execute_result"
    }
   ],
   "source": [
    "%%time\n",
    "userid = int(input('ID를 입력하세요.당신이 선호할 만한 맥주를 추천해드립니다. '))\n",
    "topn= int(input('몇 가지의 맥주를 추천해 드릴까요? '))\n",
    "\n",
    "unbeers = get_unbeer_keras(df2, userid)\n",
    "recomm_beer_by_keras(userid, re2model, topn)"
   ]
  }
 ],
 "metadata": {
  "kernelspec": {
   "display_name": "Python 3",
   "language": "python",
   "name": "python3"
  },
  "language_info": {
   "codemirror_mode": {
    "name": "ipython",
    "version": 3
   },
   "file_extension": ".py",
   "mimetype": "text/x-python",
   "name": "python",
   "nbconvert_exporter": "python",
   "pygments_lexer": "ipython3",
   "version": "3.7.4"
  }
 },
 "nbformat": 4,
 "nbformat_minor": 2
}
