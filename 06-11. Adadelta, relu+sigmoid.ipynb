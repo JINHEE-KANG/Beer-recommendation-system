{
 "cells": [
  {
   "cell_type": "code",
   "execution_count": 1,
   "metadata": {
    "ExecuteTime": {
     "end_time": "2019-11-27T16:41:01.694377Z",
     "start_time": "2019-11-27T16:40:54.210691Z"
    }
   },
   "outputs": [],
   "source": [
    "%matplotlib inline\n",
    "import matplotlib.pyplot as plt\n",
    "import numpy as np\n",
    "import pandas as pd\n",
    "import seaborn as sns\n",
    "from sklearn.model_selection import train_test_split\n",
    "from sklearn.preprocessing import LabelEncoder\n",
    "from sklearn.decomposition import PCA"
   ]
  },
  {
   "cell_type": "code",
   "execution_count": 2,
   "metadata": {
    "ExecuteTime": {
     "end_time": "2019-11-27T16:41:26.091872Z",
     "start_time": "2019-11-27T16:41:07.516688Z"
    }
   },
   "outputs": [
    {
     "data": {
      "text/html": [
       "<div>\n",
       "<style scoped>\n",
       "    .dataframe tbody tr th:only-of-type {\n",
       "        vertical-align: middle;\n",
       "    }\n",
       "\n",
       "    .dataframe tbody tr th {\n",
       "        vertical-align: top;\n",
       "    }\n",
       "\n",
       "    .dataframe thead th {\n",
       "        text-align: right;\n",
       "    }\n",
       "</style>\n",
       "<table border=\"1\" class=\"dataframe\">\n",
       "  <thead>\n",
       "    <tr style=\"text-align: right;\">\n",
       "      <th></th>\n",
       "      <th>beer_id</th>\n",
       "      <th>username</th>\n",
       "      <th>date</th>\n",
       "      <th>text</th>\n",
       "      <th>look</th>\n",
       "      <th>smell</th>\n",
       "      <th>taste</th>\n",
       "      <th>feel</th>\n",
       "      <th>overall</th>\n",
       "      <th>score</th>\n",
       "    </tr>\n",
       "  </thead>\n",
       "  <tbody>\n",
       "    <tr>\n",
       "      <td>0</td>\n",
       "      <td>271781</td>\n",
       "      <td>bluejacket74</td>\n",
       "      <td>2017-03-17</td>\n",
       "      <td>750 ml bottle, 2016 vintage, bottle #304 of...</td>\n",
       "      <td>4.00</td>\n",
       "      <td>4.00</td>\n",
       "      <td>4.00</td>\n",
       "      <td>4.25</td>\n",
       "      <td>4.00</td>\n",
       "      <td>4.03</td>\n",
       "    </tr>\n",
       "    <tr>\n",
       "      <td>1</td>\n",
       "      <td>125646</td>\n",
       "      <td>_dirty_</td>\n",
       "      <td>2017-12-21</td>\n",
       "      <td></td>\n",
       "      <td>4.50</td>\n",
       "      <td>4.50</td>\n",
       "      <td>4.50</td>\n",
       "      <td>4.50</td>\n",
       "      <td>4.50</td>\n",
       "      <td>4.50</td>\n",
       "    </tr>\n",
       "    <tr>\n",
       "      <td>2</td>\n",
       "      <td>125646</td>\n",
       "      <td>CJDUBYA</td>\n",
       "      <td>2017-12-21</td>\n",
       "      <td></td>\n",
       "      <td>4.75</td>\n",
       "      <td>4.75</td>\n",
       "      <td>4.75</td>\n",
       "      <td>4.75</td>\n",
       "      <td>4.75</td>\n",
       "      <td>4.75</td>\n",
       "    </tr>\n",
       "    <tr>\n",
       "      <td>3</td>\n",
       "      <td>125646</td>\n",
       "      <td>GratefulBeerGuy</td>\n",
       "      <td>2017-12-20</td>\n",
       "      <td>0% 16 oz can. Funny story: As I finally wal...</td>\n",
       "      <td>4.75</td>\n",
       "      <td>4.75</td>\n",
       "      <td>4.50</td>\n",
       "      <td>4.50</td>\n",
       "      <td>4.50</td>\n",
       "      <td>4.58</td>\n",
       "    </tr>\n",
       "    <tr>\n",
       "      <td>4</td>\n",
       "      <td>125646</td>\n",
       "      <td>LukeGude</td>\n",
       "      <td>2017-12-20</td>\n",
       "      <td>Classic TH NEIPA. Overflowing head and bouq...</td>\n",
       "      <td>4.25</td>\n",
       "      <td>4.50</td>\n",
       "      <td>4.25</td>\n",
       "      <td>4.25</td>\n",
       "      <td>4.25</td>\n",
       "      <td>4.31</td>\n",
       "    </tr>\n",
       "  </tbody>\n",
       "</table>\n",
       "</div>"
      ],
      "text/plain": [
       "   beer_id         username        date  \\\n",
       "0   271781     bluejacket74  2017-03-17   \n",
       "1   125646          _dirty_  2017-12-21   \n",
       "2   125646          CJDUBYA  2017-12-21   \n",
       "3   125646  GratefulBeerGuy  2017-12-20   \n",
       "4   125646         LukeGude  2017-12-20   \n",
       "\n",
       "                                                text  look  smell  taste  \\\n",
       "0     750 ml bottle, 2016 vintage, bottle #304 of...  4.00   4.00   4.00   \n",
       "1                                                     4.50   4.50   4.50   \n",
       "2                                                     4.75   4.75   4.75   \n",
       "3     0% 16 oz can. Funny story: As I finally wal...  4.75   4.75   4.50   \n",
       "4     Classic TH NEIPA. Overflowing head and bouq...  4.25   4.50   4.25   \n",
       "\n",
       "   feel  overall  score  \n",
       "0  4.25     4.00   4.03  \n",
       "1  4.50     4.50   4.50  \n",
       "2  4.75     4.75   4.75  \n",
       "3  4.50     4.50   4.58  \n",
       "4  4.25     4.25   4.31  "
      ]
     },
     "execution_count": 2,
     "metadata": {},
     "output_type": "execute_result"
    }
   ],
   "source": [
    "df = pd.read_csv('reviews.csv')\n",
    "df.head()"
   ]
  },
  {
   "cell_type": "code",
   "execution_count": 3,
   "metadata": {
    "ExecuteTime": {
     "end_time": "2019-11-27T16:42:31.199539Z",
     "start_time": "2019-11-27T16:42:31.197539Z"
    }
   },
   "outputs": [
    {
     "name": "stdout",
     "output_type": "stream",
     "text": [
      "(9073128, 10)\n"
     ]
    }
   ],
   "source": [
    "print(df.shape) #원본 데이터 900만개를 사용"
   ]
  },
  {
   "cell_type": "code",
   "execution_count": 4,
   "metadata": {
    "ExecuteTime": {
     "end_time": "2019-11-27T16:42:35.466500Z",
     "start_time": "2019-11-27T16:42:35.277458Z"
    }
   },
   "outputs": [
    {
     "data": {
      "text/html": [
       "<div>\n",
       "<style scoped>\n",
       "    .dataframe tbody tr th:only-of-type {\n",
       "        vertical-align: middle;\n",
       "    }\n",
       "\n",
       "    .dataframe tbody tr th {\n",
       "        vertical-align: top;\n",
       "    }\n",
       "\n",
       "    .dataframe thead th {\n",
       "        text-align: right;\n",
       "    }\n",
       "</style>\n",
       "<table border=\"1\" class=\"dataframe\">\n",
       "  <thead>\n",
       "    <tr style=\"text-align: right;\">\n",
       "      <th></th>\n",
       "      <th>beerid</th>\n",
       "      <th>userid</th>\n",
       "      <th>rating</th>\n",
       "    </tr>\n",
       "  </thead>\n",
       "  <tbody>\n",
       "    <tr>\n",
       "      <td>0</td>\n",
       "      <td>271781</td>\n",
       "      <td>bluejacket74</td>\n",
       "      <td>4.03</td>\n",
       "    </tr>\n",
       "    <tr>\n",
       "      <td>1</td>\n",
       "      <td>125646</td>\n",
       "      <td>_dirty_</td>\n",
       "      <td>4.50</td>\n",
       "    </tr>\n",
       "    <tr>\n",
       "      <td>2</td>\n",
       "      <td>125646</td>\n",
       "      <td>CJDUBYA</td>\n",
       "      <td>4.75</td>\n",
       "    </tr>\n",
       "    <tr>\n",
       "      <td>3</td>\n",
       "      <td>125646</td>\n",
       "      <td>GratefulBeerGuy</td>\n",
       "      <td>4.58</td>\n",
       "    </tr>\n",
       "    <tr>\n",
       "      <td>4</td>\n",
       "      <td>125646</td>\n",
       "      <td>LukeGude</td>\n",
       "      <td>4.31</td>\n",
       "    </tr>\n",
       "  </tbody>\n",
       "</table>\n",
       "</div>"
      ],
      "text/plain": [
       "   beerid           userid  rating\n",
       "0  271781     bluejacket74    4.03\n",
       "1  125646          _dirty_    4.50\n",
       "2  125646          CJDUBYA    4.75\n",
       "3  125646  GratefulBeerGuy    4.58\n",
       "4  125646         LukeGude    4.31"
      ]
     },
     "execution_count": 4,
     "metadata": {},
     "output_type": "execute_result"
    }
   ],
   "source": [
    "#잠깐 전처리\n",
    "\n",
    "cols = ['beer_id','username','score']\n",
    "df = df[cols]\n",
    "df.rename(columns = {'beer_id':'beerid','username':'userid','score':'rating'}, inplace = True)\n",
    "df.head()"
   ]
  },
  {
   "cell_type": "code",
   "execution_count": 5,
   "metadata": {
    "ExecuteTime": {
     "end_time": "2019-11-27T16:42:43.052209Z",
     "start_time": "2019-11-27T16:42:38.373155Z"
    }
   },
   "outputs": [],
   "source": [
    "#딥러닝에 이용할 컬럼 변경: user, beer, rating\n",
    "\n",
    "user_enc = LabelEncoder()\n",
    "uid = df['userid'].values\n",
    "df['user'] = user_enc.fit_transform(uid.tolist()) #array 인식이 안돼서 list로 빼냄.(userid의 경우만 오류 발생)\n",
    "n_users = df['user'].nunique()"
   ]
  },
  {
   "cell_type": "code",
   "execution_count": 6,
   "metadata": {},
   "outputs": [
    {
     "data": {
      "text/plain": [
       "(164935, 309542, 1.0, 5.0)"
      ]
     },
     "execution_count": 6,
     "metadata": {},
     "output_type": "execute_result"
    }
   ],
   "source": [
    "item_enc = LabelEncoder()\n",
    "df['beer'] = item_enc.fit_transform(df['beerid'].values)\n",
    "n_beers = df['beer'].nunique()\n",
    "\n",
    "df['rating'] = df['rating'].values.astype(np.float32)\n",
    "min_rating = min(df['rating'])\n",
    "max_rating = max(df['rating'])\n",
    "\n",
    "n_users, n_beers, min_rating, max_rating #n_users, n_beers: 유니크한 값 개수, rating의 최솟값과 최댓값."
   ]
  },
  {
   "cell_type": "code",
   "execution_count": 7,
   "metadata": {
    "ExecuteTime": {
     "end_time": "2019-11-27T16:42:46.866068Z",
     "start_time": "2019-11-27T16:42:46.855069Z"
    }
   },
   "outputs": [
    {
     "data": {
      "text/html": [
       "<div>\n",
       "<style scoped>\n",
       "    .dataframe tbody tr th:only-of-type {\n",
       "        vertical-align: middle;\n",
       "    }\n",
       "\n",
       "    .dataframe tbody tr th {\n",
       "        vertical-align: top;\n",
       "    }\n",
       "\n",
       "    .dataframe thead th {\n",
       "        text-align: right;\n",
       "    }\n",
       "</style>\n",
       "<table border=\"1\" class=\"dataframe\">\n",
       "  <thead>\n",
       "    <tr style=\"text-align: right;\">\n",
       "      <th></th>\n",
       "      <th>user</th>\n",
       "      <th>beer</th>\n",
       "      <th>rating</th>\n",
       "    </tr>\n",
       "  </thead>\n",
       "  <tbody>\n",
       "    <tr>\n",
       "      <td>0</td>\n",
       "      <td>102213</td>\n",
       "      <td>231507</td>\n",
       "      <td>4.03</td>\n",
       "    </tr>\n",
       "    <tr>\n",
       "      <td>1</td>\n",
       "      <td>94429</td>\n",
       "      <td>112229</td>\n",
       "      <td>4.50</td>\n",
       "    </tr>\n",
       "    <tr>\n",
       "      <td>2</td>\n",
       "      <td>15635</td>\n",
       "      <td>112229</td>\n",
       "      <td>4.75</td>\n",
       "    </tr>\n",
       "    <tr>\n",
       "      <td>3</td>\n",
       "      <td>34826</td>\n",
       "      <td>112229</td>\n",
       "      <td>4.58</td>\n",
       "    </tr>\n",
       "    <tr>\n",
       "      <td>4</td>\n",
       "      <td>55007</td>\n",
       "      <td>112229</td>\n",
       "      <td>4.31</td>\n",
       "    </tr>\n",
       "  </tbody>\n",
       "</table>\n",
       "</div>"
      ],
      "text/plain": [
       "     user    beer  rating\n",
       "0  102213  231507    4.03\n",
       "1   94429  112229    4.50\n",
       "2   15635  112229    4.75\n",
       "3   34826  112229    4.58\n",
       "4   55007  112229    4.31"
      ]
     },
     "execution_count": 7,
     "metadata": {},
     "output_type": "execute_result"
    }
   ],
   "source": [
    "df2=df[['user','beer','rating']] \n",
    "df2.head() #완료된 데이터셋. 여기서 'user','beer','rating'만 사용"
   ]
  },
  {
   "cell_type": "code",
   "execution_count": 8,
   "metadata": {
    "ExecuteTime": {
     "end_time": "2019-11-27T16:42:50.351854Z",
     "start_time": "2019-11-27T16:42:49.645695Z"
    }
   },
   "outputs": [
    {
     "data": {
      "text/plain": [
       "((7258502, 2), (1814626, 2), (7258502,), (1814626,))"
      ]
     },
     "execution_count": 8,
     "metadata": {},
     "output_type": "execute_result"
    }
   ],
   "source": [
    "#train, test 셋 분할: test size는 0.2, random_state는 임의로 지정\n",
    "X = df[['user', 'beer']].values\n",
    "y = df['rating'].values\n",
    "\n",
    "X_train, X_test, y_train, y_test = train_test_split(X, y, test_size=0.2, random_state=42)\n",
    "\n",
    "X_train.shape, X_test.shape, y_train.shape, y_test.shape"
   ]
  },
  {
   "cell_type": "code",
   "execution_count": 9,
   "metadata": {
    "ExecuteTime": {
     "end_time": "2019-11-27T16:42:54.302743Z",
     "start_time": "2019-11-27T16:42:54.300743Z"
    }
   },
   "outputs": [],
   "source": [
    "#딥러닝 모델을 만들 때 필요한 또다른 변수는: 잠재요인의 개수를 정하는 것!\n",
    "#잠재요인의 개수는 원하는 대로 설정하면 되지만, 주의할 것은 user와 beer 모두에 대해 같은 사이즈를 줘야 한다는 점.\n",
    "\n",
    "#우리는 50개로 간다!(X에 대해서만 적용)\n",
    "n_factors = 50\n",
    "\n",
    "#X를 array로 만들기\n",
    "X_train_array = [X_train[:, 0], X_train[:, 1]]\n",
    "X_test_array = [X_test[:, 0], X_test[:, 1]]"
   ]
  },
  {
   "cell_type": "code",
   "execution_count": 10,
   "metadata": {},
   "outputs": [
    {
     "data": {
      "text/html": [
       "<div>\n",
       "<style scoped>\n",
       "    .dataframe tbody tr th:only-of-type {\n",
       "        vertical-align: middle;\n",
       "    }\n",
       "\n",
       "    .dataframe tbody tr th {\n",
       "        vertical-align: top;\n",
       "    }\n",
       "\n",
       "    .dataframe thead th {\n",
       "        text-align: right;\n",
       "    }\n",
       "</style>\n",
       "<table border=\"1\" class=\"dataframe\">\n",
       "  <thead>\n",
       "    <tr style=\"text-align: right;\">\n",
       "      <th></th>\n",
       "      <th>id</th>\n",
       "      <th>name</th>\n",
       "      <th>brewery_id</th>\n",
       "      <th>state</th>\n",
       "      <th>country</th>\n",
       "      <th>style</th>\n",
       "      <th>availability</th>\n",
       "      <th>abv</th>\n",
       "      <th>notes</th>\n",
       "      <th>retired</th>\n",
       "    </tr>\n",
       "  </thead>\n",
       "  <tbody>\n",
       "    <tr>\n",
       "      <td>0</td>\n",
       "      <td>202522</td>\n",
       "      <td>Olde Cogitator</td>\n",
       "      <td>2199</td>\n",
       "      <td>CA</td>\n",
       "      <td>US</td>\n",
       "      <td>English Oatmeal Stout</td>\n",
       "      <td>Rotating</td>\n",
       "      <td>7.3</td>\n",
       "      <td>No notes at this time.</td>\n",
       "      <td>f</td>\n",
       "    </tr>\n",
       "    <tr>\n",
       "      <td>1</td>\n",
       "      <td>82352</td>\n",
       "      <td>Konrads Stout Russian Imperial Stout</td>\n",
       "      <td>18604</td>\n",
       "      <td>NaN</td>\n",
       "      <td>NO</td>\n",
       "      <td>Russian Imperial Stout</td>\n",
       "      <td>Rotating</td>\n",
       "      <td>10.4</td>\n",
       "      <td>No notes at this time.</td>\n",
       "      <td>f</td>\n",
       "    </tr>\n",
       "    <tr>\n",
       "      <td>2</td>\n",
       "      <td>214879</td>\n",
       "      <td>Scottish Right</td>\n",
       "      <td>44306</td>\n",
       "      <td>IN</td>\n",
       "      <td>US</td>\n",
       "      <td>Scottish Ale</td>\n",
       "      <td>Year-round</td>\n",
       "      <td>4.0</td>\n",
       "      <td>No notes at this time.</td>\n",
       "      <td>t</td>\n",
       "    </tr>\n",
       "    <tr>\n",
       "      <td>3</td>\n",
       "      <td>320009</td>\n",
       "      <td>MegaMeow Imperial Stout</td>\n",
       "      <td>4378</td>\n",
       "      <td>WA</td>\n",
       "      <td>US</td>\n",
       "      <td>American Imperial Stout</td>\n",
       "      <td>Winter</td>\n",
       "      <td>8.7</td>\n",
       "      <td>Every time this year</td>\n",
       "      <td>f</td>\n",
       "    </tr>\n",
       "    <tr>\n",
       "      <td>4</td>\n",
       "      <td>246438</td>\n",
       "      <td>Peaches-N-Cream</td>\n",
       "      <td>44617</td>\n",
       "      <td>PA</td>\n",
       "      <td>US</td>\n",
       "      <td>American Cream Ale</td>\n",
       "      <td>Rotating</td>\n",
       "      <td>5.1</td>\n",
       "      <td>No notes at this time.</td>\n",
       "      <td>f</td>\n",
       "    </tr>\n",
       "  </tbody>\n",
       "</table>\n",
       "</div>"
      ],
      "text/plain": [
       "       id                                  name  brewery_id state country  \\\n",
       "0  202522                        Olde Cogitator        2199    CA      US   \n",
       "1   82352  Konrads Stout Russian Imperial Stout       18604   NaN      NO   \n",
       "2  214879                        Scottish Right       44306    IN      US   \n",
       "3  320009               MegaMeow Imperial Stout        4378    WA      US   \n",
       "4  246438                       Peaches-N-Cream       44617    PA      US   \n",
       "\n",
       "                     style availability   abv                   notes retired  \n",
       "0    English Oatmeal Stout     Rotating   7.3  No notes at this time.       f  \n",
       "1   Russian Imperial Stout     Rotating  10.4  No notes at this time.       f  \n",
       "2             Scottish Ale   Year-round   4.0  No notes at this time.       t  \n",
       "3  American Imperial Stout       Winter   8.7    Every time this year       f  \n",
       "4       American Cream Ale     Rotating   5.1  No notes at this time.       f  "
      ]
     },
     "execution_count": 10,
     "metadata": {},
     "output_type": "execute_result"
    }
   ],
   "source": [
    "beers = pd.read_csv('beers.csv')\n",
    "beers.head()"
   ]
  },
  {
   "cell_type": "code",
   "execution_count": 11,
   "metadata": {},
   "outputs": [],
   "source": [
    "## create a dictionary out of beerid, beer original title\n",
    "beers_dict = beers.set_index('id')['name'].to_dict()"
   ]
  },
  {
   "cell_type": "code",
   "execution_count": 12,
   "metadata": {},
   "outputs": [],
   "source": [
    "##시각화(각 epoch마다의 MSE, MAE 값 비교)\n",
    "\n",
    "def plot_history(hist):\n",
    "    \n",
    "    plt.figure(figsize=(10,15))\n",
    "\n",
    "    plt.subplot(2,1,1)\n",
    "    plt.xlabel('Epoch')\n",
    "    plt.ylabel('Mean Abs Error [rating]')\n",
    "    plt.plot(hist['epoch'], hist['mae'], label='Train Error')\n",
    "    plt.plot(hist['epoch'], hist['val_mae'],label = 'Test Error')\n",
    "    plt.legend()\n",
    "\n",
    "    plt.subplot(2,1,2)\n",
    "    plt.xlabel('Epoch')\n",
    "    plt.ylabel('Mean Square Error [$rating^2$]')\n",
    "    plt.plot(hist['epoch'], hist['mse'], label='Train Error')\n",
    "    plt.plot(hist['epoch'], hist['val_mse'],label = 'Test Error')\n",
    "    plt.legend()\n",
    "    plt.show()\n"
   ]
  },
  {
   "cell_type": "code",
   "execution_count": 13,
   "metadata": {
    "ExecuteTime": {
     "end_time": "2019-11-27T16:43:14.561307Z",
     "start_time": "2019-11-27T16:43:05.998377Z"
    }
   },
   "outputs": [
    {
     "name": "stderr",
     "output_type": "stream",
     "text": [
      "Using TensorFlow backend.\n"
     ]
    }
   ],
   "source": [
    "#keras 라이브러리 로드\n",
    "from keras.models import Model\n",
    "from keras.layers import Input, Reshape, Dot\n",
    "from keras.layers import Embedding, Dense, Dropout\n",
    "from keras.optimizers import Adam\n",
    "from keras.regularizers import l2\n",
    "from keras.layers import Add, Activation, Lambda, Concatenate"
   ]
  },
  {
   "cell_type": "markdown",
   "metadata": {},
   "source": [
    "# 옵티마이저만 변경한 버전\n",
    "- 기본레이어에 2개의 레이어를 추가한 함수에 옵티마이저만 변경하였다.(원래 옵티마이저: Adam)\n",
    "- 1) SGD - 진희\n",
    "- 2) Adadelta -승윤\n",
    "- 3) Adamax -도현"
   ]
  },
  {
   "cell_type": "code",
   "execution_count": 14,
   "metadata": {},
   "outputs": [],
   "source": [
    "class EmbeddingLayer:\n",
    "    def __init__(self, n_items, n_factors):\n",
    "        self.n_items = n_items\n",
    "        self.n_factors = n_factors\n",
    "    \n",
    "    def __call__(self, x):\n",
    "        x = Embedding(self.n_items, self.n_factors, embeddings_initializer='he_normal')(x) #initializer는 정규분포\n",
    "        x = Reshape((self.n_factors,))(x)\n",
    "        return x\n",
    "\n",
    "def RecommenderV11(n_users, n_beers, n_factors, min_rating, max_rating):\n",
    "    \n",
    "    #input: user, beer\n",
    "    user = Input(shape=(1,))\n",
    "    u = EmbeddingLayer(n_users, n_factors)(user) #u는 user * n_factor\n",
    "    ub = EmbeddingLayer(n_users, 1)(user) #user_bias\n",
    "    \n",
    "    beer = Input(shape=(1,))\n",
    "    b = EmbeddingLayer(n_beers, n_factors)(beer) #b은 beer * n_factor\n",
    "    bb = EmbeddingLayer(n_beers, 1)(beer) #beer_bias\n",
    "    \n",
    "    #input 연산- activation 2가지를 추가. relu와 sigmoid\n",
    "    x = Concatenate()([u, b])\n",
    "    \n",
    "    x = Dense(10, kernel_initializer='he_normal')(x)\n",
    "    x = Activation('relu')(x)\n",
    "    \n",
    "    x = Dense(1, kernel_initializer='he_normal')(x)\n",
    "    x = Activation('sigmoid')(x)\n",
    "    x = Lambda(lambda x: x * (max_rating - min_rating) + min_rating)(x)\n",
    "\n",
    "\n",
    "    #최종 모델 만들기(input은 user, beer 2개를 받고, output은 x를 반환.)\n",
    "    model = Model(inputs=[user, beer], outputs=x)\n",
    "    model.compile(loss=['mse'], metrics = ['mae','mse'] ,optimizer='Adadelta') \n",
    "    return model"
   ]
  },
  {
   "cell_type": "code",
   "execution_count": 15,
   "metadata": {},
   "outputs": [
    {
     "name": "stdout",
     "output_type": "stream",
     "text": [
      "Model: \"model_1\"\n",
      "__________________________________________________________________________________________________\n",
      "Layer (type)                    Output Shape         Param #     Connected to                     \n",
      "==================================================================================================\n",
      "input_1 (InputLayer)            (None, 1)            0                                            \n",
      "__________________________________________________________________________________________________\n",
      "input_2 (InputLayer)            (None, 1)            0                                            \n",
      "__________________________________________________________________________________________________\n",
      "embedding_1 (Embedding)         (None, 1, 50)        8246750     input_1[0][0]                    \n",
      "__________________________________________________________________________________________________\n",
      "embedding_3 (Embedding)         (None, 1, 50)        15477100    input_2[0][0]                    \n",
      "__________________________________________________________________________________________________\n",
      "reshape_1 (Reshape)             (None, 50)           0           embedding_1[0][0]                \n",
      "__________________________________________________________________________________________________\n",
      "reshape_3 (Reshape)             (None, 50)           0           embedding_3[0][0]                \n",
      "__________________________________________________________________________________________________\n",
      "concatenate_1 (Concatenate)     (None, 100)          0           reshape_1[0][0]                  \n",
      "                                                                 reshape_3[0][0]                  \n",
      "__________________________________________________________________________________________________\n",
      "dense_1 (Dense)                 (None, 10)           1010        concatenate_1[0][0]              \n",
      "__________________________________________________________________________________________________\n",
      "activation_1 (Activation)       (None, 10)           0           dense_1[0][0]                    \n",
      "__________________________________________________________________________________________________\n",
      "dense_2 (Dense)                 (None, 1)            11          activation_1[0][0]               \n",
      "__________________________________________________________________________________________________\n",
      "activation_2 (Activation)       (None, 1)            0           dense_2[0][0]                    \n",
      "__________________________________________________________________________________________________\n",
      "lambda_1 (Lambda)               (None, 1)            0           activation_2[0][0]               \n",
      "==================================================================================================\n",
      "Total params: 23,724,871\n",
      "Trainable params: 23,724,871\n",
      "Non-trainable params: 0\n",
      "__________________________________________________________________________________________________\n"
     ]
    }
   ],
   "source": [
    "re11model = RecommenderV11(n_users, n_beers, n_factors, min_rating, max_rating)\n",
    "re11model.summary()"
   ]
  },
  {
   "cell_type": "code",
   "execution_count": 16,
   "metadata": {},
   "outputs": [
    {
     "name": "stdout",
     "output_type": "stream",
     "text": [
      "WARNING:tensorflow:From C:\\Users\\User\\Anaconda3\\envs\\tf0\\lib\\site-packages\\keras\\backend\\tensorflow_backend.py:422: The name tf.global_variables is deprecated. Please use tf.compat.v1.global_variables instead.\n",
      "\n",
      "Train on 7258502 samples, validate on 1814626 samples\n",
      "Epoch 1/10\n",
      "7258502/7258502 [==============================] - 2086s 287us/step - loss: 0.2059 - mae: 0.3225 - mse: 0.2059 - val_loss: 0.1900 - val_mae: 0.3090 - val_mse: 0.1900\n",
      "Epoch 2/10\n",
      "7258502/7258502 [==============================] - 2125s 293us/step - loss: 0.1827 - mae: 0.3027 - mse: 0.1827 - val_loss: 0.1839 - val_mae: 0.3029 - val_mse: 0.1839\n",
      "Epoch 3/10\n",
      "7258502/7258502 [==============================] - 2054s 283us/step - loss: 0.1752 - mae: 0.2960 - mse: 0.1752 - val_loss: 0.1810 - val_mae: 0.3014 - val_mse: 0.1810\n",
      "Epoch 4/10\n",
      "7258502/7258502 [==============================] - 2046s 282us/step - loss: 0.1709 - mae: 0.2921 - mse: 0.1709 - val_loss: 0.1797 - val_mae: 0.2992 - val_mse: 0.1797\n",
      "Epoch 5/10\n",
      "7258502/7258502 [==============================] - 2043s 282us/step - loss: 0.1681 - mae: 0.2897 - mse: 0.1681 - val_loss: 0.1796 - val_mae: 0.2996 - val_mse: 0.1796\n",
      "Epoch 6/10\n",
      "7258502/7258502 [==============================] - 2066s 285us/step - loss: 0.1659 - mae: 0.2879 - mse: 0.1659 - val_loss: 0.1791 - val_mae: 0.2979 - val_mse: 0.1791\n",
      "Epoch 7/10\n",
      "7258502/7258502 [==============================] - 2049s 282us/step - loss: 0.1640 - mae: 0.2863 - mse: 0.1640 - val_loss: 0.1793 - val_mae: 0.2993 - val_mse: 0.1793\n",
      "Epoch 8/10\n",
      "7258502/7258502 [==============================] - 2058s 283us/step - loss: 0.1624 - mae: 0.2848 - mse: 0.1624 - val_loss: 0.1789 - val_mae: 0.2982 - val_mse: 0.1789\n",
      "Epoch 9/10\n",
      "7258502/7258502 [==============================] - 2048s 282us/step - loss: 0.1609 - mae: 0.2836 - mse: 0.1609 - val_loss: 0.1793 - val_mae: 0.2973 - val_mse: 0.1793\n",
      "Epoch 10/10\n",
      "7258502/7258502 [==============================] - 2065s 284us/step - loss: 0.1596 - mae: 0.2825 - mse: 0.1596 - val_loss: 0.1796 - val_mae: 0.2997 - val_mse: 0.1796\n"
     ]
    }
   ],
   "source": [
    "## fit model\n",
    "seed = 7\n",
    "np.random.seed(seed)\n",
    "history_mf = re11model.fit(x=X_train_array, y=y_train, batch_size=1000, epochs=10,\n",
    "                    verbose=1, validation_data=(X_test_array, y_test)) "
   ]
  },
  {
   "cell_type": "code",
   "execution_count": 17,
   "metadata": {},
   "outputs": [
    {
     "data": {
      "text/html": [
       "<div>\n",
       "<style scoped>\n",
       "    .dataframe tbody tr th:only-of-type {\n",
       "        vertical-align: middle;\n",
       "    }\n",
       "\n",
       "    .dataframe tbody tr th {\n",
       "        vertical-align: top;\n",
       "    }\n",
       "\n",
       "    .dataframe thead th {\n",
       "        text-align: right;\n",
       "    }\n",
       "</style>\n",
       "<table border=\"1\" class=\"dataframe\">\n",
       "  <thead>\n",
       "    <tr style=\"text-align: right;\">\n",
       "      <th></th>\n",
       "      <th>val_loss</th>\n",
       "      <th>val_mae</th>\n",
       "      <th>val_mse</th>\n",
       "      <th>loss</th>\n",
       "      <th>mae</th>\n",
       "      <th>mse</th>\n",
       "      <th>epoch</th>\n",
       "    </tr>\n",
       "  </thead>\n",
       "  <tbody>\n",
       "    <tr>\n",
       "      <td>0</td>\n",
       "      <td>0.190044</td>\n",
       "      <td>0.308971</td>\n",
       "      <td>0.190044</td>\n",
       "      <td>0.205939</td>\n",
       "      <td>0.322495</td>\n",
       "      <td>0.205939</td>\n",
       "      <td>0</td>\n",
       "    </tr>\n",
       "    <tr>\n",
       "      <td>1</td>\n",
       "      <td>0.183933</td>\n",
       "      <td>0.302922</td>\n",
       "      <td>0.183933</td>\n",
       "      <td>0.182659</td>\n",
       "      <td>0.302733</td>\n",
       "      <td>0.182659</td>\n",
       "      <td>1</td>\n",
       "    </tr>\n",
       "    <tr>\n",
       "      <td>2</td>\n",
       "      <td>0.180950</td>\n",
       "      <td>0.301363</td>\n",
       "      <td>0.180950</td>\n",
       "      <td>0.175205</td>\n",
       "      <td>0.295952</td>\n",
       "      <td>0.175205</td>\n",
       "      <td>2</td>\n",
       "    </tr>\n",
       "    <tr>\n",
       "      <td>3</td>\n",
       "      <td>0.179659</td>\n",
       "      <td>0.299231</td>\n",
       "      <td>0.179658</td>\n",
       "      <td>0.170935</td>\n",
       "      <td>0.292128</td>\n",
       "      <td>0.170935</td>\n",
       "      <td>3</td>\n",
       "    </tr>\n",
       "    <tr>\n",
       "      <td>4</td>\n",
       "      <td>0.179591</td>\n",
       "      <td>0.299575</td>\n",
       "      <td>0.179591</td>\n",
       "      <td>0.168083</td>\n",
       "      <td>0.289659</td>\n",
       "      <td>0.168083</td>\n",
       "      <td>4</td>\n",
       "    </tr>\n",
       "    <tr>\n",
       "      <td>5</td>\n",
       "      <td>0.179068</td>\n",
       "      <td>0.297895</td>\n",
       "      <td>0.179068</td>\n",
       "      <td>0.165932</td>\n",
       "      <td>0.287877</td>\n",
       "      <td>0.165932</td>\n",
       "      <td>5</td>\n",
       "    </tr>\n",
       "    <tr>\n",
       "      <td>6</td>\n",
       "      <td>0.179287</td>\n",
       "      <td>0.299343</td>\n",
       "      <td>0.179287</td>\n",
       "      <td>0.164048</td>\n",
       "      <td>0.286252</td>\n",
       "      <td>0.164048</td>\n",
       "      <td>6</td>\n",
       "    </tr>\n",
       "    <tr>\n",
       "      <td>7</td>\n",
       "      <td>0.178938</td>\n",
       "      <td>0.298160</td>\n",
       "      <td>0.178938</td>\n",
       "      <td>0.162394</td>\n",
       "      <td>0.284836</td>\n",
       "      <td>0.162394</td>\n",
       "      <td>7</td>\n",
       "    </tr>\n",
       "    <tr>\n",
       "      <td>8</td>\n",
       "      <td>0.179322</td>\n",
       "      <td>0.297286</td>\n",
       "      <td>0.179322</td>\n",
       "      <td>0.160928</td>\n",
       "      <td>0.283626</td>\n",
       "      <td>0.160927</td>\n",
       "      <td>8</td>\n",
       "    </tr>\n",
       "    <tr>\n",
       "      <td>9</td>\n",
       "      <td>0.179615</td>\n",
       "      <td>0.299680</td>\n",
       "      <td>0.179615</td>\n",
       "      <td>0.159586</td>\n",
       "      <td>0.282459</td>\n",
       "      <td>0.159585</td>\n",
       "      <td>9</td>\n",
       "    </tr>\n",
       "  </tbody>\n",
       "</table>\n",
       "</div>"
      ],
      "text/plain": [
       "   val_loss   val_mae   val_mse      loss       mae       mse  epoch\n",
       "0  0.190044  0.308971  0.190044  0.205939  0.322495  0.205939      0\n",
       "1  0.183933  0.302922  0.183933  0.182659  0.302733  0.182659      1\n",
       "2  0.180950  0.301363  0.180950  0.175205  0.295952  0.175205      2\n",
       "3  0.179659  0.299231  0.179658  0.170935  0.292128  0.170935      3\n",
       "4  0.179591  0.299575  0.179591  0.168083  0.289659  0.168083      4\n",
       "5  0.179068  0.297895  0.179068  0.165932  0.287877  0.165932      5\n",
       "6  0.179287  0.299343  0.179287  0.164048  0.286252  0.164048      6\n",
       "7  0.178938  0.298160  0.178938  0.162394  0.284836  0.162394      7\n",
       "8  0.179322  0.297286  0.179322  0.160928  0.283626  0.160927      8\n",
       "9  0.179615  0.299680  0.179615  0.159586  0.282459  0.159585      9"
      ]
     },
     "execution_count": 17,
     "metadata": {},
     "output_type": "execute_result"
    }
   ],
   "source": [
    "## show loss & mae & mse at each epoch\n",
    "hist11 = pd.DataFrame(history_mf.history)\n",
    "hist11['epoch'] = history_mf.epoch\n",
    "hist11"
   ]
  },
  {
   "cell_type": "code",
   "execution_count": 18,
   "metadata": {},
   "outputs": [
    {
     "name": "stdout",
     "output_type": "stream",
     "text": [
      "1814626/1814626 [==============================] - 6s 3us/step\n",
      "## evaluation loss and_metrics ##\n",
      "[0.1796147310801742, 0.2996795177459717, 0.1796148717403412]\n"
     ]
    }
   ],
   "source": [
    "#모델 평가하기; model.evaluate()\n",
    "loss_and_metrics = re11model.evaluate(X_test_array, y_test, batch_size=1000)\n",
    "print('## evaluation loss and_metrics ##')\n",
    "print(loss_and_metrics)"
   ]
  },
  {
   "cell_type": "code",
   "execution_count": 19,
   "metadata": {},
   "outputs": [
    {
     "data": {
      "image/png": "[encoded data removed]",
      "text/plain": [
       "<Figure size 720x1080 with 2 Axes>"
      ]
     },
     "metadata": {
      "needs_background": "light"
     },
     "output_type": "display_data"
    }
   ],
   "source": [
    "plot_history(hist11)"
   ]
  },
  {
   "cell_type": "code",
   "execution_count": 20,
   "metadata": {},
   "outputs": [],
   "source": [
    "def get_unbeer_keras(df, userid):\n",
    "    beers = df[df['user']==userid]['beer'].unique().tolist() #해당 유저가 평가한 beer\n",
    "    total_beers = df['beer'].unique().tolist() #모든 beer\n",
    "    unbeers = [beer for beer in total_beers if beer not in beers] #해당 유저가 평가안한 beer\n",
    "    return unbeers\n",
    "\n",
    "def recomm_beer_by_keras(userid, model, top_n):\n",
    "    unbeers = get_unbeer_keras(df,userid)\n",
    "    predict =[v[0][0] for v in  [model.predict([[userid],[beer]]) for beer in unbeers]]\n",
    "    ndf= pd.DataFrame({'beer':unbeers,'rating':predict})\n",
    "    final = ndf.sort_values(by='rating', ascending=False)[:top_n]\n",
    "    return final"
   ]
  },
  {
   "cell_type": "code",
   "execution_count": 21,
   "metadata": {},
   "outputs": [
    {
     "name": "stdout",
     "output_type": "stream",
     "text": [
      "Wall time: 5min 35s\n"
     ]
    },
    {
     "data": {
      "text/html": [
       "<div>\n",
       "<style scoped>\n",
       "    .dataframe tbody tr th:only-of-type {\n",
       "        vertical-align: middle;\n",
       "    }\n",
       "\n",
       "    .dataframe tbody tr th {\n",
       "        vertical-align: top;\n",
       "    }\n",
       "\n",
       "    .dataframe thead th {\n",
       "        text-align: right;\n",
       "    }\n",
       "</style>\n",
       "<table border=\"1\" class=\"dataframe\">\n",
       "  <thead>\n",
       "    <tr style=\"text-align: right;\">\n",
       "      <th></th>\n",
       "      <th>beer</th>\n",
       "      <th>rating</th>\n",
       "    </tr>\n",
       "  </thead>\n",
       "  <tbody>\n",
       "    <tr>\n",
       "      <td>186538</td>\n",
       "      <td>68022</td>\n",
       "      <td>4.823858</td>\n",
       "    </tr>\n",
       "    <tr>\n",
       "      <td>191828</td>\n",
       "      <td>52574</td>\n",
       "      <td>4.765873</td>\n",
       "    </tr>\n",
       "    <tr>\n",
       "      <td>210211</td>\n",
       "      <td>122288</td>\n",
       "      <td>4.760298</td>\n",
       "    </tr>\n",
       "    <tr>\n",
       "      <td>108760</td>\n",
       "      <td>34828</td>\n",
       "      <td>4.745384</td>\n",
       "    </tr>\n",
       "    <tr>\n",
       "      <td>85480</td>\n",
       "      <td>86880</td>\n",
       "      <td>4.723649</td>\n",
       "    </tr>\n",
       "    <tr>\n",
       "      <td>187446</td>\n",
       "      <td>58238</td>\n",
       "      <td>4.722773</td>\n",
       "    </tr>\n",
       "    <tr>\n",
       "      <td>12954</td>\n",
       "      <td>76214</td>\n",
       "      <td>4.722739</td>\n",
       "    </tr>\n",
       "    <tr>\n",
       "      <td>169444</td>\n",
       "      <td>98340</td>\n",
       "      <td>4.722204</td>\n",
       "    </tr>\n",
       "    <tr>\n",
       "      <td>204238</td>\n",
       "      <td>171119</td>\n",
       "      <td>4.718188</td>\n",
       "    </tr>\n",
       "    <tr>\n",
       "      <td>109217</td>\n",
       "      <td>80528</td>\n",
       "      <td>4.711322</td>\n",
       "    </tr>\n",
       "  </tbody>\n",
       "</table>\n",
       "</div>"
      ],
      "text/plain": [
       "          beer    rating\n",
       "186538   68022  4.823858\n",
       "191828   52574  4.765873\n",
       "210211  122288  4.760298\n",
       "108760   34828  4.745384\n",
       "85480    86880  4.723649\n",
       "187446   58238  4.722773\n",
       "12954    76214  4.722739\n",
       "169444   98340  4.722204\n",
       "204238  171119  4.718188\n",
       "109217   80528  4.711322"
      ]
     },
     "execution_count": 21,
     "metadata": {},
     "output_type": "execute_result"
    }
   ],
   "source": [
    "%%time\n",
    "\n",
    "unbeers = get_unbeer_keras(df2, 190)\n",
    "recomm_beer_by_keras(190, re11model, 10)"
   ]
  },
  {
   "cell_type": "code",
   "execution_count": 22,
   "metadata": {},
   "outputs": [
    {
     "data": {
      "text/plain": [
       "(309542, 50)"
      ]
     },
     "execution_count": 22,
     "metadata": {},
     "output_type": "execute_result"
    }
   ],
   "source": [
    "## get weights of the beers embedding matrix\n",
    "beer_embedding_weights = re11model.layers[3].get_weights()[0] #3은 beer-embedding : layer 확인!\n",
    "beer_embedding_weights.shape"
   ]
  },
  {
   "cell_type": "code",
   "execution_count": 23,
   "metadata": {},
   "outputs": [
    {
     "data": {
      "text/plain": [
       "(3, 309542)"
      ]
     },
     "execution_count": 23,
     "metadata": {},
     "output_type": "execute_result"
    }
   ],
   "source": [
    "## import PCA\n",
    "pca = PCA(n_components = 3) ## use 3 components\n",
    "beer_embedding_weights_t = np.transpose(beer_embedding_weights) ## pass the transpose of the embedding matrix\n",
    "beer_pca = pca.fit(beer_embedding_weights_t) ## fit\n",
    "\n",
    "## display the resulting matrix dimensions\n",
    "beer_pca.components_.shape"
   ]
  },
  {
   "cell_type": "code",
   "execution_count": 24,
   "metadata": {},
   "outputs": [
    {
     "data": {
      "text/plain": [
       "array([0.85195583, 0.03671474, 0.02450253], dtype=float32)"
      ]
     },
     "execution_count": 24,
     "metadata": {},
     "output_type": "execute_result"
    }
   ],
   "source": [
    "## display the variance explained by the 3 components\n",
    "beer_pca.explained_variance_ratio_\n",
    " #variance 가 아주 낮으면 좋은 해석을 기대하기 어렵다.\n",
    "    #첫번째 PC 분산은 약 얼마? 78%로, dropout 규제를 넣었는데도 성능이 좋다!"
   ]
  },
  {
   "cell_type": "code",
   "execution_count": 25,
   "metadata": {},
   "outputs": [],
   "source": [
    "from operator import itemgetter\n",
    "\n",
    "## extract first PCA\n",
    "pca0 = beer_pca.components_[0]\n",
    "\n",
    "## get the value (pca0, beer title)\n",
    "beer_comp0 = [(f, beers_dict[i]) for f,i in zip(pca0, list(beers_dict.keys()))]"
   ]
  },
  {
   "cell_type": "code",
   "execution_count": 26,
   "metadata": {},
   "outputs": [
    {
     "data": {
      "text/plain": [
       "[(0.016340973, 'Dirty Bastard - Bourbon-Soaked Apricots And Ginger'),\n",
       " (0.01593608, 'Sir Phobos'),\n",
       " (0.014925864, 'Bowie'),\n",
       " (0.01490037, 'Ahhh You Again'),\n",
       " (0.014755908, 'Grid Iron Irish Red'),\n",
       " (0.014744917, \"Weekend At Brett's Barrel Aged\"),\n",
       " (0.014719812, 'Pomegranate kolsch'),\n",
       " (0.014440763, 'Rolo Tony Brown Town'),\n",
       " (0.014308332, 'Sunday Driving'),\n",
       " (0.0141425105, 'Andre the Brut')]"
      ]
     },
     "execution_count": 26,
     "metadata": {},
     "output_type": "execute_result"
    }
   ],
   "source": [
    "## beers corresponding to the highest values of pca0\n",
    "sorted(beer_comp0, key = itemgetter(0), reverse = True)[:10]"
   ]
  },
  {
   "cell_type": "code",
   "execution_count": 27,
   "metadata": {},
   "outputs": [
    {
     "data": {
      "text/plain": [
       "[(-0.0154747, 'Snowman Make Like A Tree And Leaf Maple Porter'),\n",
       " (-0.013042646, 'Jolly Golden Ale'),\n",
       " (-0.013013942, \"Monk's Phunk\"),\n",
       " (-0.012685816, 'Saison Garni'),\n",
       " (-0.012292439, 'Buckeye Beer'),\n",
       " (-0.012289422, 'Full Rosenberry'),\n",
       " (-0.012263286, 'Hop De Mensenge'),\n",
       " (-0.012157698, 'Bare Tree Weiss Wine Vintage 2003'),\n",
       " (-0.01189573, 'Handlebar Hefe'),\n",
       " (-0.011881831, 'One-Eyed Jack Imperial Pilsner')]"
      ]
     },
     "execution_count": 27,
     "metadata": {},
     "output_type": "execute_result"
    }
   ],
   "source": [
    "## beers corresponding to the lowest values of pca0\n",
    "sorted(beer_comp0, key = itemgetter(0))[:10]"
   ]
  },
  {
   "cell_type": "code",
   "execution_count": null,
   "metadata": {},
   "outputs": [],
   "source": []
  }
 ],
 "metadata": {
  "kernelspec": {
   "display_name": "Python 3",
   "language": "python",
   "name": "python3"
  },
  "language_info": {
   "codemirror_mode": {
    "name": "ipython",
    "version": 3
   },
   "file_extension": ".py",
   "mimetype": "text/x-python",
   "name": "python",
   "nbconvert_exporter": "python",
   "pygments_lexer": "ipython3",
   "version": "3.7.1"
  },
  "toc": {
   "base_numbering": 1,
   "nav_menu": {},
   "number_sections": true,
   "sideBar": true,
   "skip_h1_title": false,
   "title_cell": "Table of Contents",
   "title_sidebar": "Contents",
   "toc_cell": false,
   "toc_position": {},
   "toc_section_display": true,
   "toc_window_display": true
  }
 },
 "nbformat": 4,
 "nbformat_minor": 2
}
