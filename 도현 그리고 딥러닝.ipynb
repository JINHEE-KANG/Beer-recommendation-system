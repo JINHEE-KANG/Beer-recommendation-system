{
 "cells": [
  {
   "cell_type": "code",
   "execution_count": 25,
   "metadata": {},
   "outputs": [],
   "source": [
    "import pandas as pd\n",
    "import numpy as np\n",
    "import random\n",
    "from keras.layers import Input,Embedding,Dot,Reshape,Dense\n",
    "from keras.models import Model\n"
   ]
  },
  {
   "cell_type": "code",
   "execution_count": 26,
   "metadata": {
    "scrolled": true
   },
   "outputs": [],
   "source": [
    "data=pd.read_csv('C:/Users/HOME/Desktop/8차/통계학 세미나/팀플/잠재요인 돌릴때 쓰는 데이터/score.csv')"
   ]
  },
  {
   "cell_type": "code",
   "execution_count": 27,
   "metadata": {},
   "outputs": [
    {
     "data": {
      "text/html": [
       "<div>\n",
       "<style scoped>\n",
       "    .dataframe tbody tr th:only-of-type {\n",
       "        vertical-align: middle;\n",
       "    }\n",
       "\n",
       "    .dataframe tbody tr th {\n",
       "        vertical-align: top;\n",
       "    }\n",
       "\n",
       "    .dataframe thead th {\n",
       "        text-align: right;\n",
       "    }\n",
       "</style>\n",
       "<table border=\"1\" class=\"dataframe\">\n",
       "  <thead>\n",
       "    <tr style=\"text-align: right;\">\n",
       "      <th></th>\n",
       "      <th>Unnamed: 0</th>\n",
       "      <th>beer_id</th>\n",
       "      <th>username</th>\n",
       "      <th>look</th>\n",
       "      <th>smell</th>\n",
       "      <th>taste</th>\n",
       "      <th>feel</th>\n",
       "      <th>overall</th>\n",
       "      <th>score</th>\n",
       "    </tr>\n",
       "  </thead>\n",
       "  <tbody>\n",
       "    <tr>\n",
       "      <th>0</th>\n",
       "      <td>0</td>\n",
       "      <td>271781</td>\n",
       "      <td>bluejacket74</td>\n",
       "      <td>4.00</td>\n",
       "      <td>4.00</td>\n",
       "      <td>4.00</td>\n",
       "      <td>4.25</td>\n",
       "      <td>4.00</td>\n",
       "      <td>4.03</td>\n",
       "    </tr>\n",
       "    <tr>\n",
       "      <th>1</th>\n",
       "      <td>1</td>\n",
       "      <td>125646</td>\n",
       "      <td>_dirty_</td>\n",
       "      <td>4.50</td>\n",
       "      <td>4.50</td>\n",
       "      <td>4.50</td>\n",
       "      <td>4.50</td>\n",
       "      <td>4.50</td>\n",
       "      <td>4.50</td>\n",
       "    </tr>\n",
       "    <tr>\n",
       "      <th>2</th>\n",
       "      <td>2</td>\n",
       "      <td>125646</td>\n",
       "      <td>CJDUBYA</td>\n",
       "      <td>4.75</td>\n",
       "      <td>4.75</td>\n",
       "      <td>4.75</td>\n",
       "      <td>4.75</td>\n",
       "      <td>4.75</td>\n",
       "      <td>4.75</td>\n",
       "    </tr>\n",
       "    <tr>\n",
       "      <th>3</th>\n",
       "      <td>3</td>\n",
       "      <td>125646</td>\n",
       "      <td>GratefulBeerGuy</td>\n",
       "      <td>4.75</td>\n",
       "      <td>4.75</td>\n",
       "      <td>4.50</td>\n",
       "      <td>4.50</td>\n",
       "      <td>4.50</td>\n",
       "      <td>4.58</td>\n",
       "    </tr>\n",
       "    <tr>\n",
       "      <th>4</th>\n",
       "      <td>4</td>\n",
       "      <td>125646</td>\n",
       "      <td>LukeGude</td>\n",
       "      <td>4.25</td>\n",
       "      <td>4.50</td>\n",
       "      <td>4.25</td>\n",
       "      <td>4.25</td>\n",
       "      <td>4.25</td>\n",
       "      <td>4.31</td>\n",
       "    </tr>\n",
       "  </tbody>\n",
       "</table>\n",
       "</div>"
      ],
      "text/plain": [
       "   Unnamed: 0  beer_id         username  look  smell  taste  feel  overall  \\\n",
       "0           0   271781     bluejacket74  4.00   4.00   4.00  4.25     4.00   \n",
       "1           1   125646          _dirty_  4.50   4.50   4.50  4.50     4.50   \n",
       "2           2   125646          CJDUBYA  4.75   4.75   4.75  4.75     4.75   \n",
       "3           3   125646  GratefulBeerGuy  4.75   4.75   4.50  4.50     4.50   \n",
       "4           4   125646         LukeGude  4.25   4.50   4.25  4.25     4.25   \n",
       "\n",
       "   score  \n",
       "0   4.03  \n",
       "1   4.50  \n",
       "2   4.75  \n",
       "3   4.58  \n",
       "4   4.31  "
      ]
     },
     "execution_count": 27,
     "metadata": {},
     "output_type": "execute_result"
    }
   ],
   "source": [
    "data.head()"
   ]
  },
  {
   "cell_type": "code",
   "execution_count": 28,
   "metadata": {},
   "outputs": [],
   "source": [
    "data=data.fillna(0)"
   ]
  },
  {
   "cell_type": "code",
   "execution_count": 29,
   "metadata": {},
   "outputs": [],
   "source": [
    "#일단 딥러닝 데이터가 많은 것에 적합하니까, 결측값 0으로 채움"
   ]
  },
  {
   "cell_type": "code",
   "execution_count": 30,
   "metadata": {},
   "outputs": [],
   "source": [
    "#신경망 임베딩 : 이산형 변수를 연속벡터로 나타내는 방법임.\n",
    "#임베딩 공간에 서로 유사한 실체를 가깝게 배치 한다는 뜻임."
   ]
  },
  {
   "cell_type": "code",
   "execution_count": 31,
   "metadata": {},
   "outputs": [],
   "source": [
    "col=['beer_id','username','score']"
   ]
  },
  {
   "cell_type": "code",
   "execution_count": 32,
   "metadata": {},
   "outputs": [],
   "source": [
    "data2 = data[col]"
   ]
  },
  {
   "cell_type": "code",
   "execution_count": 33,
   "metadata": {},
   "outputs": [
    {
     "data": {
      "text/html": [
       "<div>\n",
       "<style scoped>\n",
       "    .dataframe tbody tr th:only-of-type {\n",
       "        vertical-align: middle;\n",
       "    }\n",
       "\n",
       "    .dataframe tbody tr th {\n",
       "        vertical-align: top;\n",
       "    }\n",
       "\n",
       "    .dataframe thead th {\n",
       "        text-align: right;\n",
       "    }\n",
       "</style>\n",
       "<table border=\"1\" class=\"dataframe\">\n",
       "  <thead>\n",
       "    <tr style=\"text-align: right;\">\n",
       "      <th></th>\n",
       "      <th>beer_id</th>\n",
       "      <th>username</th>\n",
       "      <th>score</th>\n",
       "    </tr>\n",
       "  </thead>\n",
       "  <tbody>\n",
       "    <tr>\n",
       "      <th>0</th>\n",
       "      <td>271781</td>\n",
       "      <td>bluejacket74</td>\n",
       "      <td>4.03</td>\n",
       "    </tr>\n",
       "    <tr>\n",
       "      <th>1</th>\n",
       "      <td>125646</td>\n",
       "      <td>_dirty_</td>\n",
       "      <td>4.50</td>\n",
       "    </tr>\n",
       "    <tr>\n",
       "      <th>2</th>\n",
       "      <td>125646</td>\n",
       "      <td>CJDUBYA</td>\n",
       "      <td>4.75</td>\n",
       "    </tr>\n",
       "    <tr>\n",
       "      <th>3</th>\n",
       "      <td>125646</td>\n",
       "      <td>GratefulBeerGuy</td>\n",
       "      <td>4.58</td>\n",
       "    </tr>\n",
       "    <tr>\n",
       "      <th>4</th>\n",
       "      <td>125646</td>\n",
       "      <td>LukeGude</td>\n",
       "      <td>4.31</td>\n",
       "    </tr>\n",
       "  </tbody>\n",
       "</table>\n",
       "</div>"
      ],
      "text/plain": [
       "   beer_id         username  score\n",
       "0   271781     bluejacket74   4.03\n",
       "1   125646          _dirty_   4.50\n",
       "2   125646          CJDUBYA   4.75\n",
       "3   125646  GratefulBeerGuy   4.58\n",
       "4   125646         LukeGude   4.31"
      ]
     },
     "execution_count": 33,
     "metadata": {},
     "output_type": "execute_result"
    }
   ],
   "source": [
    "data2.head()"
   ]
  },
  {
   "cell_type": "code",
   "execution_count": 34,
   "metadata": {},
   "outputs": [],
   "source": [
    "#Supervised Learning task 에 대한 부분인데 적용을 못하겠음.\n",
    "\n",
    "#beer_id와 beer의 고유 인덱스 index 맵핑\n",
    "#그러니까 신경망에는 정수만 입력할 수 있기 때문에, 각 고유 beer_id에서 정수로의 매핑을 해야함...\n",
    "#score 에도 동일한 작업을 해줘야 하는데.."
   ]
  },
  {
   "cell_type": "code",
   "execution_count": 61,
   "metadata": {
    "scrolled": true
   },
   "outputs": [
    {
     "name": "stdout",
     "output_type": "stream",
     "text": [
      "1    125646\n",
      "2    125646\n",
      "3    125646\n",
      "4    125646\n",
      "5    125646\n",
      "6    125646\n",
      "7    125646\n",
      "8    125646\n",
      "9    125646\n",
      "Name: beer_id, dtype: int64\n",
      "1    4.50\n",
      "2    4.75\n",
      "3    4.58\n",
      "4    4.31\n",
      "5    4.91\n",
      "6    4.69\n",
      "7    4.52\n",
      "8    4.59\n",
      "9    4.54\n",
      "Name: score, dtype: float64\n",
      "1            _dirty_\n",
      "2            CJDUBYA\n",
      "3    GratefulBeerGuy\n",
      "4           LukeGude\n",
      "5            jneff33\n",
      "6          yummybeer\n",
      "7               MFMB\n",
      "8               wwoj\n",
      "9            Rubenjr\n",
      "Name: username, dtype: object\n"
     ]
    }
   ],
   "source": [
    "print(data2['beer_id'][1:10])\n",
    "print(data2['score'][1:10])\n",
    "print(data2['username'][1:10])\n",
    "# 각각을 정수로 매핑해야함.."
   ]
  },
  {
   "cell_type": "code",
   "execution_count": 52,
   "metadata": {},
   "outputs": [
    {
     "name": "stdout",
     "output_type": "stream",
     "text": [
      "1    125646\n",
      "2    125646\n",
      "3    125646\n",
      "4    125646\n",
      "Name: beer_id, dtype: int64\n",
      "1    4.50\n",
      "2    4.75\n",
      "3    4.58\n",
      "4    4.31\n",
      "Name: score, dtype: float64\n",
      "1            _dirty_\n",
      "2            CJDUBYA\n",
      "3    GratefulBeerGuy\n",
      "4           LukeGude\n",
      "Name: username, dtype: object\n"
     ]
    }
   ],
   "source": [
    "Beer_ID=data2['beer_id']\n",
    "Score = data2['score']\n",
    "User = data2['username']\n",
    "print(Beer_ID[1:5])\n",
    "print(Score[1:5])\n",
    "print(User[1:5])\n",
    "#신경망에서 인식할수 있게 각각을 정수로 매팽해야 함"
   ]
  },
  {
   "cell_type": "code",
   "execution_count": 74,
   "metadata": {},
   "outputs": [
    {
     "data": {
      "text/plain": [
       "309542"
      ]
     },
     "execution_count": 74,
     "metadata": {},
     "output_type": "execute_result"
    }
   ],
   "source": [
    "len(Beer_ID.unique())\n",
    "#309542명의 맥주 종류."
   ]
  },
  {
   "cell_type": "code",
   "execution_count": 76,
   "metadata": {},
   "outputs": [
    {
     "data": {
      "text/plain": [
       "164935"
      ]
     },
     "execution_count": 76,
     "metadata": {},
     "output_type": "execute_result"
    }
   ],
   "source": [
    "len(User.unique())\n",
    "#163935명의 평가자"
   ]
  },
  {
   "cell_type": "code",
   "execution_count": null,
   "metadata": {},
   "outputs": [],
   "source": [
    "#embedding neural network에서 임베딩의 목표는 손실을 최소화 하기 위해서 훈련 중에 조정되는 \n",
    "#신경망의 가중치(weight이다.) 신경망은 1과 0사이의 예측을 출력하며, 이는 실제값과 비교된다.\n",
    "# 이모델은 Adam Opitimizer(확률적 경사 하강법 의 변형)\n",
    "#로  컴파일 되며 이진 분류 문제에 대한 binary_crossentropy 값을 최소화"
   ]
  },
  {
   "cell_type": "code",
   "execution_count": 15,
   "metadata": {},
   "outputs": [],
   "source": [
    "    def beer_embedding_model(embedding_size = 50, classification=False):\n",
    "        \n",
    "        #1차원의 입력\n",
    "        beer = input(name='beer',shape=[1])\n",
    "        score = input(name = 'link',shape=[1])\n",
    "        \n",
    "        #beer 임베딩 (shape wil be (None, 1, 50))\n",
    "        beer_embedding = Embedding(name = 'beer_embedding',\n",
    "                                  input_dim =len(beer_index),\n",
    "                                  output_dim = embedding_size)(book)\n",
    "        \n",
    "        #score 임베딩(shape wil be (None, 1, 50))\n",
    "        score_embedding = Embedding(name ='score_embedding',\n",
    "                                    input_dim = len(score_index),\n",
    "                                    output_dim = embedding_size)(score)\n",
    "        \n",
    "        #내적으로 맥주 임배딩과 score 임베딩을 한개의 임베딩 벡터로 변형\n",
    "        #shape will be (None , 1,1)\n",
    "        \n",
    "        merged = Dot(name = 'dot_product',normalize = True,\n",
    "                    axes=2)([beer_embedding,socre_embedding])\n",
    "        \n",
    "        #단일 숫자로 shape 변형 (shape will be (None,1))\n",
    "        \n",
    "        #분류를 위한 결과값 출력\n",
    "        out = Dense(1,activation = 'sigmoid')(merged)\n",
    "        model = Model(inputs = [book,link],outputs=out)\n",
    "        \n",
    "        #원하는 optimizer와 loss 함수로 모델 학습 시작\n",
    "        model.compile(optimizer='Adam',loss = 'binary_crossemtropy')\n",
    "        metrics = ['accuracy']\n",
    "        \n",
    "        return model\n",
    "        "
   ]
  },
  {
   "cell_type": "code",
   "execution_count": null,
   "metadata": {},
   "outputs": [],
   "source": [
    "#학습 샘플 만들기(generating training samples)\n",
    "\n",
    "#신경망은 batch learner이다. 왜냐하면 한번에 작은 하나의 표본 집합(관찰)을 통해 epoch라고 불리는 많은\n",
    "#라운드에서 훈련을 받기 떄문. 신경망을 훈련시키는일반적인 방법은 generator을 이용하는것\n",
    "#전체 결과가 메모리에 저장되지 않도록, yield(not returns)하는 기능. "
   ]
  },
  {
   "cell_type": "code",
   "execution_count": 22,
   "metadata": {},
   "outputs": [],
   "source": [
    "random.seed(100)\n",
    "\n",
    "def generate_batch(pairs, n_positive = 50, negative_ratio=1.0) :\n",
    "    \n",
    "    #트레이닝을 위한 샘플의 batches를 생성하자.\n",
    "    #batch를 저장할 numpy 배열을 준비하자.\n",
    "    \n",
    "    batch_size = n_positive*(1+negative_ratio)\n",
    "    batch = np.zeros((batch_size,3))\n",
    "    \n",
    "    while True:\n",
    "        #랜덤으로 True인 샘플을 준비한다.\n",
    "        for idx,(beer_id,score_id) in enumerate(random.sample(pairs, n_positive)):\n",
    "            batch[idx,:] = (book_id,link_id,1)\n",
    "        idx +=1\n",
    "        \n",
    "        #배치 사이즈가 다 찰 때까지 False인 샘플을 추가합니다.\n",
    "        \n",
    "        while idx < batch_dize:\n",
    "            \n",
    "            #random selection\n",
    "            random_book = random.randrange(len(beer))\n",
    "            random_score = random.randrange(len(links))\n",
    "            \n",
    "            #True인 샘플이 아니라는 것(False인 샘플 이라는 것)을 체크하자\n",
    "            if (random_beer,random_score) not in pairs_set:\n",
    "                \n",
    "                #False인 샘플을 배치에 추가합니다.\n",
    "                batch[idx,:] = (random_book,random_link,neg_label)\n",
    "                idx +=1\n",
    "                \n",
    "            #배치에 저장된 데이터들의 순서를 섞습니다.\n",
    "            np.random.shuffle(batch)\n",
    "            yield {'beer':batch[:0],'score':batch[:1]}, batch[:,2]\n",
    "            "
   ]
  },
  {
   "cell_type": "code",
   "execution_count": null,
   "metadata": {},
   "outputs": [],
   "source": [
    "#generator로 next를 부를때마다, 새 학습 데이터 배치를 가져온다."
   ]
  },
  {
   "cell_type": "code",
   "execution_count": null,
   "metadata": {},
   "outputs": [],
   "source": [
    "#early stopping 을 구현하기 위해 validation셋을 사용하지 않기 때문에, trai\n",
    "n_positive = 1024\n",
    "\n",
    "gen = generate_batch(pairs, n_positive,negative_ratio=2)\n",
    "\n",
    "#train\n",
    "h = model.fit_generator(gen,epochs=15, steps_per_epoch=len(pairs)//n_positive)"
   ]
  },
  {
   "cell_type": "code",
   "execution_count": null,
   "metadata": {},
   "outputs": [],
   "source": [
    "#임베딩 벡터 추출하기\n",
    "beer_layer = model.get_layer('beer_embedding')\n",
    "score_weights = beer_layer.get_weights()[0]"
   ]
  },
  {
   "cell_type": "code",
   "execution_count": null,
   "metadata": {},
   "outputs": [],
   "source": []
  },
  {
   "cell_type": "code",
   "execution_count": null,
   "metadata": {},
   "outputs": [],
   "source": []
  },
  {
   "cell_type": "code",
   "execution_count": null,
   "metadata": {},
   "outputs": [],
   "source": []
  },
  {
   "cell_type": "code",
   "execution_count": null,
   "metadata": {},
   "outputs": [],
   "source": []
  }
 ],
 "metadata": {
  "kernelspec": {
   "display_name": "Python 3",
   "language": "python",
   "name": "python3"
  },
  "language_info": {
   "codemirror_mode": {
    "name": "ipython",
    "version": 3
   },
   "file_extension": ".py",
   "mimetype": "text/x-python",
   "name": "python",
   "nbconvert_exporter": "python",
   "pygments_lexer": "ipython3",
   "version": "3.7.3"
  }
 },
 "nbformat": 4,
 "nbformat_minor": 2
}
